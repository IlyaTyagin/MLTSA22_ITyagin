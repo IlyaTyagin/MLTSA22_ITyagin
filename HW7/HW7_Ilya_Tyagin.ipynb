{
  "nbformat": 4,
  "nbformat_minor": 0,
  "metadata": {
    "kernelspec": {
      "display_name": "Python 3",
      "language": "python",
      "name": "python3"
    },
    "language_info": {
      "codemirror_mode": {
        "name": "ipython",
        "version": 3
      },
      "file_extension": ".py",
      "mimetype": "text/x-python",
      "name": "python",
      "nbconvert_exporter": "python",
      "pygments_lexer": "ipython3",
      "version": "3.7.3"
    },
    "latex_envs": {
      "LaTeX_envs_menu_present": true,
      "autoclose": false,
      "autocomplete": true,
      "bibliofile": "biblio.bib",
      "cite_by": "apalike",
      "current_citInitial": 1,
      "eqLabelWithNumbers": true,
      "eqNumInitial": 1,
      "hotkeys": {
        "equation": "Ctrl-E",
        "itemize": "Ctrl-I"
      },
      "labels_anchors": false,
      "latex_user_defs": false,
      "report_style_numbering": false,
      "user_envs_cfg": false
    },
    "nbTranslate": {
      "displayLangs": [
        "*"
      ],
      "hotkey": "alt-t",
      "langInMainMenu": true,
      "sourceLang": "en",
      "targetLang": "fr",
      "useGoogleTranslate": true
    },
    "toc": {
      "base_numbering": 1,
      "nav_menu": {},
      "number_sections": true,
      "sideBar": true,
      "skip_h1_title": false,
      "title_cell": "Table of Contents",
      "title_sidebar": "Contents",
      "toc_cell": false,
      "toc_position": {},
      "toc_section_display": true,
      "toc_window_display": false
    },
    "colab": {
      "name": "HW7_Ilya_Tyagin",
      "provenance": [],
      "collapsed_sections": [],
      "toc_visible": true,
      "include_colab_link": true
    }
  },
  "cells": [
    {
      "cell_type": "markdown",
      "metadata": {
        "id": "view-in-github",
        "colab_type": "text"
      },
      "source": [
        "<a href=\"https://colab.research.google.com/github/IlyaTyagin/MLTSA22_ITyagin/blob/main/HW7/HW7_Ilya_Tyagin.ipynb\" target=\"_parent\"><img src=\"https://colab.research.google.com/assets/colab-badge.svg\" alt=\"Open In Colab\"/></a>"
      ]
    },
    {
      "cell_type": "markdown",
      "metadata": {
        "id": "eWKE7cXHsHCl"
      },
      "source": [
        "\n",
        "This is an exercise on feature extractoin and Gaussian Processes interpolation of sparse time series."
      ]
    },
    {
      "cell_type": "markdown",
      "metadata": {
        "id": "Zx-fcjEslVYc"
      },
      "source": [
        "## OVERVIEW\n",
        "\n",
        "The PLAsTiCC challend is a Kaggle challange to classify astrophysical objects (e.g. stars, exploding stars, stars with planets transiting, black holes) based on their time variability in light emission in 6 different bands (i.e. wavelength ranges). The sampling (the cadence of the observations) is designed to show what the upcming Rubin Observatory LSST (Legacy Survey of Space and Time) will see when it starts observing (in 2023). \n",
        "\n",
        "You can refer to this notebook https://www.kaggle.com/michaelapers/the-plasticc-astronomy-starter-kit (written by my good friend Gautham Narayan) to get started and ingest and preprocess the PLASTiCC challenge data. If you are not familiar with classes (object oriented syntax) do not worry about it: I do want you to extract the features yourself. So use it as a guideline, but do not just copy and paste.\n",
        "\n",
        "Your task is to extract features, i.e. representations of the time series, and fit the time series with Gaussian Processes. \n",
        "\n"
      ]
    },
    {
      "cell_type": "code",
      "metadata": {
        "ExecuteTime": {
          "end_time": "2020-04-05T15:08:27.530325Z",
          "start_time": "2020-04-05T15:08:26.971473Z"
        },
        "id": "-G6oPTITlVYd",
        "colab": {
          "base_uri": "https://localhost:8080/"
        },
        "outputId": "54f31056-6357-48e5-e870-58568bf199cc"
      },
      "source": [
        "import pandas as pd\n",
        "import numpy as np\n",
        "import pylab as pl\n",
        "import random\n",
        "from scipy import stats\n",
        "from tqdm import tqdm\n",
        "from collections import defaultdict\n",
        "tqdm.pandas()\n",
        "\n",
        "%pylab inline\n"
      ],
      "execution_count": 1,
      "outputs": [
        {
          "output_type": "stream",
          "name": "stdout",
          "text": [
            "Populating the interactive namespace from numpy and matplotlib\n"
          ]
        },
        {
          "output_type": "stream",
          "name": "stderr",
          "text": [
            "/usr/local/lib/python3.7/dist-packages/IPython/core/magics/pylab.py:161: UserWarning: pylab import has clobbered these variables: ['random']\n",
            "`%matplotlib` prevents importing * from pylab and numpy\n",
            "  \"\\n`%matplotlib` prevents importing * from pylab and numpy\"\n"
          ]
        }
      ]
    },
    {
      "cell_type": "code",
      "source": [
        "pl.rcParams['figure.figsize'] = (15, 10)"
      ],
      "metadata": {
        "id": "5Ln3a0cAnzyy"
      },
      "execution_count": 2,
      "outputs": []
    },
    {
      "cell_type": "markdown",
      "metadata": {
        "ExecuteTime": {
          "end_time": "2020-04-05T14:30:57.608296Z",
          "start_time": "2020-04-05T14:30:57.606452Z"
        },
        "id": "w1y1TFCHlVYf"
      },
      "source": [
        "# TASK I :  Data Acquisition\n",
        " You can download the data from kaggle\n",
        " --- https://www.kaggle.com/c/PLAsTiCC-2018\n",
        " or from zenodo\n",
        " --- https://zenodo.org/record/2539456#.XonrIdNKjOQ\n",
        " Choose how to do it but make sure that it is a reproducible way. You will need the **training data and the metadata files** only - you wont need to use the test data\n"
      ]
    },
    {
      "cell_type": "code",
      "metadata": {
        "id": "B3GeSII5fsgF"
      },
      "source": [
        "lcvs = pd.read_csv(\n",
        "    \"\"\"https://zenodo.org/record/2539456/files/plasticc_train_lightcurves.csv.gz?download=1\"\"\", \n",
        "    compression='gzip'\n",
        "    )"
      ],
      "execution_count": 3,
      "outputs": []
    },
    {
      "cell_type": "code",
      "source": [
        "lcvs.columns"
      ],
      "metadata": {
        "colab": {
          "base_uri": "https://localhost:8080/"
        },
        "id": "JhdVqRYYI-6N",
        "outputId": "ede717e0-ae7b-4db9-da9c-eb9f6761da00"
      },
      "execution_count": 4,
      "outputs": [
        {
          "output_type": "execute_result",
          "data": {
            "text/plain": [
              "Index(['object_id', 'mjd', 'passband', 'flux', 'flux_err', 'detected_bool'], dtype='object')"
            ]
          },
          "metadata": {},
          "execution_count": 4
        }
      ]
    },
    {
      "cell_type": "code",
      "source": [
        "lcvs.head()"
      ],
      "metadata": {
        "colab": {
          "base_uri": "https://localhost:8080/",
          "height": 206
        },
        "id": "zhVMXPXIIgmX",
        "outputId": "cd2de311-bb75-47bc-c78d-077eff4eeb8f"
      },
      "execution_count": 5,
      "outputs": [
        {
          "output_type": "execute_result",
          "data": {
            "text/plain": [
              "   object_id         mjd  passband        flux   flux_err  detected_bool\n",
              "0        615  59750.4229         2 -544.810303   3.622952              1\n",
              "1        615  59750.4306         1 -816.434326   5.553370              1\n",
              "2        615  59750.4383         3 -471.385529   3.801213              1\n",
              "3        615  59750.4450         4 -388.984985  11.395031              1\n",
              "4        615  59752.4070         2 -681.858887   4.041204              1"
            ],
            "text/html": [
              "\n",
              "  <div id=\"df-fdb84e4c-dcb0-466f-a6ca-a72d54bd382e\">\n",
              "    <div class=\"colab-df-container\">\n",
              "      <div>\n",
              "<style scoped>\n",
              "    .dataframe tbody tr th:only-of-type {\n",
              "        vertical-align: middle;\n",
              "    }\n",
              "\n",
              "    .dataframe tbody tr th {\n",
              "        vertical-align: top;\n",
              "    }\n",
              "\n",
              "    .dataframe thead th {\n",
              "        text-align: right;\n",
              "    }\n",
              "</style>\n",
              "<table border=\"1\" class=\"dataframe\">\n",
              "  <thead>\n",
              "    <tr style=\"text-align: right;\">\n",
              "      <th></th>\n",
              "      <th>object_id</th>\n",
              "      <th>mjd</th>\n",
              "      <th>passband</th>\n",
              "      <th>flux</th>\n",
              "      <th>flux_err</th>\n",
              "      <th>detected_bool</th>\n",
              "    </tr>\n",
              "  </thead>\n",
              "  <tbody>\n",
              "    <tr>\n",
              "      <th>0</th>\n",
              "      <td>615</td>\n",
              "      <td>59750.4229</td>\n",
              "      <td>2</td>\n",
              "      <td>-544.810303</td>\n",
              "      <td>3.622952</td>\n",
              "      <td>1</td>\n",
              "    </tr>\n",
              "    <tr>\n",
              "      <th>1</th>\n",
              "      <td>615</td>\n",
              "      <td>59750.4306</td>\n",
              "      <td>1</td>\n",
              "      <td>-816.434326</td>\n",
              "      <td>5.553370</td>\n",
              "      <td>1</td>\n",
              "    </tr>\n",
              "    <tr>\n",
              "      <th>2</th>\n",
              "      <td>615</td>\n",
              "      <td>59750.4383</td>\n",
              "      <td>3</td>\n",
              "      <td>-471.385529</td>\n",
              "      <td>3.801213</td>\n",
              "      <td>1</td>\n",
              "    </tr>\n",
              "    <tr>\n",
              "      <th>3</th>\n",
              "      <td>615</td>\n",
              "      <td>59750.4450</td>\n",
              "      <td>4</td>\n",
              "      <td>-388.984985</td>\n",
              "      <td>11.395031</td>\n",
              "      <td>1</td>\n",
              "    </tr>\n",
              "    <tr>\n",
              "      <th>4</th>\n",
              "      <td>615</td>\n",
              "      <td>59752.4070</td>\n",
              "      <td>2</td>\n",
              "      <td>-681.858887</td>\n",
              "      <td>4.041204</td>\n",
              "      <td>1</td>\n",
              "    </tr>\n",
              "  </tbody>\n",
              "</table>\n",
              "</div>\n",
              "      <button class=\"colab-df-convert\" onclick=\"convertToInteractive('df-fdb84e4c-dcb0-466f-a6ca-a72d54bd382e')\"\n",
              "              title=\"Convert this dataframe to an interactive table.\"\n",
              "              style=\"display:none;\">\n",
              "        \n",
              "  <svg xmlns=\"http://www.w3.org/2000/svg\" height=\"24px\"viewBox=\"0 0 24 24\"\n",
              "       width=\"24px\">\n",
              "    <path d=\"M0 0h24v24H0V0z\" fill=\"none\"/>\n",
              "    <path d=\"M18.56 5.44l.94 2.06.94-2.06 2.06-.94-2.06-.94-.94-2.06-.94 2.06-2.06.94zm-11 1L8.5 8.5l.94-2.06 2.06-.94-2.06-.94L8.5 2.5l-.94 2.06-2.06.94zm10 10l.94 2.06.94-2.06 2.06-.94-2.06-.94-.94-2.06-.94 2.06-2.06.94z\"/><path d=\"M17.41 7.96l-1.37-1.37c-.4-.4-.92-.59-1.43-.59-.52 0-1.04.2-1.43.59L10.3 9.45l-7.72 7.72c-.78.78-.78 2.05 0 2.83L4 21.41c.39.39.9.59 1.41.59.51 0 1.02-.2 1.41-.59l7.78-7.78 2.81-2.81c.8-.78.8-2.07 0-2.86zM5.41 20L4 18.59l7.72-7.72 1.47 1.35L5.41 20z\"/>\n",
              "  </svg>\n",
              "      </button>\n",
              "      \n",
              "  <style>\n",
              "    .colab-df-container {\n",
              "      display:flex;\n",
              "      flex-wrap:wrap;\n",
              "      gap: 12px;\n",
              "    }\n",
              "\n",
              "    .colab-df-convert {\n",
              "      background-color: #E8F0FE;\n",
              "      border: none;\n",
              "      border-radius: 50%;\n",
              "      cursor: pointer;\n",
              "      display: none;\n",
              "      fill: #1967D2;\n",
              "      height: 32px;\n",
              "      padding: 0 0 0 0;\n",
              "      width: 32px;\n",
              "    }\n",
              "\n",
              "    .colab-df-convert:hover {\n",
              "      background-color: #E2EBFA;\n",
              "      box-shadow: 0px 1px 2px rgba(60, 64, 67, 0.3), 0px 1px 3px 1px rgba(60, 64, 67, 0.15);\n",
              "      fill: #174EA6;\n",
              "    }\n",
              "\n",
              "    [theme=dark] .colab-df-convert {\n",
              "      background-color: #3B4455;\n",
              "      fill: #D2E3FC;\n",
              "    }\n",
              "\n",
              "    [theme=dark] .colab-df-convert:hover {\n",
              "      background-color: #434B5C;\n",
              "      box-shadow: 0px 1px 3px 1px rgba(0, 0, 0, 0.15);\n",
              "      filter: drop-shadow(0px 1px 2px rgba(0, 0, 0, 0.3));\n",
              "      fill: #FFFFFF;\n",
              "    }\n",
              "  </style>\n",
              "\n",
              "      <script>\n",
              "        const buttonEl =\n",
              "          document.querySelector('#df-fdb84e4c-dcb0-466f-a6ca-a72d54bd382e button.colab-df-convert');\n",
              "        buttonEl.style.display =\n",
              "          google.colab.kernel.accessAllowed ? 'block' : 'none';\n",
              "\n",
              "        async function convertToInteractive(key) {\n",
              "          const element = document.querySelector('#df-fdb84e4c-dcb0-466f-a6ca-a72d54bd382e');\n",
              "          const dataTable =\n",
              "            await google.colab.kernel.invokeFunction('convertToInteractive',\n",
              "                                                     [key], {});\n",
              "          if (!dataTable) return;\n",
              "\n",
              "          const docLinkHtml = 'Like what you see? Visit the ' +\n",
              "            '<a target=\"_blank\" href=https://colab.research.google.com/notebooks/data_table.ipynb>data table notebook</a>'\n",
              "            + ' to learn more about interactive tables.';\n",
              "          element.innerHTML = '';\n",
              "          dataTable['output_type'] = 'display_data';\n",
              "          await google.colab.output.renderOutput(dataTable, element);\n",
              "          const docLink = document.createElement('div');\n",
              "          docLink.innerHTML = docLinkHtml;\n",
              "          element.appendChild(docLink);\n",
              "        }\n",
              "      </script>\n",
              "    </div>\n",
              "  </div>\n",
              "  "
            ]
          },
          "metadata": {},
          "execution_count": 5
        }
      ]
    },
    {
      "cell_type": "code",
      "source": [
        "lcvs.rename(\n",
        "    columns={\n",
        "        'detected_bool': 'detected'\n",
        "    },\n",
        "    inplace=True,\n",
        "  )"
      ],
      "metadata": {
        "id": "QoTRkxdSJOxo"
      },
      "execution_count": 6,
      "outputs": []
    },
    {
      "cell_type": "code",
      "metadata": {
        "colab": {
          "base_uri": "https://localhost:8080/",
          "height": 206
        },
        "id": "HGckMxtkgi05",
        "outputId": "acc2ac60-e6ce-4f6d-c033-15b9cbe265c6"
      },
      "source": [
        "lcvs.head()"
      ],
      "execution_count": 7,
      "outputs": [
        {
          "output_type": "execute_result",
          "data": {
            "text/plain": [
              "   object_id         mjd  passband        flux   flux_err  detected\n",
              "0        615  59750.4229         2 -544.810303   3.622952         1\n",
              "1        615  59750.4306         1 -816.434326   5.553370         1\n",
              "2        615  59750.4383         3 -471.385529   3.801213         1\n",
              "3        615  59750.4450         4 -388.984985  11.395031         1\n",
              "4        615  59752.4070         2 -681.858887   4.041204         1"
            ],
            "text/html": [
              "\n",
              "  <div id=\"df-05c29b2a-78a1-4cfc-b435-630766815963\">\n",
              "    <div class=\"colab-df-container\">\n",
              "      <div>\n",
              "<style scoped>\n",
              "    .dataframe tbody tr th:only-of-type {\n",
              "        vertical-align: middle;\n",
              "    }\n",
              "\n",
              "    .dataframe tbody tr th {\n",
              "        vertical-align: top;\n",
              "    }\n",
              "\n",
              "    .dataframe thead th {\n",
              "        text-align: right;\n",
              "    }\n",
              "</style>\n",
              "<table border=\"1\" class=\"dataframe\">\n",
              "  <thead>\n",
              "    <tr style=\"text-align: right;\">\n",
              "      <th></th>\n",
              "      <th>object_id</th>\n",
              "      <th>mjd</th>\n",
              "      <th>passband</th>\n",
              "      <th>flux</th>\n",
              "      <th>flux_err</th>\n",
              "      <th>detected</th>\n",
              "    </tr>\n",
              "  </thead>\n",
              "  <tbody>\n",
              "    <tr>\n",
              "      <th>0</th>\n",
              "      <td>615</td>\n",
              "      <td>59750.4229</td>\n",
              "      <td>2</td>\n",
              "      <td>-544.810303</td>\n",
              "      <td>3.622952</td>\n",
              "      <td>1</td>\n",
              "    </tr>\n",
              "    <tr>\n",
              "      <th>1</th>\n",
              "      <td>615</td>\n",
              "      <td>59750.4306</td>\n",
              "      <td>1</td>\n",
              "      <td>-816.434326</td>\n",
              "      <td>5.553370</td>\n",
              "      <td>1</td>\n",
              "    </tr>\n",
              "    <tr>\n",
              "      <th>2</th>\n",
              "      <td>615</td>\n",
              "      <td>59750.4383</td>\n",
              "      <td>3</td>\n",
              "      <td>-471.385529</td>\n",
              "      <td>3.801213</td>\n",
              "      <td>1</td>\n",
              "    </tr>\n",
              "    <tr>\n",
              "      <th>3</th>\n",
              "      <td>615</td>\n",
              "      <td>59750.4450</td>\n",
              "      <td>4</td>\n",
              "      <td>-388.984985</td>\n",
              "      <td>11.395031</td>\n",
              "      <td>1</td>\n",
              "    </tr>\n",
              "    <tr>\n",
              "      <th>4</th>\n",
              "      <td>615</td>\n",
              "      <td>59752.4070</td>\n",
              "      <td>2</td>\n",
              "      <td>-681.858887</td>\n",
              "      <td>4.041204</td>\n",
              "      <td>1</td>\n",
              "    </tr>\n",
              "  </tbody>\n",
              "</table>\n",
              "</div>\n",
              "      <button class=\"colab-df-convert\" onclick=\"convertToInteractive('df-05c29b2a-78a1-4cfc-b435-630766815963')\"\n",
              "              title=\"Convert this dataframe to an interactive table.\"\n",
              "              style=\"display:none;\">\n",
              "        \n",
              "  <svg xmlns=\"http://www.w3.org/2000/svg\" height=\"24px\"viewBox=\"0 0 24 24\"\n",
              "       width=\"24px\">\n",
              "    <path d=\"M0 0h24v24H0V0z\" fill=\"none\"/>\n",
              "    <path d=\"M18.56 5.44l.94 2.06.94-2.06 2.06-.94-2.06-.94-.94-2.06-.94 2.06-2.06.94zm-11 1L8.5 8.5l.94-2.06 2.06-.94-2.06-.94L8.5 2.5l-.94 2.06-2.06.94zm10 10l.94 2.06.94-2.06 2.06-.94-2.06-.94-.94-2.06-.94 2.06-2.06.94z\"/><path d=\"M17.41 7.96l-1.37-1.37c-.4-.4-.92-.59-1.43-.59-.52 0-1.04.2-1.43.59L10.3 9.45l-7.72 7.72c-.78.78-.78 2.05 0 2.83L4 21.41c.39.39.9.59 1.41.59.51 0 1.02-.2 1.41-.59l7.78-7.78 2.81-2.81c.8-.78.8-2.07 0-2.86zM5.41 20L4 18.59l7.72-7.72 1.47 1.35L5.41 20z\"/>\n",
              "  </svg>\n",
              "      </button>\n",
              "      \n",
              "  <style>\n",
              "    .colab-df-container {\n",
              "      display:flex;\n",
              "      flex-wrap:wrap;\n",
              "      gap: 12px;\n",
              "    }\n",
              "\n",
              "    .colab-df-convert {\n",
              "      background-color: #E8F0FE;\n",
              "      border: none;\n",
              "      border-radius: 50%;\n",
              "      cursor: pointer;\n",
              "      display: none;\n",
              "      fill: #1967D2;\n",
              "      height: 32px;\n",
              "      padding: 0 0 0 0;\n",
              "      width: 32px;\n",
              "    }\n",
              "\n",
              "    .colab-df-convert:hover {\n",
              "      background-color: #E2EBFA;\n",
              "      box-shadow: 0px 1px 2px rgba(60, 64, 67, 0.3), 0px 1px 3px 1px rgba(60, 64, 67, 0.15);\n",
              "      fill: #174EA6;\n",
              "    }\n",
              "\n",
              "    [theme=dark] .colab-df-convert {\n",
              "      background-color: #3B4455;\n",
              "      fill: #D2E3FC;\n",
              "    }\n",
              "\n",
              "    [theme=dark] .colab-df-convert:hover {\n",
              "      background-color: #434B5C;\n",
              "      box-shadow: 0px 1px 3px 1px rgba(0, 0, 0, 0.15);\n",
              "      filter: drop-shadow(0px 1px 2px rgba(0, 0, 0, 0.3));\n",
              "      fill: #FFFFFF;\n",
              "    }\n",
              "  </style>\n",
              "\n",
              "      <script>\n",
              "        const buttonEl =\n",
              "          document.querySelector('#df-05c29b2a-78a1-4cfc-b435-630766815963 button.colab-df-convert');\n",
              "        buttonEl.style.display =\n",
              "          google.colab.kernel.accessAllowed ? 'block' : 'none';\n",
              "\n",
              "        async function convertToInteractive(key) {\n",
              "          const element = document.querySelector('#df-05c29b2a-78a1-4cfc-b435-630766815963');\n",
              "          const dataTable =\n",
              "            await google.colab.kernel.invokeFunction('convertToInteractive',\n",
              "                                                     [key], {});\n",
              "          if (!dataTable) return;\n",
              "\n",
              "          const docLinkHtml = 'Like what you see? Visit the ' +\n",
              "            '<a target=\"_blank\" href=https://colab.research.google.com/notebooks/data_table.ipynb>data table notebook</a>'\n",
              "            + ' to learn more about interactive tables.';\n",
              "          element.innerHTML = '';\n",
              "          dataTable['output_type'] = 'display_data';\n",
              "          await google.colab.output.renderOutput(dataTable, element);\n",
              "          const docLink = document.createElement('div');\n",
              "          docLink.innerHTML = docLinkHtml;\n",
              "          element.appendChild(docLink);\n",
              "        }\n",
              "      </script>\n",
              "    </div>\n",
              "  </div>\n",
              "  "
            ]
          },
          "metadata": {},
          "execution_count": 7
        }
      ]
    },
    {
      "cell_type": "code",
      "metadata": {
        "colab": {
          "base_uri": "https://localhost:8080/"
        },
        "id": "-WiZeVM42Y0Q",
        "outputId": "66f2ebdf-232d-4d85-bdbb-16f5d90f3d98"
      },
      "source": [
        "print(\"The shape of light curves dataset is:\", lcvs.shape)"
      ],
      "execution_count": 8,
      "outputs": [
        {
          "output_type": "stream",
          "name": "stdout",
          "text": [
            "The shape of light curves dataset is: (1421705, 6)\n"
          ]
        }
      ]
    },
    {
      "cell_type": "code",
      "metadata": {
        "id": "BQL3NuaD2k8p",
        "colab": {
          "base_uri": "https://localhost:8080/"
        },
        "outputId": "1935f13c-c83e-437f-8fe0-939def6d1398"
      },
      "source": [
        "#check missing values\n",
        "lcvs.isna().sum()"
      ],
      "execution_count": 9,
      "outputs": [
        {
          "output_type": "execute_result",
          "data": {
            "text/plain": [
              "object_id    0\n",
              "mjd          0\n",
              "passband     0\n",
              "flux         0\n",
              "flux_err     0\n",
              "detected     0\n",
              "dtype: int64"
            ]
          },
          "metadata": {},
          "execution_count": 9
        }
      ]
    },
    {
      "cell_type": "markdown",
      "metadata": {
        "id": "TWugx930lVYg"
      },
      "source": [
        "Read the Kaggle challenge for a description of the data . This \"Starter Kit\" which includes a notebook (written by y good friend Gautham Narayan) may be especially useful\n",
        "https://www.kaggle.com/michaelapers/the-plasticc-astronomy-starter-kit"
      ]
    },
    {
      "cell_type": "markdown",
      "metadata": {
        "id": "2ZyOj9TElVYg"
      },
      "source": [
        "For each object there are 6 time series in 6 different passbands "
      ]
    },
    {
      "cell_type": "code",
      "metadata": {
        "ExecuteTime": {
          "end_time": "2020-04-05T15:08:28.281141Z",
          "start_time": "2020-04-05T15:08:28.273051Z"
        },
        "id": "MJy3H0dplVYg",
        "colab": {
          "base_uri": "https://localhost:8080/"
        },
        "outputId": "35b0dad9-3f65-4b02-ccfa-26a9db7bbbbf"
      },
      "source": [
        "bands = lcvs[\"passband\"].unique()\n",
        "print(\"Passbands (filter) identifiers:\", bands)"
      ],
      "execution_count": 10,
      "outputs": [
        {
          "output_type": "stream",
          "name": "stdout",
          "text": [
            "Passbands (filter) identifiers: [2 1 3 4 5 0]\n"
          ]
        }
      ]
    },
    {
      "cell_type": "code",
      "metadata": {
        "ExecuteTime": {
          "end_time": "2020-04-05T15:08:28.299030Z",
          "start_time": "2020-04-05T15:08:28.283127Z"
        },
        "id": "75WQrrI8lVYh",
        "colab": {
          "base_uri": "https://localhost:8080/"
        },
        "outputId": "1d7fba26-8e57-42fa-fdc5-0fb486211bd4"
      },
      "source": [
        "objects = lcvs[\"object_id\"].unique()\n",
        "print(\"There are {} astrophysical simulated objects in my dataset\".format(objects.shape[0]))"
      ],
      "execution_count": 11,
      "outputs": [
        {
          "output_type": "stream",
          "name": "stdout",
          "text": [
            "There are 7848 astrophysical simulated objects in my dataset\n"
          ]
        }
      ]
    },
    {
      "cell_type": "code",
      "source": [
        "metadata = pd.read_csv(\n",
        "    \"\"\"https://zenodo.org/record/2539456/files/plasticc_train_metadata.csv.gz?download=1\"\"\", \n",
        "    compression='gzip'\n",
        "    )"
      ],
      "metadata": {
        "id": "q1ggV7vRL_bR"
      },
      "execution_count": 12,
      "outputs": []
    },
    {
      "cell_type": "code",
      "metadata": {
        "colab": {
          "base_uri": "https://localhost:8080/",
          "height": 299
        },
        "id": "USNm_ECcPRSI",
        "outputId": "aac7e2fb-4539-4d6d-8b89-ecbed898cfd1"
      },
      "source": [
        "metadata.head()"
      ],
      "execution_count": 13,
      "outputs": [
        {
          "output_type": "execute_result",
          "data": {
            "text/plain": [
              "   object_id        ra     decl  ddf_bool  hostgal_specz  hostgal_photoz  \\\n",
              "0        615  349.0461 -61.9438         1          0.000           0.000   \n",
              "1        713   53.0859 -27.7844         1          1.818           1.627   \n",
              "2        730   33.5742  -6.5796         1          0.232           0.226   \n",
              "3        745    0.1899 -45.5867         1          0.304           0.281   \n",
              "4       1124  352.7113 -63.8237         1          0.193           0.241   \n",
              "\n",
              "   hostgal_photoz_err  distmod  mwebv  target  ...  true_rv  true_av  \\\n",
              "0               0.000   -9.000  0.017      92  ...      0.0      0.0   \n",
              "1               0.255   45.406  0.007      88  ...      0.0      0.0   \n",
              "2               0.016   40.256  0.021      42  ...      0.0      0.0   \n",
              "3               1.152   40.795  0.007      90  ...      0.0      0.0   \n",
              "4               0.018   40.417  0.024      90  ...      0.0      0.0   \n",
              "\n",
              "   true_peakmjd  libid_cadence  tflux_u  tflux_g  tflux_r  tflux_i  tflux_z  \\\n",
              "0     59570.000             69    484.7   3286.7   3214.1   3039.7   2854.5   \n",
              "1     59570.000             34    108.7    117.7    119.9    149.6    147.9   \n",
              "2     60444.379              9      0.0      0.0      0.0      0.0      0.0   \n",
              "3     60130.453             38      0.0      0.0      0.0      0.0      0.0   \n",
              "4     60452.641              1      0.0      0.0      0.0      0.0      0.0   \n",
              "\n",
              "   tflux_y  \n",
              "0   2837.0  \n",
              "1    150.5  \n",
              "2      0.0  \n",
              "3      0.0  \n",
              "4      0.0  \n",
              "\n",
              "[5 rows x 26 columns]"
            ],
            "text/html": [
              "\n",
              "  <div id=\"df-5dbfa314-6ab7-4bb6-99b3-0b4d2d0b0ad7\">\n",
              "    <div class=\"colab-df-container\">\n",
              "      <div>\n",
              "<style scoped>\n",
              "    .dataframe tbody tr th:only-of-type {\n",
              "        vertical-align: middle;\n",
              "    }\n",
              "\n",
              "    .dataframe tbody tr th {\n",
              "        vertical-align: top;\n",
              "    }\n",
              "\n",
              "    .dataframe thead th {\n",
              "        text-align: right;\n",
              "    }\n",
              "</style>\n",
              "<table border=\"1\" class=\"dataframe\">\n",
              "  <thead>\n",
              "    <tr style=\"text-align: right;\">\n",
              "      <th></th>\n",
              "      <th>object_id</th>\n",
              "      <th>ra</th>\n",
              "      <th>decl</th>\n",
              "      <th>ddf_bool</th>\n",
              "      <th>hostgal_specz</th>\n",
              "      <th>hostgal_photoz</th>\n",
              "      <th>hostgal_photoz_err</th>\n",
              "      <th>distmod</th>\n",
              "      <th>mwebv</th>\n",
              "      <th>target</th>\n",
              "      <th>...</th>\n",
              "      <th>true_rv</th>\n",
              "      <th>true_av</th>\n",
              "      <th>true_peakmjd</th>\n",
              "      <th>libid_cadence</th>\n",
              "      <th>tflux_u</th>\n",
              "      <th>tflux_g</th>\n",
              "      <th>tflux_r</th>\n",
              "      <th>tflux_i</th>\n",
              "      <th>tflux_z</th>\n",
              "      <th>tflux_y</th>\n",
              "    </tr>\n",
              "  </thead>\n",
              "  <tbody>\n",
              "    <tr>\n",
              "      <th>0</th>\n",
              "      <td>615</td>\n",
              "      <td>349.0461</td>\n",
              "      <td>-61.9438</td>\n",
              "      <td>1</td>\n",
              "      <td>0.000</td>\n",
              "      <td>0.000</td>\n",
              "      <td>0.000</td>\n",
              "      <td>-9.000</td>\n",
              "      <td>0.017</td>\n",
              "      <td>92</td>\n",
              "      <td>...</td>\n",
              "      <td>0.0</td>\n",
              "      <td>0.0</td>\n",
              "      <td>59570.000</td>\n",
              "      <td>69</td>\n",
              "      <td>484.7</td>\n",
              "      <td>3286.7</td>\n",
              "      <td>3214.1</td>\n",
              "      <td>3039.7</td>\n",
              "      <td>2854.5</td>\n",
              "      <td>2837.0</td>\n",
              "    </tr>\n",
              "    <tr>\n",
              "      <th>1</th>\n",
              "      <td>713</td>\n",
              "      <td>53.0859</td>\n",
              "      <td>-27.7844</td>\n",
              "      <td>1</td>\n",
              "      <td>1.818</td>\n",
              "      <td>1.627</td>\n",
              "      <td>0.255</td>\n",
              "      <td>45.406</td>\n",
              "      <td>0.007</td>\n",
              "      <td>88</td>\n",
              "      <td>...</td>\n",
              "      <td>0.0</td>\n",
              "      <td>0.0</td>\n",
              "      <td>59570.000</td>\n",
              "      <td>34</td>\n",
              "      <td>108.7</td>\n",
              "      <td>117.7</td>\n",
              "      <td>119.9</td>\n",
              "      <td>149.6</td>\n",
              "      <td>147.9</td>\n",
              "      <td>150.5</td>\n",
              "    </tr>\n",
              "    <tr>\n",
              "      <th>2</th>\n",
              "      <td>730</td>\n",
              "      <td>33.5742</td>\n",
              "      <td>-6.5796</td>\n",
              "      <td>1</td>\n",
              "      <td>0.232</td>\n",
              "      <td>0.226</td>\n",
              "      <td>0.016</td>\n",
              "      <td>40.256</td>\n",
              "      <td>0.021</td>\n",
              "      <td>42</td>\n",
              "      <td>...</td>\n",
              "      <td>0.0</td>\n",
              "      <td>0.0</td>\n",
              "      <td>60444.379</td>\n",
              "      <td>9</td>\n",
              "      <td>0.0</td>\n",
              "      <td>0.0</td>\n",
              "      <td>0.0</td>\n",
              "      <td>0.0</td>\n",
              "      <td>0.0</td>\n",
              "      <td>0.0</td>\n",
              "    </tr>\n",
              "    <tr>\n",
              "      <th>3</th>\n",
              "      <td>745</td>\n",
              "      <td>0.1899</td>\n",
              "      <td>-45.5867</td>\n",
              "      <td>1</td>\n",
              "      <td>0.304</td>\n",
              "      <td>0.281</td>\n",
              "      <td>1.152</td>\n",
              "      <td>40.795</td>\n",
              "      <td>0.007</td>\n",
              "      <td>90</td>\n",
              "      <td>...</td>\n",
              "      <td>0.0</td>\n",
              "      <td>0.0</td>\n",
              "      <td>60130.453</td>\n",
              "      <td>38</td>\n",
              "      <td>0.0</td>\n",
              "      <td>0.0</td>\n",
              "      <td>0.0</td>\n",
              "      <td>0.0</td>\n",
              "      <td>0.0</td>\n",
              "      <td>0.0</td>\n",
              "    </tr>\n",
              "    <tr>\n",
              "      <th>4</th>\n",
              "      <td>1124</td>\n",
              "      <td>352.7113</td>\n",
              "      <td>-63.8237</td>\n",
              "      <td>1</td>\n",
              "      <td>0.193</td>\n",
              "      <td>0.241</td>\n",
              "      <td>0.018</td>\n",
              "      <td>40.417</td>\n",
              "      <td>0.024</td>\n",
              "      <td>90</td>\n",
              "      <td>...</td>\n",
              "      <td>0.0</td>\n",
              "      <td>0.0</td>\n",
              "      <td>60452.641</td>\n",
              "      <td>1</td>\n",
              "      <td>0.0</td>\n",
              "      <td>0.0</td>\n",
              "      <td>0.0</td>\n",
              "      <td>0.0</td>\n",
              "      <td>0.0</td>\n",
              "      <td>0.0</td>\n",
              "    </tr>\n",
              "  </tbody>\n",
              "</table>\n",
              "<p>5 rows × 26 columns</p>\n",
              "</div>\n",
              "      <button class=\"colab-df-convert\" onclick=\"convertToInteractive('df-5dbfa314-6ab7-4bb6-99b3-0b4d2d0b0ad7')\"\n",
              "              title=\"Convert this dataframe to an interactive table.\"\n",
              "              style=\"display:none;\">\n",
              "        \n",
              "  <svg xmlns=\"http://www.w3.org/2000/svg\" height=\"24px\"viewBox=\"0 0 24 24\"\n",
              "       width=\"24px\">\n",
              "    <path d=\"M0 0h24v24H0V0z\" fill=\"none\"/>\n",
              "    <path d=\"M18.56 5.44l.94 2.06.94-2.06 2.06-.94-2.06-.94-.94-2.06-.94 2.06-2.06.94zm-11 1L8.5 8.5l.94-2.06 2.06-.94-2.06-.94L8.5 2.5l-.94 2.06-2.06.94zm10 10l.94 2.06.94-2.06 2.06-.94-2.06-.94-.94-2.06-.94 2.06-2.06.94z\"/><path d=\"M17.41 7.96l-1.37-1.37c-.4-.4-.92-.59-1.43-.59-.52 0-1.04.2-1.43.59L10.3 9.45l-7.72 7.72c-.78.78-.78 2.05 0 2.83L4 21.41c.39.39.9.59 1.41.59.51 0 1.02-.2 1.41-.59l7.78-7.78 2.81-2.81c.8-.78.8-2.07 0-2.86zM5.41 20L4 18.59l7.72-7.72 1.47 1.35L5.41 20z\"/>\n",
              "  </svg>\n",
              "      </button>\n",
              "      \n",
              "  <style>\n",
              "    .colab-df-container {\n",
              "      display:flex;\n",
              "      flex-wrap:wrap;\n",
              "      gap: 12px;\n",
              "    }\n",
              "\n",
              "    .colab-df-convert {\n",
              "      background-color: #E8F0FE;\n",
              "      border: none;\n",
              "      border-radius: 50%;\n",
              "      cursor: pointer;\n",
              "      display: none;\n",
              "      fill: #1967D2;\n",
              "      height: 32px;\n",
              "      padding: 0 0 0 0;\n",
              "      width: 32px;\n",
              "    }\n",
              "\n",
              "    .colab-df-convert:hover {\n",
              "      background-color: #E2EBFA;\n",
              "      box-shadow: 0px 1px 2px rgba(60, 64, 67, 0.3), 0px 1px 3px 1px rgba(60, 64, 67, 0.15);\n",
              "      fill: #174EA6;\n",
              "    }\n",
              "\n",
              "    [theme=dark] .colab-df-convert {\n",
              "      background-color: #3B4455;\n",
              "      fill: #D2E3FC;\n",
              "    }\n",
              "\n",
              "    [theme=dark] .colab-df-convert:hover {\n",
              "      background-color: #434B5C;\n",
              "      box-shadow: 0px 1px 3px 1px rgba(0, 0, 0, 0.15);\n",
              "      filter: drop-shadow(0px 1px 2px rgba(0, 0, 0, 0.3));\n",
              "      fill: #FFFFFF;\n",
              "    }\n",
              "  </style>\n",
              "\n",
              "      <script>\n",
              "        const buttonEl =\n",
              "          document.querySelector('#df-5dbfa314-6ab7-4bb6-99b3-0b4d2d0b0ad7 button.colab-df-convert');\n",
              "        buttonEl.style.display =\n",
              "          google.colab.kernel.accessAllowed ? 'block' : 'none';\n",
              "\n",
              "        async function convertToInteractive(key) {\n",
              "          const element = document.querySelector('#df-5dbfa314-6ab7-4bb6-99b3-0b4d2d0b0ad7');\n",
              "          const dataTable =\n",
              "            await google.colab.kernel.invokeFunction('convertToInteractive',\n",
              "                                                     [key], {});\n",
              "          if (!dataTable) return;\n",
              "\n",
              "          const docLinkHtml = 'Like what you see? Visit the ' +\n",
              "            '<a target=\"_blank\" href=https://colab.research.google.com/notebooks/data_table.ipynb>data table notebook</a>'\n",
              "            + ' to learn more about interactive tables.';\n",
              "          element.innerHTML = '';\n",
              "          dataTable['output_type'] = 'display_data';\n",
              "          await google.colab.output.renderOutput(dataTable, element);\n",
              "          const docLink = document.createElement('div');\n",
              "          docLink.innerHTML = docLinkHtml;\n",
              "          element.appendChild(docLink);\n",
              "        }\n",
              "      </script>\n",
              "    </div>\n",
              "  </div>\n",
              "  "
            ]
          },
          "metadata": {},
          "execution_count": 13
        }
      ]
    },
    {
      "cell_type": "code",
      "metadata": {
        "id": "VuWokYGTRP8r",
        "colab": {
          "base_uri": "https://localhost:8080/"
        },
        "outputId": "26b655aa-2007-48ec-ced0-acc62dda3147"
      },
      "source": [
        "print(\"The metadata columns are: \", metadata.columns)"
      ],
      "execution_count": 14,
      "outputs": [
        {
          "output_type": "stream",
          "name": "stdout",
          "text": [
            "The metadata columns are:  Index(['object_id', 'ra', 'decl', 'ddf_bool', 'hostgal_specz',\n",
            "       'hostgal_photoz', 'hostgal_photoz_err', 'distmod', 'mwebv', 'target',\n",
            "       'true_target', 'true_submodel', 'true_z', 'true_distmod',\n",
            "       'true_lensdmu', 'true_vpec', 'true_rv', 'true_av', 'true_peakmjd',\n",
            "       'libid_cadence', 'tflux_u', 'tflux_g', 'tflux_r', 'tflux_i', 'tflux_z',\n",
            "       'tflux_y'],\n",
            "      dtype='object')\n"
          ]
        }
      ]
    },
    {
      "cell_type": "code",
      "metadata": {
        "id": "1tQRZvDRRafP",
        "colab": {
          "base_uri": "https://localhost:8080/"
        },
        "outputId": "02b8de6e-bf73-4900-99c0-d2e909ebc7a7"
      },
      "source": [
        "print(\"The metadata dataset contains features: \", metadata.shape[1])"
      ],
      "execution_count": 15,
      "outputs": [
        {
          "output_type": "stream",
          "name": "stdout",
          "text": [
            "The metadata dataset contains features:  26\n"
          ]
        }
      ]
    },
    {
      "cell_type": "markdown",
      "metadata": {
        "id": "toxu4YKKlVYi"
      },
      "source": [
        "# TASK II : data exploration and visualization - plot some time series \n",
        "Visualize my data to get a sense of what we are working with. \n",
        "\n",
        "\n",
        "\n"
      ]
    },
    {
      "cell_type": "code",
      "source": [
        "pip install astropy"
      ],
      "metadata": {
        "colab": {
          "base_uri": "https://localhost:8080/"
        },
        "id": "Teo-ULZYJs_l",
        "outputId": "a63ca259-8dd8-48e9-e600-df94d35fd476"
      },
      "execution_count": 16,
      "outputs": [
        {
          "output_type": "stream",
          "name": "stdout",
          "text": [
            "Requirement already satisfied: astropy in /usr/local/lib/python3.7/dist-packages (4.3.1)\n",
            "Requirement already satisfied: numpy>=1.17 in /usr/local/lib/python3.7/dist-packages (from astropy) (1.21.5)\n",
            "Requirement already satisfied: pyerfa>=1.7.3 in /usr/local/lib/python3.7/dist-packages (from astropy) (2.0.0.1)\n",
            "Requirement already satisfied: importlib-metadata in /usr/local/lib/python3.7/dist-packages (from astropy) (4.11.3)\n",
            "Requirement already satisfied: typing-extensions>=3.6.4 in /usr/local/lib/python3.7/dist-packages (from importlib-metadata->astropy) (3.10.0.2)\n",
            "Requirement already satisfied: zipp>=0.5 in /usr/local/lib/python3.7/dist-packages (from importlib-metadata->astropy) (3.7.0)\n"
          ]
        }
      ]
    },
    {
      "cell_type": "code",
      "source": [
        "import scipy.stats as spstat"
      ],
      "metadata": {
        "id": "_H-bFOMnJzDF"
      },
      "execution_count": 19,
      "outputs": []
    },
    {
      "cell_type": "code",
      "source": [
        "class LightCurve(object):\n",
        "    '''Light curve object for PLAsTiCC formatted data.\n",
        "    This code is mainly taken from: https://www.kaggle.com/michaelapers/the-plasticc-astronomy-starter-kit\n",
        "    with some adjustments\n",
        "    '''\n",
        "    \n",
        "    _passbands = dict([(0,'C4'),\\\n",
        "                      (1,'C2'),\\\n",
        "                      (2,'C3'),\\\n",
        "                      (3,'C1'),\\\n",
        "                      (4,'k'),\\\n",
        "                      (5,'C5')])\n",
        "    \n",
        "    _pbnames = ['u','g','r','i','z','y']\n",
        "    \n",
        "    def __init__(self, filename, obj_name):\n",
        "        '''Read in light curve data'''\n",
        "\n",
        "        #self.DFlc     = Table.read(filename, format='ascii.csv')\n",
        "        #self.filename = filename.replace('.csv','')\n",
        "\n",
        "        self.DFlc = filename\n",
        "        self.filename = obj_name\n",
        "\n",
        "        self._finalize()\n",
        "     \n",
        "    # this is some simple code to demonstrate how to calculate features on these multiband light curves\n",
        "    # we're not suggesting using these features specifically\n",
        "    # there also might be additional pre-processing you do before computing anything\n",
        "    # it's purely for illustration\n",
        "    def _finalize(self):\n",
        "        '''Store individual passband fluxes as object attributes'''\n",
        "        # in this example, we'll use the weighted mean to normalize the features\n",
        "        weighted_mean = lambda flux, dflux: np.sum(flux*(flux/dflux)**2)/np.sum((flux/dflux)**2)\n",
        "        \n",
        "        # define some functions to compute simple descriptive statistics\n",
        "        normalized_flux_std = lambda flux, wMeanFlux: np.std(flux/wMeanFlux, ddof = 1)\n",
        "        normalized_amplitude = lambda flux, wMeanFlux: (np.max(flux) - np.min(flux))/wMeanFlux\n",
        "        normalized_MAD = lambda flux, wMeanFlux: np.median(np.abs((flux - np.median(flux))/wMeanFlux))\n",
        "        beyond_1std = lambda flux, wMeanFlux: sum(np.abs(flux - wMeanFlux) > np.std(flux, ddof = 1))/len(flux)\n",
        "        \n",
        "        for pb in self._passbands:\n",
        "            ind = self.DFlc['passband'] == pb\n",
        "            pbname = self._pbnames[pb]\n",
        "            \n",
        "            if len(self.DFlc[ind]) == 0:\n",
        "                setattr(self, f'{pbname}Std', np.nan)\n",
        "                setattr(self, f'{pbname}Amp', np.nan)\n",
        "                setattr(self, f'{pbname}MAD', np.nan)\n",
        "                setattr(self, f'{pbname}Beyond', np.nan)\n",
        "                setattr(self, f'{pbname}Skew', np.nan)\n",
        "                continue\n",
        "            \n",
        "            f  = self.DFlc['flux'][ind]\n",
        "            df = self.DFlc['flux_err'][ind]\n",
        "            m  = weighted_mean(f, df)\n",
        "            \n",
        "            # we'll save the measurements in each passband to simplify access.\n",
        "            setattr(self, f'{pbname}Flux', f)\n",
        "            setattr(self, f'{pbname}FluxUnc', df)\n",
        "            setattr(self, f'{pbname}Mean', m)\n",
        "            \n",
        "            # compute the features\n",
        "            std = normalized_flux_std(f, df)\n",
        "            amp = normalized_amplitude(f, m)\n",
        "            mad = normalized_MAD(f, m)\n",
        "            beyond = beyond_1std(f, m)\n",
        "            skew = spstat.skew(f) \n",
        "            \n",
        "            # and save the features\n",
        "            setattr(self, f'{pbname}Std', std)\n",
        "            setattr(self, f'{pbname}Amp', amp)\n",
        "            setattr(self, f'{pbname}MAD', mad)\n",
        "            setattr(self, f'{pbname}Beyond', beyond)\n",
        "            setattr(self, f'{pbname}Skew', skew)\n",
        "        \n",
        "        # we can also construct features between passbands\n",
        "        pbs = list(self._passbands.keys())\n",
        "        for i, lpb in enumerate(pbs[0:-1]):\n",
        "            rpb = pbs[i+1]\n",
        "            \n",
        "            lpbname = self._pbnames[lpb]\n",
        "            rpbname = self._pbnames[rpb]\n",
        "            \n",
        "            colname = '{}Minus{}'.format(lpbname, rpbname.upper())\n",
        "            lMean = getattr(self, f'{lpbname}Mean', np.nan)\n",
        "            rMean = getattr(self, f'{rpbname}Mean', np.nan)\n",
        "            col = -2.5*np.log10(lMean/rMean) if lMean> 0 and rMean > 0 else -999\n",
        "            setattr(self, colname, col)\n",
        "    \n",
        "    # this is a simple routine to visualize a light curve\n",
        "    # it can plot vs the MJD array of the light curve\n",
        "    # or vs an optional `phase` array that you pass \n",
        "    def plot_multicolor_lc(self, phase=None):\n",
        "        '''Plot the multiband light curve'''\n",
        "\n",
        "        fig, ax = plt.subplots(figsize=(8,6))\n",
        "\n",
        "        \n",
        "        if phase is None:\n",
        "            phase = []\n",
        "        if len(phase) != len(self.DFlc):\n",
        "            phase = self.DFlc['mjd']\n",
        "            xlabel = 'MJD'\n",
        "        else:\n",
        "            xlabel = 'Phase'\n",
        "            \n",
        "        for i, pb in enumerate(self._passbands):\n",
        "            pbname = self._pbnames[pb]\n",
        "            ind = self.DFlc['passband'] == pb\n",
        "            if len(self.DFlc[ind]) == 0:\n",
        "                continue\n",
        "            ax.errorbar(phase[ind], \n",
        "                     self.DFlc['flux'][ind],\n",
        "                     self.DFlc['flux_err'][ind],\n",
        "                     fmt = 'o', color = self._passbands[pb], label = f'{pbname}')\n",
        "        ax.legend(ncol = 4, frameon = True)\n",
        "        ax.set_xlabel(f'{xlabel}', fontsize='large')\n",
        "        ax.set_ylabel('Flux', fontsize='large')\n",
        "        fig.suptitle(self.filename, fontsize='x-large')\n",
        "        fig.tight_layout(rect=[0, 0, 1, 0.97])\n",
        "    \n",
        "    def get_features(self):\n",
        "        '''Return all the features for this object'''\n",
        "        variables = ['Std', 'Amp', 'MAD', 'Beyond', 'Skew']\n",
        "        feats = []\n",
        "        for i, pb in enumerate(self._passbands):\n",
        "            pbname = self._pbnames[pb]\n",
        "            feats += [getattr(self, f'{pbname}{x}', np.nan) for x in variables]\n",
        "        return feats"
      ],
      "metadata": {
        "id": "hNX1dO2GJQoC"
      },
      "execution_count": 20,
      "outputs": []
    },
    {
      "cell_type": "code",
      "source": [
        "LightCurve(\n",
        "    lcvs[lcvs['object_id'] == 615],\n",
        "    obj_name = '615'\n",
        ").plot_multicolor_lc()"
      ],
      "metadata": {
        "colab": {
          "base_uri": "https://localhost:8080/",
          "height": 443
        },
        "id": "EEBXJP4iKKO8",
        "outputId": "59a33582-aa4e-4231-cbc6-34c3d6f1ccc5"
      },
      "execution_count": 21,
      "outputs": [
        {
          "output_type": "display_data",
          "data": {
            "text/plain": [
              "<Figure size 576x432 with 1 Axes>"
            ],
            "image/png": "[encoded data removed]"
          },
          "metadata": {
            "needs_background": "light"
          }
        }
      ]
    },
    {
      "cell_type": "markdown",
      "metadata": {
        "id": "UZB5DqYwnVpQ"
      },
      "source": [
        "Plot light curves for 10 objects. "
      ]
    },
    {
      "cell_type": "code",
      "source": [
        "np.random.seed(42)"
      ],
      "metadata": {
        "id": "CIXOdSs7L2XG"
      },
      "execution_count": 22,
      "outputs": []
    },
    {
      "cell_type": "code",
      "source": [
        "obj_sample = np.random.choice(objects, 10)"
      ],
      "metadata": {
        "id": "C3kCVHJoOTks"
      },
      "execution_count": 23,
      "outputs": []
    },
    {
      "cell_type": "code",
      "source": [
        "for obj_id in obj_sample:\n",
        "  LightCurve(\n",
        "    lcvs[lcvs['object_id'] == obj_id],\n",
        "    obj_name = obj_id\n",
        ").plot_multicolor_lc()"
      ],
      "metadata": {
        "colab": {
          "base_uri": "https://localhost:8080/",
          "height": 1000
        },
        "id": "QJCGD0FkL-Y6",
        "outputId": "96964c49-def2-41d6-ab8e-35162b952858"
      },
      "execution_count": 24,
      "outputs": [
        {
          "output_type": "display_data",
          "data": {
            "text/plain": [
              "<Figure size 576x432 with 1 Axes>"
            ],
            "image/png": "[encoded data removed]"
          },
          "metadata": {
            "needs_background": "light"
          }
        },
        {
          "output_type": "display_data",
          "data": {
            "text/plain": [
              "<Figure size 576x432 with 1 Axes>"
            ],
            "image/png": "[encoded data removed]"
          },
          "metadata": {
            "needs_background": "light"
          }
        },
        {
          "output_type": "display_data",
          "data": {
            "text/plain": [
              "<Figure size 576x432 with 1 Axes>"
            ],
            "image/png": "[encoded data removed]"
          },
          "metadata": {
            "needs_background": "light"
          }
        },
        {
          "output_type": "display_data",
          "data": {
            "text/plain": [
              "<Figure size 576x432 with 1 Axes>"
            ],
            "image/png": "[encoded data removed]"
          },
          "metadata": {
            "needs_background": "light"
          }
        },
        {
          "output_type": "display_data",
          "data": {
            "text/plain": [
              "<Figure size 576x432 with 1 Axes>"
            ],
            "image/png": "[encoded data removed]"
          },
          "metadata": {
            "needs_background": "light"
          }
        },
        {
          "output_type": "display_data",
          "data": {
            "text/plain": [
              "<Figure size 576x432 with 1 Axes>"
            ],
            "image/png": "[encoded data removed]"
          },
          "metadata": {
            "needs_background": "light"
          }
        },
        {
          "output_type": "display_data",
          "data": {
            "text/plain": [
              "<Figure size 576x432 with 1 Axes>"
            ],
            "image/png": "[encoded data removed]"
          },
          "metadata": {
            "needs_background": "light"
          }
        },
        {
          "output_type": "display_data",
          "data": {
            "text/plain": [
              "<Figure size 576x432 with 1 Axes>"
            ],
            "image/png": "[encoded data removed]"
          },
          "metadata": {
            "needs_background": "light"
          }
        },
        {
          "output_type": "display_data",
          "data": {
            "text/plain": [
              "<Figure size 576x432 with 1 Axes>"
            ],
            "image/png": "[encoded data removed]"
          },
          "metadata": {
            "needs_background": "light"
          }
        },
        {
          "output_type": "display_data",
          "data": {
            "text/plain": [
              "<Figure size 576x432 with 1 Axes>"
            ],
            "image/png": "[encoded data removed]"
          },
          "metadata": {
            "needs_background": "light"
          }
        }
      ]
    },
    {
      "cell_type": "markdown",
      "source": [
        "Plots: light curves for 10 random objects. \n",
        "\n",
        "Axes: \n",
        "\n",
        "  `MJD` - Modified Julian Date (MJD) - the number of decimal days from midnight on November 17, 1858.\n",
        "\n",
        "  `Flux` - measurements of brightness of a light source as a function of time. Actual observable paramether.\n",
        "\n",
        "We can see that these TS are not very consistent, their observed values are not evenly spaced, which makes them harder to analyze. Some bands (especially `z` and `y`) have higher error rate and outliers.\n"
      ],
      "metadata": {
        "id": "6YxRrcCXmocb"
      }
    },
    {
      "cell_type": "markdown",
      "source": [
        "Plot explicitly object 84716"
      ],
      "metadata": {
        "id": "sljsKAQbPZjb"
      }
    },
    {
      "cell_type": "code",
      "source": [
        "obj_id = 84716\n",
        "LightCurve(\n",
        "  lcvs[lcvs['object_id'] == obj_id],\n",
        "  obj_name = obj_id\n",
        ").plot_multicolor_lc()"
      ],
      "metadata": {
        "colab": {
          "base_uri": "https://localhost:8080/",
          "height": 443
        },
        "id": "ZYJvqviaMTzZ",
        "outputId": "962daaf5-f96c-4c36-c4e4-980745f6f4aa"
      },
      "execution_count": 25,
      "outputs": [
        {
          "output_type": "display_data",
          "data": {
            "text/plain": [
              "<Figure size 576x432 with 1 Axes>"
            ],
            "image/png": "[encoded data removed]"
          },
          "metadata": {
            "needs_background": "light"
          }
        }
      ]
    },
    {
      "cell_type": "markdown",
      "source": [
        "Plot: light curve for object 84716. Has a clear outlier on `y` band with a large error."
      ],
      "metadata": {
        "id": "YkoqtcdNmMst"
      }
    },
    {
      "cell_type": "markdown",
      "metadata": {
        "id": "dvf0NyI9lVYj"
      },
      "source": [
        "# TASK III: Extract features\n",
        "\n",
        "Feature extraction refers to the extraction of statistical features of the datapoints or the generation of low dimensional representations of the data points that can then be passed to a classifier/regression\n",
        "\n",
        "Extract at least 4 features including at least 1 feature from all three category below\n",
        "\n",
        "The code that won the callenge did a number of smart things, of course. It was a feature based classification scheme, which included Gaussian Processes in the preprocessing. The feature extraction part of the code is here. https://github.com/kboone/avocado/blob/master/avocado/plasticc.py\n",
        "\n",
        "Examples of features you can extract:\n",
        "\n",
        "- **from the original lightcurve**: \n",
        "    - mean, \n",
        "    - standard deviation, \n",
        "    - skewness, \n",
        "    - kurthosis, \n",
        "    - minimum \n",
        "    - maximmum,\n",
        "    - error on the minimum and \n",
        "    - error on the maximum, \n",
        "- **from the standardized lightcurve**:\n",
        "    - median \n",
        "    - slope of a line fit\n",
        "    - intercept of a line fit\n",
        "    - likelihood of the line fit\n",
        "    - likelihood of a quadratic fit\n",
        "    - sign of the quadratic parameter\n",
        "\n",
        "\n",
        "- **from the metadata file**:\n",
        "    - decl; this is one of the positions in the sky variables: important because the position on the sky may determin if it is a galactic or extragalactic object\n",
        "    - ddf_bool ; the kind of survey i.e. the data collection scheme that lead to the time series\n",
        "    - hostgal_photoz\n",
        "    - hostgal_photoz_err\n",
        "    \n",
        "The feature in the metadata files are the hardest ones to decide on because they require domain knowledge.\n",
        "Most of the other features in the metadata are unknown for test objects (only known for the training set)\n",
        "\n",
        "\n",
        "Extract at least 4 features including 1 features from all three category above: original lcv, standardized lcv, metadata. Justify each feature. Coming up with different features than the ones I suggested is very welcome! Remember that if the features are extracted from the time series there will be 4 features for each passbands.\n",
        "\n",
        "Note: we are working with bigg-ish data! \n",
        "First off: every new piece should be developed on a subset of the dataset, then run on all the data only when ready. \n",
        "Still, if you try achieve goals by implementing for loops you are not going to be able to run the notebook for the whole data, or even only 1 batch of the full datase. A good solution is to use the groupby() method in pandas. I used groupby everywhere. Also it may be wise to write out intermediate outputs, so you do not have to loose work if your kernel dies or something similar. "
      ]
    },
    {
      "cell_type": "markdown",
      "metadata": {
        "id": "4OU5iAEFlVYk"
      },
      "source": [
        "\n",
        "describe each feature you plan to extract. Briefly indicate why you think it is a valuable feature and what data type is it (e.g. continuous, binary, categorical, if continuous does it have a max or min value or is it unbound?)\n",
        "\n",
        "        "
      ]
    },
    {
      "cell_type": "code",
      "source": [
        "lcvs_small = lcvs[lcvs['object_id'].isin(obj_sample)]\n",
        "lcvs_small"
      ],
      "metadata": {
        "colab": {
          "base_uri": "https://localhost:8080/",
          "height": 423
        },
        "id": "awwnd7EtOqsB",
        "outputId": "648ae428-2f91-4ded-d5c9-f2fa9ce7e289"
      },
      "execution_count": 26,
      "outputs": [
        {
          "output_type": "execute_result",
          "data": {
            "text/plain": [
              "         object_id         mjd  passband       flux   flux_err  detected\n",
              "281636      145160  59770.3662         2   0.633809   0.757752         0\n",
              "281637      145160  59770.3740         1   0.357168   0.703808         0\n",
              "281638      145160  59770.3817         3   1.151880   1.357765         0\n",
              "281639      145160  59770.3928         4  -1.929610   2.120550         0\n",
              "281640      145160  59770.4039         5  -0.134250   5.095148         0\n",
              "...            ...         ...       ...        ...        ...       ...\n",
              "1390054  125602330  60648.0878         2  -0.336481   2.045780         0\n",
              "1390055  125602330  60656.0425         4 -15.510187  10.975158         0\n",
              "1390056  125602330  60661.1679         3  -1.329001   3.365140         0\n",
              "1390057  125602330  60664.2050         2   6.322330   6.112851         0\n",
              "1390058  125602330  60673.1088         0  -2.480774   8.401092         0\n",
              "\n",
              "[1566 rows x 6 columns]"
            ],
            "text/html": [
              "\n",
              "  <div id=\"df-31be174f-bbf8-432f-a616-48f470df86b3\">\n",
              "    <div class=\"colab-df-container\">\n",
              "      <div>\n",
              "<style scoped>\n",
              "    .dataframe tbody tr th:only-of-type {\n",
              "        vertical-align: middle;\n",
              "    }\n",
              "\n",
              "    .dataframe tbody tr th {\n",
              "        vertical-align: top;\n",
              "    }\n",
              "\n",
              "    .dataframe thead th {\n",
              "        text-align: right;\n",
              "    }\n",
              "</style>\n",
              "<table border=\"1\" class=\"dataframe\">\n",
              "  <thead>\n",
              "    <tr style=\"text-align: right;\">\n",
              "      <th></th>\n",
              "      <th>object_id</th>\n",
              "      <th>mjd</th>\n",
              "      <th>passband</th>\n",
              "      <th>flux</th>\n",
              "      <th>flux_err</th>\n",
              "      <th>detected</th>\n",
              "    </tr>\n",
              "  </thead>\n",
              "  <tbody>\n",
              "    <tr>\n",
              "      <th>281636</th>\n",
              "      <td>145160</td>\n",
              "      <td>59770.3662</td>\n",
              "      <td>2</td>\n",
              "      <td>0.633809</td>\n",
              "      <td>0.757752</td>\n",
              "      <td>0</td>\n",
              "    </tr>\n",
              "    <tr>\n",
              "      <th>281637</th>\n",
              "      <td>145160</td>\n",
              "      <td>59770.3740</td>\n",
              "      <td>1</td>\n",
              "      <td>0.357168</td>\n",
              "      <td>0.703808</td>\n",
              "      <td>0</td>\n",
              "    </tr>\n",
              "    <tr>\n",
              "      <th>281638</th>\n",
              "      <td>145160</td>\n",
              "      <td>59770.3817</td>\n",
              "      <td>3</td>\n",
              "      <td>1.151880</td>\n",
              "      <td>1.357765</td>\n",
              "      <td>0</td>\n",
              "    </tr>\n",
              "    <tr>\n",
              "      <th>281639</th>\n",
              "      <td>145160</td>\n",
              "      <td>59770.3928</td>\n",
              "      <td>4</td>\n",
              "      <td>-1.929610</td>\n",
              "      <td>2.120550</td>\n",
              "      <td>0</td>\n",
              "    </tr>\n",
              "    <tr>\n",
              "      <th>281640</th>\n",
              "      <td>145160</td>\n",
              "      <td>59770.4039</td>\n",
              "      <td>5</td>\n",
              "      <td>-0.134250</td>\n",
              "      <td>5.095148</td>\n",
              "      <td>0</td>\n",
              "    </tr>\n",
              "    <tr>\n",
              "      <th>...</th>\n",
              "      <td>...</td>\n",
              "      <td>...</td>\n",
              "      <td>...</td>\n",
              "      <td>...</td>\n",
              "      <td>...</td>\n",
              "      <td>...</td>\n",
              "    </tr>\n",
              "    <tr>\n",
              "      <th>1390054</th>\n",
              "      <td>125602330</td>\n",
              "      <td>60648.0878</td>\n",
              "      <td>2</td>\n",
              "      <td>-0.336481</td>\n",
              "      <td>2.045780</td>\n",
              "      <td>0</td>\n",
              "    </tr>\n",
              "    <tr>\n",
              "      <th>1390055</th>\n",
              "      <td>125602330</td>\n",
              "      <td>60656.0425</td>\n",
              "      <td>4</td>\n",
              "      <td>-15.510187</td>\n",
              "      <td>10.975158</td>\n",
              "      <td>0</td>\n",
              "    </tr>\n",
              "    <tr>\n",
              "      <th>1390056</th>\n",
              "      <td>125602330</td>\n",
              "      <td>60661.1679</td>\n",
              "      <td>3</td>\n",
              "      <td>-1.329001</td>\n",
              "      <td>3.365140</td>\n",
              "      <td>0</td>\n",
              "    </tr>\n",
              "    <tr>\n",
              "      <th>1390057</th>\n",
              "      <td>125602330</td>\n",
              "      <td>60664.2050</td>\n",
              "      <td>2</td>\n",
              "      <td>6.322330</td>\n",
              "      <td>6.112851</td>\n",
              "      <td>0</td>\n",
              "    </tr>\n",
              "    <tr>\n",
              "      <th>1390058</th>\n",
              "      <td>125602330</td>\n",
              "      <td>60673.1088</td>\n",
              "      <td>0</td>\n",
              "      <td>-2.480774</td>\n",
              "      <td>8.401092</td>\n",
              "      <td>0</td>\n",
              "    </tr>\n",
              "  </tbody>\n",
              "</table>\n",
              "<p>1566 rows × 6 columns</p>\n",
              "</div>\n",
              "      <button class=\"colab-df-convert\" onclick=\"convertToInteractive('df-31be174f-bbf8-432f-a616-48f470df86b3')\"\n",
              "              title=\"Convert this dataframe to an interactive table.\"\n",
              "              style=\"display:none;\">\n",
              "        \n",
              "  <svg xmlns=\"http://www.w3.org/2000/svg\" height=\"24px\"viewBox=\"0 0 24 24\"\n",
              "       width=\"24px\">\n",
              "    <path d=\"M0 0h24v24H0V0z\" fill=\"none\"/>\n",
              "    <path d=\"M18.56 5.44l.94 2.06.94-2.06 2.06-.94-2.06-.94-.94-2.06-.94 2.06-2.06.94zm-11 1L8.5 8.5l.94-2.06 2.06-.94-2.06-.94L8.5 2.5l-.94 2.06-2.06.94zm10 10l.94 2.06.94-2.06 2.06-.94-2.06-.94-.94-2.06-.94 2.06-2.06.94z\"/><path d=\"M17.41 7.96l-1.37-1.37c-.4-.4-.92-.59-1.43-.59-.52 0-1.04.2-1.43.59L10.3 9.45l-7.72 7.72c-.78.78-.78 2.05 0 2.83L4 21.41c.39.39.9.59 1.41.59.51 0 1.02-.2 1.41-.59l7.78-7.78 2.81-2.81c.8-.78.8-2.07 0-2.86zM5.41 20L4 18.59l7.72-7.72 1.47 1.35L5.41 20z\"/>\n",
              "  </svg>\n",
              "      </button>\n",
              "      \n",
              "  <style>\n",
              "    .colab-df-container {\n",
              "      display:flex;\n",
              "      flex-wrap:wrap;\n",
              "      gap: 12px;\n",
              "    }\n",
              "\n",
              "    .colab-df-convert {\n",
              "      background-color: #E8F0FE;\n",
              "      border: none;\n",
              "      border-radius: 50%;\n",
              "      cursor: pointer;\n",
              "      display: none;\n",
              "      fill: #1967D2;\n",
              "      height: 32px;\n",
              "      padding: 0 0 0 0;\n",
              "      width: 32px;\n",
              "    }\n",
              "\n",
              "    .colab-df-convert:hover {\n",
              "      background-color: #E2EBFA;\n",
              "      box-shadow: 0px 1px 2px rgba(60, 64, 67, 0.3), 0px 1px 3px 1px rgba(60, 64, 67, 0.15);\n",
              "      fill: #174EA6;\n",
              "    }\n",
              "\n",
              "    [theme=dark] .colab-df-convert {\n",
              "      background-color: #3B4455;\n",
              "      fill: #D2E3FC;\n",
              "    }\n",
              "\n",
              "    [theme=dark] .colab-df-convert:hover {\n",
              "      background-color: #434B5C;\n",
              "      box-shadow: 0px 1px 3px 1px rgba(0, 0, 0, 0.15);\n",
              "      filter: drop-shadow(0px 1px 2px rgba(0, 0, 0, 0.3));\n",
              "      fill: #FFFFFF;\n",
              "    }\n",
              "  </style>\n",
              "\n",
              "      <script>\n",
              "        const buttonEl =\n",
              "          document.querySelector('#df-31be174f-bbf8-432f-a616-48f470df86b3 button.colab-df-convert');\n",
              "        buttonEl.style.display =\n",
              "          google.colab.kernel.accessAllowed ? 'block' : 'none';\n",
              "\n",
              "        async function convertToInteractive(key) {\n",
              "          const element = document.querySelector('#df-31be174f-bbf8-432f-a616-48f470df86b3');\n",
              "          const dataTable =\n",
              "            await google.colab.kernel.invokeFunction('convertToInteractive',\n",
              "                                                     [key], {});\n",
              "          if (!dataTable) return;\n",
              "\n",
              "          const docLinkHtml = 'Like what you see? Visit the ' +\n",
              "            '<a target=\"_blank\" href=https://colab.research.google.com/notebooks/data_table.ipynb>data table notebook</a>'\n",
              "            + ' to learn more about interactive tables.';\n",
              "          element.innerHTML = '';\n",
              "          dataTable['output_type'] = 'display_data';\n",
              "          await google.colab.output.renderOutput(dataTable, element);\n",
              "          const docLink = document.createElement('div');\n",
              "          docLink.innerHTML = docLinkHtml;\n",
              "          element.appendChild(docLink);\n",
              "        }\n",
              "      </script>\n",
              "    </div>\n",
              "  </div>\n",
              "  "
            ]
          },
          "metadata": {},
          "execution_count": 26
        }
      ]
    },
    {
      "cell_type": "code",
      "source": [
        "def agg_norm_flux(x):\n",
        "  \"\"\" func that normalizes flux and flux_err values.\n",
        "  \n",
        "  x - pandas groupby object (over obj_id and passband)\n",
        "  \"\"\"\n",
        "  x['flux_norm'] = (\n",
        "      np.array(x['flux']) - np.mean(x['flux'])\n",
        "      )/np.std(x['flux'])\n",
        "  x['flux_err_norm']= (\n",
        "    np.array(x['flux_err']) - np.mean(x['flux_err'])\n",
        "    )/np.std(x['flux_err'])\n",
        "  return x"
      ],
      "metadata": {
        "id": "vHUHfs_1axEK"
      },
      "execution_count": 27,
      "outputs": []
    },
    {
      "cell_type": "code",
      "source": [
        "lcvs_norm = lcvs.groupby(\n",
        "    [\"object_id\", \"passband\"]\n",
        "    ).progress_apply(agg_norm_flux)"
      ],
      "metadata": {
        "colab": {
          "base_uri": "https://localhost:8080/"
        },
        "id": "2Mcy6ohnRRX1",
        "outputId": "11779257-952c-4d27-dd0d-710ab6c5be9b"
      },
      "execution_count": 28,
      "outputs": [
        {
          "output_type": "stream",
          "name": "stderr",
          "text": [
            "100%|██████████| 47088/47088 [01:29<00:00, 523.22it/s]\n"
          ]
        }
      ]
    },
    {
      "cell_type": "code",
      "source": [
        "lcvs_norm.head()"
      ],
      "metadata": {
        "colab": {
          "base_uri": "https://localhost:8080/",
          "height": 206
        },
        "id": "Omv_pD93cCa8",
        "outputId": "3e6c650f-1031-4c3e-aa4d-2e9f864baa03"
      },
      "execution_count": 29,
      "outputs": [
        {
          "output_type": "execute_result",
          "data": {
            "text/plain": [
              "   object_id         mjd  passband        flux   flux_err  detected  \\\n",
              "0        615  59750.4229         2 -544.810303   3.622952         1   \n",
              "1        615  59750.4306         1 -816.434326   5.553370         1   \n",
              "2        615  59750.4383         3 -471.385529   3.801213         1   \n",
              "3        615  59750.4450         4 -388.984985  11.395031         1   \n",
              "4        615  59752.4070         2 -681.858887   4.041204         1   \n",
              "\n",
              "   flux_norm  flux_err_norm  \n",
              "0  -0.910198       0.422316  \n",
              "1  -0.722010       0.452984  \n",
              "2  -1.053414       1.338867  \n",
              "3  -1.151251       7.037395  \n",
              "4  -1.213953       1.150246  "
            ],
            "text/html": [
              "\n",
              "  <div id=\"df-66c9f697-8f9c-4648-bb8a-c274e8f41476\">\n",
              "    <div class=\"colab-df-container\">\n",
              "      <div>\n",
              "<style scoped>\n",
              "    .dataframe tbody tr th:only-of-type {\n",
              "        vertical-align: middle;\n",
              "    }\n",
              "\n",
              "    .dataframe tbody tr th {\n",
              "        vertical-align: top;\n",
              "    }\n",
              "\n",
              "    .dataframe thead th {\n",
              "        text-align: right;\n",
              "    }\n",
              "</style>\n",
              "<table border=\"1\" class=\"dataframe\">\n",
              "  <thead>\n",
              "    <tr style=\"text-align: right;\">\n",
              "      <th></th>\n",
              "      <th>object_id</th>\n",
              "      <th>mjd</th>\n",
              "      <th>passband</th>\n",
              "      <th>flux</th>\n",
              "      <th>flux_err</th>\n",
              "      <th>detected</th>\n",
              "      <th>flux_norm</th>\n",
              "      <th>flux_err_norm</th>\n",
              "    </tr>\n",
              "  </thead>\n",
              "  <tbody>\n",
              "    <tr>\n",
              "      <th>0</th>\n",
              "      <td>615</td>\n",
              "      <td>59750.4229</td>\n",
              "      <td>2</td>\n",
              "      <td>-544.810303</td>\n",
              "      <td>3.622952</td>\n",
              "      <td>1</td>\n",
              "      <td>-0.910198</td>\n",
              "      <td>0.422316</td>\n",
              "    </tr>\n",
              "    <tr>\n",
              "      <th>1</th>\n",
              "      <td>615</td>\n",
              "      <td>59750.4306</td>\n",
              "      <td>1</td>\n",
              "      <td>-816.434326</td>\n",
              "      <td>5.553370</td>\n",
              "      <td>1</td>\n",
              "      <td>-0.722010</td>\n",
              "      <td>0.452984</td>\n",
              "    </tr>\n",
              "    <tr>\n",
              "      <th>2</th>\n",
              "      <td>615</td>\n",
              "      <td>59750.4383</td>\n",
              "      <td>3</td>\n",
              "      <td>-471.385529</td>\n",
              "      <td>3.801213</td>\n",
              "      <td>1</td>\n",
              "      <td>-1.053414</td>\n",
              "      <td>1.338867</td>\n",
              "    </tr>\n",
              "    <tr>\n",
              "      <th>3</th>\n",
              "      <td>615</td>\n",
              "      <td>59750.4450</td>\n",
              "      <td>4</td>\n",
              "      <td>-388.984985</td>\n",
              "      <td>11.395031</td>\n",
              "      <td>1</td>\n",
              "      <td>-1.151251</td>\n",
              "      <td>7.037395</td>\n",
              "    </tr>\n",
              "    <tr>\n",
              "      <th>4</th>\n",
              "      <td>615</td>\n",
              "      <td>59752.4070</td>\n",
              "      <td>2</td>\n",
              "      <td>-681.858887</td>\n",
              "      <td>4.041204</td>\n",
              "      <td>1</td>\n",
              "      <td>-1.213953</td>\n",
              "      <td>1.150246</td>\n",
              "    </tr>\n",
              "  </tbody>\n",
              "</table>\n",
              "</div>\n",
              "      <button class=\"colab-df-convert\" onclick=\"convertToInteractive('df-66c9f697-8f9c-4648-bb8a-c274e8f41476')\"\n",
              "              title=\"Convert this dataframe to an interactive table.\"\n",
              "              style=\"display:none;\">\n",
              "        \n",
              "  <svg xmlns=\"http://www.w3.org/2000/svg\" height=\"24px\"viewBox=\"0 0 24 24\"\n",
              "       width=\"24px\">\n",
              "    <path d=\"M0 0h24v24H0V0z\" fill=\"none\"/>\n",
              "    <path d=\"M18.56 5.44l.94 2.06.94-2.06 2.06-.94-2.06-.94-.94-2.06-.94 2.06-2.06.94zm-11 1L8.5 8.5l.94-2.06 2.06-.94-2.06-.94L8.5 2.5l-.94 2.06-2.06.94zm10 10l.94 2.06.94-2.06 2.06-.94-2.06-.94-.94-2.06-.94 2.06-2.06.94z\"/><path d=\"M17.41 7.96l-1.37-1.37c-.4-.4-.92-.59-1.43-.59-.52 0-1.04.2-1.43.59L10.3 9.45l-7.72 7.72c-.78.78-.78 2.05 0 2.83L4 21.41c.39.39.9.59 1.41.59.51 0 1.02-.2 1.41-.59l7.78-7.78 2.81-2.81c.8-.78.8-2.07 0-2.86zM5.41 20L4 18.59l7.72-7.72 1.47 1.35L5.41 20z\"/>\n",
              "  </svg>\n",
              "      </button>\n",
              "      \n",
              "  <style>\n",
              "    .colab-df-container {\n",
              "      display:flex;\n",
              "      flex-wrap:wrap;\n",
              "      gap: 12px;\n",
              "    }\n",
              "\n",
              "    .colab-df-convert {\n",
              "      background-color: #E8F0FE;\n",
              "      border: none;\n",
              "      border-radius: 50%;\n",
              "      cursor: pointer;\n",
              "      display: none;\n",
              "      fill: #1967D2;\n",
              "      height: 32px;\n",
              "      padding: 0 0 0 0;\n",
              "      width: 32px;\n",
              "    }\n",
              "\n",
              "    .colab-df-convert:hover {\n",
              "      background-color: #E2EBFA;\n",
              "      box-shadow: 0px 1px 2px rgba(60, 64, 67, 0.3), 0px 1px 3px 1px rgba(60, 64, 67, 0.15);\n",
              "      fill: #174EA6;\n",
              "    }\n",
              "\n",
              "    [theme=dark] .colab-df-convert {\n",
              "      background-color: #3B4455;\n",
              "      fill: #D2E3FC;\n",
              "    }\n",
              "\n",
              "    [theme=dark] .colab-df-convert:hover {\n",
              "      background-color: #434B5C;\n",
              "      box-shadow: 0px 1px 3px 1px rgba(0, 0, 0, 0.15);\n",
              "      filter: drop-shadow(0px 1px 2px rgba(0, 0, 0, 0.3));\n",
              "      fill: #FFFFFF;\n",
              "    }\n",
              "  </style>\n",
              "\n",
              "      <script>\n",
              "        const buttonEl =\n",
              "          document.querySelector('#df-66c9f697-8f9c-4648-bb8a-c274e8f41476 button.colab-df-convert');\n",
              "        buttonEl.style.display =\n",
              "          google.colab.kernel.accessAllowed ? 'block' : 'none';\n",
              "\n",
              "        async function convertToInteractive(key) {\n",
              "          const element = document.querySelector('#df-66c9f697-8f9c-4648-bb8a-c274e8f41476');\n",
              "          const dataTable =\n",
              "            await google.colab.kernel.invokeFunction('convertToInteractive',\n",
              "                                                     [key], {});\n",
              "          if (!dataTable) return;\n",
              "\n",
              "          const docLinkHtml = 'Like what you see? Visit the ' +\n",
              "            '<a target=\"_blank\" href=https://colab.research.google.com/notebooks/data_table.ipynb>data table notebook</a>'\n",
              "            + ' to learn more about interactive tables.';\n",
              "          element.innerHTML = '';\n",
              "          dataTable['output_type'] = 'display_data';\n",
              "          await google.colab.output.renderOutput(dataTable, element);\n",
              "          const docLink = document.createElement('div');\n",
              "          docLink.innerHTML = docLinkHtml;\n",
              "          element.appendChild(docLink);\n",
              "        }\n",
              "      </script>\n",
              "    </div>\n",
              "  </div>\n",
              "  "
            ]
          },
          "metadata": {},
          "execution_count": 29
        }
      ]
    },
    {
      "cell_type": "markdown",
      "metadata": {
        "id": "5ytS0DzhlVYk"
      },
      "source": [
        "### extract some features from the raw lightcurve - \n"
      ]
    },
    {
      "cell_type": "markdown",
      "metadata": {
        "id": "gjaS_wTClVYl"
      },
      "source": [
        "higher order moments of the distribution can be obtained with the scipy.stats.moment() function which can be applied to a grouby() object\n",
        "note that this way you can apply a function that takes only one argument, the argument over which groupby iterates (the flux here). But moments take 2: the value and the moment Create a function call"
      ]
    },
    {
      "cell_type": "code",
      "metadata": {
        "ExecuteTime": {
          "end_time": "2020-04-05T15:08:31.653520Z",
          "start_time": "2020-04-05T15:08:31.493218Z"
        },
        "id": "IbscbPtrlVYk"
      },
      "source": [
        "#example (you can use this code but this wont count for your 4 features)\n",
        "means = lcvs_norm.groupby([\"object_id\", \"passband\"])[[\"flux\"]].mean()"
      ],
      "execution_count": 30,
      "outputs": []
    },
    {
      "cell_type": "code",
      "source": [
        "%%time\n",
        "lcvs_features = lcvs_norm.groupby([\"object_id\", \"passband\"]).agg(\n",
        "    {\n",
        "      \"flux\": [\n",
        "        np.mean, \n",
        "        np.std,\n",
        "        stats.skew,\n",
        "        stats.kurtosis,\n",
        "      ],\n",
        "     \"flux_norm\": [\n",
        "        np.median\n",
        "      ]\n",
        "     }\n",
        "  )"
      ],
      "metadata": {
        "colab": {
          "base_uri": "https://localhost:8080/"
        },
        "id": "JP4SEdodN9u_",
        "outputId": "11455b58-382a-48d9-e9c4-6008cd47bfb5"
      },
      "execution_count": 31,
      "outputs": [
        {
          "output_type": "stream",
          "name": "stdout",
          "text": [
            "CPU times: user 21 s, sys: 143 ms, total: 21.1 s\n",
            "Wall time: 21.4 s\n"
          ]
        }
      ]
    },
    {
      "cell_type": "code",
      "source": [
        "len(metadata['object_id'].unique()) == len(lcvs['object_id'].unique())"
      ],
      "metadata": {
        "colab": {
          "base_uri": "https://localhost:8080/"
        },
        "id": "k_9140zcelBZ",
        "outputId": "166959ab-9b4d-430b-d84d-820aa46fe387"
      },
      "execution_count": 33,
      "outputs": [
        {
          "output_type": "execute_result",
          "data": {
            "text/plain": [
              "True"
            ]
          },
          "metadata": {},
          "execution_count": 33
        }
      ]
    },
    {
      "cell_type": "code",
      "source": [
        "lcvs_features.head()"
      ],
      "metadata": {
        "colab": {
          "base_uri": "https://localhost:8080/",
          "height": 268
        },
        "id": "nE-0KpLWhil5",
        "outputId": "7e542fd4-4923-43c7-f4bd-b3e6d1a0db15"
      },
      "execution_count": 34,
      "outputs": [
        {
          "output_type": "execute_result",
          "data": {
            "text/plain": [
              "                          flux                                 flux_norm\n",
              "                          mean         std      skew  kurtosis    median\n",
              "object_id passband                                                      \n",
              "615       0          -3.254554   83.944735  0.125827 -1.454426 -0.081184\n",
              "          1        -385.699911  601.787302  0.404755 -1.251198 -0.171576\n",
              "          2        -134.146566  455.121346  0.331063 -1.392937 -0.291545\n",
              "          3        -121.103501  335.425053  0.285492 -1.429545 -0.123503\n",
              "          4         -55.954592  291.803449  0.194883 -1.519722 -0.164502"
            ],
            "text/html": [
              "\n",
              "  <div id=\"df-9ff5c2cf-04d8-4b09-82c9-014b6cdb1683\">\n",
              "    <div class=\"colab-df-container\">\n",
              "      <div>\n",
              "<style scoped>\n",
              "    .dataframe tbody tr th:only-of-type {\n",
              "        vertical-align: middle;\n",
              "    }\n",
              "\n",
              "    .dataframe tbody tr th {\n",
              "        vertical-align: top;\n",
              "    }\n",
              "\n",
              "    .dataframe thead tr th {\n",
              "        text-align: left;\n",
              "    }\n",
              "\n",
              "    .dataframe thead tr:last-of-type th {\n",
              "        text-align: right;\n",
              "    }\n",
              "</style>\n",
              "<table border=\"1\" class=\"dataframe\">\n",
              "  <thead>\n",
              "    <tr>\n",
              "      <th></th>\n",
              "      <th></th>\n",
              "      <th colspan=\"4\" halign=\"left\">flux</th>\n",
              "      <th>flux_norm</th>\n",
              "    </tr>\n",
              "    <tr>\n",
              "      <th></th>\n",
              "      <th></th>\n",
              "      <th>mean</th>\n",
              "      <th>std</th>\n",
              "      <th>skew</th>\n",
              "      <th>kurtosis</th>\n",
              "      <th>median</th>\n",
              "    </tr>\n",
              "    <tr>\n",
              "      <th>object_id</th>\n",
              "      <th>passband</th>\n",
              "      <th></th>\n",
              "      <th></th>\n",
              "      <th></th>\n",
              "      <th></th>\n",
              "      <th></th>\n",
              "    </tr>\n",
              "  </thead>\n",
              "  <tbody>\n",
              "    <tr>\n",
              "      <th rowspan=\"5\" valign=\"top\">615</th>\n",
              "      <th>0</th>\n",
              "      <td>-3.254554</td>\n",
              "      <td>83.944735</td>\n",
              "      <td>0.125827</td>\n",
              "      <td>-1.454426</td>\n",
              "      <td>-0.081184</td>\n",
              "    </tr>\n",
              "    <tr>\n",
              "      <th>1</th>\n",
              "      <td>-385.699911</td>\n",
              "      <td>601.787302</td>\n",
              "      <td>0.404755</td>\n",
              "      <td>-1.251198</td>\n",
              "      <td>-0.171576</td>\n",
              "    </tr>\n",
              "    <tr>\n",
              "      <th>2</th>\n",
              "      <td>-134.146566</td>\n",
              "      <td>455.121346</td>\n",
              "      <td>0.331063</td>\n",
              "      <td>-1.392937</td>\n",
              "      <td>-0.291545</td>\n",
              "    </tr>\n",
              "    <tr>\n",
              "      <th>3</th>\n",
              "      <td>-121.103501</td>\n",
              "      <td>335.425053</td>\n",
              "      <td>0.285492</td>\n",
              "      <td>-1.429545</td>\n",
              "      <td>-0.123503</td>\n",
              "    </tr>\n",
              "    <tr>\n",
              "      <th>4</th>\n",
              "      <td>-55.954592</td>\n",
              "      <td>291.803449</td>\n",
              "      <td>0.194883</td>\n",
              "      <td>-1.519722</td>\n",
              "      <td>-0.164502</td>\n",
              "    </tr>\n",
              "  </tbody>\n",
              "</table>\n",
              "</div>\n",
              "      <button class=\"colab-df-convert\" onclick=\"convertToInteractive('df-9ff5c2cf-04d8-4b09-82c9-014b6cdb1683')\"\n",
              "              title=\"Convert this dataframe to an interactive table.\"\n",
              "              style=\"display:none;\">\n",
              "        \n",
              "  <svg xmlns=\"http://www.w3.org/2000/svg\" height=\"24px\"viewBox=\"0 0 24 24\"\n",
              "       width=\"24px\">\n",
              "    <path d=\"M0 0h24v24H0V0z\" fill=\"none\"/>\n",
              "    <path d=\"M18.56 5.44l.94 2.06.94-2.06 2.06-.94-2.06-.94-.94-2.06-.94 2.06-2.06.94zm-11 1L8.5 8.5l.94-2.06 2.06-.94-2.06-.94L8.5 2.5l-.94 2.06-2.06.94zm10 10l.94 2.06.94-2.06 2.06-.94-2.06-.94-.94-2.06-.94 2.06-2.06.94z\"/><path d=\"M17.41 7.96l-1.37-1.37c-.4-.4-.92-.59-1.43-.59-.52 0-1.04.2-1.43.59L10.3 9.45l-7.72 7.72c-.78.78-.78 2.05 0 2.83L4 21.41c.39.39.9.59 1.41.59.51 0 1.02-.2 1.41-.59l7.78-7.78 2.81-2.81c.8-.78.8-2.07 0-2.86zM5.41 20L4 18.59l7.72-7.72 1.47 1.35L5.41 20z\"/>\n",
              "  </svg>\n",
              "      </button>\n",
              "      \n",
              "  <style>\n",
              "    .colab-df-container {\n",
              "      display:flex;\n",
              "      flex-wrap:wrap;\n",
              "      gap: 12px;\n",
              "    }\n",
              "\n",
              "    .colab-df-convert {\n",
              "      background-color: #E8F0FE;\n",
              "      border: none;\n",
              "      border-radius: 50%;\n",
              "      cursor: pointer;\n",
              "      display: none;\n",
              "      fill: #1967D2;\n",
              "      height: 32px;\n",
              "      padding: 0 0 0 0;\n",
              "      width: 32px;\n",
              "    }\n",
              "\n",
              "    .colab-df-convert:hover {\n",
              "      background-color: #E2EBFA;\n",
              "      box-shadow: 0px 1px 2px rgba(60, 64, 67, 0.3), 0px 1px 3px 1px rgba(60, 64, 67, 0.15);\n",
              "      fill: #174EA6;\n",
              "    }\n",
              "\n",
              "    [theme=dark] .colab-df-convert {\n",
              "      background-color: #3B4455;\n",
              "      fill: #D2E3FC;\n",
              "    }\n",
              "\n",
              "    [theme=dark] .colab-df-convert:hover {\n",
              "      background-color: #434B5C;\n",
              "      box-shadow: 0px 1px 3px 1px rgba(0, 0, 0, 0.15);\n",
              "      filter: drop-shadow(0px 1px 2px rgba(0, 0, 0, 0.3));\n",
              "      fill: #FFFFFF;\n",
              "    }\n",
              "  </style>\n",
              "\n",
              "      <script>\n",
              "        const buttonEl =\n",
              "          document.querySelector('#df-9ff5c2cf-04d8-4b09-82c9-014b6cdb1683 button.colab-df-convert');\n",
              "        buttonEl.style.display =\n",
              "          google.colab.kernel.accessAllowed ? 'block' : 'none';\n",
              "\n",
              "        async function convertToInteractive(key) {\n",
              "          const element = document.querySelector('#df-9ff5c2cf-04d8-4b09-82c9-014b6cdb1683');\n",
              "          const dataTable =\n",
              "            await google.colab.kernel.invokeFunction('convertToInteractive',\n",
              "                                                     [key], {});\n",
              "          if (!dataTable) return;\n",
              "\n",
              "          const docLinkHtml = 'Like what you see? Visit the ' +\n",
              "            '<a target=\"_blank\" href=https://colab.research.google.com/notebooks/data_table.ipynb>data table notebook</a>'\n",
              "            + ' to learn more about interactive tables.';\n",
              "          element.innerHTML = '';\n",
              "          dataTable['output_type'] = 'display_data';\n",
              "          await google.colab.output.renderOutput(dataTable, element);\n",
              "          const docLink = document.createElement('div');\n",
              "          docLink.innerHTML = docLinkHtml;\n",
              "          element.appendChild(docLink);\n",
              "        }\n",
              "      </script>\n",
              "    </div>\n",
              "  </div>\n",
              "  "
            ]
          },
          "metadata": {},
          "execution_count": 34
        }
      ]
    },
    {
      "cell_type": "markdown",
      "metadata": {
        "id": "ASPTCZn3lVYl"
      },
      "source": [
        "Even with the same standard deviation two distribution can be very different. \n",
        "Look at the this article for a great demonstation of that! https://heap.io/blog/data-stories/anscombes-quartet-and-why-summary-statistics-dont-tell-the-whole-story\n",
        "\n",
        "I extracted  the max and min, but also their uncertainties because outlier points may be measurement issues, in which case the uncertainty may be large : see the plot you made for 84716!\n",
        "\n",
        "If a distribution has spikes the standard deviation will be larger even if the other datapoints are exactly the same. Save the mean and the max of both original distribution and the standardized one (standardized = mean subtracted and divided by the standard deviation). \n"
      ]
    },
    {
      "cell_type": "markdown",
      "metadata": {
        "id": "CdlGzTnHlVYm"
      },
      "source": [
        "Standardize the lcvs and extract some features from the raw lightcurve - \n"
      ]
    },
    {
      "cell_type": "markdown",
      "metadata": {
        "id": "dIHttYe69Pkl"
      },
      "source": [
        "You can do it use  the preprocessing.scale function and groupby, which group by object and band. It does its job, but it is slow"
      ]
    },
    {
      "cell_type": "markdown",
      "metadata": {
        "ExecuteTime": {
          "end_time": "2020-04-05T14:54:48.400855Z",
          "start_time": "2020-04-05T14:54:48.399021Z"
        },
        "id": "V36QL4dQlVYn"
      },
      "source": [
        "Note: the median of the standardizeed distribution would convey the location of the \"center of mass\" of the data with respect to the mean\n"
      ]
    },
    {
      "cell_type": "markdown",
      "metadata": {
        "id": "7RMB7NBZlVYo"
      },
      "source": [
        "parametric features: extract some features that come from simple models of the lightcurve, e.g. line fits\n",
        "\n"
      ]
    },
    {
      "cell_type": "markdown",
      "metadata": {
        "id": "vO_Ja9j_Xpox"
      },
      "source": [
        "the goodness of fit for these models is also a potential feature"
      ]
    },
    {
      "cell_type": "markdown",
      "source": [
        "Data Organization: you can put all your features in a dataframe using merge at each step merging each new feature with the olde ones\n"
      ],
      "metadata": {
        "id": "H38lgih9lVYo"
      }
    },
    {
      "cell_type": "markdown",
      "metadata": {
        "id": "SaOg1-MZQo11"
      },
      "source": [
        "NOTE: when you merge the metadata features you are going to have to do some gymnastic with the indices: this is because the data has 2 indices columns: the object id and the bandpass id, while the metadata has only 1 index: the object id. \n",
        "\n",
        "You can use the function unstuck - here is an example line of code of what worked for me **but** it kind of depends on how you organized your dataframe so this is not guaranteed to work!"
      ]
    },
    {
      "cell_type": "code",
      "source": [
        "lcvs_features.columns = lcvs_features.columns.get_level_values(1)\n",
        "lcvs_features.columns"
      ],
      "metadata": {
        "colab": {
          "base_uri": "https://localhost:8080/"
        },
        "id": "XA_ABiaViDFg",
        "outputId": "6d7d52ef-0e51-4f72-c2c5-87017db7f992"
      },
      "execution_count": 35,
      "outputs": [
        {
          "output_type": "execute_result",
          "data": {
            "text/plain": [
              "Index(['mean', 'std', 'skew', 'kurtosis', 'median'], dtype='object')"
            ]
          },
          "metadata": {},
          "execution_count": 35
        }
      ]
    },
    {
      "cell_type": "code",
      "source": [
        "allfeatures = lcvs_features.reset_index().set_index(['object_id','passband']).stack(\n",
        "    ).unstack([1,2])\n",
        "allfeatures.shape"
      ],
      "metadata": {
        "colab": {
          "base_uri": "https://localhost:8080/"
        },
        "id": "MxlZ_WVUiALa",
        "outputId": "a7345361-2cd1-4e2f-df46-1182d1e47f21"
      },
      "execution_count": 36,
      "outputs": [
        {
          "output_type": "execute_result",
          "data": {
            "text/plain": [
              "(7848, 30)"
            ]
          },
          "metadata": {},
          "execution_count": 36
        }
      ]
    },
    {
      "cell_type": "code",
      "source": [
        "allfeatures"
      ],
      "metadata": {
        "colab": {
          "base_uri": "https://localhost:8080/",
          "height": 550
        },
        "id": "5yLCDj9yiWus",
        "outputId": "e3000db4-6a0c-4955-ddef-050191c6d4d6"
      },
      "execution_count": 37,
      "outputs": [
        {
          "output_type": "execute_result",
          "data": {
            "text/plain": [
              "passband            0                                                      1  \\\n",
              "                 mean          std      skew  kurtosis    median        mean   \n",
              "object_id                                                                      \n",
              "615         -3.254554    83.944735  0.125827 -1.454426 -0.081184 -385.699911   \n",
              "713         -2.720398     7.113509  0.254446 -1.027516 -0.053296   -1.019804   \n",
              "730         -0.048080     1.828872  0.349431  0.359725  0.039740    0.141057   \n",
              "745          1.797523     4.374445  1.980815  4.232286 -0.170538    5.717394   \n",
              "1124         0.660948     2.360084 -0.324207  0.664903 -0.034136    4.634637   \n",
              "...               ...          ...       ...       ...       ...         ...   \n",
              "130739978    1.286655    15.998517  1.623297  3.827157 -0.046388   11.604012   \n",
              "130755807   24.635243    79.713932  2.779088  6.214792 -0.276623    6.965825   \n",
              "130762946   -0.282914    46.605187 -1.877398  3.701710  0.171062  -20.094296   \n",
              "130772921    3.374208    14.420201  1.253611  0.602310 -0.363898   28.342250   \n",
              "130779836  812.700937  2120.766511  3.013054  7.418233 -0.354338  725.169852   \n",
              "\n",
              "passband                                               ...            4  \\\n",
              "                   std      skew   kurtosis    median  ...         mean   \n",
              "object_id                                              ...                \n",
              "615         601.787302  0.404755  -1.251198 -0.171576  ...   -55.954592   \n",
              "713           5.712334 -0.085494  -1.106890  0.080915  ...    -0.900262   \n",
              "730           1.807229  0.457635   0.771778  0.016918  ...     4.308728   \n",
              "745          25.964659  6.817994  46.333887 -0.187678  ...    13.134436   \n",
              "1124          8.107525  2.315295   5.496244 -0.432985  ...     9.906102   \n",
              "...                ...       ...        ...       ...  ...          ...   \n",
              "130739978    42.103636  3.274078   8.851832 -0.293677  ...    -1.326906   \n",
              "130755807    16.268582  2.549417   5.025328 -0.368264  ...    40.758273   \n",
              "130762946    23.572412 -1.595460   2.763135  0.084014  ...   -15.201844   \n",
              "130772921    97.513710  2.842442   6.087819 -0.317331  ...    -1.135067   \n",
              "130779836  1197.557111  1.565742   0.772541 -0.536827  ...  3489.185336   \n",
              "\n",
              "passband                                                          5  \\\n",
              "                    std      skew   kurtosis    median         mean   \n",
              "object_id                                                             \n",
              "615          291.803449  0.194883  -1.519722 -0.164502   -47.449847   \n",
              "713            6.406989 -0.062403  -1.191860  0.017023    -1.794175   \n",
              "730           10.710344  2.462542   5.385640 -0.311592     4.539396   \n",
              "745           33.069053  3.382600  12.445025 -0.362020    10.746138   \n",
              "1124          26.865913  3.802308  14.897216 -0.306424     6.896742   \n",
              "...                 ...       ...        ...       ...          ...   \n",
              "130739978     16.735430  0.411283   0.537647 -0.029879    20.073462   \n",
              "130755807    108.319727  2.341093   3.831769 -0.337950     3.528390   \n",
              "130762946     22.364118  0.579885  -0.298582 -0.108920    -9.838345   \n",
              "130772921     10.112169 -0.334336  -0.642642  0.085127     7.671389   \n",
              "130779836  11006.766106  4.221177  17.012896 -0.315443  4151.358875   \n",
              "\n",
              "passband                                               \n",
              "                   std      skew   kurtosis    median  \n",
              "object_id                                              \n",
              "615         294.779522  0.121948  -1.559937 -0.130311  \n",
              "713           7.094073  0.212294  -0.832902 -0.095134  \n",
              "730          13.332758  1.630520   3.125970 -0.151253  \n",
              "745          26.060130  3.083716  10.952063 -0.309679  \n",
              "1124         21.434627  3.560347  13.095559 -0.231739  \n",
              "...                ...       ...        ...       ...  \n",
              "130739978    97.602719  3.825390  17.651123 -0.092976  \n",
              "130755807    38.849765  1.082769   2.246605 -0.110052  \n",
              "130762946    48.309960  1.458295   4.501540 -0.026980  \n",
              "130772921    44.169662  2.515357   9.593440 -0.108513  \n",
              "130779836  8687.101173  2.274800   3.629547 -0.427486  \n",
              "\n",
              "[7848 rows x 30 columns]"
            ],
            "text/html": [
              "\n",
              "  <div id=\"df-08517bb4-0566-4ba3-849e-ff1b8854eaff\">\n",
              "    <div class=\"colab-df-container\">\n",
              "      <div>\n",
              "<style scoped>\n",
              "    .dataframe tbody tr th:only-of-type {\n",
              "        vertical-align: middle;\n",
              "    }\n",
              "\n",
              "    .dataframe tbody tr th {\n",
              "        vertical-align: top;\n",
              "    }\n",
              "\n",
              "    .dataframe thead tr th {\n",
              "        text-align: left;\n",
              "    }\n",
              "\n",
              "    .dataframe thead tr:last-of-type th {\n",
              "        text-align: right;\n",
              "    }\n",
              "</style>\n",
              "<table border=\"1\" class=\"dataframe\">\n",
              "  <thead>\n",
              "    <tr>\n",
              "      <th>passband</th>\n",
              "      <th colspan=\"5\" halign=\"left\">0</th>\n",
              "      <th colspan=\"5\" halign=\"left\">1</th>\n",
              "      <th>...</th>\n",
              "      <th colspan=\"5\" halign=\"left\">4</th>\n",
              "      <th colspan=\"5\" halign=\"left\">5</th>\n",
              "    </tr>\n",
              "    <tr>\n",
              "      <th></th>\n",
              "      <th>mean</th>\n",
              "      <th>std</th>\n",
              "      <th>skew</th>\n",
              "      <th>kurtosis</th>\n",
              "      <th>median</th>\n",
              "      <th>mean</th>\n",
              "      <th>std</th>\n",
              "      <th>skew</th>\n",
              "      <th>kurtosis</th>\n",
              "      <th>median</th>\n",
              "      <th>...</th>\n",
              "      <th>mean</th>\n",
              "      <th>std</th>\n",
              "      <th>skew</th>\n",
              "      <th>kurtosis</th>\n",
              "      <th>median</th>\n",
              "      <th>mean</th>\n",
              "      <th>std</th>\n",
              "      <th>skew</th>\n",
              "      <th>kurtosis</th>\n",
              "      <th>median</th>\n",
              "    </tr>\n",
              "    <tr>\n",
              "      <th>object_id</th>\n",
              "      <th></th>\n",
              "      <th></th>\n",
              "      <th></th>\n",
              "      <th></th>\n",
              "      <th></th>\n",
              "      <th></th>\n",
              "      <th></th>\n",
              "      <th></th>\n",
              "      <th></th>\n",
              "      <th></th>\n",
              "      <th></th>\n",
              "      <th></th>\n",
              "      <th></th>\n",
              "      <th></th>\n",
              "      <th></th>\n",
              "      <th></th>\n",
              "      <th></th>\n",
              "      <th></th>\n",
              "      <th></th>\n",
              "      <th></th>\n",
              "      <th></th>\n",
              "    </tr>\n",
              "  </thead>\n",
              "  <tbody>\n",
              "    <tr>\n",
              "      <th>615</th>\n",
              "      <td>-3.254554</td>\n",
              "      <td>83.944735</td>\n",
              "      <td>0.125827</td>\n",
              "      <td>-1.454426</td>\n",
              "      <td>-0.081184</td>\n",
              "      <td>-385.699911</td>\n",
              "      <td>601.787302</td>\n",
              "      <td>0.404755</td>\n",
              "      <td>-1.251198</td>\n",
              "      <td>-0.171576</td>\n",
              "      <td>...</td>\n",
              "      <td>-55.954592</td>\n",
              "      <td>291.803449</td>\n",
              "      <td>0.194883</td>\n",
              "      <td>-1.519722</td>\n",
              "      <td>-0.164502</td>\n",
              "      <td>-47.449847</td>\n",
              "      <td>294.779522</td>\n",
              "      <td>0.121948</td>\n",
              "      <td>-1.559937</td>\n",
              "      <td>-0.130311</td>\n",
              "    </tr>\n",
              "    <tr>\n",
              "      <th>713</th>\n",
              "      <td>-2.720398</td>\n",
              "      <td>7.113509</td>\n",
              "      <td>0.254446</td>\n",
              "      <td>-1.027516</td>\n",
              "      <td>-0.053296</td>\n",
              "      <td>-1.019804</td>\n",
              "      <td>5.712334</td>\n",
              "      <td>-0.085494</td>\n",
              "      <td>-1.106890</td>\n",
              "      <td>0.080915</td>\n",
              "      <td>...</td>\n",
              "      <td>-0.900262</td>\n",
              "      <td>6.406989</td>\n",
              "      <td>-0.062403</td>\n",
              "      <td>-1.191860</td>\n",
              "      <td>0.017023</td>\n",
              "      <td>-1.794175</td>\n",
              "      <td>7.094073</td>\n",
              "      <td>0.212294</td>\n",
              "      <td>-0.832902</td>\n",
              "      <td>-0.095134</td>\n",
              "    </tr>\n",
              "    <tr>\n",
              "      <th>730</th>\n",
              "      <td>-0.048080</td>\n",
              "      <td>1.828872</td>\n",
              "      <td>0.349431</td>\n",
              "      <td>0.359725</td>\n",
              "      <td>0.039740</td>\n",
              "      <td>0.141057</td>\n",
              "      <td>1.807229</td>\n",
              "      <td>0.457635</td>\n",
              "      <td>0.771778</td>\n",
              "      <td>0.016918</td>\n",
              "      <td>...</td>\n",
              "      <td>4.308728</td>\n",
              "      <td>10.710344</td>\n",
              "      <td>2.462542</td>\n",
              "      <td>5.385640</td>\n",
              "      <td>-0.311592</td>\n",
              "      <td>4.539396</td>\n",
              "      <td>13.332758</td>\n",
              "      <td>1.630520</td>\n",
              "      <td>3.125970</td>\n",
              "      <td>-0.151253</td>\n",
              "    </tr>\n",
              "    <tr>\n",
              "      <th>745</th>\n",
              "      <td>1.797523</td>\n",
              "      <td>4.374445</td>\n",
              "      <td>1.980815</td>\n",
              "      <td>4.232286</td>\n",
              "      <td>-0.170538</td>\n",
              "      <td>5.717394</td>\n",
              "      <td>25.964659</td>\n",
              "      <td>6.817994</td>\n",
              "      <td>46.333887</td>\n",
              "      <td>-0.187678</td>\n",
              "      <td>...</td>\n",
              "      <td>13.134436</td>\n",
              "      <td>33.069053</td>\n",
              "      <td>3.382600</td>\n",
              "      <td>12.445025</td>\n",
              "      <td>-0.362020</td>\n",
              "      <td>10.746138</td>\n",
              "      <td>26.060130</td>\n",
              "      <td>3.083716</td>\n",
              "      <td>10.952063</td>\n",
              "      <td>-0.309679</td>\n",
              "    </tr>\n",
              "    <tr>\n",
              "      <th>1124</th>\n",
              "      <td>0.660948</td>\n",
              "      <td>2.360084</td>\n",
              "      <td>-0.324207</td>\n",
              "      <td>0.664903</td>\n",
              "      <td>-0.034136</td>\n",
              "      <td>4.634637</td>\n",
              "      <td>8.107525</td>\n",
              "      <td>2.315295</td>\n",
              "      <td>5.496244</td>\n",
              "      <td>-0.432985</td>\n",
              "      <td>...</td>\n",
              "      <td>9.906102</td>\n",
              "      <td>26.865913</td>\n",
              "      <td>3.802308</td>\n",
              "      <td>14.897216</td>\n",
              "      <td>-0.306424</td>\n",
              "      <td>6.896742</td>\n",
              "      <td>21.434627</td>\n",
              "      <td>3.560347</td>\n",
              "      <td>13.095559</td>\n",
              "      <td>-0.231739</td>\n",
              "    </tr>\n",
              "    <tr>\n",
              "      <th>...</th>\n",
              "      <td>...</td>\n",
              "      <td>...</td>\n",
              "      <td>...</td>\n",
              "      <td>...</td>\n",
              "      <td>...</td>\n",
              "      <td>...</td>\n",
              "      <td>...</td>\n",
              "      <td>...</td>\n",
              "      <td>...</td>\n",
              "      <td>...</td>\n",
              "      <td>...</td>\n",
              "      <td>...</td>\n",
              "      <td>...</td>\n",
              "      <td>...</td>\n",
              "      <td>...</td>\n",
              "      <td>...</td>\n",
              "      <td>...</td>\n",
              "      <td>...</td>\n",
              "      <td>...</td>\n",
              "      <td>...</td>\n",
              "      <td>...</td>\n",
              "    </tr>\n",
              "    <tr>\n",
              "      <th>130739978</th>\n",
              "      <td>1.286655</td>\n",
              "      <td>15.998517</td>\n",
              "      <td>1.623297</td>\n",
              "      <td>3.827157</td>\n",
              "      <td>-0.046388</td>\n",
              "      <td>11.604012</td>\n",
              "      <td>42.103636</td>\n",
              "      <td>3.274078</td>\n",
              "      <td>8.851832</td>\n",
              "      <td>-0.293677</td>\n",
              "      <td>...</td>\n",
              "      <td>-1.326906</td>\n",
              "      <td>16.735430</td>\n",
              "      <td>0.411283</td>\n",
              "      <td>0.537647</td>\n",
              "      <td>-0.029879</td>\n",
              "      <td>20.073462</td>\n",
              "      <td>97.602719</td>\n",
              "      <td>3.825390</td>\n",
              "      <td>17.651123</td>\n",
              "      <td>-0.092976</td>\n",
              "    </tr>\n",
              "    <tr>\n",
              "      <th>130755807</th>\n",
              "      <td>24.635243</td>\n",
              "      <td>79.713932</td>\n",
              "      <td>2.779088</td>\n",
              "      <td>6.214792</td>\n",
              "      <td>-0.276623</td>\n",
              "      <td>6.965825</td>\n",
              "      <td>16.268582</td>\n",
              "      <td>2.549417</td>\n",
              "      <td>5.025328</td>\n",
              "      <td>-0.368264</td>\n",
              "      <td>...</td>\n",
              "      <td>40.758273</td>\n",
              "      <td>108.319727</td>\n",
              "      <td>2.341093</td>\n",
              "      <td>3.831769</td>\n",
              "      <td>-0.337950</td>\n",
              "      <td>3.528390</td>\n",
              "      <td>38.849765</td>\n",
              "      <td>1.082769</td>\n",
              "      <td>2.246605</td>\n",
              "      <td>-0.110052</td>\n",
              "    </tr>\n",
              "    <tr>\n",
              "      <th>130762946</th>\n",
              "      <td>-0.282914</td>\n",
              "      <td>46.605187</td>\n",
              "      <td>-1.877398</td>\n",
              "      <td>3.701710</td>\n",
              "      <td>0.171062</td>\n",
              "      <td>-20.094296</td>\n",
              "      <td>23.572412</td>\n",
              "      <td>-1.595460</td>\n",
              "      <td>2.763135</td>\n",
              "      <td>0.084014</td>\n",
              "      <td>...</td>\n",
              "      <td>-15.201844</td>\n",
              "      <td>22.364118</td>\n",
              "      <td>0.579885</td>\n",
              "      <td>-0.298582</td>\n",
              "      <td>-0.108920</td>\n",
              "      <td>-9.838345</td>\n",
              "      <td>48.309960</td>\n",
              "      <td>1.458295</td>\n",
              "      <td>4.501540</td>\n",
              "      <td>-0.026980</td>\n",
              "    </tr>\n",
              "    <tr>\n",
              "      <th>130772921</th>\n",
              "      <td>3.374208</td>\n",
              "      <td>14.420201</td>\n",
              "      <td>1.253611</td>\n",
              "      <td>0.602310</td>\n",
              "      <td>-0.363898</td>\n",
              "      <td>28.342250</td>\n",
              "      <td>97.513710</td>\n",
              "      <td>2.842442</td>\n",
              "      <td>6.087819</td>\n",
              "      <td>-0.317331</td>\n",
              "      <td>...</td>\n",
              "      <td>-1.135067</td>\n",
              "      <td>10.112169</td>\n",
              "      <td>-0.334336</td>\n",
              "      <td>-0.642642</td>\n",
              "      <td>0.085127</td>\n",
              "      <td>7.671389</td>\n",
              "      <td>44.169662</td>\n",
              "      <td>2.515357</td>\n",
              "      <td>9.593440</td>\n",
              "      <td>-0.108513</td>\n",
              "    </tr>\n",
              "    <tr>\n",
              "      <th>130779836</th>\n",
              "      <td>812.700937</td>\n",
              "      <td>2120.766511</td>\n",
              "      <td>3.013054</td>\n",
              "      <td>7.418233</td>\n",
              "      <td>-0.354338</td>\n",
              "      <td>725.169852</td>\n",
              "      <td>1197.557111</td>\n",
              "      <td>1.565742</td>\n",
              "      <td>0.772541</td>\n",
              "      <td>-0.536827</td>\n",
              "      <td>...</td>\n",
              "      <td>3489.185336</td>\n",
              "      <td>11006.766106</td>\n",
              "      <td>4.221177</td>\n",
              "      <td>17.012896</td>\n",
              "      <td>-0.315443</td>\n",
              "      <td>4151.358875</td>\n",
              "      <td>8687.101173</td>\n",
              "      <td>2.274800</td>\n",
              "      <td>3.629547</td>\n",
              "      <td>-0.427486</td>\n",
              "    </tr>\n",
              "  </tbody>\n",
              "</table>\n",
              "<p>7848 rows × 30 columns</p>\n",
              "</div>\n",
              "      <button class=\"colab-df-convert\" onclick=\"convertToInteractive('df-08517bb4-0566-4ba3-849e-ff1b8854eaff')\"\n",
              "              title=\"Convert this dataframe to an interactive table.\"\n",
              "              style=\"display:none;\">\n",
              "        \n",
              "  <svg xmlns=\"http://www.w3.org/2000/svg\" height=\"24px\"viewBox=\"0 0 24 24\"\n",
              "       width=\"24px\">\n",
              "    <path d=\"M0 0h24v24H0V0z\" fill=\"none\"/>\n",
              "    <path d=\"M18.56 5.44l.94 2.06.94-2.06 2.06-.94-2.06-.94-.94-2.06-.94 2.06-2.06.94zm-11 1L8.5 8.5l.94-2.06 2.06-.94-2.06-.94L8.5 2.5l-.94 2.06-2.06.94zm10 10l.94 2.06.94-2.06 2.06-.94-2.06-.94-.94-2.06-.94 2.06-2.06.94z\"/><path d=\"M17.41 7.96l-1.37-1.37c-.4-.4-.92-.59-1.43-.59-.52 0-1.04.2-1.43.59L10.3 9.45l-7.72 7.72c-.78.78-.78 2.05 0 2.83L4 21.41c.39.39.9.59 1.41.59.51 0 1.02-.2 1.41-.59l7.78-7.78 2.81-2.81c.8-.78.8-2.07 0-2.86zM5.41 20L4 18.59l7.72-7.72 1.47 1.35L5.41 20z\"/>\n",
              "  </svg>\n",
              "      </button>\n",
              "      \n",
              "  <style>\n",
              "    .colab-df-container {\n",
              "      display:flex;\n",
              "      flex-wrap:wrap;\n",
              "      gap: 12px;\n",
              "    }\n",
              "\n",
              "    .colab-df-convert {\n",
              "      background-color: #E8F0FE;\n",
              "      border: none;\n",
              "      border-radius: 50%;\n",
              "      cursor: pointer;\n",
              "      display: none;\n",
              "      fill: #1967D2;\n",
              "      height: 32px;\n",
              "      padding: 0 0 0 0;\n",
              "      width: 32px;\n",
              "    }\n",
              "\n",
              "    .colab-df-convert:hover {\n",
              "      background-color: #E2EBFA;\n",
              "      box-shadow: 0px 1px 2px rgba(60, 64, 67, 0.3), 0px 1px 3px 1px rgba(60, 64, 67, 0.15);\n",
              "      fill: #174EA6;\n",
              "    }\n",
              "\n",
              "    [theme=dark] .colab-df-convert {\n",
              "      background-color: #3B4455;\n",
              "      fill: #D2E3FC;\n",
              "    }\n",
              "\n",
              "    [theme=dark] .colab-df-convert:hover {\n",
              "      background-color: #434B5C;\n",
              "      box-shadow: 0px 1px 3px 1px rgba(0, 0, 0, 0.15);\n",
              "      filter: drop-shadow(0px 1px 2px rgba(0, 0, 0, 0.3));\n",
              "      fill: #FFFFFF;\n",
              "    }\n",
              "  </style>\n",
              "\n",
              "      <script>\n",
              "        const buttonEl =\n",
              "          document.querySelector('#df-08517bb4-0566-4ba3-849e-ff1b8854eaff button.colab-df-convert');\n",
              "        buttonEl.style.display =\n",
              "          google.colab.kernel.accessAllowed ? 'block' : 'none';\n",
              "\n",
              "        async function convertToInteractive(key) {\n",
              "          const element = document.querySelector('#df-08517bb4-0566-4ba3-849e-ff1b8854eaff');\n",
              "          const dataTable =\n",
              "            await google.colab.kernel.invokeFunction('convertToInteractive',\n",
              "                                                     [key], {});\n",
              "          if (!dataTable) return;\n",
              "\n",
              "          const docLinkHtml = 'Like what you see? Visit the ' +\n",
              "            '<a target=\"_blank\" href=https://colab.research.google.com/notebooks/data_table.ipynb>data table notebook</a>'\n",
              "            + ' to learn more about interactive tables.';\n",
              "          element.innerHTML = '';\n",
              "          dataTable['output_type'] = 'display_data';\n",
              "          await google.colab.output.renderOutput(dataTable, element);\n",
              "          const docLink = document.createElement('div');\n",
              "          docLink.innerHTML = docLinkHtml;\n",
              "          element.appendChild(docLink);\n",
              "        }\n",
              "      </script>\n",
              "    </div>\n",
              "  </div>\n",
              "  "
            ]
          },
          "metadata": {},
          "execution_count": 37
        }
      ]
    },
    {
      "cell_type": "code",
      "source": [
        "decl_feature_dict = dict(\n",
        "    zip(\n",
        "        metadata['object_id'],\n",
        "        metadata['decl']\n",
        "    )\n",
        ") "
      ],
      "metadata": {
        "id": "Xy_zTjj4fhx8"
      },
      "execution_count": 38,
      "outputs": []
    },
    {
      "cell_type": "code",
      "source": [
        "allfeatures['decl'] = allfeatures.progress_apply(\n",
        "    lambda x: decl_feature_dict[x.name] if x.name in decl_feature_dict else np.NaN,\n",
        "    axis=1\n",
        ")"
      ],
      "metadata": {
        "colab": {
          "base_uri": "https://localhost:8080/"
        },
        "id": "daIhp8_-gRit",
        "outputId": "1c406cc8-e11a-44d6-8221-7d5f0737ced7"
      },
      "execution_count": 39,
      "outputs": [
        {
          "output_type": "stream",
          "name": "stderr",
          "text": [
            "100%|██████████| 7848/7848 [00:00<00:00, 123216.42it/s]\n"
          ]
        }
      ]
    },
    {
      "cell_type": "code",
      "metadata": {
        "colab": {
          "base_uri": "https://localhost:8080/",
          "height": 362
        },
        "id": "uUo0O0_5WTIF",
        "outputId": "121100ef-7764-4c99-d6c0-3a98dee33e58"
      },
      "source": [
        "allfeatures.head()"
      ],
      "execution_count": 41,
      "outputs": [
        {
          "output_type": "execute_result",
          "data": {
            "text/plain": [
              "passband          0                                                    1  \\\n",
              "               mean        std      skew  kurtosis    median        mean   \n",
              "object_id                                                                  \n",
              "615       -3.254554  83.944735  0.125827 -1.454426 -0.081184 -385.699911   \n",
              "713       -2.720398   7.113509  0.254446 -1.027516 -0.053296   -1.019804   \n",
              "730       -0.048080   1.828872  0.349431  0.359725  0.039740    0.141057   \n",
              "745        1.797523   4.374445  1.980815  4.232286 -0.170538    5.717394   \n",
              "1124       0.660948   2.360084 -0.324207  0.664903 -0.034136    4.634637   \n",
              "\n",
              "passband                                              ...           4  \\\n",
              "                  std      skew   kurtosis    median  ...         std   \n",
              "object_id                                             ...               \n",
              "615        601.787302  0.404755  -1.251198 -0.171576  ...  291.803449   \n",
              "713          5.712334 -0.085494  -1.106890  0.080915  ...    6.406989   \n",
              "730          1.807229  0.457635   0.771778  0.016918  ...   10.710344   \n",
              "745         25.964659  6.817994  46.333887 -0.187678  ...   33.069053   \n",
              "1124         8.107525  2.315295   5.496244 -0.432985  ...   26.865913   \n",
              "\n",
              "passband                                          5                        \\\n",
              "               skew   kurtosis    median       mean         std      skew   \n",
              "object_id                                                                   \n",
              "615        0.194883  -1.519722 -0.164502 -47.449847  294.779522  0.121948   \n",
              "713       -0.062403  -1.191860  0.017023  -1.794175    7.094073  0.212294   \n",
              "730        2.462542   5.385640 -0.311592   4.539396   13.332758  1.630520   \n",
              "745        3.382600  12.445025 -0.362020  10.746138   26.060130  3.083716   \n",
              "1124       3.802308  14.897216 -0.306424   6.896742   21.434627  3.560347   \n",
              "\n",
              "passband                           decl  \n",
              "            kurtosis    median           \n",
              "object_id                                \n",
              "615        -1.559937 -0.130311 -61.9438  \n",
              "713        -0.832902 -0.095134 -27.7844  \n",
              "730         3.125970 -0.151253  -6.5796  \n",
              "745        10.952063 -0.309679 -45.5867  \n",
              "1124       13.095559 -0.231739 -63.8237  \n",
              "\n",
              "[5 rows x 31 columns]"
            ],
            "text/html": [
              "\n",
              "  <div id=\"df-e10fdd7d-786b-4699-9b82-2a5c6aa06697\">\n",
              "    <div class=\"colab-df-container\">\n",
              "      <div>\n",
              "<style scoped>\n",
              "    .dataframe tbody tr th:only-of-type {\n",
              "        vertical-align: middle;\n",
              "    }\n",
              "\n",
              "    .dataframe tbody tr th {\n",
              "        vertical-align: top;\n",
              "    }\n",
              "\n",
              "    .dataframe thead tr th {\n",
              "        text-align: left;\n",
              "    }\n",
              "\n",
              "    .dataframe thead tr:last-of-type th {\n",
              "        text-align: right;\n",
              "    }\n",
              "</style>\n",
              "<table border=\"1\" class=\"dataframe\">\n",
              "  <thead>\n",
              "    <tr>\n",
              "      <th>passband</th>\n",
              "      <th colspan=\"5\" halign=\"left\">0</th>\n",
              "      <th colspan=\"5\" halign=\"left\">1</th>\n",
              "      <th>...</th>\n",
              "      <th colspan=\"4\" halign=\"left\">4</th>\n",
              "      <th colspan=\"5\" halign=\"left\">5</th>\n",
              "      <th>decl</th>\n",
              "    </tr>\n",
              "    <tr>\n",
              "      <th></th>\n",
              "      <th>mean</th>\n",
              "      <th>std</th>\n",
              "      <th>skew</th>\n",
              "      <th>kurtosis</th>\n",
              "      <th>median</th>\n",
              "      <th>mean</th>\n",
              "      <th>std</th>\n",
              "      <th>skew</th>\n",
              "      <th>kurtosis</th>\n",
              "      <th>median</th>\n",
              "      <th>...</th>\n",
              "      <th>std</th>\n",
              "      <th>skew</th>\n",
              "      <th>kurtosis</th>\n",
              "      <th>median</th>\n",
              "      <th>mean</th>\n",
              "      <th>std</th>\n",
              "      <th>skew</th>\n",
              "      <th>kurtosis</th>\n",
              "      <th>median</th>\n",
              "      <th></th>\n",
              "    </tr>\n",
              "    <tr>\n",
              "      <th>object_id</th>\n",
              "      <th></th>\n",
              "      <th></th>\n",
              "      <th></th>\n",
              "      <th></th>\n",
              "      <th></th>\n",
              "      <th></th>\n",
              "      <th></th>\n",
              "      <th></th>\n",
              "      <th></th>\n",
              "      <th></th>\n",
              "      <th></th>\n",
              "      <th></th>\n",
              "      <th></th>\n",
              "      <th></th>\n",
              "      <th></th>\n",
              "      <th></th>\n",
              "      <th></th>\n",
              "      <th></th>\n",
              "      <th></th>\n",
              "      <th></th>\n",
              "      <th></th>\n",
              "    </tr>\n",
              "  </thead>\n",
              "  <tbody>\n",
              "    <tr>\n",
              "      <th>615</th>\n",
              "      <td>-3.254554</td>\n",
              "      <td>83.944735</td>\n",
              "      <td>0.125827</td>\n",
              "      <td>-1.454426</td>\n",
              "      <td>-0.081184</td>\n",
              "      <td>-385.699911</td>\n",
              "      <td>601.787302</td>\n",
              "      <td>0.404755</td>\n",
              "      <td>-1.251198</td>\n",
              "      <td>-0.171576</td>\n",
              "      <td>...</td>\n",
              "      <td>291.803449</td>\n",
              "      <td>0.194883</td>\n",
              "      <td>-1.519722</td>\n",
              "      <td>-0.164502</td>\n",
              "      <td>-47.449847</td>\n",
              "      <td>294.779522</td>\n",
              "      <td>0.121948</td>\n",
              "      <td>-1.559937</td>\n",
              "      <td>-0.130311</td>\n",
              "      <td>-61.9438</td>\n",
              "    </tr>\n",
              "    <tr>\n",
              "      <th>713</th>\n",
              "      <td>-2.720398</td>\n",
              "      <td>7.113509</td>\n",
              "      <td>0.254446</td>\n",
              "      <td>-1.027516</td>\n",
              "      <td>-0.053296</td>\n",
              "      <td>-1.019804</td>\n",
              "      <td>5.712334</td>\n",
              "      <td>-0.085494</td>\n",
              "      <td>-1.106890</td>\n",
              "      <td>0.080915</td>\n",
              "      <td>...</td>\n",
              "      <td>6.406989</td>\n",
              "      <td>-0.062403</td>\n",
              "      <td>-1.191860</td>\n",
              "      <td>0.017023</td>\n",
              "      <td>-1.794175</td>\n",
              "      <td>7.094073</td>\n",
              "      <td>0.212294</td>\n",
              "      <td>-0.832902</td>\n",
              "      <td>-0.095134</td>\n",
              "      <td>-27.7844</td>\n",
              "    </tr>\n",
              "    <tr>\n",
              "      <th>730</th>\n",
              "      <td>-0.048080</td>\n",
              "      <td>1.828872</td>\n",
              "      <td>0.349431</td>\n",
              "      <td>0.359725</td>\n",
              "      <td>0.039740</td>\n",
              "      <td>0.141057</td>\n",
              "      <td>1.807229</td>\n",
              "      <td>0.457635</td>\n",
              "      <td>0.771778</td>\n",
              "      <td>0.016918</td>\n",
              "      <td>...</td>\n",
              "      <td>10.710344</td>\n",
              "      <td>2.462542</td>\n",
              "      <td>5.385640</td>\n",
              "      <td>-0.311592</td>\n",
              "      <td>4.539396</td>\n",
              "      <td>13.332758</td>\n",
              "      <td>1.630520</td>\n",
              "      <td>3.125970</td>\n",
              "      <td>-0.151253</td>\n",
              "      <td>-6.5796</td>\n",
              "    </tr>\n",
              "    <tr>\n",
              "      <th>745</th>\n",
              "      <td>1.797523</td>\n",
              "      <td>4.374445</td>\n",
              "      <td>1.980815</td>\n",
              "      <td>4.232286</td>\n",
              "      <td>-0.170538</td>\n",
              "      <td>5.717394</td>\n",
              "      <td>25.964659</td>\n",
              "      <td>6.817994</td>\n",
              "      <td>46.333887</td>\n",
              "      <td>-0.187678</td>\n",
              "      <td>...</td>\n",
              "      <td>33.069053</td>\n",
              "      <td>3.382600</td>\n",
              "      <td>12.445025</td>\n",
              "      <td>-0.362020</td>\n",
              "      <td>10.746138</td>\n",
              "      <td>26.060130</td>\n",
              "      <td>3.083716</td>\n",
              "      <td>10.952063</td>\n",
              "      <td>-0.309679</td>\n",
              "      <td>-45.5867</td>\n",
              "    </tr>\n",
              "    <tr>\n",
              "      <th>1124</th>\n",
              "      <td>0.660948</td>\n",
              "      <td>2.360084</td>\n",
              "      <td>-0.324207</td>\n",
              "      <td>0.664903</td>\n",
              "      <td>-0.034136</td>\n",
              "      <td>4.634637</td>\n",
              "      <td>8.107525</td>\n",
              "      <td>2.315295</td>\n",
              "      <td>5.496244</td>\n",
              "      <td>-0.432985</td>\n",
              "      <td>...</td>\n",
              "      <td>26.865913</td>\n",
              "      <td>3.802308</td>\n",
              "      <td>14.897216</td>\n",
              "      <td>-0.306424</td>\n",
              "      <td>6.896742</td>\n",
              "      <td>21.434627</td>\n",
              "      <td>3.560347</td>\n",
              "      <td>13.095559</td>\n",
              "      <td>-0.231739</td>\n",
              "      <td>-63.8237</td>\n",
              "    </tr>\n",
              "  </tbody>\n",
              "</table>\n",
              "<p>5 rows × 31 columns</p>\n",
              "</div>\n",
              "      <button class=\"colab-df-convert\" onclick=\"convertToInteractive('df-e10fdd7d-786b-4699-9b82-2a5c6aa06697')\"\n",
              "              title=\"Convert this dataframe to an interactive table.\"\n",
              "              style=\"display:none;\">\n",
              "        \n",
              "  <svg xmlns=\"http://www.w3.org/2000/svg\" height=\"24px\"viewBox=\"0 0 24 24\"\n",
              "       width=\"24px\">\n",
              "    <path d=\"M0 0h24v24H0V0z\" fill=\"none\"/>\n",
              "    <path d=\"M18.56 5.44l.94 2.06.94-2.06 2.06-.94-2.06-.94-.94-2.06-.94 2.06-2.06.94zm-11 1L8.5 8.5l.94-2.06 2.06-.94-2.06-.94L8.5 2.5l-.94 2.06-2.06.94zm10 10l.94 2.06.94-2.06 2.06-.94-2.06-.94-.94-2.06-.94 2.06-2.06.94z\"/><path d=\"M17.41 7.96l-1.37-1.37c-.4-.4-.92-.59-1.43-.59-.52 0-1.04.2-1.43.59L10.3 9.45l-7.72 7.72c-.78.78-.78 2.05 0 2.83L4 21.41c.39.39.9.59 1.41.59.51 0 1.02-.2 1.41-.59l7.78-7.78 2.81-2.81c.8-.78.8-2.07 0-2.86zM5.41 20L4 18.59l7.72-7.72 1.47 1.35L5.41 20z\"/>\n",
              "  </svg>\n",
              "      </button>\n",
              "      \n",
              "  <style>\n",
              "    .colab-df-container {\n",
              "      display:flex;\n",
              "      flex-wrap:wrap;\n",
              "      gap: 12px;\n",
              "    }\n",
              "\n",
              "    .colab-df-convert {\n",
              "      background-color: #E8F0FE;\n",
              "      border: none;\n",
              "      border-radius: 50%;\n",
              "      cursor: pointer;\n",
              "      display: none;\n",
              "      fill: #1967D2;\n",
              "      height: 32px;\n",
              "      padding: 0 0 0 0;\n",
              "      width: 32px;\n",
              "    }\n",
              "\n",
              "    .colab-df-convert:hover {\n",
              "      background-color: #E2EBFA;\n",
              "      box-shadow: 0px 1px 2px rgba(60, 64, 67, 0.3), 0px 1px 3px 1px rgba(60, 64, 67, 0.15);\n",
              "      fill: #174EA6;\n",
              "    }\n",
              "\n",
              "    [theme=dark] .colab-df-convert {\n",
              "      background-color: #3B4455;\n",
              "      fill: #D2E3FC;\n",
              "    }\n",
              "\n",
              "    [theme=dark] .colab-df-convert:hover {\n",
              "      background-color: #434B5C;\n",
              "      box-shadow: 0px 1px 3px 1px rgba(0, 0, 0, 0.15);\n",
              "      filter: drop-shadow(0px 1px 2px rgba(0, 0, 0, 0.3));\n",
              "      fill: #FFFFFF;\n",
              "    }\n",
              "  </style>\n",
              "\n",
              "      <script>\n",
              "        const buttonEl =\n",
              "          document.querySelector('#df-e10fdd7d-786b-4699-9b82-2a5c6aa06697 button.colab-df-convert');\n",
              "        buttonEl.style.display =\n",
              "          google.colab.kernel.accessAllowed ? 'block' : 'none';\n",
              "\n",
              "        async function convertToInteractive(key) {\n",
              "          const element = document.querySelector('#df-e10fdd7d-786b-4699-9b82-2a5c6aa06697');\n",
              "          const dataTable =\n",
              "            await google.colab.kernel.invokeFunction('convertToInteractive',\n",
              "                                                     [key], {});\n",
              "          if (!dataTable) return;\n",
              "\n",
              "          const docLinkHtml = 'Like what you see? Visit the ' +\n",
              "            '<a target=\"_blank\" href=https://colab.research.google.com/notebooks/data_table.ipynb>data table notebook</a>'\n",
              "            + ' to learn more about interactive tables.';\n",
              "          element.innerHTML = '';\n",
              "          dataTable['output_type'] = 'display_data';\n",
              "          await google.colab.output.renderOutput(dataTable, element);\n",
              "          const docLink = document.createElement('div');\n",
              "          docLink.innerHTML = docLinkHtml;\n",
              "          element.appendChild(docLink);\n",
              "        }\n",
              "      </script>\n",
              "    </div>\n",
              "  </div>\n",
              "  "
            ]
          },
          "metadata": {},
          "execution_count": 41
        }
      ]
    },
    {
      "cell_type": "code",
      "source": [
        "#saving data for recovery purposes\n",
        "allfeatures.to_pickle('allfeatures.pkl')"
      ],
      "metadata": {
        "id": "0WCWfuOejz1g"
      },
      "execution_count": null,
      "outputs": []
    },
    {
      "cell_type": "markdown",
      "metadata": {
        "id": "lpM3iE2HlVYq"
      },
      "source": [
        "what is the shape of your final feature space?"
      ]
    },
    {
      "cell_type": "code",
      "metadata": {
        "ExecuteTime": {
          "end_time": "2020-04-05T15:52:47.165508Z",
          "start_time": "2020-04-05T15:52:47.162316Z"
        },
        "id": "rwQfgVzLlVYq",
        "colab": {
          "base_uri": "https://localhost:8080/"
        },
        "outputId": "3e1693d5-cf9c-42f0-a660-d89e4ab451c0"
      },
      "source": [
        "print(\"My feature space is {} features (columns)\".format(allfeatures.shape[1]))"
      ],
      "execution_count": 42,
      "outputs": [
        {
          "output_type": "stream",
          "name": "stdout",
          "text": [
            "My feature space is 31 features (columns)\n"
          ]
        }
      ]
    },
    {
      "cell_type": "markdown",
      "metadata": {
        "id": "_mBRMYFSSlwm"
      },
      "source": [
        "Now make histograms for allfeatures to show their distributions"
      ]
    },
    {
      "cell_type": "code",
      "metadata": {
        "id": "VT4mitUrj2ft",
        "colab": {
          "base_uri": "https://localhost:8080/",
          "height": 1000
        },
        "outputId": "3b5c0e8e-9df6-4bfd-8ff9-474b11df7d0f"
      },
      "source": [
        "for i in allfeatures.columns:\n",
        "  pl.figure()\n",
        "  pl.hist(allfeatures[i])\n",
        "  pl.xlabel(i)\n",
        "  pl.ylabel('Frequency')"
      ],
      "execution_count": 43,
      "outputs": [
        {
          "output_type": "stream",
          "name": "stderr",
          "text": [
            "/usr/local/lib/python3.7/dist-packages/ipykernel_launcher.py:2: RuntimeWarning: More than 20 figures have been opened. Figures created through the pyplot interface (`matplotlib.pyplot.figure`) are retained until explicitly closed and may consume too much memory. (To control this warning, see the rcParam `figure.max_open_warning`).\n",
            "  \n"
          ]
        },
        {
          "output_type": "display_data",
          "data": {
            "text/plain": [
              "<Figure size 1080x720 with 1 Axes>"
            ],
            "image/png": "[encoded data removed]"
          },
          "metadata": {
            "needs_background": "light"
          }
        },
        {
          "output_type": "display_data",
          "data": {
            "text/plain": [
              "<Figure size 1080x720 with 1 Axes>"
            ],
            "image/png": "[encoded data removed]"
          },
          "metadata": {
            "needs_background": "light"
          }
        },
        {
          "output_type": "display_data",
          "data": {
            "text/plain": [
              "<Figure size 1080x720 with 1 Axes>"
            ],
            "image/png": "[encoded data removed]"
          },
          "metadata": {
            "needs_background": "light"
          }
        },
        {
          "output_type": "display_data",
          "data": {
            "text/plain": [
              "<Figure size 1080x720 with 1 Axes>"
            ],
            "image/png": "[encoded data removed]"
          },
          "metadata": {
            "needs_background": "light"
          }
        },
        {
          "output_type": "display_data",
          "data": {
            "text/plain": [
              "<Figure size 1080x720 with 1 Axes>"
            ],
            "image/png": "[encoded data removed]"
          },
          "metadata": {
            "needs_background": "light"
          }
        },
        {
          "output_type": "display_data",
          "data": {
            "text/plain": [
              "<Figure size 1080x720 with 1 Axes>"
            ],
            "image/png": "[encoded data removed]"
          },
          "metadata": {
            "needs_background": "light"
          }
        },
        {
          "output_type": "display_data",
          "data": {
            "text/plain": [
              "<Figure size 1080x720 with 1 Axes>"
            ],
            "image/png": "[encoded data removed]"
          },
          "metadata": {
            "needs_background": "light"
          }
        },
        {
          "output_type": "display_data",
          "data": {
            "text/plain": [
              "<Figure size 1080x720 with 1 Axes>"
            ],
            "image/png": "[encoded data removed]"
          },
          "metadata": {
            "needs_background": "light"
          }
        },
        {
          "output_type": "display_data",
          "data": {
            "text/plain": [
              "<Figure size 1080x720 with 1 Axes>"
            ],
            "image/png": "[encoded data removed]"
          },
          "metadata": {
            "needs_background": "light"
          }
        },
        {
          "output_type": "display_data",
          "data": {
            "text/plain": [
              "<Figure size 1080x720 with 1 Axes>"
            ],
            "image/png": "[encoded data removed]"
          },
          "metadata": {
            "needs_background": "light"
          }
        },
        {
          "output_type": "display_data",
          "data": {
            "text/plain": [
              "<Figure size 1080x720 with 1 Axes>"
            ],
            "image/png": "[encoded data removed]"
          },
          "metadata": {
            "needs_background": "light"
          }
        },
        {
          "output_type": "display_data",
          "data": {
            "text/plain": [
              "<Figure size 1080x720 with 1 Axes>"
            ],
            "image/png": "[encoded data removed]"
          },
          "metadata": {
            "needs_background": "light"
          }
        },
        {
          "output_type": "display_data",
          "data": {
            "text/plain": [
              "<Figure size 1080x720 with 1 Axes>"
            ],
            "image/png": "[encoded data removed]"
          },
          "metadata": {
            "needs_background": "light"
          }
        },
        {
          "output_type": "display_data",
          "data": {
            "text/plain": [
              "<Figure size 1080x720 with 1 Axes>"
            ],
            "image/png": "[encoded data removed]"
          },
          "metadata": {
            "needs_background": "light"
          }
        },
        {
          "output_type": "display_data",
          "data": {
            "text/plain": [
              "<Figure size 1080x720 with 1 Axes>"
            ],
            "image/png": "[encoded data removed]"
          },
          "metadata": {
            "needs_background": "light"
          }
        },
        {
          "output_type": "display_data",
          "data": {
            "text/plain": [
              "<Figure size 1080x720 with 1 Axes>"
            ],
            "image/png": "[encoded data removed]"
          },
          "metadata": {
            "needs_background": "light"
          }
        },
        {
          "output_type": "display_data",
          "data": {
            "text/plain": [
              "<Figure size 1080x720 with 1 Axes>"
            ],
            "image/png": "[encoded data removed]"
          },
          "metadata": {
            "needs_background": "light"
          }
        },
        {
          "output_type": "display_data",
          "data": {
            "text/plain": [
              "<Figure size 1080x720 with 1 Axes>"
            ],
            "image/png": "[encoded data removed]"
          },
          "metadata": {
            "needs_background": "light"
          }
        },
        {
          "output_type": "display_data",
          "data": {
            "text/plain": [
              "<Figure size 1080x720 with 1 Axes>"
            ],
            "image/png": "[encoded data removed]"
          },
          "metadata": {
            "needs_background": "light"
          }
        },
        {
          "output_type": "display_data",
          "data": {
            "text/plain": [
              "<Figure size 1080x720 with 1 Axes>"
            ],
            "image/png": "[encoded data removed]"
          },
          "metadata": {
            "needs_background": "light"
          }
        },
        {
          "output_type": "display_data",
          "data": {
            "text/plain": [
              "<Figure size 1080x720 with 1 Axes>"
            ],
            "image/png": "[encoded data removed]"
          },
          "metadata": {
            "needs_background": "light"
          }
        },
        {
          "output_type": "display_data",
          "data": {
            "text/plain": [
              "<Figure size 1080x720 with 1 Axes>"
            ],
            "image/png": "[encoded data removed]"
          },
          "metadata": {
            "needs_background": "light"
          }
        },
        {
          "output_type": "display_data",
          "data": {
            "text/plain": [
              "<Figure size 1080x720 with 1 Axes>"
            ],
            "image/png": "[encoded data removed]"
          },
          "metadata": {
            "needs_background": "light"
          }
        },
        {
          "output_type": "display_data",
          "data": {
            "text/plain": [
              "<Figure size 1080x720 with 1 Axes>"
            ],
            "image/png": "[encoded data removed]"
          },
          "metadata": {
            "needs_background": "light"
          }
        },
        {
          "output_type": "display_data",
          "data": {
            "text/plain": [
              "<Figure size 1080x720 with 1 Axes>"
            ],
            "image/png": "[encoded data removed]"
          },
          "metadata": {
            "needs_background": "light"
          }
        },
        {
          "output_type": "display_data",
          "data": {
            "text/plain": [
              "<Figure size 1080x720 with 1 Axes>"
            ],
            "image/png": "[encoded data removed]"
          },
          "metadata": {
            "needs_background": "light"
          }
        },
        {
          "output_type": "display_data",
          "data": {
            "text/plain": [
              "<Figure size 1080x720 with 1 Axes>"
            ],
            "image/png": "[encoded data removed]"
          },
          "metadata": {
            "needs_background": "light"
          }
        },
        {
          "output_type": "display_data",
          "data": {
            "text/plain": [
              "<Figure size 1080x720 with 1 Axes>"
            ],
            "image/png": "[encoded data removed]"
          },
          "metadata": {
            "needs_background": "light"
          }
        },
        {
          "output_type": "display_data",
          "data": {
            "text/plain": [
              "<Figure size 1080x720 with 1 Axes>"
            ],
            "image/png": "[encoded data removed]"
          },
          "metadata": {
            "needs_background": "light"
          }
        },
        {
          "output_type": "display_data",
          "data": {
            "text/plain": [
              "<Figure size 1080x720 with 1 Axes>"
            ],
            "image/png": "[encoded data removed]"
          },
          "metadata": {
            "needs_background": "light"
          }
        },
        {
          "output_type": "display_data",
          "data": {
            "text/plain": [
              "<Figure size 1080x720 with 1 Axes>"
            ],
            "image/png": "[encoded data removed]"
          },
          "metadata": {
            "needs_background": "light"
          }
        }
      ]
    },
    {
      "cell_type": "markdown",
      "source": [
        "Plots: histograms of different features extracted for each individual band. We can see that the data clearly have outliers (based on, for example, mean vals for band 1), so proper data cleaning may be required to achieve better results at inference stage.\n",
        "\n",
        "The majority of features follow (at least, if we just look at the plots) some kind of reasonable distributions like normal (e.g., median vals) or exponential (e.g., curtosis)."
      ],
      "metadata": {
        "id": "jaQ0CONoe3Il"
      }
    },
    {
      "cell_type": "code",
      "source": [
        "## that looks like an outlier\n",
        "\n",
        "allfeatures[allfeatures[(1, 'mean')] > 60000]"
      ],
      "metadata": {
        "colab": {
          "base_uri": "https://localhost:8080/",
          "height": 236
        },
        "id": "1HiqX6V4fthk",
        "outputId": "edbbf878-f53f-4810-80e7-9ddbbee51e51"
      },
      "execution_count": 53,
      "outputs": [
        {
          "output_type": "execute_result",
          "data": {
            "text/plain": [
              "passband             0                                             \\\n",
              "                  mean          std      skew  kurtosis    median   \n",
              "object_id                                                           \n",
              "36551205   7892.842071  9531.805806  0.739109 -1.264664 -0.692779   \n",
              "\n",
              "passband              1                                              ...  \\\n",
              "                   mean           std      skew  kurtosis    median  ...   \n",
              "object_id                                                            ...   \n",
              "36551205   63522.503808  72095.882991  0.529429 -1.555743 -0.729545  ...   \n",
              "\n",
              "passband               4                                            5  \\\n",
              "                     std      skew  kurtosis    median           mean   \n",
              "object_id                                                               \n",
              "36551205   168644.941479  0.940194 -0.683388 -0.602542  192689.281064   \n",
              "\n",
              "passband                                                  decl  \n",
              "                     std      skew  kurtosis    median          \n",
              "object_id                                                       \n",
              "36551205   223784.002794  0.723082 -1.169959 -0.649763 -1.7908  \n",
              "\n",
              "[1 rows x 31 columns]"
            ],
            "text/html": [
              "\n",
              "  <div id=\"df-b9afdf21-cda0-4ad1-baae-fd4c50be49d1\">\n",
              "    <div class=\"colab-df-container\">\n",
              "      <div>\n",
              "<style scoped>\n",
              "    .dataframe tbody tr th:only-of-type {\n",
              "        vertical-align: middle;\n",
              "    }\n",
              "\n",
              "    .dataframe tbody tr th {\n",
              "        vertical-align: top;\n",
              "    }\n",
              "\n",
              "    .dataframe thead tr th {\n",
              "        text-align: left;\n",
              "    }\n",
              "\n",
              "    .dataframe thead tr:last-of-type th {\n",
              "        text-align: right;\n",
              "    }\n",
              "</style>\n",
              "<table border=\"1\" class=\"dataframe\">\n",
              "  <thead>\n",
              "    <tr>\n",
              "      <th>passband</th>\n",
              "      <th colspan=\"5\" halign=\"left\">0</th>\n",
              "      <th colspan=\"5\" halign=\"left\">1</th>\n",
              "      <th>...</th>\n",
              "      <th colspan=\"4\" halign=\"left\">4</th>\n",
              "      <th colspan=\"5\" halign=\"left\">5</th>\n",
              "      <th>decl</th>\n",
              "    </tr>\n",
              "    <tr>\n",
              "      <th></th>\n",
              "      <th>mean</th>\n",
              "      <th>std</th>\n",
              "      <th>skew</th>\n",
              "      <th>kurtosis</th>\n",
              "      <th>median</th>\n",
              "      <th>mean</th>\n",
              "      <th>std</th>\n",
              "      <th>skew</th>\n",
              "      <th>kurtosis</th>\n",
              "      <th>median</th>\n",
              "      <th>...</th>\n",
              "      <th>std</th>\n",
              "      <th>skew</th>\n",
              "      <th>kurtosis</th>\n",
              "      <th>median</th>\n",
              "      <th>mean</th>\n",
              "      <th>std</th>\n",
              "      <th>skew</th>\n",
              "      <th>kurtosis</th>\n",
              "      <th>median</th>\n",
              "      <th></th>\n",
              "    </tr>\n",
              "    <tr>\n",
              "      <th>object_id</th>\n",
              "      <th></th>\n",
              "      <th></th>\n",
              "      <th></th>\n",
              "      <th></th>\n",
              "      <th></th>\n",
              "      <th></th>\n",
              "      <th></th>\n",
              "      <th></th>\n",
              "      <th></th>\n",
              "      <th></th>\n",
              "      <th></th>\n",
              "      <th></th>\n",
              "      <th></th>\n",
              "      <th></th>\n",
              "      <th></th>\n",
              "      <th></th>\n",
              "      <th></th>\n",
              "      <th></th>\n",
              "      <th></th>\n",
              "      <th></th>\n",
              "      <th></th>\n",
              "    </tr>\n",
              "  </thead>\n",
              "  <tbody>\n",
              "    <tr>\n",
              "      <th>36551205</th>\n",
              "      <td>7892.842071</td>\n",
              "      <td>9531.805806</td>\n",
              "      <td>0.739109</td>\n",
              "      <td>-1.264664</td>\n",
              "      <td>-0.692779</td>\n",
              "      <td>63522.503808</td>\n",
              "      <td>72095.882991</td>\n",
              "      <td>0.529429</td>\n",
              "      <td>-1.555743</td>\n",
              "      <td>-0.729545</td>\n",
              "      <td>...</td>\n",
              "      <td>168644.941479</td>\n",
              "      <td>0.940194</td>\n",
              "      <td>-0.683388</td>\n",
              "      <td>-0.602542</td>\n",
              "      <td>192689.281064</td>\n",
              "      <td>223784.002794</td>\n",
              "      <td>0.723082</td>\n",
              "      <td>-1.169959</td>\n",
              "      <td>-0.649763</td>\n",
              "      <td>-1.7908</td>\n",
              "    </tr>\n",
              "  </tbody>\n",
              "</table>\n",
              "<p>1 rows × 31 columns</p>\n",
              "</div>\n",
              "      <button class=\"colab-df-convert\" onclick=\"convertToInteractive('df-b9afdf21-cda0-4ad1-baae-fd4c50be49d1')\"\n",
              "              title=\"Convert this dataframe to an interactive table.\"\n",
              "              style=\"display:none;\">\n",
              "        \n",
              "  <svg xmlns=\"http://www.w3.org/2000/svg\" height=\"24px\"viewBox=\"0 0 24 24\"\n",
              "       width=\"24px\">\n",
              "    <path d=\"M0 0h24v24H0V0z\" fill=\"none\"/>\n",
              "    <path d=\"M18.56 5.44l.94 2.06.94-2.06 2.06-.94-2.06-.94-.94-2.06-.94 2.06-2.06.94zm-11 1L8.5 8.5l.94-2.06 2.06-.94-2.06-.94L8.5 2.5l-.94 2.06-2.06.94zm10 10l.94 2.06.94-2.06 2.06-.94-2.06-.94-.94-2.06-.94 2.06-2.06.94z\"/><path d=\"M17.41 7.96l-1.37-1.37c-.4-.4-.92-.59-1.43-.59-.52 0-1.04.2-1.43.59L10.3 9.45l-7.72 7.72c-.78.78-.78 2.05 0 2.83L4 21.41c.39.39.9.59 1.41.59.51 0 1.02-.2 1.41-.59l7.78-7.78 2.81-2.81c.8-.78.8-2.07 0-2.86zM5.41 20L4 18.59l7.72-7.72 1.47 1.35L5.41 20z\"/>\n",
              "  </svg>\n",
              "      </button>\n",
              "      \n",
              "  <style>\n",
              "    .colab-df-container {\n",
              "      display:flex;\n",
              "      flex-wrap:wrap;\n",
              "      gap: 12px;\n",
              "    }\n",
              "\n",
              "    .colab-df-convert {\n",
              "      background-color: #E8F0FE;\n",
              "      border: none;\n",
              "      border-radius: 50%;\n",
              "      cursor: pointer;\n",
              "      display: none;\n",
              "      fill: #1967D2;\n",
              "      height: 32px;\n",
              "      padding: 0 0 0 0;\n",
              "      width: 32px;\n",
              "    }\n",
              "\n",
              "    .colab-df-convert:hover {\n",
              "      background-color: #E2EBFA;\n",
              "      box-shadow: 0px 1px 2px rgba(60, 64, 67, 0.3), 0px 1px 3px 1px rgba(60, 64, 67, 0.15);\n",
              "      fill: #174EA6;\n",
              "    }\n",
              "\n",
              "    [theme=dark] .colab-df-convert {\n",
              "      background-color: #3B4455;\n",
              "      fill: #D2E3FC;\n",
              "    }\n",
              "\n",
              "    [theme=dark] .colab-df-convert:hover {\n",
              "      background-color: #434B5C;\n",
              "      box-shadow: 0px 1px 3px 1px rgba(0, 0, 0, 0.15);\n",
              "      filter: drop-shadow(0px 1px 2px rgba(0, 0, 0, 0.3));\n",
              "      fill: #FFFFFF;\n",
              "    }\n",
              "  </style>\n",
              "\n",
              "      <script>\n",
              "        const buttonEl =\n",
              "          document.querySelector('#df-b9afdf21-cda0-4ad1-baae-fd4c50be49d1 button.colab-df-convert');\n",
              "        buttonEl.style.display =\n",
              "          google.colab.kernel.accessAllowed ? 'block' : 'none';\n",
              "\n",
              "        async function convertToInteractive(key) {\n",
              "          const element = document.querySelector('#df-b9afdf21-cda0-4ad1-baae-fd4c50be49d1');\n",
              "          const dataTable =\n",
              "            await google.colab.kernel.invokeFunction('convertToInteractive',\n",
              "                                                     [key], {});\n",
              "          if (!dataTable) return;\n",
              "\n",
              "          const docLinkHtml = 'Like what you see? Visit the ' +\n",
              "            '<a target=\"_blank\" href=https://colab.research.google.com/notebooks/data_table.ipynb>data table notebook</a>'\n",
              "            + ' to learn more about interactive tables.';\n",
              "          element.innerHTML = '';\n",
              "          dataTable['output_type'] = 'display_data';\n",
              "          await google.colab.output.renderOutput(dataTable, element);\n",
              "          const docLink = document.createElement('div');\n",
              "          docLink.innerHTML = docLinkHtml;\n",
              "          element.appendChild(docLink);\n",
              "        }\n",
              "      </script>\n",
              "    </div>\n",
              "  </div>\n",
              "  "
            ]
          },
          "metadata": {},
          "execution_count": 53
        }
      ]
    },
    {
      "cell_type": "markdown",
      "metadata": {
        "id": "EIHmx_fdlVYq"
      },
      "source": [
        "# TASK III : Gaussian Processes"
      ]
    },
    {
      "cell_type": "markdown",
      "source": [
        "Take the time series and fit them with GPs. \n",
        "- use the george package goerge (see class demo https://github.com/fedhere/MLTSA22_FBianco/blob/main/Lab5GP/GP_examples.ipynb)\n",
        "- make sure you use the standardized time series\n",
        "- make sure you process the uncertainty as well as the data in the standardization!\n",
        "- choose an appropriate kernel (e.g. the composite one we use in class that enables periodicity as well as stockastic variations)\n",
        "- take a subset of the time series, ~10, making sure that they are of different types\n",
        "- fit the GP kernerl to each time series band by band\n",
        "- collect the best fit parameters and describe their variance - can all the time series be fit reasonably with the same kernel? how would you initialize the fit for the whole ensamble?\n",
        "\n"
      ],
      "metadata": {
        "id": "HmvhfncYvSjD"
      }
    },
    {
      "cell_type": "code",
      "source": [
        "!pip install george"
      ],
      "metadata": {
        "colab": {
          "base_uri": "https://localhost:8080/"
        },
        "id": "dXnRpwacjoJG",
        "outputId": "1855deea-2187-478a-f86e-dd7028881d31"
      },
      "execution_count": 56,
      "outputs": [
        {
          "output_type": "stream",
          "name": "stdout",
          "text": [
            "Collecting george\n",
            "  Downloading george-0.4.0-cp37-cp37m-manylinux2014_x86_64.whl (407 kB)\n",
            "\u001b[?25l\r\u001b[K     |▉                               | 10 kB 19.6 MB/s eta 0:00:01\r\u001b[K     |█▋                              | 20 kB 9.6 MB/s eta 0:00:01\r\u001b[K     |██▍                             | 30 kB 7.9 MB/s eta 0:00:01\r\u001b[K     |███▏                            | 40 kB 4.5 MB/s eta 0:00:01\r\u001b[K     |████                            | 51 kB 4.2 MB/s eta 0:00:01\r\u001b[K     |████▉                           | 61 kB 5.0 MB/s eta 0:00:01\r\u001b[K     |█████▋                          | 71 kB 5.1 MB/s eta 0:00:01\r\u001b[K     |██████▍                         | 81 kB 5.4 MB/s eta 0:00:01\r\u001b[K     |███████▎                        | 92 kB 6.0 MB/s eta 0:00:01\r\u001b[K     |████████                        | 102 kB 5.1 MB/s eta 0:00:01\r\u001b[K     |████████▉                       | 112 kB 5.1 MB/s eta 0:00:01\r\u001b[K     |█████████▋                      | 122 kB 5.1 MB/s eta 0:00:01\r\u001b[K     |██████████▌                     | 133 kB 5.1 MB/s eta 0:00:01\r\u001b[K     |███████████▎                    | 143 kB 5.1 MB/s eta 0:00:01\r\u001b[K     |████████████                    | 153 kB 5.1 MB/s eta 0:00:01\r\u001b[K     |████████████▉                   | 163 kB 5.1 MB/s eta 0:00:01\r\u001b[K     |█████████████▋                  | 174 kB 5.1 MB/s eta 0:00:01\r\u001b[K     |██████████████▌                 | 184 kB 5.1 MB/s eta 0:00:01\r\u001b[K     |███████████████▎                | 194 kB 5.1 MB/s eta 0:00:01\r\u001b[K     |████████████████                | 204 kB 5.1 MB/s eta 0:00:01\r\u001b[K     |████████████████▉               | 215 kB 5.1 MB/s eta 0:00:01\r\u001b[K     |█████████████████▊              | 225 kB 5.1 MB/s eta 0:00:01\r\u001b[K     |██████████████████▌             | 235 kB 5.1 MB/s eta 0:00:01\r\u001b[K     |███████████████████▎            | 245 kB 5.1 MB/s eta 0:00:01\r\u001b[K     |████████████████████            | 256 kB 5.1 MB/s eta 0:00:01\r\u001b[K     |█████████████████████           | 266 kB 5.1 MB/s eta 0:00:01\r\u001b[K     |█████████████████████▊          | 276 kB 5.1 MB/s eta 0:00:01\r\u001b[K     |██████████████████████▌         | 286 kB 5.1 MB/s eta 0:00:01\r\u001b[K     |███████████████████████▎        | 296 kB 5.1 MB/s eta 0:00:01\r\u001b[K     |████████████████████████▏       | 307 kB 5.1 MB/s eta 0:00:01\r\u001b[K     |█████████████████████████       | 317 kB 5.1 MB/s eta 0:00:01\r\u001b[K     |█████████████████████████▊      | 327 kB 5.1 MB/s eta 0:00:01\r\u001b[K     |██████████████████████████▌     | 337 kB 5.1 MB/s eta 0:00:01\r\u001b[K     |███████████████████████████▎    | 348 kB 5.1 MB/s eta 0:00:01\r\u001b[K     |████████████████████████████▏   | 358 kB 5.1 MB/s eta 0:00:01\r\u001b[K     |█████████████████████████████   | 368 kB 5.1 MB/s eta 0:00:01\r\u001b[K     |█████████████████████████████▊  | 378 kB 5.1 MB/s eta 0:00:01\r\u001b[K     |██████████████████████████████▌ | 389 kB 5.1 MB/s eta 0:00:01\r\u001b[K     |███████████████████████████████▍| 399 kB 5.1 MB/s eta 0:00:01\r\u001b[K     |████████████████████████████████| 407 kB 5.1 MB/s \n",
            "\u001b[?25hRequirement already satisfied: scipy in /usr/local/lib/python3.7/dist-packages (from george) (1.4.1)\n",
            "Requirement already satisfied: numpy in /usr/local/lib/python3.7/dist-packages (from george) (1.21.5)\n",
            "Installing collected packages: george\n",
            "Successfully installed george-0.4.0\n"
          ]
        }
      ]
    },
    {
      "cell_type": "code",
      "source": [
        "import george\n",
        "from george import kernels\n",
        "from scipy.optimize import minimize"
      ],
      "metadata": {
        "id": "b2AceTk_xSJT"
      },
      "execution_count": 57,
      "outputs": []
    },
    {
      "cell_type": "code",
      "source": [
        "ts_ids = list(metadata[['object_id','target']]\n",
        "    .groupby('target')\n",
        "    .agg(list)\n",
        "    .apply(lambda x: x['object_id'][1], axis=1)\n",
        ")[:10]\n",
        "ts_ids"
      ],
      "metadata": {
        "colab": {
          "base_uri": "https://localhost:8080/"
        },
        "id": "5aIQw1yBxpup",
        "outputId": "e3079f92-8912-4a49-8165-334958006bce"
      },
      "execution_count": 58,
      "outputs": [
        {
          "output_type": "execute_result",
          "data": {
            "text/plain": [
              "[77157, 23116, 4171, 1632, 11773, 268977, 7703, 139362, 1926, 3041]"
            ]
          },
          "metadata": {},
          "execution_count": 58
        }
      ]
    },
    {
      "cell_type": "code",
      "source": [
        "def neg_ln_like(p):\n",
        "    gp.set_parameter_vector(p)\n",
        "    return -gp.log_likelihood(y)\n",
        "\n",
        "def grad_neg_ln_like(p):\n",
        "    gp.set_parameter_vector(p)\n",
        "    return -gp.grad_log_likelihood(y)"
      ],
      "metadata": {
        "id": "dIKpwTs3ovRj"
      },
      "execution_count": 59,
      "outputs": []
    },
    {
      "cell_type": "code",
      "source": [
        "results_dict = defaultdict(\n",
        "    dict\n",
        ")\n",
        "\n",
        "for ts_id in tqdm(ts_ids):\n",
        "  for passband in range(0,6):\n",
        "    gp_ts = lcvs_norm[\n",
        "      (lcvs_norm['object_id'] == ts_id) & \\\n",
        "      (lcvs_norm['passband'] == passband)\n",
        "    ]\n",
        "\n",
        "    t = gp_ts['mjd']\n",
        "    y = gp_ts['flux_norm']\n",
        "    yerr = gp_ts['flux_err_norm']\n",
        "    t_pred = np.atleast_2d(\n",
        "        np.linspace(\n",
        "          gp_ts['mjd'].min(), \n",
        "          gp_ts['mjd'].max(), \n",
        "          1000\n",
        "        )\n",
        "    ).T\n",
        "\n",
        "    kernel = np.var(y) * kernels.Product(kernels.ExpSquaredKernel(0.5), \n",
        "                                        kernels.CosineKernel(1))\n",
        "    gp = george.GP(kernel)\n",
        "\n",
        "    gp.compute(t, 0.1*np.abs(y))\n",
        "\n",
        "    pred, pred_var = gp.predict(y, t_pred, return_var=True)\n",
        "\n",
        "    result = minimize(neg_ln_like, gp.get_parameter_vector(), jac=grad_neg_ln_like)\n",
        "    #print(result)\n",
        "    gp.set_parameter_vector(result.x)\n",
        "\n",
        "    pred, pred_var = gp.predict(y, t_pred, return_var=True)\n",
        "\n",
        "    # results_dict[ts_id][passband]['params'] = gp.get_parameter_vector()\n",
        "    # results_dict[ts_id][passband]['ln-likelihood'] = gp.get_parameter_vector()\n",
        "\n",
        "    current_params = dict(enumerate(gp.get_parameter_vector()))\n",
        "\n",
        "    for n_param in current_params:\n",
        "      results_dict[(ts_id, passband)]['params', n_param] = current_params[n_param]\n",
        "    results_dict[(ts_id, passband)]['optimization', 'ln-likelihood'] = gp.log_likelihood(y)\n",
        "\n",
        "\n",
        "    # pl.figure()\n",
        "    # pl.fill_between(t_pred[:,0], pred - np.sqrt(pred_var), pred + np.sqrt(pred_var),\n",
        "    #                 color=\"k\", alpha=0.2)\n",
        "    # pl.plot(t_pred[:,0], pred, \"k\", lw=1.5, alpha=0.5)\n",
        "    # pl.errorbar(t, y, yerr=yerr, fmt=\".k\", capsize=0)\n",
        "    # pl.xlabel(\"x\")\n",
        "    # pl.ylabel(\"y\");\n",
        "\n",
        "    # print(\"Optimized parameters {:.2f} {:.2f}\".format(*gp.get_parameter_vector()))\n",
        "    # print(\"Optimized ln-likelihood: {0:.2f}\".format(gp.log_likelihood(y)))\n",
        "    # print()\n",
        "\n",
        "    "
      ],
      "metadata": {
        "colab": {
          "base_uri": "https://localhost:8080/"
        },
        "id": "kDanNx-Xz4wa",
        "outputId": "672e98d4-d7dc-4254-8f3b-1e1a6d6198c1"
      },
      "execution_count": 60,
      "outputs": [
        {
          "output_type": "stream",
          "name": "stderr",
          "text": [
            "100%|██████████| 10/10 [00:23<00:00,  2.40s/it]\n"
          ]
        }
      ]
    },
    {
      "cell_type": "code",
      "source": [
        "gp_params_df = pd.DataFrame.from_dict(results_dict).T"
      ],
      "metadata": {
        "id": "Sg5tzneP2fbn"
      },
      "execution_count": 61,
      "outputs": []
    },
    {
      "cell_type": "code",
      "source": [
        "gp_params_df"
      ],
      "metadata": {
        "colab": {
          "base_uri": "https://localhost:8080/",
          "height": 1000
        },
        "id": "IRIwiDbn74IK",
        "outputId": "fef7f53a-dddb-4a0e-cc8c-3adf637adfbe"
      },
      "execution_count": 62,
      "outputs": [
        {
          "output_type": "execute_result",
          "data": {
            "text/plain": [
              "            params                       optimization\n",
              "                 0         1          2 ln-likelihood\n",
              "77157  0 -0.387477  0.383552   8.126479    -60.328439\n",
              "       1 -0.383014  4.885662   1.062303    -28.094480\n",
              "       2 -0.425515  4.914531   1.060405    -28.759766\n",
              "       3 -0.421998  4.901163   1.060871    -28.409151\n",
              "       4 -0.426994  4.924165   1.059814    -28.390193\n",
              "       5 -0.423956  4.918075   1.060570    -28.241937\n",
              "23116  0 -0.426815  0.492148   9.111239    -55.127313\n",
              "       1 -0.482424  4.564495   1.069987    -25.888562\n",
              "       2 -0.427224  4.102474   1.085599    -33.891798\n",
              "       3 -0.522039  4.140000   1.075918    -33.750926\n",
              "       4 -0.276918  3.585326   1.083918    -45.834026\n",
              "       5 -0.215446  2.752257   1.024554    -64.120092\n",
              "4171   0 -0.073064  0.070883   1.325854   -100.401543\n",
              "       1 -0.401952  1.695895   0.944661    -73.530729\n",
              "       2 -0.376363  1.891996   0.975220    -72.789749\n",
              "       3 -0.168319  2.739160   0.964434    -74.190868\n",
              "       4 -0.249292  3.320468   1.238076    -70.973390\n",
              "       5 -1.056544  2.491164   1.153554    -58.673813\n",
              "1632   0 -0.057516 -1.266033   5.400932    -87.781165\n",
              "       1 -0.061426  2.402184   0.927052    -79.825834\n",
              "       2 -0.060165  0.995132   0.784998    -81.341822\n",
              "       3 -0.092195  3.088567   0.849134    -78.756562\n",
              "       4 -0.063684  2.091967   0.483829    -79.807071\n",
              "       5 -0.083478  1.711908   1.007153    -77.222705\n",
              "11773  0 -0.060252 -0.714356   1.031792    -41.498108\n",
              "       1 -0.043043 -1.301205   0.817283    -63.484200\n",
              "       2  0.007461  3.218773   1.019682    -56.415598\n",
              "       3 -0.097392  3.147977   1.033632    -54.087044\n",
              "       4 -0.048978  3.293289   1.029277    -54.555767\n",
              "       5 -0.105625  3.647357   0.911811    -58.514540\n",
              "268977 0 -0.074324 -1.415369   5.409366    -41.891488\n",
              "       1 -0.103364  4.326301   1.277556    -55.437189\n",
              "       2 -0.289002  5.060322  10.809040    -14.261838\n",
              "       3  0.304484  4.996174   1.091847    -40.585548\n",
              "       4  0.253064  4.977079   1.089238    -40.015415\n",
              "       5  0.270302  5.146535   1.089758    -38.017980\n",
              "7703   0 -0.074092 -1.383750   6.042417    -97.546216\n",
              "       1 -0.381753  4.279666   1.222002    -50.154421\n",
              "       2 -0.245882  5.203524   1.061044    -21.062048\n",
              "       3 -0.412813  4.599496   1.062487    -28.860441\n",
              "       4 -0.518183  3.562481   9.941454    -36.217558\n",
              "       5 -0.730437  3.195763   1.041677    -47.450378\n",
              "139362 0 -0.080960 -0.652429   0.956295    -40.952005\n",
              "       1 -0.075745  1.323757   0.876558    -63.025151\n",
              "       2 -0.543418  3.414559   0.995860    -47.870067\n",
              "       3 -0.580360  3.094176   1.126451    -46.258560\n",
              "       4 -0.089961  3.252904   0.877101    -61.559605\n",
              "       5 -0.152674  3.603546   0.928037    -58.307240\n",
              "1926   0 -0.045399  0.478679   1.705477    -40.756128\n",
              "       1 -0.094933  1.933716   0.595896    -61.369109\n",
              "       2 -0.398742  4.086173   1.372655    -56.898193\n",
              "       3 -0.058492  2.493807   0.858313    -62.760164\n",
              "       4 -0.034127 -1.229333   1.269615    -63.583671\n",
              "       5 -0.104537  1.899376   1.214066    -61.619858\n",
              "3041   0 -0.031361 -1.426724   5.626275    -88.738532\n",
              "       1 -0.084745  1.816898   0.501245    -80.493032\n",
              "       2 -0.190845  2.799192   9.549318    -63.186112\n",
              "       3 -0.141997  2.425610   1.082943    -69.929175\n",
              "       4 -0.184006  2.434070   1.012328    -71.408995\n",
              "       5 -0.067003  2.629272   1.224271    -75.357157"
            ],
            "text/html": [
              "\n",
              "  <div id=\"df-bf375f0e-e7e7-4325-9575-472ebf5fe30b\">\n",
              "    <div class=\"colab-df-container\">\n",
              "      <div>\n",
              "<style scoped>\n",
              "    .dataframe tbody tr th:only-of-type {\n",
              "        vertical-align: middle;\n",
              "    }\n",
              "\n",
              "    .dataframe tbody tr th {\n",
              "        vertical-align: top;\n",
              "    }\n",
              "\n",
              "    .dataframe thead tr th {\n",
              "        text-align: left;\n",
              "    }\n",
              "</style>\n",
              "<table border=\"1\" class=\"dataframe\">\n",
              "  <thead>\n",
              "    <tr>\n",
              "      <th></th>\n",
              "      <th></th>\n",
              "      <th colspan=\"3\" halign=\"left\">params</th>\n",
              "      <th>optimization</th>\n",
              "    </tr>\n",
              "    <tr>\n",
              "      <th></th>\n",
              "      <th></th>\n",
              "      <th>0</th>\n",
              "      <th>1</th>\n",
              "      <th>2</th>\n",
              "      <th>ln-likelihood</th>\n",
              "    </tr>\n",
              "  </thead>\n",
              "  <tbody>\n",
              "    <tr>\n",
              "      <th rowspan=\"6\" valign=\"top\">77157</th>\n",
              "      <th>0</th>\n",
              "      <td>-0.387477</td>\n",
              "      <td>0.383552</td>\n",
              "      <td>8.126479</td>\n",
              "      <td>-60.328439</td>\n",
              "    </tr>\n",
              "    <tr>\n",
              "      <th>1</th>\n",
              "      <td>-0.383014</td>\n",
              "      <td>4.885662</td>\n",
              "      <td>1.062303</td>\n",
              "      <td>-28.094480</td>\n",
              "    </tr>\n",
              "    <tr>\n",
              "      <th>2</th>\n",
              "      <td>-0.425515</td>\n",
              "      <td>4.914531</td>\n",
              "      <td>1.060405</td>\n",
              "      <td>-28.759766</td>\n",
              "    </tr>\n",
              "    <tr>\n",
              "      <th>3</th>\n",
              "      <td>-0.421998</td>\n",
              "      <td>4.901163</td>\n",
              "      <td>1.060871</td>\n",
              "      <td>-28.409151</td>\n",
              "    </tr>\n",
              "    <tr>\n",
              "      <th>4</th>\n",
              "      <td>-0.426994</td>\n",
              "      <td>4.924165</td>\n",
              "      <td>1.059814</td>\n",
              "      <td>-28.390193</td>\n",
              "    </tr>\n",
              "    <tr>\n",
              "      <th>5</th>\n",
              "      <td>-0.423956</td>\n",
              "      <td>4.918075</td>\n",
              "      <td>1.060570</td>\n",
              "      <td>-28.241937</td>\n",
              "    </tr>\n",
              "    <tr>\n",
              "      <th rowspan=\"6\" valign=\"top\">23116</th>\n",
              "      <th>0</th>\n",
              "      <td>-0.426815</td>\n",
              "      <td>0.492148</td>\n",
              "      <td>9.111239</td>\n",
              "      <td>-55.127313</td>\n",
              "    </tr>\n",
              "    <tr>\n",
              "      <th>1</th>\n",
              "      <td>-0.482424</td>\n",
              "      <td>4.564495</td>\n",
              "      <td>1.069987</td>\n",
              "      <td>-25.888562</td>\n",
              "    </tr>\n",
              "    <tr>\n",
              "      <th>2</th>\n",
              "      <td>-0.427224</td>\n",
              "      <td>4.102474</td>\n",
              "      <td>1.085599</td>\n",
              "      <td>-33.891798</td>\n",
              "    </tr>\n",
              "    <tr>\n",
              "      <th>3</th>\n",
              "      <td>-0.522039</td>\n",
              "      <td>4.140000</td>\n",
              "      <td>1.075918</td>\n",
              "      <td>-33.750926</td>\n",
              "    </tr>\n",
              "    <tr>\n",
              "      <th>4</th>\n",
              "      <td>-0.276918</td>\n",
              "      <td>3.585326</td>\n",
              "      <td>1.083918</td>\n",
              "      <td>-45.834026</td>\n",
              "    </tr>\n",
              "    <tr>\n",
              "      <th>5</th>\n",
              "      <td>-0.215446</td>\n",
              "      <td>2.752257</td>\n",
              "      <td>1.024554</td>\n",
              "      <td>-64.120092</td>\n",
              "    </tr>\n",
              "    <tr>\n",
              "      <th rowspan=\"6\" valign=\"top\">4171</th>\n",
              "      <th>0</th>\n",
              "      <td>-0.073064</td>\n",
              "      <td>0.070883</td>\n",
              "      <td>1.325854</td>\n",
              "      <td>-100.401543</td>\n",
              "    </tr>\n",
              "    <tr>\n",
              "      <th>1</th>\n",
              "      <td>-0.401952</td>\n",
              "      <td>1.695895</td>\n",
              "      <td>0.944661</td>\n",
              "      <td>-73.530729</td>\n",
              "    </tr>\n",
              "    <tr>\n",
              "      <th>2</th>\n",
              "      <td>-0.376363</td>\n",
              "      <td>1.891996</td>\n",
              "      <td>0.975220</td>\n",
              "      <td>-72.789749</td>\n",
              "    </tr>\n",
              "    <tr>\n",
              "      <th>3</th>\n",
              "      <td>-0.168319</td>\n",
              "      <td>2.739160</td>\n",
              "      <td>0.964434</td>\n",
              "      <td>-74.190868</td>\n",
              "    </tr>\n",
              "    <tr>\n",
              "      <th>4</th>\n",
              "      <td>-0.249292</td>\n",
              "      <td>3.320468</td>\n",
              "      <td>1.238076</td>\n",
              "      <td>-70.973390</td>\n",
              "    </tr>\n",
              "    <tr>\n",
              "      <th>5</th>\n",
              "      <td>-1.056544</td>\n",
              "      <td>2.491164</td>\n",
              "      <td>1.153554</td>\n",
              "      <td>-58.673813</td>\n",
              "    </tr>\n",
              "    <tr>\n",
              "      <th rowspan=\"6\" valign=\"top\">1632</th>\n",
              "      <th>0</th>\n",
              "      <td>-0.057516</td>\n",
              "      <td>-1.266033</td>\n",
              "      <td>5.400932</td>\n",
              "      <td>-87.781165</td>\n",
              "    </tr>\n",
              "    <tr>\n",
              "      <th>1</th>\n",
              "      <td>-0.061426</td>\n",
              "      <td>2.402184</td>\n",
              "      <td>0.927052</td>\n",
              "      <td>-79.825834</td>\n",
              "    </tr>\n",
              "    <tr>\n",
              "      <th>2</th>\n",
              "      <td>-0.060165</td>\n",
              "      <td>0.995132</td>\n",
              "      <td>0.784998</td>\n",
              "      <td>-81.341822</td>\n",
              "    </tr>\n",
              "    <tr>\n",
              "      <th>3</th>\n",
              "      <td>-0.092195</td>\n",
              "      <td>3.088567</td>\n",
              "      <td>0.849134</td>\n",
              "      <td>-78.756562</td>\n",
              "    </tr>\n",
              "    <tr>\n",
              "      <th>4</th>\n",
              "      <td>-0.063684</td>\n",
              "      <td>2.091967</td>\n",
              "      <td>0.483829</td>\n",
              "      <td>-79.807071</td>\n",
              "    </tr>\n",
              "    <tr>\n",
              "      <th>5</th>\n",
              "      <td>-0.083478</td>\n",
              "      <td>1.711908</td>\n",
              "      <td>1.007153</td>\n",
              "      <td>-77.222705</td>\n",
              "    </tr>\n",
              "    <tr>\n",
              "      <th rowspan=\"6\" valign=\"top\">11773</th>\n",
              "      <th>0</th>\n",
              "      <td>-0.060252</td>\n",
              "      <td>-0.714356</td>\n",
              "      <td>1.031792</td>\n",
              "      <td>-41.498108</td>\n",
              "    </tr>\n",
              "    <tr>\n",
              "      <th>1</th>\n",
              "      <td>-0.043043</td>\n",
              "      <td>-1.301205</td>\n",
              "      <td>0.817283</td>\n",
              "      <td>-63.484200</td>\n",
              "    </tr>\n",
              "    <tr>\n",
              "      <th>2</th>\n",
              "      <td>0.007461</td>\n",
              "      <td>3.218773</td>\n",
              "      <td>1.019682</td>\n",
              "      <td>-56.415598</td>\n",
              "    </tr>\n",
              "    <tr>\n",
              "      <th>3</th>\n",
              "      <td>-0.097392</td>\n",
              "      <td>3.147977</td>\n",
              "      <td>1.033632</td>\n",
              "      <td>-54.087044</td>\n",
              "    </tr>\n",
              "    <tr>\n",
              "      <th>4</th>\n",
              "      <td>-0.048978</td>\n",
              "      <td>3.293289</td>\n",
              "      <td>1.029277</td>\n",
              "      <td>-54.555767</td>\n",
              "    </tr>\n",
              "    <tr>\n",
              "      <th>5</th>\n",
              "      <td>-0.105625</td>\n",
              "      <td>3.647357</td>\n",
              "      <td>0.911811</td>\n",
              "      <td>-58.514540</td>\n",
              "    </tr>\n",
              "    <tr>\n",
              "      <th rowspan=\"6\" valign=\"top\">268977</th>\n",
              "      <th>0</th>\n",
              "      <td>-0.074324</td>\n",
              "      <td>-1.415369</td>\n",
              "      <td>5.409366</td>\n",
              "      <td>-41.891488</td>\n",
              "    </tr>\n",
              "    <tr>\n",
              "      <th>1</th>\n",
              "      <td>-0.103364</td>\n",
              "      <td>4.326301</td>\n",
              "      <td>1.277556</td>\n",
              "      <td>-55.437189</td>\n",
              "    </tr>\n",
              "    <tr>\n",
              "      <th>2</th>\n",
              "      <td>-0.289002</td>\n",
              "      <td>5.060322</td>\n",
              "      <td>10.809040</td>\n",
              "      <td>-14.261838</td>\n",
              "    </tr>\n",
              "    <tr>\n",
              "      <th>3</th>\n",
              "      <td>0.304484</td>\n",
              "      <td>4.996174</td>\n",
              "      <td>1.091847</td>\n",
              "      <td>-40.585548</td>\n",
              "    </tr>\n",
              "    <tr>\n",
              "      <th>4</th>\n",
              "      <td>0.253064</td>\n",
              "      <td>4.977079</td>\n",
              "      <td>1.089238</td>\n",
              "      <td>-40.015415</td>\n",
              "    </tr>\n",
              "    <tr>\n",
              "      <th>5</th>\n",
              "      <td>0.270302</td>\n",
              "      <td>5.146535</td>\n",
              "      <td>1.089758</td>\n",
              "      <td>-38.017980</td>\n",
              "    </tr>\n",
              "    <tr>\n",
              "      <th rowspan=\"6\" valign=\"top\">7703</th>\n",
              "      <th>0</th>\n",
              "      <td>-0.074092</td>\n",
              "      <td>-1.383750</td>\n",
              "      <td>6.042417</td>\n",
              "      <td>-97.546216</td>\n",
              "    </tr>\n",
              "    <tr>\n",
              "      <th>1</th>\n",
              "      <td>-0.381753</td>\n",
              "      <td>4.279666</td>\n",
              "      <td>1.222002</td>\n",
              "      <td>-50.154421</td>\n",
              "    </tr>\n",
              "    <tr>\n",
              "      <th>2</th>\n",
              "      <td>-0.245882</td>\n",
              "      <td>5.203524</td>\n",
              "      <td>1.061044</td>\n",
              "      <td>-21.062048</td>\n",
              "    </tr>\n",
              "    <tr>\n",
              "      <th>3</th>\n",
              "      <td>-0.412813</td>\n",
              "      <td>4.599496</td>\n",
              "      <td>1.062487</td>\n",
              "      <td>-28.860441</td>\n",
              "    </tr>\n",
              "    <tr>\n",
              "      <th>4</th>\n",
              "      <td>-0.518183</td>\n",
              "      <td>3.562481</td>\n",
              "      <td>9.941454</td>\n",
              "      <td>-36.217558</td>\n",
              "    </tr>\n",
              "    <tr>\n",
              "      <th>5</th>\n",
              "      <td>-0.730437</td>\n",
              "      <td>3.195763</td>\n",
              "      <td>1.041677</td>\n",
              "      <td>-47.450378</td>\n",
              "    </tr>\n",
              "    <tr>\n",
              "      <th rowspan=\"6\" valign=\"top\">139362</th>\n",
              "      <th>0</th>\n",
              "      <td>-0.080960</td>\n",
              "      <td>-0.652429</td>\n",
              "      <td>0.956295</td>\n",
              "      <td>-40.952005</td>\n",
              "    </tr>\n",
              "    <tr>\n",
              "      <th>1</th>\n",
              "      <td>-0.075745</td>\n",
              "      <td>1.323757</td>\n",
              "      <td>0.876558</td>\n",
              "      <td>-63.025151</td>\n",
              "    </tr>\n",
              "    <tr>\n",
              "      <th>2</th>\n",
              "      <td>-0.543418</td>\n",
              "      <td>3.414559</td>\n",
              "      <td>0.995860</td>\n",
              "      <td>-47.870067</td>\n",
              "    </tr>\n",
              "    <tr>\n",
              "      <th>3</th>\n",
              "      <td>-0.580360</td>\n",
              "      <td>3.094176</td>\n",
              "      <td>1.126451</td>\n",
              "      <td>-46.258560</td>\n",
              "    </tr>\n",
              "    <tr>\n",
              "      <th>4</th>\n",
              "      <td>-0.089961</td>\n",
              "      <td>3.252904</td>\n",
              "      <td>0.877101</td>\n",
              "      <td>-61.559605</td>\n",
              "    </tr>\n",
              "    <tr>\n",
              "      <th>5</th>\n",
              "      <td>-0.152674</td>\n",
              "      <td>3.603546</td>\n",
              "      <td>0.928037</td>\n",
              "      <td>-58.307240</td>\n",
              "    </tr>\n",
              "    <tr>\n",
              "      <th rowspan=\"6\" valign=\"top\">1926</th>\n",
              "      <th>0</th>\n",
              "      <td>-0.045399</td>\n",
              "      <td>0.478679</td>\n",
              "      <td>1.705477</td>\n",
              "      <td>-40.756128</td>\n",
              "    </tr>\n",
              "    <tr>\n",
              "      <th>1</th>\n",
              "      <td>-0.094933</td>\n",
              "      <td>1.933716</td>\n",
              "      <td>0.595896</td>\n",
              "      <td>-61.369109</td>\n",
              "    </tr>\n",
              "    <tr>\n",
              "      <th>2</th>\n",
              "      <td>-0.398742</td>\n",
              "      <td>4.086173</td>\n",
              "      <td>1.372655</td>\n",
              "      <td>-56.898193</td>\n",
              "    </tr>\n",
              "    <tr>\n",
              "      <th>3</th>\n",
              "      <td>-0.058492</td>\n",
              "      <td>2.493807</td>\n",
              "      <td>0.858313</td>\n",
              "      <td>-62.760164</td>\n",
              "    </tr>\n",
              "    <tr>\n",
              "      <th>4</th>\n",
              "      <td>-0.034127</td>\n",
              "      <td>-1.229333</td>\n",
              "      <td>1.269615</td>\n",
              "      <td>-63.583671</td>\n",
              "    </tr>\n",
              "    <tr>\n",
              "      <th>5</th>\n",
              "      <td>-0.104537</td>\n",
              "      <td>1.899376</td>\n",
              "      <td>1.214066</td>\n",
              "      <td>-61.619858</td>\n",
              "    </tr>\n",
              "    <tr>\n",
              "      <th rowspan=\"6\" valign=\"top\">3041</th>\n",
              "      <th>0</th>\n",
              "      <td>-0.031361</td>\n",
              "      <td>-1.426724</td>\n",
              "      <td>5.626275</td>\n",
              "      <td>-88.738532</td>\n",
              "    </tr>\n",
              "    <tr>\n",
              "      <th>1</th>\n",
              "      <td>-0.084745</td>\n",
              "      <td>1.816898</td>\n",
              "      <td>0.501245</td>\n",
              "      <td>-80.493032</td>\n",
              "    </tr>\n",
              "    <tr>\n",
              "      <th>2</th>\n",
              "      <td>-0.190845</td>\n",
              "      <td>2.799192</td>\n",
              "      <td>9.549318</td>\n",
              "      <td>-63.186112</td>\n",
              "    </tr>\n",
              "    <tr>\n",
              "      <th>3</th>\n",
              "      <td>-0.141997</td>\n",
              "      <td>2.425610</td>\n",
              "      <td>1.082943</td>\n",
              "      <td>-69.929175</td>\n",
              "    </tr>\n",
              "    <tr>\n",
              "      <th>4</th>\n",
              "      <td>-0.184006</td>\n",
              "      <td>2.434070</td>\n",
              "      <td>1.012328</td>\n",
              "      <td>-71.408995</td>\n",
              "    </tr>\n",
              "    <tr>\n",
              "      <th>5</th>\n",
              "      <td>-0.067003</td>\n",
              "      <td>2.629272</td>\n",
              "      <td>1.224271</td>\n",
              "      <td>-75.357157</td>\n",
              "    </tr>\n",
              "  </tbody>\n",
              "</table>\n",
              "</div>\n",
              "      <button class=\"colab-df-convert\" onclick=\"convertToInteractive('df-bf375f0e-e7e7-4325-9575-472ebf5fe30b')\"\n",
              "              title=\"Convert this dataframe to an interactive table.\"\n",
              "              style=\"display:none;\">\n",
              "        \n",
              "  <svg xmlns=\"http://www.w3.org/2000/svg\" height=\"24px\"viewBox=\"0 0 24 24\"\n",
              "       width=\"24px\">\n",
              "    <path d=\"M0 0h24v24H0V0z\" fill=\"none\"/>\n",
              "    <path d=\"M18.56 5.44l.94 2.06.94-2.06 2.06-.94-2.06-.94-.94-2.06-.94 2.06-2.06.94zm-11 1L8.5 8.5l.94-2.06 2.06-.94-2.06-.94L8.5 2.5l-.94 2.06-2.06.94zm10 10l.94 2.06.94-2.06 2.06-.94-2.06-.94-.94-2.06-.94 2.06-2.06.94z\"/><path d=\"M17.41 7.96l-1.37-1.37c-.4-.4-.92-.59-1.43-.59-.52 0-1.04.2-1.43.59L10.3 9.45l-7.72 7.72c-.78.78-.78 2.05 0 2.83L4 21.41c.39.39.9.59 1.41.59.51 0 1.02-.2 1.41-.59l7.78-7.78 2.81-2.81c.8-.78.8-2.07 0-2.86zM5.41 20L4 18.59l7.72-7.72 1.47 1.35L5.41 20z\"/>\n",
              "  </svg>\n",
              "      </button>\n",
              "      \n",
              "  <style>\n",
              "    .colab-df-container {\n",
              "      display:flex;\n",
              "      flex-wrap:wrap;\n",
              "      gap: 12px;\n",
              "    }\n",
              "\n",
              "    .colab-df-convert {\n",
              "      background-color: #E8F0FE;\n",
              "      border: none;\n",
              "      border-radius: 50%;\n",
              "      cursor: pointer;\n",
              "      display: none;\n",
              "      fill: #1967D2;\n",
              "      height: 32px;\n",
              "      padding: 0 0 0 0;\n",
              "      width: 32px;\n",
              "    }\n",
              "\n",
              "    .colab-df-convert:hover {\n",
              "      background-color: #E2EBFA;\n",
              "      box-shadow: 0px 1px 2px rgba(60, 64, 67, 0.3), 0px 1px 3px 1px rgba(60, 64, 67, 0.15);\n",
              "      fill: #174EA6;\n",
              "    }\n",
              "\n",
              "    [theme=dark] .colab-df-convert {\n",
              "      background-color: #3B4455;\n",
              "      fill: #D2E3FC;\n",
              "    }\n",
              "\n",
              "    [theme=dark] .colab-df-convert:hover {\n",
              "      background-color: #434B5C;\n",
              "      box-shadow: 0px 1px 3px 1px rgba(0, 0, 0, 0.15);\n",
              "      filter: drop-shadow(0px 1px 2px rgba(0, 0, 0, 0.3));\n",
              "      fill: #FFFFFF;\n",
              "    }\n",
              "  </style>\n",
              "\n",
              "      <script>\n",
              "        const buttonEl =\n",
              "          document.querySelector('#df-bf375f0e-e7e7-4325-9575-472ebf5fe30b button.colab-df-convert');\n",
              "        buttonEl.style.display =\n",
              "          google.colab.kernel.accessAllowed ? 'block' : 'none';\n",
              "\n",
              "        async function convertToInteractive(key) {\n",
              "          const element = document.querySelector('#df-bf375f0e-e7e7-4325-9575-472ebf5fe30b');\n",
              "          const dataTable =\n",
              "            await google.colab.kernel.invokeFunction('convertToInteractive',\n",
              "                                                     [key], {});\n",
              "          if (!dataTable) return;\n",
              "\n",
              "          const docLinkHtml = 'Like what you see? Visit the ' +\n",
              "            '<a target=\"_blank\" href=https://colab.research.google.com/notebooks/data_table.ipynb>data table notebook</a>'\n",
              "            + ' to learn more about interactive tables.';\n",
              "          element.innerHTML = '';\n",
              "          dataTable['output_type'] = 'display_data';\n",
              "          await google.colab.output.renderOutput(dataTable, element);\n",
              "          const docLink = document.createElement('div');\n",
              "          docLink.innerHTML = docLinkHtml;\n",
              "          element.appendChild(docLink);\n",
              "        }\n",
              "      </script>\n",
              "    </div>\n",
              "  </div>\n",
              "  "
            ]
          },
          "metadata": {},
          "execution_count": 62
        }
      ]
    },
    {
      "cell_type": "code",
      "source": [
        "for band in range(0,6):\n",
        "  curr_band_df = gp_params_df.xs(band, level=1)\n",
        "  print(f\"Band: {band}\")\n",
        "  for param in gp_params_df.columns[:-1]:\n",
        "    print(f\"\\tparam_{param[-1]}, mean: {np.mean(curr_band_df[param])}, std: {np.std(curr_band_df[param])}\")\n",
        "  print()"
      ],
      "metadata": {
        "colab": {
          "base_uri": "https://localhost:8080/"
        },
        "id": "15hHGRLn7_JG",
        "outputId": "b97f2f72-a20c-40f4-9ad5-5cc511cad3d9"
      },
      "execution_count": 73,
      "outputs": [
        {
          "output_type": "stream",
          "name": "stdout",
          "text": [
            "Band: 0\n",
            "\tparam_0, mean: -0.1311260565263801, std: 0.13901745663920323\n",
            "\tparam_1, mean: -0.5433398928315423, std: 0.7850911889404889\n",
            "\tparam_2, mean: 4.473612665811182, std: 2.8664431514791917\n",
            "\n",
            "Band: 1\n",
            "\tparam_0, mean: -0.21124008105421824, std: 0.16695869498330845\n",
            "\tparam_1, mean: 2.5927368592006337, std: 1.8342920654304113\n",
            "\tparam_2, mean: 0.929454289821309, std: 0.23545677317244637\n",
            "\n",
            "Band: 2\n",
            "\tparam_0, mean: -0.2949696261509744, std: 0.1653900222439968\n",
            "\tparam_1, mean: 3.568667666464293, std: 1.3203969243002458\n",
            "\tparam_2, mean: 2.871381976954073, std: 3.6672634971674807\n",
            "\n",
            "Band: 3\n",
            "\tparam_0, mean: -0.21911215983932536, std: 0.2530513079097591\n",
            "\tparam_1, mean: 3.5626129238387128, std: 0.947870832389072\n",
            "\tparam_2, mean: 1.0206030784664826, std: 0.0925559273067312\n",
            "\n",
            "Band: 4\n",
            "\tparam_0, mean: -0.16390796655273207, std: 0.20847561300263961\n",
            "\tparam_1, mean: 3.0212415074316605, std: 1.6598334474826\n",
            "\tparam_2, mean: 1.908464982241084, std: 2.6856472387188077\n",
            "\n",
            "Band: 5\n",
            "\tparam_0, mean: -0.2669398718293021, std: 0.3596283735016583\n",
            "\tparam_1, mean: 3.1995251999037984, std: 1.097199520293788\n",
            "\tparam_2, mean: 1.065545120086259, std: 0.1018877794639724\n",
            "\n"
          ]
        }
      ]
    },
    {
      "cell_type": "markdown",
      "source": [
        "As we can see, the majority of GP paramathers obtained after optimization, still have large variance comparable to (and sometimes exceeding) their avg, which tells us that all TS should not be fit with the same kernel (at least, with the provided setup). \n",
        "\n",
        "The fit for the whole ensemble could potentially be initialized with the most flexible kernel having reasonable complexity. We tried to do that in class (the kernel has periodic and stochastic components), but it looks like that more tinkering is required if we want to achieve better results for the whole ensamble.\n",
        "\n"
      ],
      "metadata": {
        "id": "cgrz5D0ybrGY"
      }
    }
  ]
}