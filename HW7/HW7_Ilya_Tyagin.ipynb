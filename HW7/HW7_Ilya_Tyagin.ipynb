{
  "nbformat": 4,
  "nbformat_minor": 0,
  "metadata": {
    "kernelspec": {
      "display_name": "Python 3",
      "language": "python",
      "name": "python3"
    },
    "language_info": {
      "codemirror_mode": {
        "name": "ipython",
        "version": 3
      },
      "file_extension": ".py",
      "mimetype": "text/x-python",
      "name": "python",
      "nbconvert_exporter": "python",
      "pygments_lexer": "ipython3",
      "version": "3.7.3"
    },
    "latex_envs": {
      "LaTeX_envs_menu_present": true,
      "autoclose": false,
      "autocomplete": true,
      "bibliofile": "biblio.bib",
      "cite_by": "apalike",
      "current_citInitial": 1,
      "eqLabelWithNumbers": true,
      "eqNumInitial": 1,
      "hotkeys": {
        "equation": "Ctrl-E",
        "itemize": "Ctrl-I"
      },
      "labels_anchors": false,
      "latex_user_defs": false,
      "report_style_numbering": false,
      "user_envs_cfg": false
    },
    "nbTranslate": {
      "displayLangs": [
        "*"
      ],
      "hotkey": "alt-t",
      "langInMainMenu": true,
      "sourceLang": "en",
      "targetLang": "fr",
      "useGoogleTranslate": true
    },
    "toc": {
      "base_numbering": 1,
      "nav_menu": {},
      "number_sections": true,
      "sideBar": true,
      "skip_h1_title": false,
      "title_cell": "Table of Contents",
      "title_sidebar": "Contents",
      "toc_cell": false,
      "toc_position": {},
      "toc_section_display": true,
      "toc_window_display": false
    },
    "colab": {
      "name": "HW7_Ilya_Tyagin",
      "provenance": [],
      "collapsed_sections": [],
      "toc_visible": true,
      "include_colab_link": true
    }
  },
  "cells": [
    {
      "cell_type": "markdown",
      "metadata": {
        "id": "view-in-github",
        "colab_type": "text"
      },
      "source": [
        "<a href=\"https://colab.research.google.com/github/IlyaTyagin/MLTSA22_ITyagin/blob/main/HW7/HW7_Ilya_Tyagin.ipynb\" target=\"_parent\"><img src=\"https://colab.research.google.com/assets/colab-badge.svg\" alt=\"Open In Colab\"/></a>"
      ]
    },
    {
      "cell_type": "markdown",
      "metadata": {
        "id": "eWKE7cXHsHCl"
      },
      "source": [
        "\n",
        "This is an exercise on feature extractoin and Gaussian Processes interpolation of sparse time series."
      ]
    },
    {
      "cell_type": "markdown",
      "metadata": {
        "id": "Zx-fcjEslVYc"
      },
      "source": [
        "## OVERVIEW\n",
        "\n",
        "The PLAsTiCC challend is a Kaggle challange to classify astrophysical objects (e.g. stars, exploding stars, stars with planets transiting, black holes) based on their time variability in light emission in 6 different bands (i.e. wavelength ranges). The sampling (the cadence of the observations) is designed to show what the upcming Rubin Observatory LSST (Legacy Survey of Space and Time) will see when it starts observing (in 2023). \n",
        "\n",
        "You can refer to this notebook https://www.kaggle.com/michaelapers/the-plasticc-astronomy-starter-kit (written by my good friend Gautham Narayan) to get started and ingest and preprocess the PLASTiCC challenge data. If you are not familiar with classes (object oriented syntax) do not worry about it: I do want you to extract the features yourself. So use it as a guideline, but do not just copy and paste.\n",
        "\n",
        "Your task is to extract features, i.e. representations of the time series, and fit the time series with Gaussian Processes. \n",
        "\n"
      ]
    },
    {
      "cell_type": "code",
      "metadata": {
        "ExecuteTime": {
          "end_time": "2020-04-05T15:08:27.530325Z",
          "start_time": "2020-04-05T15:08:26.971473Z"
        },
        "id": "-G6oPTITlVYd",
        "colab": {
          "base_uri": "https://localhost:8080/"
        },
        "outputId": "7bc83043-3089-4071-f9fd-7e6143f51c6a"
      },
      "source": [
        "import pandas as pd\n",
        "import numpy as np\n",
        "import pylab as pl\n",
        "import random\n",
        "from scipy import stats\n",
        "from tqdm import tqdm\n",
        "from collections import defaultdict\n",
        "tqdm.pandas()\n",
        "\n",
        "%pylab inline\n"
      ],
      "execution_count": 217,
      "outputs": [
        {
          "output_type": "stream",
          "name": "stdout",
          "text": [
            "Populating the interactive namespace from numpy and matplotlib\n"
          ]
        },
        {
          "output_type": "stream",
          "name": "stderr",
          "text": [
            "/usr/local/lib/python3.7/dist-packages/IPython/core/magics/pylab.py:161: UserWarning: pylab import has clobbered these variables: ['random']\n",
            "`%matplotlib` prevents importing * from pylab and numpy\n",
            "  \"\\n`%matplotlib` prevents importing * from pylab and numpy\"\n"
          ]
        }
      ]
    },
    {
      "cell_type": "code",
      "source": [
        "pl.rcParams['figure.figsize'] = (15, 10)"
      ],
      "metadata": {
        "id": "5Ln3a0cAnzyy"
      },
      "execution_count": null,
      "outputs": []
    },
    {
      "cell_type": "markdown",
      "metadata": {
        "ExecuteTime": {
          "end_time": "2020-04-05T14:30:57.608296Z",
          "start_time": "2020-04-05T14:30:57.606452Z"
        },
        "id": "w1y1TFCHlVYf"
      },
      "source": [
        "# TASK I :  Data Acquisition\n",
        " You can download the data from kaggle\n",
        " --- https://www.kaggle.com/c/PLAsTiCC-2018\n",
        " or from zenodo\n",
        " --- https://zenodo.org/record/2539456#.XonrIdNKjOQ\n",
        " Choose how to do it but make sure that it is a reproducible way. You will need the **training data and the metadata files** only - you wont need to use the test data\n"
      ]
    },
    {
      "cell_type": "code",
      "metadata": {
        "id": "B3GeSII5fsgF"
      },
      "source": [
        "lcvs = pd.read_csv(\n",
        "    \"\"\"https://zenodo.org/record/2539456/files/plasticc_train_lightcurves.csv.gz?download=1\"\"\", \n",
        "    compression='gzip'\n",
        "    )"
      ],
      "execution_count": null,
      "outputs": []
    },
    {
      "cell_type": "code",
      "source": [
        "lcvs.columns"
      ],
      "metadata": {
        "colab": {
          "base_uri": "https://localhost:8080/"
        },
        "id": "JhdVqRYYI-6N",
        "outputId": "f19584b2-828a-4775-8243-c53ac012e750"
      },
      "execution_count": null,
      "outputs": [
        {
          "output_type": "execute_result",
          "data": {
            "text/plain": [
              "Index(['object_id', 'mjd', 'passband', 'flux', 'flux_err', 'detected_bool'], dtype='object')"
            ]
          },
          "metadata": {},
          "execution_count": 29
        }
      ]
    },
    {
      "cell_type": "code",
      "source": [
        "lcvs.head()"
      ],
      "metadata": {
        "colab": {
          "base_uri": "https://localhost:8080/",
          "height": 206
        },
        "id": "zhVMXPXIIgmX",
        "outputId": "7369c16b-9dc1-469e-e8cc-0d528af1cb7a"
      },
      "execution_count": null,
      "outputs": [
        {
          "output_type": "execute_result",
          "data": {
            "text/plain": [
              "   object_id         mjd  passband        flux   flux_err  detected_bool\n",
              "0        615  59750.4229         2 -544.810303   3.622952              1\n",
              "1        615  59750.4306         1 -816.434326   5.553370              1\n",
              "2        615  59750.4383         3 -471.385529   3.801213              1\n",
              "3        615  59750.4450         4 -388.984985  11.395031              1\n",
              "4        615  59752.4070         2 -681.858887   4.041204              1"
            ],
            "text/html": [
              "\n",
              "  <div id=\"df-5a8926d8-2d4a-4a76-b999-e94c6d0dd24b\">\n",
              "    <div class=\"colab-df-container\">\n",
              "      <div>\n",
              "<style scoped>\n",
              "    .dataframe tbody tr th:only-of-type {\n",
              "        vertical-align: middle;\n",
              "    }\n",
              "\n",
              "    .dataframe tbody tr th {\n",
              "        vertical-align: top;\n",
              "    }\n",
              "\n",
              "    .dataframe thead th {\n",
              "        text-align: right;\n",
              "    }\n",
              "</style>\n",
              "<table border=\"1\" class=\"dataframe\">\n",
              "  <thead>\n",
              "    <tr style=\"text-align: right;\">\n",
              "      <th></th>\n",
              "      <th>object_id</th>\n",
              "      <th>mjd</th>\n",
              "      <th>passband</th>\n",
              "      <th>flux</th>\n",
              "      <th>flux_err</th>\n",
              "      <th>detected_bool</th>\n",
              "    </tr>\n",
              "  </thead>\n",
              "  <tbody>\n",
              "    <tr>\n",
              "      <th>0</th>\n",
              "      <td>615</td>\n",
              "      <td>59750.4229</td>\n",
              "      <td>2</td>\n",
              "      <td>-544.810303</td>\n",
              "      <td>3.622952</td>\n",
              "      <td>1</td>\n",
              "    </tr>\n",
              "    <tr>\n",
              "      <th>1</th>\n",
              "      <td>615</td>\n",
              "      <td>59750.4306</td>\n",
              "      <td>1</td>\n",
              "      <td>-816.434326</td>\n",
              "      <td>5.553370</td>\n",
              "      <td>1</td>\n",
              "    </tr>\n",
              "    <tr>\n",
              "      <th>2</th>\n",
              "      <td>615</td>\n",
              "      <td>59750.4383</td>\n",
              "      <td>3</td>\n",
              "      <td>-471.385529</td>\n",
              "      <td>3.801213</td>\n",
              "      <td>1</td>\n",
              "    </tr>\n",
              "    <tr>\n",
              "      <th>3</th>\n",
              "      <td>615</td>\n",
              "      <td>59750.4450</td>\n",
              "      <td>4</td>\n",
              "      <td>-388.984985</td>\n",
              "      <td>11.395031</td>\n",
              "      <td>1</td>\n",
              "    </tr>\n",
              "    <tr>\n",
              "      <th>4</th>\n",
              "      <td>615</td>\n",
              "      <td>59752.4070</td>\n",
              "      <td>2</td>\n",
              "      <td>-681.858887</td>\n",
              "      <td>4.041204</td>\n",
              "      <td>1</td>\n",
              "    </tr>\n",
              "  </tbody>\n",
              "</table>\n",
              "</div>\n",
              "      <button class=\"colab-df-convert\" onclick=\"convertToInteractive('df-5a8926d8-2d4a-4a76-b999-e94c6d0dd24b')\"\n",
              "              title=\"Convert this dataframe to an interactive table.\"\n",
              "              style=\"display:none;\">\n",
              "        \n",
              "  <svg xmlns=\"http://www.w3.org/2000/svg\" height=\"24px\"viewBox=\"0 0 24 24\"\n",
              "       width=\"24px\">\n",
              "    <path d=\"M0 0h24v24H0V0z\" fill=\"none\"/>\n",
              "    <path d=\"M18.56 5.44l.94 2.06.94-2.06 2.06-.94-2.06-.94-.94-2.06-.94 2.06-2.06.94zm-11 1L8.5 8.5l.94-2.06 2.06-.94-2.06-.94L8.5 2.5l-.94 2.06-2.06.94zm10 10l.94 2.06.94-2.06 2.06-.94-2.06-.94-.94-2.06-.94 2.06-2.06.94z\"/><path d=\"M17.41 7.96l-1.37-1.37c-.4-.4-.92-.59-1.43-.59-.52 0-1.04.2-1.43.59L10.3 9.45l-7.72 7.72c-.78.78-.78 2.05 0 2.83L4 21.41c.39.39.9.59 1.41.59.51 0 1.02-.2 1.41-.59l7.78-7.78 2.81-2.81c.8-.78.8-2.07 0-2.86zM5.41 20L4 18.59l7.72-7.72 1.47 1.35L5.41 20z\"/>\n",
              "  </svg>\n",
              "      </button>\n",
              "      \n",
              "  <style>\n",
              "    .colab-df-container {\n",
              "      display:flex;\n",
              "      flex-wrap:wrap;\n",
              "      gap: 12px;\n",
              "    }\n",
              "\n",
              "    .colab-df-convert {\n",
              "      background-color: #E8F0FE;\n",
              "      border: none;\n",
              "      border-radius: 50%;\n",
              "      cursor: pointer;\n",
              "      display: none;\n",
              "      fill: #1967D2;\n",
              "      height: 32px;\n",
              "      padding: 0 0 0 0;\n",
              "      width: 32px;\n",
              "    }\n",
              "\n",
              "    .colab-df-convert:hover {\n",
              "      background-color: #E2EBFA;\n",
              "      box-shadow: 0px 1px 2px rgba(60, 64, 67, 0.3), 0px 1px 3px 1px rgba(60, 64, 67, 0.15);\n",
              "      fill: #174EA6;\n",
              "    }\n",
              "\n",
              "    [theme=dark] .colab-df-convert {\n",
              "      background-color: #3B4455;\n",
              "      fill: #D2E3FC;\n",
              "    }\n",
              "\n",
              "    [theme=dark] .colab-df-convert:hover {\n",
              "      background-color: #434B5C;\n",
              "      box-shadow: 0px 1px 3px 1px rgba(0, 0, 0, 0.15);\n",
              "      filter: drop-shadow(0px 1px 2px rgba(0, 0, 0, 0.3));\n",
              "      fill: #FFFFFF;\n",
              "    }\n",
              "  </style>\n",
              "\n",
              "      <script>\n",
              "        const buttonEl =\n",
              "          document.querySelector('#df-5a8926d8-2d4a-4a76-b999-e94c6d0dd24b button.colab-df-convert');\n",
              "        buttonEl.style.display =\n",
              "          google.colab.kernel.accessAllowed ? 'block' : 'none';\n",
              "\n",
              "        async function convertToInteractive(key) {\n",
              "          const element = document.querySelector('#df-5a8926d8-2d4a-4a76-b999-e94c6d0dd24b');\n",
              "          const dataTable =\n",
              "            await google.colab.kernel.invokeFunction('convertToInteractive',\n",
              "                                                     [key], {});\n",
              "          if (!dataTable) return;\n",
              "\n",
              "          const docLinkHtml = 'Like what you see? Visit the ' +\n",
              "            '<a target=\"_blank\" href=https://colab.research.google.com/notebooks/data_table.ipynb>data table notebook</a>'\n",
              "            + ' to learn more about interactive tables.';\n",
              "          element.innerHTML = '';\n",
              "          dataTable['output_type'] = 'display_data';\n",
              "          await google.colab.output.renderOutput(dataTable, element);\n",
              "          const docLink = document.createElement('div');\n",
              "          docLink.innerHTML = docLinkHtml;\n",
              "          element.appendChild(docLink);\n",
              "        }\n",
              "      </script>\n",
              "    </div>\n",
              "  </div>\n",
              "  "
            ]
          },
          "metadata": {},
          "execution_count": 30
        }
      ]
    },
    {
      "cell_type": "code",
      "source": [
        "lcvs.rename(\n",
        "    columns={\n",
        "        'detected_bool': 'detected'\n",
        "    },\n",
        "    inplace=True,\n",
        "  )"
      ],
      "metadata": {
        "id": "QoTRkxdSJOxo"
      },
      "execution_count": null,
      "outputs": []
    },
    {
      "cell_type": "code",
      "metadata": {
        "colab": {
          "base_uri": "https://localhost:8080/",
          "height": 206
        },
        "id": "HGckMxtkgi05",
        "outputId": "53d01567-97d8-4ca2-878c-e0078581962c"
      },
      "source": [
        "lcvs.head()"
      ],
      "execution_count": null,
      "outputs": [
        {
          "output_type": "execute_result",
          "data": {
            "text/plain": [
              "   object_id         mjd  passband        flux   flux_err  detected\n",
              "0        615  59750.4229         2 -544.810303   3.622952         1\n",
              "1        615  59750.4306         1 -816.434326   5.553370         1\n",
              "2        615  59750.4383         3 -471.385529   3.801213         1\n",
              "3        615  59750.4450         4 -388.984985  11.395031         1\n",
              "4        615  59752.4070         2 -681.858887   4.041204         1"
            ],
            "text/html": [
              "\n",
              "  <div id=\"df-9dcb879a-5c00-4372-899b-46744e427a7b\">\n",
              "    <div class=\"colab-df-container\">\n",
              "      <div>\n",
              "<style scoped>\n",
              "    .dataframe tbody tr th:only-of-type {\n",
              "        vertical-align: middle;\n",
              "    }\n",
              "\n",
              "    .dataframe tbody tr th {\n",
              "        vertical-align: top;\n",
              "    }\n",
              "\n",
              "    .dataframe thead th {\n",
              "        text-align: right;\n",
              "    }\n",
              "</style>\n",
              "<table border=\"1\" class=\"dataframe\">\n",
              "  <thead>\n",
              "    <tr style=\"text-align: right;\">\n",
              "      <th></th>\n",
              "      <th>object_id</th>\n",
              "      <th>mjd</th>\n",
              "      <th>passband</th>\n",
              "      <th>flux</th>\n",
              "      <th>flux_err</th>\n",
              "      <th>detected</th>\n",
              "    </tr>\n",
              "  </thead>\n",
              "  <tbody>\n",
              "    <tr>\n",
              "      <th>0</th>\n",
              "      <td>615</td>\n",
              "      <td>59750.4229</td>\n",
              "      <td>2</td>\n",
              "      <td>-544.810303</td>\n",
              "      <td>3.622952</td>\n",
              "      <td>1</td>\n",
              "    </tr>\n",
              "    <tr>\n",
              "      <th>1</th>\n",
              "      <td>615</td>\n",
              "      <td>59750.4306</td>\n",
              "      <td>1</td>\n",
              "      <td>-816.434326</td>\n",
              "      <td>5.553370</td>\n",
              "      <td>1</td>\n",
              "    </tr>\n",
              "    <tr>\n",
              "      <th>2</th>\n",
              "      <td>615</td>\n",
              "      <td>59750.4383</td>\n",
              "      <td>3</td>\n",
              "      <td>-471.385529</td>\n",
              "      <td>3.801213</td>\n",
              "      <td>1</td>\n",
              "    </tr>\n",
              "    <tr>\n",
              "      <th>3</th>\n",
              "      <td>615</td>\n",
              "      <td>59750.4450</td>\n",
              "      <td>4</td>\n",
              "      <td>-388.984985</td>\n",
              "      <td>11.395031</td>\n",
              "      <td>1</td>\n",
              "    </tr>\n",
              "    <tr>\n",
              "      <th>4</th>\n",
              "      <td>615</td>\n",
              "      <td>59752.4070</td>\n",
              "      <td>2</td>\n",
              "      <td>-681.858887</td>\n",
              "      <td>4.041204</td>\n",
              "      <td>1</td>\n",
              "    </tr>\n",
              "  </tbody>\n",
              "</table>\n",
              "</div>\n",
              "      <button class=\"colab-df-convert\" onclick=\"convertToInteractive('df-9dcb879a-5c00-4372-899b-46744e427a7b')\"\n",
              "              title=\"Convert this dataframe to an interactive table.\"\n",
              "              style=\"display:none;\">\n",
              "        \n",
              "  <svg xmlns=\"http://www.w3.org/2000/svg\" height=\"24px\"viewBox=\"0 0 24 24\"\n",
              "       width=\"24px\">\n",
              "    <path d=\"M0 0h24v24H0V0z\" fill=\"none\"/>\n",
              "    <path d=\"M18.56 5.44l.94 2.06.94-2.06 2.06-.94-2.06-.94-.94-2.06-.94 2.06-2.06.94zm-11 1L8.5 8.5l.94-2.06 2.06-.94-2.06-.94L8.5 2.5l-.94 2.06-2.06.94zm10 10l.94 2.06.94-2.06 2.06-.94-2.06-.94-.94-2.06-.94 2.06-2.06.94z\"/><path d=\"M17.41 7.96l-1.37-1.37c-.4-.4-.92-.59-1.43-.59-.52 0-1.04.2-1.43.59L10.3 9.45l-7.72 7.72c-.78.78-.78 2.05 0 2.83L4 21.41c.39.39.9.59 1.41.59.51 0 1.02-.2 1.41-.59l7.78-7.78 2.81-2.81c.8-.78.8-2.07 0-2.86zM5.41 20L4 18.59l7.72-7.72 1.47 1.35L5.41 20z\"/>\n",
              "  </svg>\n",
              "      </button>\n",
              "      \n",
              "  <style>\n",
              "    .colab-df-container {\n",
              "      display:flex;\n",
              "      flex-wrap:wrap;\n",
              "      gap: 12px;\n",
              "    }\n",
              "\n",
              "    .colab-df-convert {\n",
              "      background-color: #E8F0FE;\n",
              "      border: none;\n",
              "      border-radius: 50%;\n",
              "      cursor: pointer;\n",
              "      display: none;\n",
              "      fill: #1967D2;\n",
              "      height: 32px;\n",
              "      padding: 0 0 0 0;\n",
              "      width: 32px;\n",
              "    }\n",
              "\n",
              "    .colab-df-convert:hover {\n",
              "      background-color: #E2EBFA;\n",
              "      box-shadow: 0px 1px 2px rgba(60, 64, 67, 0.3), 0px 1px 3px 1px rgba(60, 64, 67, 0.15);\n",
              "      fill: #174EA6;\n",
              "    }\n",
              "\n",
              "    [theme=dark] .colab-df-convert {\n",
              "      background-color: #3B4455;\n",
              "      fill: #D2E3FC;\n",
              "    }\n",
              "\n",
              "    [theme=dark] .colab-df-convert:hover {\n",
              "      background-color: #434B5C;\n",
              "      box-shadow: 0px 1px 3px 1px rgba(0, 0, 0, 0.15);\n",
              "      filter: drop-shadow(0px 1px 2px rgba(0, 0, 0, 0.3));\n",
              "      fill: #FFFFFF;\n",
              "    }\n",
              "  </style>\n",
              "\n",
              "      <script>\n",
              "        const buttonEl =\n",
              "          document.querySelector('#df-9dcb879a-5c00-4372-899b-46744e427a7b button.colab-df-convert');\n",
              "        buttonEl.style.display =\n",
              "          google.colab.kernel.accessAllowed ? 'block' : 'none';\n",
              "\n",
              "        async function convertToInteractive(key) {\n",
              "          const element = document.querySelector('#df-9dcb879a-5c00-4372-899b-46744e427a7b');\n",
              "          const dataTable =\n",
              "            await google.colab.kernel.invokeFunction('convertToInteractive',\n",
              "                                                     [key], {});\n",
              "          if (!dataTable) return;\n",
              "\n",
              "          const docLinkHtml = 'Like what you see? Visit the ' +\n",
              "            '<a target=\"_blank\" href=https://colab.research.google.com/notebooks/data_table.ipynb>data table notebook</a>'\n",
              "            + ' to learn more about interactive tables.';\n",
              "          element.innerHTML = '';\n",
              "          dataTable['output_type'] = 'display_data';\n",
              "          await google.colab.output.renderOutput(dataTable, element);\n",
              "          const docLink = document.createElement('div');\n",
              "          docLink.innerHTML = docLinkHtml;\n",
              "          element.appendChild(docLink);\n",
              "        }\n",
              "      </script>\n",
              "    </div>\n",
              "  </div>\n",
              "  "
            ]
          },
          "metadata": {},
          "execution_count": 16
        }
      ]
    },
    {
      "cell_type": "code",
      "metadata": {
        "colab": {
          "base_uri": "https://localhost:8080/"
        },
        "id": "-WiZeVM42Y0Q",
        "outputId": "993da775-beab-4d3e-fafc-5e956f82cac9"
      },
      "source": [
        "print(\"The shape of light curves dataset is:\", lcvs.shape)"
      ],
      "execution_count": null,
      "outputs": [
        {
          "output_type": "stream",
          "name": "stdout",
          "text": [
            "The shape of light curves dataset is: (1421705, 6)\n"
          ]
        }
      ]
    },
    {
      "cell_type": "code",
      "metadata": {
        "id": "BQL3NuaD2k8p",
        "colab": {
          "base_uri": "https://localhost:8080/"
        },
        "outputId": "31902b3c-ede4-4391-8e28-01b2a4eddc4c"
      },
      "source": [
        "#check missing values\n",
        "lcvs.isna().sum()"
      ],
      "execution_count": null,
      "outputs": [
        {
          "output_type": "execute_result",
          "data": {
            "text/plain": [
              "object_id    0\n",
              "mjd          0\n",
              "passband     0\n",
              "flux         0\n",
              "flux_err     0\n",
              "detected     0\n",
              "dtype: int64"
            ]
          },
          "metadata": {},
          "execution_count": 18
        }
      ]
    },
    {
      "cell_type": "markdown",
      "metadata": {
        "id": "TWugx930lVYg"
      },
      "source": [
        "Read the Kaggle challenge for a description of the data . This \"Starter Kit\" which includes a notebook (written by y good friend Gautham Narayan) may be especially useful\n",
        "https://www.kaggle.com/michaelapers/the-plasticc-astronomy-starter-kit"
      ]
    },
    {
      "cell_type": "markdown",
      "metadata": {
        "id": "2ZyOj9TElVYg"
      },
      "source": [
        "For each object there are 6 time series in 6 different passbands "
      ]
    },
    {
      "cell_type": "code",
      "metadata": {
        "ExecuteTime": {
          "end_time": "2020-04-05T15:08:28.281141Z",
          "start_time": "2020-04-05T15:08:28.273051Z"
        },
        "id": "MJy3H0dplVYg",
        "colab": {
          "base_uri": "https://localhost:8080/"
        },
        "outputId": "e1204b2b-dbeb-48ce-ea2d-d53d49b6597a"
      },
      "source": [
        "bands = lcvs[\"passband\"].unique()\n",
        "print(\"Passbands (filter) identifiers:\", bands)"
      ],
      "execution_count": null,
      "outputs": [
        {
          "output_type": "stream",
          "name": "stdout",
          "text": [
            "Passbands (filter) identifiers: [2 1 3 4 5 0]\n"
          ]
        }
      ]
    },
    {
      "cell_type": "code",
      "metadata": {
        "ExecuteTime": {
          "end_time": "2020-04-05T15:08:28.299030Z",
          "start_time": "2020-04-05T15:08:28.283127Z"
        },
        "id": "75WQrrI8lVYh",
        "colab": {
          "base_uri": "https://localhost:8080/"
        },
        "outputId": "20aa53f4-9b51-48e1-baa2-a0b060ea3811"
      },
      "source": [
        "objects = lcvs[\"object_id\"].unique()\n",
        "print(\"There are {} astrophysical simulated objects in my dataset\".format(objects.shape[0]))"
      ],
      "execution_count": null,
      "outputs": [
        {
          "output_type": "stream",
          "name": "stdout",
          "text": [
            "There are 7848 astrophysical simulated objects in my dataset\n"
          ]
        }
      ]
    },
    {
      "cell_type": "code",
      "source": [
        "metadata = pd.read_csv(\n",
        "    \"\"\"https://zenodo.org/record/2539456/files/plasticc_train_metadata.csv.gz?download=1\"\"\", \n",
        "    compression='gzip'\n",
        "    )"
      ],
      "metadata": {
        "id": "q1ggV7vRL_bR"
      },
      "execution_count": null,
      "outputs": []
    },
    {
      "cell_type": "code",
      "metadata": {
        "colab": {
          "base_uri": "https://localhost:8080/",
          "height": 299
        },
        "id": "USNm_ECcPRSI",
        "outputId": "32982f03-0431-4516-ea8c-0952cc3a1d4a"
      },
      "source": [
        "metadata.head()"
      ],
      "execution_count": null,
      "outputs": [
        {
          "output_type": "execute_result",
          "data": {
            "text/plain": [
              "   object_id        ra     decl  ddf_bool  hostgal_specz  hostgal_photoz  \\\n",
              "0        615  349.0461 -61.9438         1          0.000           0.000   \n",
              "1        713   53.0859 -27.7844         1          1.818           1.627   \n",
              "2        730   33.5742  -6.5796         1          0.232           0.226   \n",
              "3        745    0.1899 -45.5867         1          0.304           0.281   \n",
              "4       1124  352.7113 -63.8237         1          0.193           0.241   \n",
              "\n",
              "   hostgal_photoz_err  distmod  mwebv  target  ...  true_rv  true_av  \\\n",
              "0               0.000   -9.000  0.017      92  ...      0.0      0.0   \n",
              "1               0.255   45.406  0.007      88  ...      0.0      0.0   \n",
              "2               0.016   40.256  0.021      42  ...      0.0      0.0   \n",
              "3               1.152   40.795  0.007      90  ...      0.0      0.0   \n",
              "4               0.018   40.417  0.024      90  ...      0.0      0.0   \n",
              "\n",
              "   true_peakmjd  libid_cadence  tflux_u  tflux_g  tflux_r  tflux_i  tflux_z  \\\n",
              "0     59570.000             69    484.7   3286.7   3214.1   3039.7   2854.5   \n",
              "1     59570.000             34    108.7    117.7    119.9    149.6    147.9   \n",
              "2     60444.379              9      0.0      0.0      0.0      0.0      0.0   \n",
              "3     60130.453             38      0.0      0.0      0.0      0.0      0.0   \n",
              "4     60452.641              1      0.0      0.0      0.0      0.0      0.0   \n",
              "\n",
              "   tflux_y  \n",
              "0   2837.0  \n",
              "1    150.5  \n",
              "2      0.0  \n",
              "3      0.0  \n",
              "4      0.0  \n",
              "\n",
              "[5 rows x 26 columns]"
            ],
            "text/html": [
              "\n",
              "  <div id=\"df-7b77d8ea-2d9c-472a-a329-fd76564a7cdc\">\n",
              "    <div class=\"colab-df-container\">\n",
              "      <div>\n",
              "<style scoped>\n",
              "    .dataframe tbody tr th:only-of-type {\n",
              "        vertical-align: middle;\n",
              "    }\n",
              "\n",
              "    .dataframe tbody tr th {\n",
              "        vertical-align: top;\n",
              "    }\n",
              "\n",
              "    .dataframe thead th {\n",
              "        text-align: right;\n",
              "    }\n",
              "</style>\n",
              "<table border=\"1\" class=\"dataframe\">\n",
              "  <thead>\n",
              "    <tr style=\"text-align: right;\">\n",
              "      <th></th>\n",
              "      <th>object_id</th>\n",
              "      <th>ra</th>\n",
              "      <th>decl</th>\n",
              "      <th>ddf_bool</th>\n",
              "      <th>hostgal_specz</th>\n",
              "      <th>hostgal_photoz</th>\n",
              "      <th>hostgal_photoz_err</th>\n",
              "      <th>distmod</th>\n",
              "      <th>mwebv</th>\n",
              "      <th>target</th>\n",
              "      <th>...</th>\n",
              "      <th>true_rv</th>\n",
              "      <th>true_av</th>\n",
              "      <th>true_peakmjd</th>\n",
              "      <th>libid_cadence</th>\n",
              "      <th>tflux_u</th>\n",
              "      <th>tflux_g</th>\n",
              "      <th>tflux_r</th>\n",
              "      <th>tflux_i</th>\n",
              "      <th>tflux_z</th>\n",
              "      <th>tflux_y</th>\n",
              "    </tr>\n",
              "  </thead>\n",
              "  <tbody>\n",
              "    <tr>\n",
              "      <th>0</th>\n",
              "      <td>615</td>\n",
              "      <td>349.0461</td>\n",
              "      <td>-61.9438</td>\n",
              "      <td>1</td>\n",
              "      <td>0.000</td>\n",
              "      <td>0.000</td>\n",
              "      <td>0.000</td>\n",
              "      <td>-9.000</td>\n",
              "      <td>0.017</td>\n",
              "      <td>92</td>\n",
              "      <td>...</td>\n",
              "      <td>0.0</td>\n",
              "      <td>0.0</td>\n",
              "      <td>59570.000</td>\n",
              "      <td>69</td>\n",
              "      <td>484.7</td>\n",
              "      <td>3286.7</td>\n",
              "      <td>3214.1</td>\n",
              "      <td>3039.7</td>\n",
              "      <td>2854.5</td>\n",
              "      <td>2837.0</td>\n",
              "    </tr>\n",
              "    <tr>\n",
              "      <th>1</th>\n",
              "      <td>713</td>\n",
              "      <td>53.0859</td>\n",
              "      <td>-27.7844</td>\n",
              "      <td>1</td>\n",
              "      <td>1.818</td>\n",
              "      <td>1.627</td>\n",
              "      <td>0.255</td>\n",
              "      <td>45.406</td>\n",
              "      <td>0.007</td>\n",
              "      <td>88</td>\n",
              "      <td>...</td>\n",
              "      <td>0.0</td>\n",
              "      <td>0.0</td>\n",
              "      <td>59570.000</td>\n",
              "      <td>34</td>\n",
              "      <td>108.7</td>\n",
              "      <td>117.7</td>\n",
              "      <td>119.9</td>\n",
              "      <td>149.6</td>\n",
              "      <td>147.9</td>\n",
              "      <td>150.5</td>\n",
              "    </tr>\n",
              "    <tr>\n",
              "      <th>2</th>\n",
              "      <td>730</td>\n",
              "      <td>33.5742</td>\n",
              "      <td>-6.5796</td>\n",
              "      <td>1</td>\n",
              "      <td>0.232</td>\n",
              "      <td>0.226</td>\n",
              "      <td>0.016</td>\n",
              "      <td>40.256</td>\n",
              "      <td>0.021</td>\n",
              "      <td>42</td>\n",
              "      <td>...</td>\n",
              "      <td>0.0</td>\n",
              "      <td>0.0</td>\n",
              "      <td>60444.379</td>\n",
              "      <td>9</td>\n",
              "      <td>0.0</td>\n",
              "      <td>0.0</td>\n",
              "      <td>0.0</td>\n",
              "      <td>0.0</td>\n",
              "      <td>0.0</td>\n",
              "      <td>0.0</td>\n",
              "    </tr>\n",
              "    <tr>\n",
              "      <th>3</th>\n",
              "      <td>745</td>\n",
              "      <td>0.1899</td>\n",
              "      <td>-45.5867</td>\n",
              "      <td>1</td>\n",
              "      <td>0.304</td>\n",
              "      <td>0.281</td>\n",
              "      <td>1.152</td>\n",
              "      <td>40.795</td>\n",
              "      <td>0.007</td>\n",
              "      <td>90</td>\n",
              "      <td>...</td>\n",
              "      <td>0.0</td>\n",
              "      <td>0.0</td>\n",
              "      <td>60130.453</td>\n",
              "      <td>38</td>\n",
              "      <td>0.0</td>\n",
              "      <td>0.0</td>\n",
              "      <td>0.0</td>\n",
              "      <td>0.0</td>\n",
              "      <td>0.0</td>\n",
              "      <td>0.0</td>\n",
              "    </tr>\n",
              "    <tr>\n",
              "      <th>4</th>\n",
              "      <td>1124</td>\n",
              "      <td>352.7113</td>\n",
              "      <td>-63.8237</td>\n",
              "      <td>1</td>\n",
              "      <td>0.193</td>\n",
              "      <td>0.241</td>\n",
              "      <td>0.018</td>\n",
              "      <td>40.417</td>\n",
              "      <td>0.024</td>\n",
              "      <td>90</td>\n",
              "      <td>...</td>\n",
              "      <td>0.0</td>\n",
              "      <td>0.0</td>\n",
              "      <td>60452.641</td>\n",
              "      <td>1</td>\n",
              "      <td>0.0</td>\n",
              "      <td>0.0</td>\n",
              "      <td>0.0</td>\n",
              "      <td>0.0</td>\n",
              "      <td>0.0</td>\n",
              "      <td>0.0</td>\n",
              "    </tr>\n",
              "  </tbody>\n",
              "</table>\n",
              "<p>5 rows × 26 columns</p>\n",
              "</div>\n",
              "      <button class=\"colab-df-convert\" onclick=\"convertToInteractive('df-7b77d8ea-2d9c-472a-a329-fd76564a7cdc')\"\n",
              "              title=\"Convert this dataframe to an interactive table.\"\n",
              "              style=\"display:none;\">\n",
              "        \n",
              "  <svg xmlns=\"http://www.w3.org/2000/svg\" height=\"24px\"viewBox=\"0 0 24 24\"\n",
              "       width=\"24px\">\n",
              "    <path d=\"M0 0h24v24H0V0z\" fill=\"none\"/>\n",
              "    <path d=\"M18.56 5.44l.94 2.06.94-2.06 2.06-.94-2.06-.94-.94-2.06-.94 2.06-2.06.94zm-11 1L8.5 8.5l.94-2.06 2.06-.94-2.06-.94L8.5 2.5l-.94 2.06-2.06.94zm10 10l.94 2.06.94-2.06 2.06-.94-2.06-.94-.94-2.06-.94 2.06-2.06.94z\"/><path d=\"M17.41 7.96l-1.37-1.37c-.4-.4-.92-.59-1.43-.59-.52 0-1.04.2-1.43.59L10.3 9.45l-7.72 7.72c-.78.78-.78 2.05 0 2.83L4 21.41c.39.39.9.59 1.41.59.51 0 1.02-.2 1.41-.59l7.78-7.78 2.81-2.81c.8-.78.8-2.07 0-2.86zM5.41 20L4 18.59l7.72-7.72 1.47 1.35L5.41 20z\"/>\n",
              "  </svg>\n",
              "      </button>\n",
              "      \n",
              "  <style>\n",
              "    .colab-df-container {\n",
              "      display:flex;\n",
              "      flex-wrap:wrap;\n",
              "      gap: 12px;\n",
              "    }\n",
              "\n",
              "    .colab-df-convert {\n",
              "      background-color: #E8F0FE;\n",
              "      border: none;\n",
              "      border-radius: 50%;\n",
              "      cursor: pointer;\n",
              "      display: none;\n",
              "      fill: #1967D2;\n",
              "      height: 32px;\n",
              "      padding: 0 0 0 0;\n",
              "      width: 32px;\n",
              "    }\n",
              "\n",
              "    .colab-df-convert:hover {\n",
              "      background-color: #E2EBFA;\n",
              "      box-shadow: 0px 1px 2px rgba(60, 64, 67, 0.3), 0px 1px 3px 1px rgba(60, 64, 67, 0.15);\n",
              "      fill: #174EA6;\n",
              "    }\n",
              "\n",
              "    [theme=dark] .colab-df-convert {\n",
              "      background-color: #3B4455;\n",
              "      fill: #D2E3FC;\n",
              "    }\n",
              "\n",
              "    [theme=dark] .colab-df-convert:hover {\n",
              "      background-color: #434B5C;\n",
              "      box-shadow: 0px 1px 3px 1px rgba(0, 0, 0, 0.15);\n",
              "      filter: drop-shadow(0px 1px 2px rgba(0, 0, 0, 0.3));\n",
              "      fill: #FFFFFF;\n",
              "    }\n",
              "  </style>\n",
              "\n",
              "      <script>\n",
              "        const buttonEl =\n",
              "          document.querySelector('#df-7b77d8ea-2d9c-472a-a329-fd76564a7cdc button.colab-df-convert');\n",
              "        buttonEl.style.display =\n",
              "          google.colab.kernel.accessAllowed ? 'block' : 'none';\n",
              "\n",
              "        async function convertToInteractive(key) {\n",
              "          const element = document.querySelector('#df-7b77d8ea-2d9c-472a-a329-fd76564a7cdc');\n",
              "          const dataTable =\n",
              "            await google.colab.kernel.invokeFunction('convertToInteractive',\n",
              "                                                     [key], {});\n",
              "          if (!dataTable) return;\n",
              "\n",
              "          const docLinkHtml = 'Like what you see? Visit the ' +\n",
              "            '<a target=\"_blank\" href=https://colab.research.google.com/notebooks/data_table.ipynb>data table notebook</a>'\n",
              "            + ' to learn more about interactive tables.';\n",
              "          element.innerHTML = '';\n",
              "          dataTable['output_type'] = 'display_data';\n",
              "          await google.colab.output.renderOutput(dataTable, element);\n",
              "          const docLink = document.createElement('div');\n",
              "          docLink.innerHTML = docLinkHtml;\n",
              "          element.appendChild(docLink);\n",
              "        }\n",
              "      </script>\n",
              "    </div>\n",
              "  </div>\n",
              "  "
            ]
          },
          "metadata": {},
          "execution_count": 34
        }
      ]
    },
    {
      "cell_type": "code",
      "metadata": {
        "id": "VuWokYGTRP8r",
        "colab": {
          "base_uri": "https://localhost:8080/"
        },
        "outputId": "14748afe-a141-49ea-9ded-69bbe46061c1"
      },
      "source": [
        "print(\"The metadata columns are: \", metadata.columns)"
      ],
      "execution_count": null,
      "outputs": [
        {
          "output_type": "stream",
          "name": "stdout",
          "text": [
            "The metadata columns are:  Index(['object_id', 'ra', 'decl', 'ddf_bool', 'hostgal_specz',\n",
            "       'hostgal_photoz', 'hostgal_photoz_err', 'distmod', 'mwebv', 'target',\n",
            "       'true_target', 'true_submodel', 'true_z', 'true_distmod',\n",
            "       'true_lensdmu', 'true_vpec', 'true_rv', 'true_av', 'true_peakmjd',\n",
            "       'libid_cadence', 'tflux_u', 'tflux_g', 'tflux_r', 'tflux_i', 'tflux_z',\n",
            "       'tflux_y'],\n",
            "      dtype='object')\n"
          ]
        }
      ]
    },
    {
      "cell_type": "code",
      "metadata": {
        "id": "1tQRZvDRRafP",
        "colab": {
          "base_uri": "https://localhost:8080/"
        },
        "outputId": "64fed99e-bebb-4d53-c088-50c587056c8b"
      },
      "source": [
        "print(\"The metadata dataset contains features: \", metadata.shape[1])"
      ],
      "execution_count": null,
      "outputs": [
        {
          "output_type": "stream",
          "name": "stdout",
          "text": [
            "The metadata dataset contains features:  26\n"
          ]
        }
      ]
    },
    {
      "cell_type": "markdown",
      "metadata": {
        "id": "toxu4YKKlVYi"
      },
      "source": [
        "# TASK II : data exploration and visualization - plot some time series \n",
        "Visualize my data to get a sense of what we are working with. \n",
        "\n",
        "\n",
        "\n"
      ]
    },
    {
      "cell_type": "code",
      "source": [
        "pip install astropy"
      ],
      "metadata": {
        "colab": {
          "base_uri": "https://localhost:8080/"
        },
        "id": "Teo-ULZYJs_l",
        "outputId": "01facf67-9b01-40b1-b221-90ffc4c1e4cf"
      },
      "execution_count": null,
      "outputs": [
        {
          "output_type": "stream",
          "name": "stdout",
          "text": [
            "Requirement already satisfied: astropy in /usr/local/lib/python3.7/dist-packages (4.3.1)\n",
            "Requirement already satisfied: importlib-metadata in /usr/local/lib/python3.7/dist-packages (from astropy) (4.11.3)\n",
            "Requirement already satisfied: pyerfa>=1.7.3 in /usr/local/lib/python3.7/dist-packages (from astropy) (2.0.0.1)\n",
            "Requirement already satisfied: numpy>=1.17 in /usr/local/lib/python3.7/dist-packages (from astropy) (1.21.5)\n",
            "Requirement already satisfied: zipp>=0.5 in /usr/local/lib/python3.7/dist-packages (from importlib-metadata->astropy) (3.7.0)\n",
            "Requirement already satisfied: typing-extensions>=3.6.4 in /usr/local/lib/python3.7/dist-packages (from importlib-metadata->astropy) (3.10.0.2)\n"
          ]
        }
      ]
    },
    {
      "cell_type": "code",
      "source": [
        "from astropy.table import Table\n",
        "import scipy.stats as spstat"
      ],
      "metadata": {
        "id": "_H-bFOMnJzDF"
      },
      "execution_count": null,
      "outputs": []
    },
    {
      "cell_type": "code",
      "source": [
        "class LightCurve(object):\n",
        "    '''Light curve object for PLAsTiCC formatted data'''\n",
        "    \n",
        "    _passbands = dict([(0,'C4'),\\\n",
        "                      (1,'C2'),\\\n",
        "                      (2,'C3'),\\\n",
        "                      (3,'C1'),\\\n",
        "                      (4,'k'),\\\n",
        "                      (5,'C5')])\n",
        "    \n",
        "    _pbnames = ['u','g','r','i','z','y']\n",
        "    \n",
        "    def __init__(self, filename, obj_name):\n",
        "        '''Read in light curve data'''\n",
        "\n",
        "        #self.DFlc     = Table.read(filename, format='ascii.csv')\n",
        "        #self.filename = filename.replace('.csv','')\n",
        "\n",
        "        self.DFlc = filename\n",
        "        self.filename = obj_name\n",
        "\n",
        "        self._finalize()\n",
        "     \n",
        "    # this is some simple code to demonstrate how to calculate features on these multiband light curves\n",
        "    # we're not suggesting using these features specifically\n",
        "    # there also might be additional pre-processing you do before computing anything\n",
        "    # it's purely for illustration\n",
        "    def _finalize(self):\n",
        "        '''Store individual passband fluxes as object attributes'''\n",
        "        # in this example, we'll use the weighted mean to normalize the features\n",
        "        weighted_mean = lambda flux, dflux: np.sum(flux*(flux/dflux)**2)/np.sum((flux/dflux)**2)\n",
        "        \n",
        "        # define some functions to compute simple descriptive statistics\n",
        "        normalized_flux_std = lambda flux, wMeanFlux: np.std(flux/wMeanFlux, ddof = 1)\n",
        "        normalized_amplitude = lambda flux, wMeanFlux: (np.max(flux) - np.min(flux))/wMeanFlux\n",
        "        normalized_MAD = lambda flux, wMeanFlux: np.median(np.abs((flux - np.median(flux))/wMeanFlux))\n",
        "        beyond_1std = lambda flux, wMeanFlux: sum(np.abs(flux - wMeanFlux) > np.std(flux, ddof = 1))/len(flux)\n",
        "        \n",
        "        for pb in self._passbands:\n",
        "            ind = self.DFlc['passband'] == pb\n",
        "            pbname = self._pbnames[pb]\n",
        "            \n",
        "            if len(self.DFlc[ind]) == 0:\n",
        "                setattr(self, f'{pbname}Std', np.nan)\n",
        "                setattr(self, f'{pbname}Amp', np.nan)\n",
        "                setattr(self, f'{pbname}MAD', np.nan)\n",
        "                setattr(self, f'{pbname}Beyond', np.nan)\n",
        "                setattr(self, f'{pbname}Skew', np.nan)\n",
        "                continue\n",
        "            \n",
        "            f  = self.DFlc['flux'][ind]\n",
        "            df = self.DFlc['flux_err'][ind]\n",
        "            m  = weighted_mean(f, df)\n",
        "            \n",
        "            # we'll save the measurements in each passband to simplify access.\n",
        "            setattr(self, f'{pbname}Flux', f)\n",
        "            setattr(self, f'{pbname}FluxUnc', df)\n",
        "            setattr(self, f'{pbname}Mean', m)\n",
        "            \n",
        "            # compute the features\n",
        "            std = normalized_flux_std(f, df)\n",
        "            amp = normalized_amplitude(f, m)\n",
        "            mad = normalized_MAD(f, m)\n",
        "            beyond = beyond_1std(f, m)\n",
        "            skew = spstat.skew(f) \n",
        "            \n",
        "            # and save the features\n",
        "            setattr(self, f'{pbname}Std', std)\n",
        "            setattr(self, f'{pbname}Amp', amp)\n",
        "            setattr(self, f'{pbname}MAD', mad)\n",
        "            setattr(self, f'{pbname}Beyond', beyond)\n",
        "            setattr(self, f'{pbname}Skew', skew)\n",
        "        \n",
        "        # we can also construct features between passbands\n",
        "        pbs = list(self._passbands.keys())\n",
        "        for i, lpb in enumerate(pbs[0:-1]):\n",
        "            rpb = pbs[i+1]\n",
        "            \n",
        "            lpbname = self._pbnames[lpb]\n",
        "            rpbname = self._pbnames[rpb]\n",
        "            \n",
        "            colname = '{}Minus{}'.format(lpbname, rpbname.upper())\n",
        "            lMean = getattr(self, f'{lpbname}Mean', np.nan)\n",
        "            rMean = getattr(self, f'{rpbname}Mean', np.nan)\n",
        "            col = -2.5*np.log10(lMean/rMean) if lMean> 0 and rMean > 0 else -999\n",
        "            setattr(self, colname, col)\n",
        "    \n",
        "    # this is a simple routine to visualize a light curve\n",
        "    # it can plot vs the MJD array of the light curve\n",
        "    # or vs an optional `phase` array that you pass \n",
        "    def plot_multicolor_lc(self, phase=None):\n",
        "        '''Plot the multiband light curve'''\n",
        "\n",
        "        fig, ax = plt.subplots(figsize=(8,6))\n",
        "\n",
        "        \n",
        "        if phase is None:\n",
        "            phase = []\n",
        "        if len(phase) != len(self.DFlc):\n",
        "            phase = self.DFlc['mjd']\n",
        "            xlabel = 'MJD'\n",
        "        else:\n",
        "            xlabel = 'Phase'\n",
        "            \n",
        "        for i, pb in enumerate(self._passbands):\n",
        "            pbname = self._pbnames[pb]\n",
        "            ind = self.DFlc['passband'] == pb\n",
        "            if len(self.DFlc[ind]) == 0:\n",
        "                continue\n",
        "            ax.errorbar(phase[ind], \n",
        "                     self.DFlc['flux'][ind],\n",
        "                     self.DFlc['flux_err'][ind],\n",
        "                     fmt = 'o', color = self._passbands[pb], label = f'{pbname}')\n",
        "        ax.legend(ncol = 4, frameon = True)\n",
        "        ax.set_xlabel(f'{xlabel}', fontsize='large')\n",
        "        ax.set_ylabel('Flux', fontsize='large')\n",
        "        fig.suptitle(self.filename, fontsize='x-large')\n",
        "        fig.tight_layout(rect=[0, 0, 1, 0.97])\n",
        "    \n",
        "    def get_features(self):\n",
        "        '''Return all the features for this object'''\n",
        "        variables = ['Std', 'Amp', 'MAD', 'Beyond', 'Skew']\n",
        "        feats = []\n",
        "        for i, pb in enumerate(self._passbands):\n",
        "            pbname = self._pbnames[pb]\n",
        "            feats += [getattr(self, f'{pbname}{x}', np.nan) for x in variables]\n",
        "        return feats"
      ],
      "metadata": {
        "id": "hNX1dO2GJQoC"
      },
      "execution_count": null,
      "outputs": []
    },
    {
      "cell_type": "code",
      "source": [
        "LightCurve(\n",
        "    lcvs[lcvs['object_id'] == 615],\n",
        "    obj_name = '615'\n",
        ").plot_multicolor_lc()"
      ],
      "metadata": {
        "colab": {
          "base_uri": "https://localhost:8080/",
          "height": 443
        },
        "id": "EEBXJP4iKKO8",
        "outputId": "8bdf605c-c41f-49e3-c80b-aa36faa493be"
      },
      "execution_count": null,
      "outputs": [
        {
          "output_type": "display_data",
          "data": {
            "text/plain": [
              "<Figure size 576x432 with 1 Axes>"
            ],
            "image/png": "[encoded data removed]"
          },
          "metadata": {
            "needs_background": "light"
          }
        }
      ]
    },
    {
      "cell_type": "markdown",
      "metadata": {
        "id": "UZB5DqYwnVpQ"
      },
      "source": [
        "Plot light curves for 10 objects. "
      ]
    },
    {
      "cell_type": "code",
      "source": [
        "np.random.seed(42)"
      ],
      "metadata": {
        "id": "CIXOdSs7L2XG"
      },
      "execution_count": null,
      "outputs": []
    },
    {
      "cell_type": "code",
      "source": [
        "obj_sample = np.random.choice(objects, 10)"
      ],
      "metadata": {
        "id": "C3kCVHJoOTks"
      },
      "execution_count": null,
      "outputs": []
    },
    {
      "cell_type": "code",
      "source": [
        "for obj_id in obj_sample:\n",
        "  LightCurve(\n",
        "    lcvs[lcvs['object_id'] == obj_id],\n",
        "    obj_name = obj_id\n",
        ").plot_multicolor_lc()"
      ],
      "metadata": {
        "colab": {
          "base_uri": "https://localhost:8080/",
          "height": 1000
        },
        "id": "QJCGD0FkL-Y6",
        "outputId": "89f0647e-3fde-4a03-cc1c-ce223ee81c3d"
      },
      "execution_count": null,
      "outputs": [
        {
          "output_type": "display_data",
          "data": {
            "text/plain": [
              "<Figure size 576x432 with 1 Axes>"
            ],
            "image/png": "[encoded data removed]"
          },
          "metadata": {
            "needs_background": "light"
          }
        },
        {
          "output_type": "display_data",
          "data": {
            "text/plain": [
              "<Figure size 576x432 with 1 Axes>"
            ],
            "image/png": "[encoded data removed]"
          },
          "metadata": {
            "needs_background": "light"
          }
        },
        {
          "output_type": "display_data",
          "data": {
            "text/plain": [
              "<Figure size 576x432 with 1 Axes>"
            ],
            "image/png": "[encoded data removed]"
          },
          "metadata": {
            "needs_background": "light"
          }
        },
        {
          "output_type": "display_data",
          "data": {
            "text/plain": [
              "<Figure size 576x432 with 1 Axes>"
            ],
            "image/png": "[encoded data removed]"
          },
          "metadata": {
            "needs_background": "light"
          }
        },
        {
          "output_type": "display_data",
          "data": {
            "text/plain": [
              "<Figure size 576x432 with 1 Axes>"
            ],
            "image/png": "[encoded data removed]"
          },
          "metadata": {
            "needs_background": "light"
          }
        },
        {
          "output_type": "display_data",
          "data": {
            "text/plain": [
              "<Figure size 576x432 with 1 Axes>"
            ],
            "image/png": "[encoded data removed]"
          },
          "metadata": {
            "needs_background": "light"
          }
        },
        {
          "output_type": "display_data",
          "data": {
            "text/plain": [
              "<Figure size 576x432 with 1 Axes>"
            ],
            "image/png": "[encoded data removed]"
          },
          "metadata": {
            "needs_background": "light"
          }
        },
        {
          "output_type": "display_data",
          "data": {
            "text/plain": [
              "<Figure size 576x432 with 1 Axes>"
            ],
            "image/png": "[encoded data removed]"
          },
          "metadata": {
            "needs_background": "light"
          }
        },
        {
          "output_type": "display_data",
          "data": {
            "text/plain": [
              "<Figure size 576x432 with 1 Axes>"
            ],
            "image/png": "[encoded data removed]"
          },
          "metadata": {
            "needs_background": "light"
          }
        },
        {
          "output_type": "display_data",
          "data": {
            "text/plain": [
              "<Figure size 576x432 with 1 Axes>"
            ],
            "image/png": "[encoded data removed]"
          },
          "metadata": {
            "needs_background": "light"
          }
        }
      ]
    },
    {
      "cell_type": "markdown",
      "source": [
        "Plot explicitly object 84716"
      ],
      "metadata": {
        "id": "sljsKAQbPZjb"
      }
    },
    {
      "cell_type": "code",
      "source": [
        "obj_id = 84716\n",
        "LightCurve(\n",
        "  lcvs[lcvs['object_id'] == obj_id],\n",
        "  obj_name = obj_id\n",
        ").plot_multicolor_lc()"
      ],
      "metadata": {
        "colab": {
          "base_uri": "https://localhost:8080/",
          "height": 443
        },
        "id": "ZYJvqviaMTzZ",
        "outputId": "58f2478c-d4ff-4f1e-977b-3305839fe965"
      },
      "execution_count": null,
      "outputs": [
        {
          "output_type": "display_data",
          "data": {
            "text/plain": [
              "<Figure size 576x432 with 1 Axes>"
            ],
            "image/png": "[encoded data removed]"
          },
          "metadata": {
            "needs_background": "light"
          }
        }
      ]
    },
    {
      "cell_type": "markdown",
      "metadata": {
        "id": "dvf0NyI9lVYj"
      },
      "source": [
        "# TASK III: Extract features\n",
        "\n",
        "Feature extraction refers to the extraction of statistical features of the datapoints or the generation of low dimensional representations of the data points that can then be passed to a classifier/regression\n",
        "\n",
        "Extract at least 4 features including at least 1 feature from all three category below\n",
        "\n",
        "The code that won the callenge did a number of smart things, of course. It was a feature based classification scheme, which included Gaussian Processes in the preprocessing. The feature extraction part of the code is here. https://github.com/kboone/avocado/blob/master/avocado/plasticc.py\n",
        "\n",
        "Examples of features you can extract:\n",
        "\n",
        "- **from the original lightcurve**: \n",
        "    - mean, \n",
        "    - standard deviation, \n",
        "    - skewness, \n",
        "    - kurthosis, \n",
        "    - minimum \n",
        "    - maximmum,\n",
        "    - error on the minimum and \n",
        "    - error on the maximum, \n",
        "- **from the standardized lightcurve**:\n",
        "    - median \n",
        "    - slope of a line fit\n",
        "    - intercept of a line fit\n",
        "    - likelihood of the line fit\n",
        "    - likelihood of a quadratic fit\n",
        "    - sign of the quadratic parameter\n",
        "\n",
        "\n",
        "- **from the metadata file**:\n",
        "    - decl; this is one of the positions in the sky variables: important because the position on the sky may determin if it is a galactic or extragalactic object\n",
        "    - ddf_bool ; the kind of survey i.e. the data collection scheme that lead to the time series\n",
        "    - hostgal_photoz\n",
        "    - hostgal_photoz_err\n",
        "    \n",
        "The feature in the metadata files are the hardest ones to decide on because they require domain knowledge.\n",
        "Most of the other features in the metadata are unknown for test objects (only known for the training set)\n",
        "\n",
        "\n",
        "Extract at least 4 features including 1 features from all three category above: original lcv, standardized lcv, metadata. Justify each feature. Coming up with different features than the ones I suggested is very welcome! Remember that if the features are extracted from the time series there will be 4 features for each passbands.\n",
        "\n",
        "Note: we are working with bigg-ish data! \n",
        "First off: every new piece should be developed on a subset of the dataset, then run on all the data only when ready. \n",
        "Still, if you try achieve goals by implementing for loops you are not going to be able to run the notebook for the whole data, or even only 1 batch of the full datase. A good solution is to use the groupby() method in pandas. I used groupby everywhere. Also it may be wise to write out intermediate outputs, so you do not have to loose work if your kernel dies or something similar. "
      ]
    },
    {
      "cell_type": "markdown",
      "metadata": {
        "id": "4OU5iAEFlVYk"
      },
      "source": [
        "\n",
        "describe each feature you plan to extract. Briefly indicate why you think it is a valuable feature and what data type is it (e.g. continuous, binary, categorical, if continuous does it have a max or min value or is it unbound?)\n",
        "\n",
        "        "
      ]
    },
    {
      "cell_type": "code",
      "source": [
        "lcvs_small = lcvs[lcvs['object_id'].isin(obj_sample)]\n",
        "lcvs_small"
      ],
      "metadata": {
        "colab": {
          "base_uri": "https://localhost:8080/",
          "height": 423
        },
        "id": "awwnd7EtOqsB",
        "outputId": "c2ae0665-aaa8-4d80-e03b-a0160eb075f3"
      },
      "execution_count": null,
      "outputs": [
        {
          "output_type": "execute_result",
          "data": {
            "text/plain": [
              "         object_id         mjd  passband       flux   flux_err  detected_bool\n",
              "153205       78727  59825.2600         2   0.274491   0.935516              0\n",
              "153206       78727  59825.2676         1  -0.660713   1.016105              0\n",
              "153207       78727  59825.2752         3   1.436949   1.877900              0\n",
              "153208       78727  59825.2862         4  -2.984961   2.987549              0\n",
              "153209       78727  59825.2971         5   4.670087   7.129139              0\n",
              "...            ...         ...       ...        ...        ...            ...\n",
              "1219259   94954841  60493.0784         2   4.340096   2.944154              0\n",
              "1219260   94954841  60498.9839         0  -7.680009  10.437799              0\n",
              "1219261   94954841  60510.0052         4 -10.361254   9.096044              0\n",
              "1219262   94954841  60538.9909         5  -8.717340  41.278408              0\n",
              "1219263   94954841  60546.9972         3  18.648098  13.482410              0\n",
              "\n",
              "[1505 rows x 6 columns]"
            ],
            "text/html": [
              "\n",
              "  <div id=\"df-b9bd97f1-13ad-4c9a-a9b1-d4ba37fdb10e\">\n",
              "    <div class=\"colab-df-container\">\n",
              "      <div>\n",
              "<style scoped>\n",
              "    .dataframe tbody tr th:only-of-type {\n",
              "        vertical-align: middle;\n",
              "    }\n",
              "\n",
              "    .dataframe tbody tr th {\n",
              "        vertical-align: top;\n",
              "    }\n",
              "\n",
              "    .dataframe thead th {\n",
              "        text-align: right;\n",
              "    }\n",
              "</style>\n",
              "<table border=\"1\" class=\"dataframe\">\n",
              "  <thead>\n",
              "    <tr style=\"text-align: right;\">\n",
              "      <th></th>\n",
              "      <th>object_id</th>\n",
              "      <th>mjd</th>\n",
              "      <th>passband</th>\n",
              "      <th>flux</th>\n",
              "      <th>flux_err</th>\n",
              "      <th>detected_bool</th>\n",
              "    </tr>\n",
              "  </thead>\n",
              "  <tbody>\n",
              "    <tr>\n",
              "      <th>153205</th>\n",
              "      <td>78727</td>\n",
              "      <td>59825.2600</td>\n",
              "      <td>2</td>\n",
              "      <td>0.274491</td>\n",
              "      <td>0.935516</td>\n",
              "      <td>0</td>\n",
              "    </tr>\n",
              "    <tr>\n",
              "      <th>153206</th>\n",
              "      <td>78727</td>\n",
              "      <td>59825.2676</td>\n",
              "      <td>1</td>\n",
              "      <td>-0.660713</td>\n",
              "      <td>1.016105</td>\n",
              "      <td>0</td>\n",
              "    </tr>\n",
              "    <tr>\n",
              "      <th>153207</th>\n",
              "      <td>78727</td>\n",
              "      <td>59825.2752</td>\n",
              "      <td>3</td>\n",
              "      <td>1.436949</td>\n",
              "      <td>1.877900</td>\n",
              "      <td>0</td>\n",
              "    </tr>\n",
              "    <tr>\n",
              "      <th>153208</th>\n",
              "      <td>78727</td>\n",
              "      <td>59825.2862</td>\n",
              "      <td>4</td>\n",
              "      <td>-2.984961</td>\n",
              "      <td>2.987549</td>\n",
              "      <td>0</td>\n",
              "    </tr>\n",
              "    <tr>\n",
              "      <th>153209</th>\n",
              "      <td>78727</td>\n",
              "      <td>59825.2971</td>\n",
              "      <td>5</td>\n",
              "      <td>4.670087</td>\n",
              "      <td>7.129139</td>\n",
              "      <td>0</td>\n",
              "    </tr>\n",
              "    <tr>\n",
              "      <th>...</th>\n",
              "      <td>...</td>\n",
              "      <td>...</td>\n",
              "      <td>...</td>\n",
              "      <td>...</td>\n",
              "      <td>...</td>\n",
              "      <td>...</td>\n",
              "    </tr>\n",
              "    <tr>\n",
              "      <th>1219259</th>\n",
              "      <td>94954841</td>\n",
              "      <td>60493.0784</td>\n",
              "      <td>2</td>\n",
              "      <td>4.340096</td>\n",
              "      <td>2.944154</td>\n",
              "      <td>0</td>\n",
              "    </tr>\n",
              "    <tr>\n",
              "      <th>1219260</th>\n",
              "      <td>94954841</td>\n",
              "      <td>60498.9839</td>\n",
              "      <td>0</td>\n",
              "      <td>-7.680009</td>\n",
              "      <td>10.437799</td>\n",
              "      <td>0</td>\n",
              "    </tr>\n",
              "    <tr>\n",
              "      <th>1219261</th>\n",
              "      <td>94954841</td>\n",
              "      <td>60510.0052</td>\n",
              "      <td>4</td>\n",
              "      <td>-10.361254</td>\n",
              "      <td>9.096044</td>\n",
              "      <td>0</td>\n",
              "    </tr>\n",
              "    <tr>\n",
              "      <th>1219262</th>\n",
              "      <td>94954841</td>\n",
              "      <td>60538.9909</td>\n",
              "      <td>5</td>\n",
              "      <td>-8.717340</td>\n",
              "      <td>41.278408</td>\n",
              "      <td>0</td>\n",
              "    </tr>\n",
              "    <tr>\n",
              "      <th>1219263</th>\n",
              "      <td>94954841</td>\n",
              "      <td>60546.9972</td>\n",
              "      <td>3</td>\n",
              "      <td>18.648098</td>\n",
              "      <td>13.482410</td>\n",
              "      <td>0</td>\n",
              "    </tr>\n",
              "  </tbody>\n",
              "</table>\n",
              "<p>1505 rows × 6 columns</p>\n",
              "</div>\n",
              "      <button class=\"colab-df-convert\" onclick=\"convertToInteractive('df-b9bd97f1-13ad-4c9a-a9b1-d4ba37fdb10e')\"\n",
              "              title=\"Convert this dataframe to an interactive table.\"\n",
              "              style=\"display:none;\">\n",
              "        \n",
              "  <svg xmlns=\"http://www.w3.org/2000/svg\" height=\"24px\"viewBox=\"0 0 24 24\"\n",
              "       width=\"24px\">\n",
              "    <path d=\"M0 0h24v24H0V0z\" fill=\"none\"/>\n",
              "    <path d=\"M18.56 5.44l.94 2.06.94-2.06 2.06-.94-2.06-.94-.94-2.06-.94 2.06-2.06.94zm-11 1L8.5 8.5l.94-2.06 2.06-.94-2.06-.94L8.5 2.5l-.94 2.06-2.06.94zm10 10l.94 2.06.94-2.06 2.06-.94-2.06-.94-.94-2.06-.94 2.06-2.06.94z\"/><path d=\"M17.41 7.96l-1.37-1.37c-.4-.4-.92-.59-1.43-.59-.52 0-1.04.2-1.43.59L10.3 9.45l-7.72 7.72c-.78.78-.78 2.05 0 2.83L4 21.41c.39.39.9.59 1.41.59.51 0 1.02-.2 1.41-.59l7.78-7.78 2.81-2.81c.8-.78.8-2.07 0-2.86zM5.41 20L4 18.59l7.72-7.72 1.47 1.35L5.41 20z\"/>\n",
              "  </svg>\n",
              "      </button>\n",
              "      \n",
              "  <style>\n",
              "    .colab-df-container {\n",
              "      display:flex;\n",
              "      flex-wrap:wrap;\n",
              "      gap: 12px;\n",
              "    }\n",
              "\n",
              "    .colab-df-convert {\n",
              "      background-color: #E8F0FE;\n",
              "      border: none;\n",
              "      border-radius: 50%;\n",
              "      cursor: pointer;\n",
              "      display: none;\n",
              "      fill: #1967D2;\n",
              "      height: 32px;\n",
              "      padding: 0 0 0 0;\n",
              "      width: 32px;\n",
              "    }\n",
              "\n",
              "    .colab-df-convert:hover {\n",
              "      background-color: #E2EBFA;\n",
              "      box-shadow: 0px 1px 2px rgba(60, 64, 67, 0.3), 0px 1px 3px 1px rgba(60, 64, 67, 0.15);\n",
              "      fill: #174EA6;\n",
              "    }\n",
              "\n",
              "    [theme=dark] .colab-df-convert {\n",
              "      background-color: #3B4455;\n",
              "      fill: #D2E3FC;\n",
              "    }\n",
              "\n",
              "    [theme=dark] .colab-df-convert:hover {\n",
              "      background-color: #434B5C;\n",
              "      box-shadow: 0px 1px 3px 1px rgba(0, 0, 0, 0.15);\n",
              "      filter: drop-shadow(0px 1px 2px rgba(0, 0, 0, 0.3));\n",
              "      fill: #FFFFFF;\n",
              "    }\n",
              "  </style>\n",
              "\n",
              "      <script>\n",
              "        const buttonEl =\n",
              "          document.querySelector('#df-b9bd97f1-13ad-4c9a-a9b1-d4ba37fdb10e button.colab-df-convert');\n",
              "        buttonEl.style.display =\n",
              "          google.colab.kernel.accessAllowed ? 'block' : 'none';\n",
              "\n",
              "        async function convertToInteractive(key) {\n",
              "          const element = document.querySelector('#df-b9bd97f1-13ad-4c9a-a9b1-d4ba37fdb10e');\n",
              "          const dataTable =\n",
              "            await google.colab.kernel.invokeFunction('convertToInteractive',\n",
              "                                                     [key], {});\n",
              "          if (!dataTable) return;\n",
              "\n",
              "          const docLinkHtml = 'Like what you see? Visit the ' +\n",
              "            '<a target=\"_blank\" href=https://colab.research.google.com/notebooks/data_table.ipynb>data table notebook</a>'\n",
              "            + ' to learn more about interactive tables.';\n",
              "          element.innerHTML = '';\n",
              "          dataTable['output_type'] = 'display_data';\n",
              "          await google.colab.output.renderOutput(dataTable, element);\n",
              "          const docLink = document.createElement('div');\n",
              "          docLink.innerHTML = docLinkHtml;\n",
              "          element.appendChild(docLink);\n",
              "        }\n",
              "      </script>\n",
              "    </div>\n",
              "  </div>\n",
              "  "
            ]
          },
          "metadata": {},
          "execution_count": 69
        }
      ]
    },
    {
      "cell_type": "code",
      "source": [
        "def agg_norm_flux(x):\n",
        "  \"\"\" func that normalizes flux and flux_err values.\n",
        "  \n",
        "  x - pandas groupby object (over obj_id and passband)\n",
        "  \"\"\"\n",
        "  x['flux_norm'] = (\n",
        "      np.array(x['flux']) - np.mean(x['flux'])\n",
        "      )/np.std(x['flux'])\n",
        "  x['flux_err_norm']= (\n",
        "    np.array(x['flux_err']) - np.mean(x['flux_err'])\n",
        "    )/np.std(x['flux_err'])\n",
        "  return x"
      ],
      "metadata": {
        "id": "vHUHfs_1axEK"
      },
      "execution_count": null,
      "outputs": []
    },
    {
      "cell_type": "code",
      "source": [
        "lcvs_norm = lcvs.groupby(\n",
        "    [\"object_id\", \"passband\"]\n",
        "    ).progress_apply(agg_norm_flux)"
      ],
      "metadata": {
        "colab": {
          "base_uri": "https://localhost:8080/"
        },
        "id": "2Mcy6ohnRRX1",
        "outputId": "08d6d9f5-d90e-4c3d-c069-eae30aebe7eb"
      },
      "execution_count": null,
      "outputs": [
        {
          "output_type": "stream",
          "name": "stderr",
          "text": [
            "100%|██████████| 47088/47088 [01:46<00:00, 443.29it/s]\n"
          ]
        }
      ]
    },
    {
      "cell_type": "code",
      "source": [
        "lcvs_norm.head()"
      ],
      "metadata": {
        "colab": {
          "base_uri": "https://localhost:8080/",
          "height": 206
        },
        "id": "Omv_pD93cCa8",
        "outputId": "f4dc1da0-0cfd-48d1-e4ed-790900d800cc"
      },
      "execution_count": null,
      "outputs": [
        {
          "output_type": "execute_result",
          "data": {
            "text/plain": [
              "   object_id         mjd  passband        flux   flux_err  detected_bool  \\\n",
              "0        615  59750.4229         2 -544.810303   3.622952              1   \n",
              "1        615  59750.4306         1 -816.434326   5.553370              1   \n",
              "2        615  59750.4383         3 -471.385529   3.801213              1   \n",
              "3        615  59750.4450         4 -388.984985  11.395031              1   \n",
              "4        615  59752.4070         2 -681.858887   4.041204              1   \n",
              "\n",
              "   flux_norm  flux_err_norm  \n",
              "0  -0.910198       0.422316  \n",
              "1  -0.722010       0.452984  \n",
              "2  -1.053414       1.338867  \n",
              "3  -1.151251       7.037395  \n",
              "4  -1.213953       1.150246  "
            ],
            "text/html": [
              "\n",
              "  <div id=\"df-1bb47023-1473-4420-bd2e-55c9675bcca5\">\n",
              "    <div class=\"colab-df-container\">\n",
              "      <div>\n",
              "<style scoped>\n",
              "    .dataframe tbody tr th:only-of-type {\n",
              "        vertical-align: middle;\n",
              "    }\n",
              "\n",
              "    .dataframe tbody tr th {\n",
              "        vertical-align: top;\n",
              "    }\n",
              "\n",
              "    .dataframe thead th {\n",
              "        text-align: right;\n",
              "    }\n",
              "</style>\n",
              "<table border=\"1\" class=\"dataframe\">\n",
              "  <thead>\n",
              "    <tr style=\"text-align: right;\">\n",
              "      <th></th>\n",
              "      <th>object_id</th>\n",
              "      <th>mjd</th>\n",
              "      <th>passband</th>\n",
              "      <th>flux</th>\n",
              "      <th>flux_err</th>\n",
              "      <th>detected_bool</th>\n",
              "      <th>flux_norm</th>\n",
              "      <th>flux_err_norm</th>\n",
              "    </tr>\n",
              "  </thead>\n",
              "  <tbody>\n",
              "    <tr>\n",
              "      <th>0</th>\n",
              "      <td>615</td>\n",
              "      <td>59750.4229</td>\n",
              "      <td>2</td>\n",
              "      <td>-544.810303</td>\n",
              "      <td>3.622952</td>\n",
              "      <td>1</td>\n",
              "      <td>-0.910198</td>\n",
              "      <td>0.422316</td>\n",
              "    </tr>\n",
              "    <tr>\n",
              "      <th>1</th>\n",
              "      <td>615</td>\n",
              "      <td>59750.4306</td>\n",
              "      <td>1</td>\n",
              "      <td>-816.434326</td>\n",
              "      <td>5.553370</td>\n",
              "      <td>1</td>\n",
              "      <td>-0.722010</td>\n",
              "      <td>0.452984</td>\n",
              "    </tr>\n",
              "    <tr>\n",
              "      <th>2</th>\n",
              "      <td>615</td>\n",
              "      <td>59750.4383</td>\n",
              "      <td>3</td>\n",
              "      <td>-471.385529</td>\n",
              "      <td>3.801213</td>\n",
              "      <td>1</td>\n",
              "      <td>-1.053414</td>\n",
              "      <td>1.338867</td>\n",
              "    </tr>\n",
              "    <tr>\n",
              "      <th>3</th>\n",
              "      <td>615</td>\n",
              "      <td>59750.4450</td>\n",
              "      <td>4</td>\n",
              "      <td>-388.984985</td>\n",
              "      <td>11.395031</td>\n",
              "      <td>1</td>\n",
              "      <td>-1.151251</td>\n",
              "      <td>7.037395</td>\n",
              "    </tr>\n",
              "    <tr>\n",
              "      <th>4</th>\n",
              "      <td>615</td>\n",
              "      <td>59752.4070</td>\n",
              "      <td>2</td>\n",
              "      <td>-681.858887</td>\n",
              "      <td>4.041204</td>\n",
              "      <td>1</td>\n",
              "      <td>-1.213953</td>\n",
              "      <td>1.150246</td>\n",
              "    </tr>\n",
              "  </tbody>\n",
              "</table>\n",
              "</div>\n",
              "      <button class=\"colab-df-convert\" onclick=\"convertToInteractive('df-1bb47023-1473-4420-bd2e-55c9675bcca5')\"\n",
              "              title=\"Convert this dataframe to an interactive table.\"\n",
              "              style=\"display:none;\">\n",
              "        \n",
              "  <svg xmlns=\"http://www.w3.org/2000/svg\" height=\"24px\"viewBox=\"0 0 24 24\"\n",
              "       width=\"24px\">\n",
              "    <path d=\"M0 0h24v24H0V0z\" fill=\"none\"/>\n",
              "    <path d=\"M18.56 5.44l.94 2.06.94-2.06 2.06-.94-2.06-.94-.94-2.06-.94 2.06-2.06.94zm-11 1L8.5 8.5l.94-2.06 2.06-.94-2.06-.94L8.5 2.5l-.94 2.06-2.06.94zm10 10l.94 2.06.94-2.06 2.06-.94-2.06-.94-.94-2.06-.94 2.06-2.06.94z\"/><path d=\"M17.41 7.96l-1.37-1.37c-.4-.4-.92-.59-1.43-.59-.52 0-1.04.2-1.43.59L10.3 9.45l-7.72 7.72c-.78.78-.78 2.05 0 2.83L4 21.41c.39.39.9.59 1.41.59.51 0 1.02-.2 1.41-.59l7.78-7.78 2.81-2.81c.8-.78.8-2.07 0-2.86zM5.41 20L4 18.59l7.72-7.72 1.47 1.35L5.41 20z\"/>\n",
              "  </svg>\n",
              "      </button>\n",
              "      \n",
              "  <style>\n",
              "    .colab-df-container {\n",
              "      display:flex;\n",
              "      flex-wrap:wrap;\n",
              "      gap: 12px;\n",
              "    }\n",
              "\n",
              "    .colab-df-convert {\n",
              "      background-color: #E8F0FE;\n",
              "      border: none;\n",
              "      border-radius: 50%;\n",
              "      cursor: pointer;\n",
              "      display: none;\n",
              "      fill: #1967D2;\n",
              "      height: 32px;\n",
              "      padding: 0 0 0 0;\n",
              "      width: 32px;\n",
              "    }\n",
              "\n",
              "    .colab-df-convert:hover {\n",
              "      background-color: #E2EBFA;\n",
              "      box-shadow: 0px 1px 2px rgba(60, 64, 67, 0.3), 0px 1px 3px 1px rgba(60, 64, 67, 0.15);\n",
              "      fill: #174EA6;\n",
              "    }\n",
              "\n",
              "    [theme=dark] .colab-df-convert {\n",
              "      background-color: #3B4455;\n",
              "      fill: #D2E3FC;\n",
              "    }\n",
              "\n",
              "    [theme=dark] .colab-df-convert:hover {\n",
              "      background-color: #434B5C;\n",
              "      box-shadow: 0px 1px 3px 1px rgba(0, 0, 0, 0.15);\n",
              "      filter: drop-shadow(0px 1px 2px rgba(0, 0, 0, 0.3));\n",
              "      fill: #FFFFFF;\n",
              "    }\n",
              "  </style>\n",
              "\n",
              "      <script>\n",
              "        const buttonEl =\n",
              "          document.querySelector('#df-1bb47023-1473-4420-bd2e-55c9675bcca5 button.colab-df-convert');\n",
              "        buttonEl.style.display =\n",
              "          google.colab.kernel.accessAllowed ? 'block' : 'none';\n",
              "\n",
              "        async function convertToInteractive(key) {\n",
              "          const element = document.querySelector('#df-1bb47023-1473-4420-bd2e-55c9675bcca5');\n",
              "          const dataTable =\n",
              "            await google.colab.kernel.invokeFunction('convertToInteractive',\n",
              "                                                     [key], {});\n",
              "          if (!dataTable) return;\n",
              "\n",
              "          const docLinkHtml = 'Like what you see? Visit the ' +\n",
              "            '<a target=\"_blank\" href=https://colab.research.google.com/notebooks/data_table.ipynb>data table notebook</a>'\n",
              "            + ' to learn more about interactive tables.';\n",
              "          element.innerHTML = '';\n",
              "          dataTable['output_type'] = 'display_data';\n",
              "          await google.colab.output.renderOutput(dataTable, element);\n",
              "          const docLink = document.createElement('div');\n",
              "          docLink.innerHTML = docLinkHtml;\n",
              "          element.appendChild(docLink);\n",
              "        }\n",
              "      </script>\n",
              "    </div>\n",
              "  </div>\n",
              "  "
            ]
          },
          "metadata": {},
          "execution_count": 98
        }
      ]
    },
    {
      "cell_type": "markdown",
      "metadata": {
        "id": "5ytS0DzhlVYk"
      },
      "source": [
        "### extract some features from the raw lightcurve - \n"
      ]
    },
    {
      "cell_type": "markdown",
      "metadata": {
        "id": "gjaS_wTClVYl"
      },
      "source": [
        "higher order moments of the distribution can be obtained with the scipy.stats.moment() function which can be applied to a grouby() object\n",
        "note that this way you can apply a function that takes only one argument, the argument over which groupby iterates (the flux here). But moments take 2: the value and the moment Create a function call"
      ]
    },
    {
      "cell_type": "code",
      "metadata": {
        "ExecuteTime": {
          "end_time": "2020-04-05T15:08:31.653520Z",
          "start_time": "2020-04-05T15:08:31.493218Z"
        },
        "id": "IbscbPtrlVYk"
      },
      "source": [
        "#example (you can use this code but this wont count for your 4 features)\n",
        "means = lcvs_norm.groupby([\"object_id\", \"passband\"])[[\"flux\"]].mean()"
      ],
      "execution_count": null,
      "outputs": []
    },
    {
      "cell_type": "code",
      "source": [
        "%%time\n",
        "lcvs_features = lcvs_norm.groupby([\"object_id\", \"passband\"]).agg(\n",
        "    {\n",
        "      \"flux\": [\n",
        "        np.mean, \n",
        "        np.std,\n",
        "        stats.skew,\n",
        "        stats.kurtosis,\n",
        "      ],\n",
        "     \"flux_norm\": [\n",
        "        np.median\n",
        "      ]\n",
        "     }\n",
        "  )"
      ],
      "metadata": {
        "colab": {
          "base_uri": "https://localhost:8080/"
        },
        "id": "JP4SEdodN9u_",
        "outputId": "936e5a08-28fd-4a41-e111-d2e01e4984b2"
      },
      "execution_count": null,
      "outputs": [
        {
          "output_type": "stream",
          "name": "stdout",
          "text": [
            "CPU times: user 22.5 s, sys: 101 ms, total: 22.6 s\n",
            "Wall time: 22.8 s\n"
          ]
        }
      ]
    },
    {
      "cell_type": "code",
      "source": [
        "features.head()"
      ],
      "metadata": {
        "colab": {
          "base_uri": "https://localhost:8080/",
          "height": 268
        },
        "id": "nV_DREjtejyh",
        "outputId": "0ecb4ff4-c2e0-4f4f-dbf4-9441446f5362"
      },
      "execution_count": null,
      "outputs": [
        {
          "output_type": "execute_result",
          "data": {
            "text/plain": [
              "                          flux                                 flux_norm\n",
              "                          mean         std      skew  kurtosis    median\n",
              "object_id passband                                                      \n",
              "615       0          -3.254554   83.944735  0.125827 -1.454426 -0.081184\n",
              "          1        -385.699911  601.787302  0.404755 -1.251198 -0.171576\n",
              "          2        -134.146566  455.121346  0.331063 -1.392937 -0.291545\n",
              "          3        -121.103501  335.425053  0.285492 -1.429545 -0.123503\n",
              "          4         -55.954592  291.803449  0.194883 -1.519722 -0.164502"
            ],
            "text/html": [
              "\n",
              "  <div id=\"df-4afe8b05-5355-4e24-bcdf-efc710025049\">\n",
              "    <div class=\"colab-df-container\">\n",
              "      <div>\n",
              "<style scoped>\n",
              "    .dataframe tbody tr th:only-of-type {\n",
              "        vertical-align: middle;\n",
              "    }\n",
              "\n",
              "    .dataframe tbody tr th {\n",
              "        vertical-align: top;\n",
              "    }\n",
              "\n",
              "    .dataframe thead tr th {\n",
              "        text-align: left;\n",
              "    }\n",
              "\n",
              "    .dataframe thead tr:last-of-type th {\n",
              "        text-align: right;\n",
              "    }\n",
              "</style>\n",
              "<table border=\"1\" class=\"dataframe\">\n",
              "  <thead>\n",
              "    <tr>\n",
              "      <th></th>\n",
              "      <th></th>\n",
              "      <th colspan=\"4\" halign=\"left\">flux</th>\n",
              "      <th>flux_norm</th>\n",
              "    </tr>\n",
              "    <tr>\n",
              "      <th></th>\n",
              "      <th></th>\n",
              "      <th>mean</th>\n",
              "      <th>std</th>\n",
              "      <th>skew</th>\n",
              "      <th>kurtosis</th>\n",
              "      <th>median</th>\n",
              "    </tr>\n",
              "    <tr>\n",
              "      <th>object_id</th>\n",
              "      <th>passband</th>\n",
              "      <th></th>\n",
              "      <th></th>\n",
              "      <th></th>\n",
              "      <th></th>\n",
              "      <th></th>\n",
              "    </tr>\n",
              "  </thead>\n",
              "  <tbody>\n",
              "    <tr>\n",
              "      <th rowspan=\"5\" valign=\"top\">615</th>\n",
              "      <th>0</th>\n",
              "      <td>-3.254554</td>\n",
              "      <td>83.944735</td>\n",
              "      <td>0.125827</td>\n",
              "      <td>-1.454426</td>\n",
              "      <td>-0.081184</td>\n",
              "    </tr>\n",
              "    <tr>\n",
              "      <th>1</th>\n",
              "      <td>-385.699911</td>\n",
              "      <td>601.787302</td>\n",
              "      <td>0.404755</td>\n",
              "      <td>-1.251198</td>\n",
              "      <td>-0.171576</td>\n",
              "    </tr>\n",
              "    <tr>\n",
              "      <th>2</th>\n",
              "      <td>-134.146566</td>\n",
              "      <td>455.121346</td>\n",
              "      <td>0.331063</td>\n",
              "      <td>-1.392937</td>\n",
              "      <td>-0.291545</td>\n",
              "    </tr>\n",
              "    <tr>\n",
              "      <th>3</th>\n",
              "      <td>-121.103501</td>\n",
              "      <td>335.425053</td>\n",
              "      <td>0.285492</td>\n",
              "      <td>-1.429545</td>\n",
              "      <td>-0.123503</td>\n",
              "    </tr>\n",
              "    <tr>\n",
              "      <th>4</th>\n",
              "      <td>-55.954592</td>\n",
              "      <td>291.803449</td>\n",
              "      <td>0.194883</td>\n",
              "      <td>-1.519722</td>\n",
              "      <td>-0.164502</td>\n",
              "    </tr>\n",
              "  </tbody>\n",
              "</table>\n",
              "</div>\n",
              "      <button class=\"colab-df-convert\" onclick=\"convertToInteractive('df-4afe8b05-5355-4e24-bcdf-efc710025049')\"\n",
              "              title=\"Convert this dataframe to an interactive table.\"\n",
              "              style=\"display:none;\">\n",
              "        \n",
              "  <svg xmlns=\"http://www.w3.org/2000/svg\" height=\"24px\"viewBox=\"0 0 24 24\"\n",
              "       width=\"24px\">\n",
              "    <path d=\"M0 0h24v24H0V0z\" fill=\"none\"/>\n",
              "    <path d=\"M18.56 5.44l.94 2.06.94-2.06 2.06-.94-2.06-.94-.94-2.06-.94 2.06-2.06.94zm-11 1L8.5 8.5l.94-2.06 2.06-.94-2.06-.94L8.5 2.5l-.94 2.06-2.06.94zm10 10l.94 2.06.94-2.06 2.06-.94-2.06-.94-.94-2.06-.94 2.06-2.06.94z\"/><path d=\"M17.41 7.96l-1.37-1.37c-.4-.4-.92-.59-1.43-.59-.52 0-1.04.2-1.43.59L10.3 9.45l-7.72 7.72c-.78.78-.78 2.05 0 2.83L4 21.41c.39.39.9.59 1.41.59.51 0 1.02-.2 1.41-.59l7.78-7.78 2.81-2.81c.8-.78.8-2.07 0-2.86zM5.41 20L4 18.59l7.72-7.72 1.47 1.35L5.41 20z\"/>\n",
              "  </svg>\n",
              "      </button>\n",
              "      \n",
              "  <style>\n",
              "    .colab-df-container {\n",
              "      display:flex;\n",
              "      flex-wrap:wrap;\n",
              "      gap: 12px;\n",
              "    }\n",
              "\n",
              "    .colab-df-convert {\n",
              "      background-color: #E8F0FE;\n",
              "      border: none;\n",
              "      border-radius: 50%;\n",
              "      cursor: pointer;\n",
              "      display: none;\n",
              "      fill: #1967D2;\n",
              "      height: 32px;\n",
              "      padding: 0 0 0 0;\n",
              "      width: 32px;\n",
              "    }\n",
              "\n",
              "    .colab-df-convert:hover {\n",
              "      background-color: #E2EBFA;\n",
              "      box-shadow: 0px 1px 2px rgba(60, 64, 67, 0.3), 0px 1px 3px 1px rgba(60, 64, 67, 0.15);\n",
              "      fill: #174EA6;\n",
              "    }\n",
              "\n",
              "    [theme=dark] .colab-df-convert {\n",
              "      background-color: #3B4455;\n",
              "      fill: #D2E3FC;\n",
              "    }\n",
              "\n",
              "    [theme=dark] .colab-df-convert:hover {\n",
              "      background-color: #434B5C;\n",
              "      box-shadow: 0px 1px 3px 1px rgba(0, 0, 0, 0.15);\n",
              "      filter: drop-shadow(0px 1px 2px rgba(0, 0, 0, 0.3));\n",
              "      fill: #FFFFFF;\n",
              "    }\n",
              "  </style>\n",
              "\n",
              "      <script>\n",
              "        const buttonEl =\n",
              "          document.querySelector('#df-4afe8b05-5355-4e24-bcdf-efc710025049 button.colab-df-convert');\n",
              "        buttonEl.style.display =\n",
              "          google.colab.kernel.accessAllowed ? 'block' : 'none';\n",
              "\n",
              "        async function convertToInteractive(key) {\n",
              "          const element = document.querySelector('#df-4afe8b05-5355-4e24-bcdf-efc710025049');\n",
              "          const dataTable =\n",
              "            await google.colab.kernel.invokeFunction('convertToInteractive',\n",
              "                                                     [key], {});\n",
              "          if (!dataTable) return;\n",
              "\n",
              "          const docLinkHtml = 'Like what you see? Visit the ' +\n",
              "            '<a target=\"_blank\" href=https://colab.research.google.com/notebooks/data_table.ipynb>data table notebook</a>'\n",
              "            + ' to learn more about interactive tables.';\n",
              "          element.innerHTML = '';\n",
              "          dataTable['output_type'] = 'display_data';\n",
              "          await google.colab.output.renderOutput(dataTable, element);\n",
              "          const docLink = document.createElement('div');\n",
              "          docLink.innerHTML = docLinkHtml;\n",
              "          element.appendChild(docLink);\n",
              "        }\n",
              "      </script>\n",
              "    </div>\n",
              "  </div>\n",
              "  "
            ]
          },
          "metadata": {},
          "execution_count": 103
        }
      ]
    },
    {
      "cell_type": "code",
      "source": [
        "len(metadata['object_id'].unique()) == len(lcvs['object_id'].unique())"
      ],
      "metadata": {
        "colab": {
          "base_uri": "https://localhost:8080/"
        },
        "id": "k_9140zcelBZ",
        "outputId": "2f845c16-e2ac-4a80-aa86-e8fe233b94f6"
      },
      "execution_count": null,
      "outputs": [
        {
          "output_type": "execute_result",
          "data": {
            "text/plain": [
              "True"
            ]
          },
          "metadata": {},
          "execution_count": 121
        }
      ]
    },
    {
      "cell_type": "code",
      "source": [
        "lcvs_features"
      ],
      "metadata": {
        "colab": {
          "base_uri": "https://localhost:8080/",
          "height": 486
        },
        "id": "nE-0KpLWhil5",
        "outputId": "e5d91f7d-e9e0-4a33-974c-e3723bfe6a3c"
      },
      "execution_count": null,
      "outputs": [
        {
          "output_type": "execute_result",
          "data": {
            "text/plain": [
              "                           flux                                    flux_norm  \\\n",
              "                           mean           std      skew   kurtosis    median   \n",
              "object_id passband                                                             \n",
              "615       0           -3.254554     83.944735  0.125827  -1.454426 -0.081184   \n",
              "          1         -385.699911    601.787302  0.404755  -1.251198 -0.171576   \n",
              "          2         -134.146566    455.121346  0.331063  -1.392937 -0.291545   \n",
              "          3         -121.103501    335.425053  0.285492  -1.429545 -0.123503   \n",
              "          4          -55.954592    291.803449  0.194883  -1.519722 -0.164502   \n",
              "...                         ...           ...       ...        ...       ...   \n",
              "130779836 1          725.169852   1197.557111  1.565742   0.772541 -0.536827   \n",
              "          2         2690.360415   6440.422386  3.809603  14.318716 -0.363124   \n",
              "          3          755.993902   1443.868085  2.377087   4.382117 -0.415864   \n",
              "          4         3489.185336  11006.766106  4.221177  17.012896 -0.315443   \n",
              "          5         4151.358875   8687.101173  2.274800   3.629547 -0.427486   \n",
              "\n",
              "                       decl  \n",
              "                             \n",
              "object_id passband           \n",
              "615       0        -61.9438  \n",
              "          1        -61.9438  \n",
              "          2        -61.9438  \n",
              "          3        -61.9438  \n",
              "          4        -61.9438  \n",
              "...                     ...  \n",
              "130779836 1        -17.4263  \n",
              "          2        -17.4263  \n",
              "          3        -17.4263  \n",
              "          4        -17.4263  \n",
              "          5        -17.4263  \n",
              "\n",
              "[47088 rows x 6 columns]"
            ],
            "text/html": [
              "\n",
              "  <div id=\"df-addff7f1-03ca-4dc6-9024-2805120a73de\">\n",
              "    <div class=\"colab-df-container\">\n",
              "      <div>\n",
              "<style scoped>\n",
              "    .dataframe tbody tr th:only-of-type {\n",
              "        vertical-align: middle;\n",
              "    }\n",
              "\n",
              "    .dataframe tbody tr th {\n",
              "        vertical-align: top;\n",
              "    }\n",
              "\n",
              "    .dataframe thead tr th {\n",
              "        text-align: left;\n",
              "    }\n",
              "\n",
              "    .dataframe thead tr:last-of-type th {\n",
              "        text-align: right;\n",
              "    }\n",
              "</style>\n",
              "<table border=\"1\" class=\"dataframe\">\n",
              "  <thead>\n",
              "    <tr>\n",
              "      <th></th>\n",
              "      <th></th>\n",
              "      <th colspan=\"4\" halign=\"left\">flux</th>\n",
              "      <th>flux_norm</th>\n",
              "      <th>decl</th>\n",
              "    </tr>\n",
              "    <tr>\n",
              "      <th></th>\n",
              "      <th></th>\n",
              "      <th>mean</th>\n",
              "      <th>std</th>\n",
              "      <th>skew</th>\n",
              "      <th>kurtosis</th>\n",
              "      <th>median</th>\n",
              "      <th></th>\n",
              "    </tr>\n",
              "    <tr>\n",
              "      <th>object_id</th>\n",
              "      <th>passband</th>\n",
              "      <th></th>\n",
              "      <th></th>\n",
              "      <th></th>\n",
              "      <th></th>\n",
              "      <th></th>\n",
              "      <th></th>\n",
              "    </tr>\n",
              "  </thead>\n",
              "  <tbody>\n",
              "    <tr>\n",
              "      <th rowspan=\"5\" valign=\"top\">615</th>\n",
              "      <th>0</th>\n",
              "      <td>-3.254554</td>\n",
              "      <td>83.944735</td>\n",
              "      <td>0.125827</td>\n",
              "      <td>-1.454426</td>\n",
              "      <td>-0.081184</td>\n",
              "      <td>-61.9438</td>\n",
              "    </tr>\n",
              "    <tr>\n",
              "      <th>1</th>\n",
              "      <td>-385.699911</td>\n",
              "      <td>601.787302</td>\n",
              "      <td>0.404755</td>\n",
              "      <td>-1.251198</td>\n",
              "      <td>-0.171576</td>\n",
              "      <td>-61.9438</td>\n",
              "    </tr>\n",
              "    <tr>\n",
              "      <th>2</th>\n",
              "      <td>-134.146566</td>\n",
              "      <td>455.121346</td>\n",
              "      <td>0.331063</td>\n",
              "      <td>-1.392937</td>\n",
              "      <td>-0.291545</td>\n",
              "      <td>-61.9438</td>\n",
              "    </tr>\n",
              "    <tr>\n",
              "      <th>3</th>\n",
              "      <td>-121.103501</td>\n",
              "      <td>335.425053</td>\n",
              "      <td>0.285492</td>\n",
              "      <td>-1.429545</td>\n",
              "      <td>-0.123503</td>\n",
              "      <td>-61.9438</td>\n",
              "    </tr>\n",
              "    <tr>\n",
              "      <th>4</th>\n",
              "      <td>-55.954592</td>\n",
              "      <td>291.803449</td>\n",
              "      <td>0.194883</td>\n",
              "      <td>-1.519722</td>\n",
              "      <td>-0.164502</td>\n",
              "      <td>-61.9438</td>\n",
              "    </tr>\n",
              "    <tr>\n",
              "      <th>...</th>\n",
              "      <th>...</th>\n",
              "      <td>...</td>\n",
              "      <td>...</td>\n",
              "      <td>...</td>\n",
              "      <td>...</td>\n",
              "      <td>...</td>\n",
              "      <td>...</td>\n",
              "    </tr>\n",
              "    <tr>\n",
              "      <th rowspan=\"5\" valign=\"top\">130779836</th>\n",
              "      <th>1</th>\n",
              "      <td>725.169852</td>\n",
              "      <td>1197.557111</td>\n",
              "      <td>1.565742</td>\n",
              "      <td>0.772541</td>\n",
              "      <td>-0.536827</td>\n",
              "      <td>-17.4263</td>\n",
              "    </tr>\n",
              "    <tr>\n",
              "      <th>2</th>\n",
              "      <td>2690.360415</td>\n",
              "      <td>6440.422386</td>\n",
              "      <td>3.809603</td>\n",
              "      <td>14.318716</td>\n",
              "      <td>-0.363124</td>\n",
              "      <td>-17.4263</td>\n",
              "    </tr>\n",
              "    <tr>\n",
              "      <th>3</th>\n",
              "      <td>755.993902</td>\n",
              "      <td>1443.868085</td>\n",
              "      <td>2.377087</td>\n",
              "      <td>4.382117</td>\n",
              "      <td>-0.415864</td>\n",
              "      <td>-17.4263</td>\n",
              "    </tr>\n",
              "    <tr>\n",
              "      <th>4</th>\n",
              "      <td>3489.185336</td>\n",
              "      <td>11006.766106</td>\n",
              "      <td>4.221177</td>\n",
              "      <td>17.012896</td>\n",
              "      <td>-0.315443</td>\n",
              "      <td>-17.4263</td>\n",
              "    </tr>\n",
              "    <tr>\n",
              "      <th>5</th>\n",
              "      <td>4151.358875</td>\n",
              "      <td>8687.101173</td>\n",
              "      <td>2.274800</td>\n",
              "      <td>3.629547</td>\n",
              "      <td>-0.427486</td>\n",
              "      <td>-17.4263</td>\n",
              "    </tr>\n",
              "  </tbody>\n",
              "</table>\n",
              "<p>47088 rows × 6 columns</p>\n",
              "</div>\n",
              "      <button class=\"colab-df-convert\" onclick=\"convertToInteractive('df-addff7f1-03ca-4dc6-9024-2805120a73de')\"\n",
              "              title=\"Convert this dataframe to an interactive table.\"\n",
              "              style=\"display:none;\">\n",
              "        \n",
              "  <svg xmlns=\"http://www.w3.org/2000/svg\" height=\"24px\"viewBox=\"0 0 24 24\"\n",
              "       width=\"24px\">\n",
              "    <path d=\"M0 0h24v24H0V0z\" fill=\"none\"/>\n",
              "    <path d=\"M18.56 5.44l.94 2.06.94-2.06 2.06-.94-2.06-.94-.94-2.06-.94 2.06-2.06.94zm-11 1L8.5 8.5l.94-2.06 2.06-.94-2.06-.94L8.5 2.5l-.94 2.06-2.06.94zm10 10l.94 2.06.94-2.06 2.06-.94-2.06-.94-.94-2.06-.94 2.06-2.06.94z\"/><path d=\"M17.41 7.96l-1.37-1.37c-.4-.4-.92-.59-1.43-.59-.52 0-1.04.2-1.43.59L10.3 9.45l-7.72 7.72c-.78.78-.78 2.05 0 2.83L4 21.41c.39.39.9.59 1.41.59.51 0 1.02-.2 1.41-.59l7.78-7.78 2.81-2.81c.8-.78.8-2.07 0-2.86zM5.41 20L4 18.59l7.72-7.72 1.47 1.35L5.41 20z\"/>\n",
              "  </svg>\n",
              "      </button>\n",
              "      \n",
              "  <style>\n",
              "    .colab-df-container {\n",
              "      display:flex;\n",
              "      flex-wrap:wrap;\n",
              "      gap: 12px;\n",
              "    }\n",
              "\n",
              "    .colab-df-convert {\n",
              "      background-color: #E8F0FE;\n",
              "      border: none;\n",
              "      border-radius: 50%;\n",
              "      cursor: pointer;\n",
              "      display: none;\n",
              "      fill: #1967D2;\n",
              "      height: 32px;\n",
              "      padding: 0 0 0 0;\n",
              "      width: 32px;\n",
              "    }\n",
              "\n",
              "    .colab-df-convert:hover {\n",
              "      background-color: #E2EBFA;\n",
              "      box-shadow: 0px 1px 2px rgba(60, 64, 67, 0.3), 0px 1px 3px 1px rgba(60, 64, 67, 0.15);\n",
              "      fill: #174EA6;\n",
              "    }\n",
              "\n",
              "    [theme=dark] .colab-df-convert {\n",
              "      background-color: #3B4455;\n",
              "      fill: #D2E3FC;\n",
              "    }\n",
              "\n",
              "    [theme=dark] .colab-df-convert:hover {\n",
              "      background-color: #434B5C;\n",
              "      box-shadow: 0px 1px 3px 1px rgba(0, 0, 0, 0.15);\n",
              "      filter: drop-shadow(0px 1px 2px rgba(0, 0, 0, 0.3));\n",
              "      fill: #FFFFFF;\n",
              "    }\n",
              "  </style>\n",
              "\n",
              "      <script>\n",
              "        const buttonEl =\n",
              "          document.querySelector('#df-addff7f1-03ca-4dc6-9024-2805120a73de button.colab-df-convert');\n",
              "        buttonEl.style.display =\n",
              "          google.colab.kernel.accessAllowed ? 'block' : 'none';\n",
              "\n",
              "        async function convertToInteractive(key) {\n",
              "          const element = document.querySelector('#df-addff7f1-03ca-4dc6-9024-2805120a73de');\n",
              "          const dataTable =\n",
              "            await google.colab.kernel.invokeFunction('convertToInteractive',\n",
              "                                                     [key], {});\n",
              "          if (!dataTable) return;\n",
              "\n",
              "          const docLinkHtml = 'Like what you see? Visit the ' +\n",
              "            '<a target=\"_blank\" href=https://colab.research.google.com/notebooks/data_table.ipynb>data table notebook</a>'\n",
              "            + ' to learn more about interactive tables.';\n",
              "          element.innerHTML = '';\n",
              "          dataTable['output_type'] = 'display_data';\n",
              "          await google.colab.output.renderOutput(dataTable, element);\n",
              "          const docLink = document.createElement('div');\n",
              "          docLink.innerHTML = docLinkHtml;\n",
              "          element.appendChild(docLink);\n",
              "        }\n",
              "      </script>\n",
              "    </div>\n",
              "  </div>\n",
              "  "
            ]
          },
          "metadata": {},
          "execution_count": 142
        }
      ]
    },
    {
      "cell_type": "code",
      "metadata": {
        "ExecuteTime": {
          "end_time": "2020-04-05T15:08:48.782109Z",
          "start_time": "2020-04-05T15:08:31.676698Z"
        },
        "id": "vfHewV0WlVYl"
      },
      "source": [
        "#example (you can use this code but this wont count for your 4 features)\n",
        "from scipy import stats \n",
        "def m2(x):\n",
        "    return stats.moment(x, moment = 2)\n"
      ],
      "execution_count": null,
      "outputs": []
    },
    {
      "cell_type": "markdown",
      "metadata": {
        "id": "ASPTCZn3lVYl"
      },
      "source": [
        "Even with the same standard deviation two distribution can be very different. \n",
        "Look at the this article for a great demonstation of that! https://heap.io/blog/data-stories/anscombes-quartet-and-why-summary-statistics-dont-tell-the-whole-story\n",
        "\n",
        "I extracted  the max and min, but also their uncertainties because outlier points may be measurement issues, in which case the uncertainty may be large : see the plot you made for 84716!\n",
        "\n",
        "If a distribution has spikes the standard deviation will be larger even if the other datapoints are exactly the same. Save the mean and the max of both original distribution and the standardized one (standardized = mean subtracted and divided by the standard deviation). \n"
      ]
    },
    {
      "cell_type": "markdown",
      "metadata": {
        "id": "CdlGzTnHlVYm"
      },
      "source": [
        "Standardize the lcvs and extract some features from the raw lightcurve - \n"
      ]
    },
    {
      "cell_type": "markdown",
      "metadata": {
        "id": "dIHttYe69Pkl"
      },
      "source": [
        "You can do it use  the preprocessing.scale function and groupby, which group by object and band. It does its job, but it is slow"
      ]
    },
    {
      "cell_type": "code",
      "metadata": {
        "id": "kRXCenv6A6Rf"
      },
      "source": [
        "#check if you did it right\n",
        "print(\"Mean:\", mean_norm)\n",
        "print(\"Standard Deviation:\", std_norm)"
      ],
      "execution_count": null,
      "outputs": []
    },
    {
      "cell_type": "markdown",
      "metadata": {
        "ExecuteTime": {
          "end_time": "2020-04-05T14:54:48.400855Z",
          "start_time": "2020-04-05T14:54:48.399021Z"
        },
        "id": "V36QL4dQlVYn"
      },
      "source": [
        "Note: the median of the standardizeed distribution would convey the location of the \"center of mass\" of the data with respect to the mean\n"
      ]
    },
    {
      "cell_type": "markdown",
      "metadata": {
        "id": "7RMB7NBZlVYo"
      },
      "source": [
        "parametric features: extract some features that come from simple models of the lightcurve, e.g. line fits\n",
        "\n"
      ]
    },
    {
      "cell_type": "markdown",
      "metadata": {
        "id": "vO_Ja9j_Xpox"
      },
      "source": [
        "the goodness of fit for these models is also a potential feature"
      ]
    },
    {
      "cell_type": "markdown",
      "source": [
        "Data Organization: you can put all your features in a dataframe using merge at each step merging each new feature with the olde ones\n"
      ],
      "metadata": {
        "id": "H38lgih9lVYo"
      }
    },
    {
      "cell_type": "code",
      "metadata": {
        "colab": {
          "base_uri": "https://localhost:8080/",
          "height": 233
        },
        "id": "9WD4YyRabV69",
        "outputId": "bac246e5-c84a-40d3-a5bc-24f05ebc1721"
      },
      "source": [
        "#example\n",
        "features = features.merge(....., left_index=True, right_index=True)\n",
        "features.head()"
      ],
      "execution_count": null,
      "outputs": [
        {
          "output_type": "execute_result",
          "data": {
            "text/html": [
              "<div>\n",
              "<style scoped>\n",
              "    .dataframe tbody tr th:only-of-type {\n",
              "        vertical-align: middle;\n",
              "    }\n",
              "\n",
              "    .dataframe tbody tr th {\n",
              "        vertical-align: top;\n",
              "    }\n",
              "\n",
              "    .dataframe thead th {\n",
              "        text-align: right;\n",
              "    }\n",
              "</style>\n",
              "<table border=\"1\" class=\"dataframe\">\n",
              "  <thead>\n",
              "    <tr style=\"text-align: right;\">\n",
              "      <th></th>\n",
              "      <th></th>\n",
              "      <th>means</th>\n",
              "      <th>std</th>\n",
              "      <th>s</th>\n",
              "      <th>maxs</th>\n",
              "      <th>mins</th>\n",
              "      <th>medians</th>\n",
              "      <th>slope</th>\n",
              "      <th>intercept</th>\n",
              "      <th>a</th>\n",
              "    </tr>\n",
              "    <tr>\n",
              "      <th>object_id</th>\n",
              "      <th>passband</th>\n",
              "      <th></th>\n",
              "      <th></th>\n",
              "      <th></th>\n",
              "      <th></th>\n",
              "      <th></th>\n",
              "      <th></th>\n",
              "      <th></th>\n",
              "      <th></th>\n",
              "      <th></th>\n",
              "    </tr>\n",
              "  </thead>\n",
              "  <tbody>\n",
              "    <tr>\n",
              "      <th rowspan=\"5\" valign=\"top\">615</th>\n",
              "      <th>0</th>\n",
              "      <td>-3.254554</td>\n",
              "      <td>83.944735</td>\n",
              "      <td>0.125827</td>\n",
              "      <td>125.182808</td>\n",
              "      <td>-116.913223</td>\n",
              "      <td>-0.081180</td>\n",
              "      <td>0.000528</td>\n",
              "      <td>-31.821927</td>\n",
              "      <td>-1.0</td>\n",
              "    </tr>\n",
              "    <tr>\n",
              "      <th>1</th>\n",
              "      <td>-385.699911</td>\n",
              "      <td>601.787302</td>\n",
              "      <td>0.404755</td>\n",
              "      <td>660.626343</td>\n",
              "      <td>-1100.440063</td>\n",
              "      <td>-0.171580</td>\n",
              "      <td>0.000564</td>\n",
              "      <td>-33.921454</td>\n",
              "      <td>-1.0</td>\n",
              "    </tr>\n",
              "    <tr>\n",
              "      <th>2</th>\n",
              "      <td>-134.146566</td>\n",
              "      <td>455.121346</td>\n",
              "      <td>0.331063</td>\n",
              "      <td>611.984558</td>\n",
              "      <td>-681.858887</td>\n",
              "      <td>-0.291545</td>\n",
              "      <td>0.000756</td>\n",
              "      <td>-45.499328</td>\n",
              "      <td>-1.0</td>\n",
              "    </tr>\n",
              "    <tr>\n",
              "      <th>3</th>\n",
              "      <td>-121.103501</td>\n",
              "      <td>335.425053</td>\n",
              "      <td>0.285492</td>\n",
              "      <td>445.737061</td>\n",
              "      <td>-530.644592</td>\n",
              "      <td>-0.123500</td>\n",
              "      <td>0.000916</td>\n",
              "      <td>-55.091286</td>\n",
              "      <td>-1.0</td>\n",
              "    </tr>\n",
              "    <tr>\n",
              "      <th>4</th>\n",
              "      <td>-55.954592</td>\n",
              "      <td>291.803449</td>\n",
              "      <td>0.194883</td>\n",
              "      <td>381.953735</td>\n",
              "      <td>-422.184509</td>\n",
              "      <td>-0.164500</td>\n",
              "      <td>0.001046</td>\n",
              "      <td>-62.942751</td>\n",
              "      <td>-1.0</td>\n",
              "    </tr>\n",
              "  </tbody>\n",
              "</table>\n",
              "</div>"
            ],
            "text/plain": [
              "                         means         std         s  ...     slope  intercept    a\n",
              "object_id passband                                    ...                          \n",
              "615       0          -3.254554   83.944735  0.125827  ...  0.000528 -31.821927 -1.0\n",
              "          1        -385.699911  601.787302  0.404755  ...  0.000564 -33.921454 -1.0\n",
              "          2        -134.146566  455.121346  0.331063  ...  0.000756 -45.499328 -1.0\n",
              "          3        -121.103501  335.425053  0.285492  ...  0.000916 -55.091286 -1.0\n",
              "          4         -55.954592  291.803449  0.194883  ...  0.001046 -62.942751 -1.0\n",
              "\n",
              "[5 rows x 9 columns]"
            ]
          },
          "metadata": {
            "tags": []
          },
          "execution_count": 37
        }
      ]
    },
    {
      "cell_type": "markdown",
      "metadata": {
        "id": "SaOg1-MZQo11"
      },
      "source": [
        "NOTE: when you merge the metadata features you are going to have to do some gymnastic with the indices: this is because the data has 2 indices columns: the object id and the bandpass id, while the metadata has only 1 index: the object id. \n",
        "\n",
        "You can use the function unstuck - here is an example line of code of what worked for me **but** it kind of depends on how you organized your dataframe so this is not guaranteed to work!"
      ]
    },
    {
      "cell_type": "code",
      "metadata": {
        "ExecuteTime": {
          "end_time": "2020-04-05T15:26:52.274948Z",
          "start_time": "2020-04-05T15:26:52.144078Z"
        },
        "id": "8yuZTwEGlVYp",
        "colab": {
          "base_uri": "https://localhost:8080/"
        },
        "outputId": "98dae9a1-a974-4bf4-d89c-75a8e95bbcca"
      },
      "source": [
        "allfeatures = features.reset_index().set_index(['object_id','passband']).stack(\n",
        "    ).unstack([1,2])\n",
        "allfeatures.shape"
      ],
      "execution_count": null,
      "outputs": [
        {
          "output_type": "execute_result",
          "data": {
            "text/plain": [
              "(7848, 54)"
            ]
          },
          "metadata": {
            "tags": []
          },
          "execution_count": 40
        }
      ]
    },
    {
      "cell_type": "code",
      "source": [
        "lcvs_features.columns = lcvs_features.columns.get_level_values(1)\n",
        "lcvs_features.columns"
      ],
      "metadata": {
        "colab": {
          "base_uri": "https://localhost:8080/"
        },
        "id": "XA_ABiaViDFg",
        "outputId": "db9b4768-66c9-4ea4-9ad4-b2e312b02edc"
      },
      "execution_count": null,
      "outputs": [
        {
          "output_type": "execute_result",
          "data": {
            "text/plain": [
              "Index(['mean', 'std', 'skew', 'kurtosis', 'median'], dtype='object')"
            ]
          },
          "metadata": {},
          "execution_count": 151
        }
      ]
    },
    {
      "cell_type": "code",
      "source": [
        "allfeatures = lcvs_features.reset_index().set_index(['object_id','passband']).stack(\n",
        "    ).unstack([1,2])\n",
        "allfeatures.shape"
      ],
      "metadata": {
        "colab": {
          "base_uri": "https://localhost:8080/"
        },
        "id": "MxlZ_WVUiALa",
        "outputId": "42e05149-88f3-4fa1-ba18-01c836b57b5e"
      },
      "execution_count": null,
      "outputs": [
        {
          "output_type": "execute_result",
          "data": {
            "text/plain": [
              "(7848, 30)"
            ]
          },
          "metadata": {},
          "execution_count": 152
        }
      ]
    },
    {
      "cell_type": "code",
      "source": [
        "allfeatures"
      ],
      "metadata": {
        "colab": {
          "base_uri": "https://localhost:8080/",
          "height": 550
        },
        "id": "5yLCDj9yiWus",
        "outputId": "c5fb9542-bb67-4b29-fd30-bba14b94d9e9"
      },
      "execution_count": null,
      "outputs": [
        {
          "output_type": "execute_result",
          "data": {
            "text/plain": [
              "passband            0                                                      1  \\\n",
              "                 mean          std      skew  kurtosis    median        mean   \n",
              "object_id                                                                      \n",
              "615         -3.254554    83.944735  0.125827 -1.454426 -0.081184 -385.699911   \n",
              "713         -2.720398     7.113509  0.254446 -1.027516 -0.053296   -1.019804   \n",
              "730         -0.048080     1.828872  0.349431  0.359725  0.039740    0.141057   \n",
              "745          1.797523     4.374445  1.980815  4.232286 -0.170538    5.717394   \n",
              "1124         0.660948     2.360084 -0.324207  0.664903 -0.034136    4.634637   \n",
              "...               ...          ...       ...       ...       ...         ...   \n",
              "130739978    1.286655    15.998517  1.623297  3.827157 -0.046388   11.604012   \n",
              "130755807   24.635243    79.713932  2.779088  6.214792 -0.276623    6.965825   \n",
              "130762946   -0.282914    46.605187 -1.877398  3.701710  0.171062  -20.094296   \n",
              "130772921    3.374208    14.420201  1.253611  0.602310 -0.363898   28.342250   \n",
              "130779836  812.700937  2120.766511  3.013054  7.418233 -0.354338  725.169852   \n",
              "\n",
              "passband                                               ...            4  \\\n",
              "                   std      skew   kurtosis    median  ...         mean   \n",
              "object_id                                              ...                \n",
              "615         601.787302  0.404755  -1.251198 -0.171576  ...   -55.954592   \n",
              "713           5.712334 -0.085494  -1.106890  0.080915  ...    -0.900262   \n",
              "730           1.807229  0.457635   0.771778  0.016918  ...     4.308728   \n",
              "745          25.964659  6.817994  46.333887 -0.187678  ...    13.134436   \n",
              "1124          8.107525  2.315295   5.496244 -0.432985  ...     9.906102   \n",
              "...                ...       ...        ...       ...  ...          ...   \n",
              "130739978    42.103636  3.274078   8.851832 -0.293677  ...    -1.326906   \n",
              "130755807    16.268582  2.549417   5.025328 -0.368264  ...    40.758273   \n",
              "130762946    23.572412 -1.595460   2.763135  0.084014  ...   -15.201844   \n",
              "130772921    97.513710  2.842442   6.087819 -0.317331  ...    -1.135067   \n",
              "130779836  1197.557111  1.565742   0.772541 -0.536827  ...  3489.185336   \n",
              "\n",
              "passband                                                          5  \\\n",
              "                    std      skew   kurtosis    median         mean   \n",
              "object_id                                                             \n",
              "615          291.803449  0.194883  -1.519722 -0.164502   -47.449847   \n",
              "713            6.406989 -0.062403  -1.191860  0.017023    -1.794175   \n",
              "730           10.710344  2.462542   5.385640 -0.311592     4.539396   \n",
              "745           33.069053  3.382600  12.445025 -0.362020    10.746138   \n",
              "1124          26.865913  3.802308  14.897216 -0.306424     6.896742   \n",
              "...                 ...       ...        ...       ...          ...   \n",
              "130739978     16.735430  0.411283   0.537647 -0.029879    20.073462   \n",
              "130755807    108.319727  2.341093   3.831769 -0.337950     3.528390   \n",
              "130762946     22.364118  0.579885  -0.298582 -0.108920    -9.838345   \n",
              "130772921     10.112169 -0.334336  -0.642642  0.085127     7.671389   \n",
              "130779836  11006.766106  4.221177  17.012896 -0.315443  4151.358875   \n",
              "\n",
              "passband                                               \n",
              "                   std      skew   kurtosis    median  \n",
              "object_id                                              \n",
              "615         294.779522  0.121948  -1.559937 -0.130311  \n",
              "713           7.094073  0.212294  -0.832902 -0.095134  \n",
              "730          13.332758  1.630520   3.125970 -0.151253  \n",
              "745          26.060130  3.083716  10.952063 -0.309679  \n",
              "1124         21.434627  3.560347  13.095559 -0.231739  \n",
              "...                ...       ...        ...       ...  \n",
              "130739978    97.602719  3.825390  17.651123 -0.092976  \n",
              "130755807    38.849765  1.082769   2.246605 -0.110052  \n",
              "130762946    48.309960  1.458295   4.501540 -0.026980  \n",
              "130772921    44.169662  2.515357   9.593440 -0.108513  \n",
              "130779836  8687.101173  2.274800   3.629547 -0.427486  \n",
              "\n",
              "[7848 rows x 30 columns]"
            ],
            "text/html": [
              "\n",
              "  <div id=\"df-5b5e63bb-719f-40d6-894f-e83065d3ac1a\">\n",
              "    <div class=\"colab-df-container\">\n",
              "      <div>\n",
              "<style scoped>\n",
              "    .dataframe tbody tr th:only-of-type {\n",
              "        vertical-align: middle;\n",
              "    }\n",
              "\n",
              "    .dataframe tbody tr th {\n",
              "        vertical-align: top;\n",
              "    }\n",
              "\n",
              "    .dataframe thead tr th {\n",
              "        text-align: left;\n",
              "    }\n",
              "\n",
              "    .dataframe thead tr:last-of-type th {\n",
              "        text-align: right;\n",
              "    }\n",
              "</style>\n",
              "<table border=\"1\" class=\"dataframe\">\n",
              "  <thead>\n",
              "    <tr>\n",
              "      <th>passband</th>\n",
              "      <th colspan=\"5\" halign=\"left\">0</th>\n",
              "      <th colspan=\"5\" halign=\"left\">1</th>\n",
              "      <th>...</th>\n",
              "      <th colspan=\"5\" halign=\"left\">4</th>\n",
              "      <th colspan=\"5\" halign=\"left\">5</th>\n",
              "    </tr>\n",
              "    <tr>\n",
              "      <th></th>\n",
              "      <th>mean</th>\n",
              "      <th>std</th>\n",
              "      <th>skew</th>\n",
              "      <th>kurtosis</th>\n",
              "      <th>median</th>\n",
              "      <th>mean</th>\n",
              "      <th>std</th>\n",
              "      <th>skew</th>\n",
              "      <th>kurtosis</th>\n",
              "      <th>median</th>\n",
              "      <th>...</th>\n",
              "      <th>mean</th>\n",
              "      <th>std</th>\n",
              "      <th>skew</th>\n",
              "      <th>kurtosis</th>\n",
              "      <th>median</th>\n",
              "      <th>mean</th>\n",
              "      <th>std</th>\n",
              "      <th>skew</th>\n",
              "      <th>kurtosis</th>\n",
              "      <th>median</th>\n",
              "    </tr>\n",
              "    <tr>\n",
              "      <th>object_id</th>\n",
              "      <th></th>\n",
              "      <th></th>\n",
              "      <th></th>\n",
              "      <th></th>\n",
              "      <th></th>\n",
              "      <th></th>\n",
              "      <th></th>\n",
              "      <th></th>\n",
              "      <th></th>\n",
              "      <th></th>\n",
              "      <th></th>\n",
              "      <th></th>\n",
              "      <th></th>\n",
              "      <th></th>\n",
              "      <th></th>\n",
              "      <th></th>\n",
              "      <th></th>\n",
              "      <th></th>\n",
              "      <th></th>\n",
              "      <th></th>\n",
              "      <th></th>\n",
              "    </tr>\n",
              "  </thead>\n",
              "  <tbody>\n",
              "    <tr>\n",
              "      <th>615</th>\n",
              "      <td>-3.254554</td>\n",
              "      <td>83.944735</td>\n",
              "      <td>0.125827</td>\n",
              "      <td>-1.454426</td>\n",
              "      <td>-0.081184</td>\n",
              "      <td>-385.699911</td>\n",
              "      <td>601.787302</td>\n",
              "      <td>0.404755</td>\n",
              "      <td>-1.251198</td>\n",
              "      <td>-0.171576</td>\n",
              "      <td>...</td>\n",
              "      <td>-55.954592</td>\n",
              "      <td>291.803449</td>\n",
              "      <td>0.194883</td>\n",
              "      <td>-1.519722</td>\n",
              "      <td>-0.164502</td>\n",
              "      <td>-47.449847</td>\n",
              "      <td>294.779522</td>\n",
              "      <td>0.121948</td>\n",
              "      <td>-1.559937</td>\n",
              "      <td>-0.130311</td>\n",
              "    </tr>\n",
              "    <tr>\n",
              "      <th>713</th>\n",
              "      <td>-2.720398</td>\n",
              "      <td>7.113509</td>\n",
              "      <td>0.254446</td>\n",
              "      <td>-1.027516</td>\n",
              "      <td>-0.053296</td>\n",
              "      <td>-1.019804</td>\n",
              "      <td>5.712334</td>\n",
              "      <td>-0.085494</td>\n",
              "      <td>-1.106890</td>\n",
              "      <td>0.080915</td>\n",
              "      <td>...</td>\n",
              "      <td>-0.900262</td>\n",
              "      <td>6.406989</td>\n",
              "      <td>-0.062403</td>\n",
              "      <td>-1.191860</td>\n",
              "      <td>0.017023</td>\n",
              "      <td>-1.794175</td>\n",
              "      <td>7.094073</td>\n",
              "      <td>0.212294</td>\n",
              "      <td>-0.832902</td>\n",
              "      <td>-0.095134</td>\n",
              "    </tr>\n",
              "    <tr>\n",
              "      <th>730</th>\n",
              "      <td>-0.048080</td>\n",
              "      <td>1.828872</td>\n",
              "      <td>0.349431</td>\n",
              "      <td>0.359725</td>\n",
              "      <td>0.039740</td>\n",
              "      <td>0.141057</td>\n",
              "      <td>1.807229</td>\n",
              "      <td>0.457635</td>\n",
              "      <td>0.771778</td>\n",
              "      <td>0.016918</td>\n",
              "      <td>...</td>\n",
              "      <td>4.308728</td>\n",
              "      <td>10.710344</td>\n",
              "      <td>2.462542</td>\n",
              "      <td>5.385640</td>\n",
              "      <td>-0.311592</td>\n",
              "      <td>4.539396</td>\n",
              "      <td>13.332758</td>\n",
              "      <td>1.630520</td>\n",
              "      <td>3.125970</td>\n",
              "      <td>-0.151253</td>\n",
              "    </tr>\n",
              "    <tr>\n",
              "      <th>745</th>\n",
              "      <td>1.797523</td>\n",
              "      <td>4.374445</td>\n",
              "      <td>1.980815</td>\n",
              "      <td>4.232286</td>\n",
              "      <td>-0.170538</td>\n",
              "      <td>5.717394</td>\n",
              "      <td>25.964659</td>\n",
              "      <td>6.817994</td>\n",
              "      <td>46.333887</td>\n",
              "      <td>-0.187678</td>\n",
              "      <td>...</td>\n",
              "      <td>13.134436</td>\n",
              "      <td>33.069053</td>\n",
              "      <td>3.382600</td>\n",
              "      <td>12.445025</td>\n",
              "      <td>-0.362020</td>\n",
              "      <td>10.746138</td>\n",
              "      <td>26.060130</td>\n",
              "      <td>3.083716</td>\n",
              "      <td>10.952063</td>\n",
              "      <td>-0.309679</td>\n",
              "    </tr>\n",
              "    <tr>\n",
              "      <th>1124</th>\n",
              "      <td>0.660948</td>\n",
              "      <td>2.360084</td>\n",
              "      <td>-0.324207</td>\n",
              "      <td>0.664903</td>\n",
              "      <td>-0.034136</td>\n",
              "      <td>4.634637</td>\n",
              "      <td>8.107525</td>\n",
              "      <td>2.315295</td>\n",
              "      <td>5.496244</td>\n",
              "      <td>-0.432985</td>\n",
              "      <td>...</td>\n",
              "      <td>9.906102</td>\n",
              "      <td>26.865913</td>\n",
              "      <td>3.802308</td>\n",
              "      <td>14.897216</td>\n",
              "      <td>-0.306424</td>\n",
              "      <td>6.896742</td>\n",
              "      <td>21.434627</td>\n",
              "      <td>3.560347</td>\n",
              "      <td>13.095559</td>\n",
              "      <td>-0.231739</td>\n",
              "    </tr>\n",
              "    <tr>\n",
              "      <th>...</th>\n",
              "      <td>...</td>\n",
              "      <td>...</td>\n",
              "      <td>...</td>\n",
              "      <td>...</td>\n",
              "      <td>...</td>\n",
              "      <td>...</td>\n",
              "      <td>...</td>\n",
              "      <td>...</td>\n",
              "      <td>...</td>\n",
              "      <td>...</td>\n",
              "      <td>...</td>\n",
              "      <td>...</td>\n",
              "      <td>...</td>\n",
              "      <td>...</td>\n",
              "      <td>...</td>\n",
              "      <td>...</td>\n",
              "      <td>...</td>\n",
              "      <td>...</td>\n",
              "      <td>...</td>\n",
              "      <td>...</td>\n",
              "      <td>...</td>\n",
              "    </tr>\n",
              "    <tr>\n",
              "      <th>130739978</th>\n",
              "      <td>1.286655</td>\n",
              "      <td>15.998517</td>\n",
              "      <td>1.623297</td>\n",
              "      <td>3.827157</td>\n",
              "      <td>-0.046388</td>\n",
              "      <td>11.604012</td>\n",
              "      <td>42.103636</td>\n",
              "      <td>3.274078</td>\n",
              "      <td>8.851832</td>\n",
              "      <td>-0.293677</td>\n",
              "      <td>...</td>\n",
              "      <td>-1.326906</td>\n",
              "      <td>16.735430</td>\n",
              "      <td>0.411283</td>\n",
              "      <td>0.537647</td>\n",
              "      <td>-0.029879</td>\n",
              "      <td>20.073462</td>\n",
              "      <td>97.602719</td>\n",
              "      <td>3.825390</td>\n",
              "      <td>17.651123</td>\n",
              "      <td>-0.092976</td>\n",
              "    </tr>\n",
              "    <tr>\n",
              "      <th>130755807</th>\n",
              "      <td>24.635243</td>\n",
              "      <td>79.713932</td>\n",
              "      <td>2.779088</td>\n",
              "      <td>6.214792</td>\n",
              "      <td>-0.276623</td>\n",
              "      <td>6.965825</td>\n",
              "      <td>16.268582</td>\n",
              "      <td>2.549417</td>\n",
              "      <td>5.025328</td>\n",
              "      <td>-0.368264</td>\n",
              "      <td>...</td>\n",
              "      <td>40.758273</td>\n",
              "      <td>108.319727</td>\n",
              "      <td>2.341093</td>\n",
              "      <td>3.831769</td>\n",
              "      <td>-0.337950</td>\n",
              "      <td>3.528390</td>\n",
              "      <td>38.849765</td>\n",
              "      <td>1.082769</td>\n",
              "      <td>2.246605</td>\n",
              "      <td>-0.110052</td>\n",
              "    </tr>\n",
              "    <tr>\n",
              "      <th>130762946</th>\n",
              "      <td>-0.282914</td>\n",
              "      <td>46.605187</td>\n",
              "      <td>-1.877398</td>\n",
              "      <td>3.701710</td>\n",
              "      <td>0.171062</td>\n",
              "      <td>-20.094296</td>\n",
              "      <td>23.572412</td>\n",
              "      <td>-1.595460</td>\n",
              "      <td>2.763135</td>\n",
              "      <td>0.084014</td>\n",
              "      <td>...</td>\n",
              "      <td>-15.201844</td>\n",
              "      <td>22.364118</td>\n",
              "      <td>0.579885</td>\n",
              "      <td>-0.298582</td>\n",
              "      <td>-0.108920</td>\n",
              "      <td>-9.838345</td>\n",
              "      <td>48.309960</td>\n",
              "      <td>1.458295</td>\n",
              "      <td>4.501540</td>\n",
              "      <td>-0.026980</td>\n",
              "    </tr>\n",
              "    <tr>\n",
              "      <th>130772921</th>\n",
              "      <td>3.374208</td>\n",
              "      <td>14.420201</td>\n",
              "      <td>1.253611</td>\n",
              "      <td>0.602310</td>\n",
              "      <td>-0.363898</td>\n",
              "      <td>28.342250</td>\n",
              "      <td>97.513710</td>\n",
              "      <td>2.842442</td>\n",
              "      <td>6.087819</td>\n",
              "      <td>-0.317331</td>\n",
              "      <td>...</td>\n",
              "      <td>-1.135067</td>\n",
              "      <td>10.112169</td>\n",
              "      <td>-0.334336</td>\n",
              "      <td>-0.642642</td>\n",
              "      <td>0.085127</td>\n",
              "      <td>7.671389</td>\n",
              "      <td>44.169662</td>\n",
              "      <td>2.515357</td>\n",
              "      <td>9.593440</td>\n",
              "      <td>-0.108513</td>\n",
              "    </tr>\n",
              "    <tr>\n",
              "      <th>130779836</th>\n",
              "      <td>812.700937</td>\n",
              "      <td>2120.766511</td>\n",
              "      <td>3.013054</td>\n",
              "      <td>7.418233</td>\n",
              "      <td>-0.354338</td>\n",
              "      <td>725.169852</td>\n",
              "      <td>1197.557111</td>\n",
              "      <td>1.565742</td>\n",
              "      <td>0.772541</td>\n",
              "      <td>-0.536827</td>\n",
              "      <td>...</td>\n",
              "      <td>3489.185336</td>\n",
              "      <td>11006.766106</td>\n",
              "      <td>4.221177</td>\n",
              "      <td>17.012896</td>\n",
              "      <td>-0.315443</td>\n",
              "      <td>4151.358875</td>\n",
              "      <td>8687.101173</td>\n",
              "      <td>2.274800</td>\n",
              "      <td>3.629547</td>\n",
              "      <td>-0.427486</td>\n",
              "    </tr>\n",
              "  </tbody>\n",
              "</table>\n",
              "<p>7848 rows × 30 columns</p>\n",
              "</div>\n",
              "      <button class=\"colab-df-convert\" onclick=\"convertToInteractive('df-5b5e63bb-719f-40d6-894f-e83065d3ac1a')\"\n",
              "              title=\"Convert this dataframe to an interactive table.\"\n",
              "              style=\"display:none;\">\n",
              "        \n",
              "  <svg xmlns=\"http://www.w3.org/2000/svg\" height=\"24px\"viewBox=\"0 0 24 24\"\n",
              "       width=\"24px\">\n",
              "    <path d=\"M0 0h24v24H0V0z\" fill=\"none\"/>\n",
              "    <path d=\"M18.56 5.44l.94 2.06.94-2.06 2.06-.94-2.06-.94-.94-2.06-.94 2.06-2.06.94zm-11 1L8.5 8.5l.94-2.06 2.06-.94-2.06-.94L8.5 2.5l-.94 2.06-2.06.94zm10 10l.94 2.06.94-2.06 2.06-.94-2.06-.94-.94-2.06-.94 2.06-2.06.94z\"/><path d=\"M17.41 7.96l-1.37-1.37c-.4-.4-.92-.59-1.43-.59-.52 0-1.04.2-1.43.59L10.3 9.45l-7.72 7.72c-.78.78-.78 2.05 0 2.83L4 21.41c.39.39.9.59 1.41.59.51 0 1.02-.2 1.41-.59l7.78-7.78 2.81-2.81c.8-.78.8-2.07 0-2.86zM5.41 20L4 18.59l7.72-7.72 1.47 1.35L5.41 20z\"/>\n",
              "  </svg>\n",
              "      </button>\n",
              "      \n",
              "  <style>\n",
              "    .colab-df-container {\n",
              "      display:flex;\n",
              "      flex-wrap:wrap;\n",
              "      gap: 12px;\n",
              "    }\n",
              "\n",
              "    .colab-df-convert {\n",
              "      background-color: #E8F0FE;\n",
              "      border: none;\n",
              "      border-radius: 50%;\n",
              "      cursor: pointer;\n",
              "      display: none;\n",
              "      fill: #1967D2;\n",
              "      height: 32px;\n",
              "      padding: 0 0 0 0;\n",
              "      width: 32px;\n",
              "    }\n",
              "\n",
              "    .colab-df-convert:hover {\n",
              "      background-color: #E2EBFA;\n",
              "      box-shadow: 0px 1px 2px rgba(60, 64, 67, 0.3), 0px 1px 3px 1px rgba(60, 64, 67, 0.15);\n",
              "      fill: #174EA6;\n",
              "    }\n",
              "\n",
              "    [theme=dark] .colab-df-convert {\n",
              "      background-color: #3B4455;\n",
              "      fill: #D2E3FC;\n",
              "    }\n",
              "\n",
              "    [theme=dark] .colab-df-convert:hover {\n",
              "      background-color: #434B5C;\n",
              "      box-shadow: 0px 1px 3px 1px rgba(0, 0, 0, 0.15);\n",
              "      filter: drop-shadow(0px 1px 2px rgba(0, 0, 0, 0.3));\n",
              "      fill: #FFFFFF;\n",
              "    }\n",
              "  </style>\n",
              "\n",
              "      <script>\n",
              "        const buttonEl =\n",
              "          document.querySelector('#df-5b5e63bb-719f-40d6-894f-e83065d3ac1a button.colab-df-convert');\n",
              "        buttonEl.style.display =\n",
              "          google.colab.kernel.accessAllowed ? 'block' : 'none';\n",
              "\n",
              "        async function convertToInteractive(key) {\n",
              "          const element = document.querySelector('#df-5b5e63bb-719f-40d6-894f-e83065d3ac1a');\n",
              "          const dataTable =\n",
              "            await google.colab.kernel.invokeFunction('convertToInteractive',\n",
              "                                                     [key], {});\n",
              "          if (!dataTable) return;\n",
              "\n",
              "          const docLinkHtml = 'Like what you see? Visit the ' +\n",
              "            '<a target=\"_blank\" href=https://colab.research.google.com/notebooks/data_table.ipynb>data table notebook</a>'\n",
              "            + ' to learn more about interactive tables.';\n",
              "          element.innerHTML = '';\n",
              "          dataTable['output_type'] = 'display_data';\n",
              "          await google.colab.output.renderOutput(dataTable, element);\n",
              "          const docLink = document.createElement('div');\n",
              "          docLink.innerHTML = docLinkHtml;\n",
              "          element.appendChild(docLink);\n",
              "        }\n",
              "      </script>\n",
              "    </div>\n",
              "  </div>\n",
              "  "
            ]
          },
          "metadata": {},
          "execution_count": 160
        }
      ]
    },
    {
      "cell_type": "code",
      "source": [
        "decl_feature_dict = dict(\n",
        "    zip(\n",
        "        metadata['object_id'],\n",
        "        metadata['decl']\n",
        "    )\n",
        ") "
      ],
      "metadata": {
        "id": "Xy_zTjj4fhx8"
      },
      "execution_count": null,
      "outputs": []
    },
    {
      "cell_type": "code",
      "source": [
        "allfeatures['decl'] = allfeatures.progress_apply(\n",
        "    lambda x: decl_feature_dict[x.name] if x.name in decl_feature_dict else np.NaN,\n",
        "    axis=1\n",
        ")"
      ],
      "metadata": {
        "colab": {
          "base_uri": "https://localhost:8080/"
        },
        "id": "daIhp8_-gRit",
        "outputId": "e5d7d0fd-a811-42cc-8b4a-e484d5b4f3c0"
      },
      "execution_count": null,
      "outputs": [
        {
          "output_type": "stream",
          "name": "stderr",
          "text": [
            "100%|██████████| 7848/7848 [00:00<00:00, 72555.64it/s]\n"
          ]
        }
      ]
    },
    {
      "cell_type": "code",
      "source": [
        "allfeatures = features.reset_index().set_index(['object_id','passband']).stack(\n",
        "    ).unstack([1,2])\n",
        "allfeatures.shape"
      ],
      "metadata": {
        "id": "IEcTrAdIhtAo"
      },
      "execution_count": null,
      "outputs": []
    },
    {
      "cell_type": "code",
      "metadata": {
        "colab": {
          "base_uri": "https://localhost:8080/",
          "height": 270
        },
        "id": "uUo0O0_5WTIF",
        "outputId": "f60d1cc3-ffa3-4306-dcaf-a1613eb30acf"
      },
      "source": [
        "#EXAMPLE OF A POTENTIAL DATAFRAME OUTPUT\n",
        "allfeatures.head()"
      ],
      "execution_count": null,
      "outputs": [
        {
          "output_type": "execute_result",
          "data": {
            "text/html": [
              "<div>\n",
              "<style scoped>\n",
              "    .dataframe tbody tr th:only-of-type {\n",
              "        vertical-align: middle;\n",
              "    }\n",
              "\n",
              "    .dataframe tbody tr th {\n",
              "        vertical-align: top;\n",
              "    }\n",
              "\n",
              "    .dataframe thead th {\n",
              "        text-align: right;\n",
              "    }\n",
              "</style>\n",
              "<table border=\"1\" class=\"dataframe\">\n",
              "  <thead>\n",
              "    <tr style=\"text-align: right;\">\n",
              "      <th></th>\n",
              "      <th>(0, means)</th>\n",
              "      <th>(0, std)</th>\n",
              "      <th>(0, s)</th>\n",
              "      <th>(0, maxs)</th>\n",
              "      <th>(0, mins)</th>\n",
              "      <th>(0, medians)</th>\n",
              "      <th>(0, slope)</th>\n",
              "      <th>(0, intercept)</th>\n",
              "      <th>(0, a)</th>\n",
              "      <th>(1, means)</th>\n",
              "      <th>(1, std)</th>\n",
              "      <th>(1, s)</th>\n",
              "      <th>(1, maxs)</th>\n",
              "      <th>(1, mins)</th>\n",
              "      <th>(1, medians)</th>\n",
              "      <th>(1, slope)</th>\n",
              "      <th>(1, intercept)</th>\n",
              "      <th>(1, a)</th>\n",
              "      <th>(2, means)</th>\n",
              "      <th>(2, std)</th>\n",
              "      <th>(2, s)</th>\n",
              "      <th>(2, maxs)</th>\n",
              "      <th>(2, mins)</th>\n",
              "      <th>(2, medians)</th>\n",
              "      <th>(2, slope)</th>\n",
              "      <th>(2, intercept)</th>\n",
              "      <th>(2, a)</th>\n",
              "      <th>(3, means)</th>\n",
              "      <th>(3, std)</th>\n",
              "      <th>(3, s)</th>\n",
              "      <th>(3, maxs)</th>\n",
              "      <th>(3, mins)</th>\n",
              "      <th>(3, medians)</th>\n",
              "      <th>(3, slope)</th>\n",
              "      <th>(3, intercept)</th>\n",
              "      <th>(3, a)</th>\n",
              "      <th>(4, means)</th>\n",
              "      <th>(4, std)</th>\n",
              "      <th>(4, s)</th>\n",
              "      <th>(4, maxs)</th>\n",
              "      <th>(4, mins)</th>\n",
              "      <th>(4, medians)</th>\n",
              "      <th>(4, slope)</th>\n",
              "      <th>(4, intercept)</th>\n",
              "      <th>(4, a)</th>\n",
              "      <th>(5, means)</th>\n",
              "      <th>(5, std)</th>\n",
              "      <th>(5, s)</th>\n",
              "      <th>(5, maxs)</th>\n",
              "      <th>(5, mins)</th>\n",
              "      <th>(5, medians)</th>\n",
              "      <th>(5, slope)</th>\n",
              "      <th>(5, intercept)</th>\n",
              "      <th>(5, a)</th>\n",
              "      <th>(decl)</th>\n",
              "      <th>(hostgal_photoz)</th>\n",
              "      <th>(hostgal_photoz_err)</th>\n",
              "      <th>(ddf)</th>\n",
              "      <th>(target)</th>\n",
              "    </tr>\n",
              "    <tr>\n",
              "      <th>object_id</th>\n",
              "      <th></th>\n",
              "      <th></th>\n",
              "      <th></th>\n",
              "      <th></th>\n",
              "      <th></th>\n",
              "      <th></th>\n",
              "      <th></th>\n",
              "      <th></th>\n",
              "      <th></th>\n",
              "      <th></th>\n",
              "      <th></th>\n",
              "      <th></th>\n",
              "      <th></th>\n",
              "      <th></th>\n",
              "      <th></th>\n",
              "      <th></th>\n",
              "      <th></th>\n",
              "      <th></th>\n",
              "      <th></th>\n",
              "      <th></th>\n",
              "      <th></th>\n",
              "      <th></th>\n",
              "      <th></th>\n",
              "      <th></th>\n",
              "      <th></th>\n",
              "      <th></th>\n",
              "      <th></th>\n",
              "      <th></th>\n",
              "      <th></th>\n",
              "      <th></th>\n",
              "      <th></th>\n",
              "      <th></th>\n",
              "      <th></th>\n",
              "      <th></th>\n",
              "      <th></th>\n",
              "      <th></th>\n",
              "      <th></th>\n",
              "      <th></th>\n",
              "      <th></th>\n",
              "      <th></th>\n",
              "      <th></th>\n",
              "      <th></th>\n",
              "      <th></th>\n",
              "      <th></th>\n",
              "      <th></th>\n",
              "      <th></th>\n",
              "      <th></th>\n",
              "      <th></th>\n",
              "      <th></th>\n",
              "      <th></th>\n",
              "      <th></th>\n",
              "      <th></th>\n",
              "      <th></th>\n",
              "      <th></th>\n",
              "      <th></th>\n",
              "      <th></th>\n",
              "      <th></th>\n",
              "      <th></th>\n",
              "      <th></th>\n",
              "    </tr>\n",
              "  </thead>\n",
              "  <tbody>\n",
              "    <tr>\n",
              "      <th>615</th>\n",
              "      <td>-3.254554</td>\n",
              "      <td>83.944735</td>\n",
              "      <td>0.125827</td>\n",
              "      <td>125.182808</td>\n",
              "      <td>-116.913223</td>\n",
              "      <td>-0.081180</td>\n",
              "      <td>0.000528</td>\n",
              "      <td>-31.821927</td>\n",
              "      <td>-1.0</td>\n",
              "      <td>-385.699911</td>\n",
              "      <td>601.787302</td>\n",
              "      <td>0.404755</td>\n",
              "      <td>660.626343</td>\n",
              "      <td>-1100.440063</td>\n",
              "      <td>-0.171580</td>\n",
              "      <td>0.000564</td>\n",
              "      <td>-33.921454</td>\n",
              "      <td>-1.0</td>\n",
              "      <td>-134.146566</td>\n",
              "      <td>455.121346</td>\n",
              "      <td>0.331063</td>\n",
              "      <td>611.984558</td>\n",
              "      <td>-681.858887</td>\n",
              "      <td>-0.291545</td>\n",
              "      <td>0.000756</td>\n",
              "      <td>-45.499328</td>\n",
              "      <td>-1.0</td>\n",
              "      <td>-121.103501</td>\n",
              "      <td>335.425053</td>\n",
              "      <td>0.285492</td>\n",
              "      <td>445.737061</td>\n",
              "      <td>-530.644592</td>\n",
              "      <td>-0.123500</td>\n",
              "      <td>0.000916</td>\n",
              "      <td>-55.091286</td>\n",
              "      <td>-1.0</td>\n",
              "      <td>-55.954592</td>\n",
              "      <td>291.803449</td>\n",
              "      <td>0.194883</td>\n",
              "      <td>381.953735</td>\n",
              "      <td>-422.184509</td>\n",
              "      <td>-0.164500</td>\n",
              "      <td>0.001046</td>\n",
              "      <td>-62.942751</td>\n",
              "      <td>-1.0</td>\n",
              "      <td>-47.449847</td>\n",
              "      <td>294.779522</td>\n",
              "      <td>0.121948</td>\n",
              "      <td>378.188141</td>\n",
              "      <td>-422.815094</td>\n",
              "      <td>-0.130310</td>\n",
              "      <td>0.001012</td>\n",
              "      <td>-60.907274</td>\n",
              "      <td>-1.0</td>\n",
              "      <td>-61.943836</td>\n",
              "      <td>0.0000</td>\n",
              "      <td>0.0000</td>\n",
              "      <td>1</td>\n",
              "      <td>92</td>\n",
              "    </tr>\n",
              "    <tr>\n",
              "      <th>713</th>\n",
              "      <td>-2.720398</td>\n",
              "      <td>7.113509</td>\n",
              "      <td>0.254446</td>\n",
              "      <td>14.509829</td>\n",
              "      <td>-14.735178</td>\n",
              "      <td>-0.053300</td>\n",
              "      <td>-0.002880</td>\n",
              "      <td>173.700723</td>\n",
              "      <td>-1.0</td>\n",
              "      <td>-1.019804</td>\n",
              "      <td>5.712334</td>\n",
              "      <td>-0.085494</td>\n",
              "      <td>9.129021</td>\n",
              "      <td>-11.715749</td>\n",
              "      <td>0.080915</td>\n",
              "      <td>-0.002824</td>\n",
              "      <td>170.138183</td>\n",
              "      <td>-1.0</td>\n",
              "      <td>-0.794238</td>\n",
              "      <td>5.770738</td>\n",
              "      <td>-0.022066</td>\n",
              "      <td>10.529041</td>\n",
              "      <td>-10.067919</td>\n",
              "      <td>0.118250</td>\n",
              "      <td>-0.002861</td>\n",
              "      <td>172.372515</td>\n",
              "      <td>-1.0</td>\n",
              "      <td>-0.986966</td>\n",
              "      <td>6.450413</td>\n",
              "      <td>-0.162664</td>\n",
              "      <td>11.330316</td>\n",
              "      <td>-12.394593</td>\n",
              "      <td>0.142830</td>\n",
              "      <td>-0.002773</td>\n",
              "      <td>167.042501</td>\n",
              "      <td>-1.0</td>\n",
              "      <td>-0.900262</td>\n",
              "      <td>6.406989</td>\n",
              "      <td>-0.062403</td>\n",
              "      <td>9.827934</td>\n",
              "      <td>-12.286801</td>\n",
              "      <td>0.017020</td>\n",
              "      <td>-0.002706</td>\n",
              "      <td>162.993030</td>\n",
              "      <td>-1.0</td>\n",
              "      <td>-1.794175</td>\n",
              "      <td>7.094073</td>\n",
              "      <td>0.212294</td>\n",
              "      <td>14.770886</td>\n",
              "      <td>-14.211164</td>\n",
              "      <td>-0.095135</td>\n",
              "      <td>-0.001996</td>\n",
              "      <td>120.260663</td>\n",
              "      <td>-1.0</td>\n",
              "      <td>-27.784405</td>\n",
              "      <td>1.6267</td>\n",
              "      <td>0.2552</td>\n",
              "      <td>1</td>\n",
              "      <td>88</td>\n",
              "    </tr>\n",
              "    <tr>\n",
              "      <th>730</th>\n",
              "      <td>-0.048080</td>\n",
              "      <td>1.828872</td>\n",
              "      <td>0.349431</td>\n",
              "      <td>5.942166</td>\n",
              "      <td>-3.459960</td>\n",
              "      <td>0.039740</td>\n",
              "      <td>-0.000122</td>\n",
              "      <td>7.340844</td>\n",
              "      <td>-1.0</td>\n",
              "      <td>0.141057</td>\n",
              "      <td>1.807229</td>\n",
              "      <td>0.457635</td>\n",
              "      <td>5.693109</td>\n",
              "      <td>-3.393080</td>\n",
              "      <td>0.016920</td>\n",
              "      <td>0.000341</td>\n",
              "      <td>-20.512857</td>\n",
              "      <td>-1.0</td>\n",
              "      <td>2.400870</td>\n",
              "      <td>5.559483</td>\n",
              "      <td>2.315707</td>\n",
              "      <td>20.994711</td>\n",
              "      <td>-2.848838</td>\n",
              "      <td>-0.346740</td>\n",
              "      <td>0.001740</td>\n",
              "      <td>-104.795617</td>\n",
              "      <td>1.0</td>\n",
              "      <td>3.236164</td>\n",
              "      <td>8.191987</td>\n",
              "      <td>2.584661</td>\n",
              "      <td>33.572102</td>\n",
              "      <td>-5.435799</td>\n",
              "      <td>-0.317495</td>\n",
              "      <td>0.001593</td>\n",
              "      <td>-95.949468</td>\n",
              "      <td>1.0</td>\n",
              "      <td>4.308728</td>\n",
              "      <td>10.710344</td>\n",
              "      <td>2.462542</td>\n",
              "      <td>41.159981</td>\n",
              "      <td>-5.836310</td>\n",
              "      <td>-0.311590</td>\n",
              "      <td>0.001492</td>\n",
              "      <td>-89.850962</td>\n",
              "      <td>1.0</td>\n",
              "      <td>4.539396</td>\n",
              "      <td>13.332758</td>\n",
              "      <td>1.630520</td>\n",
              "      <td>47.310059</td>\n",
              "      <td>-19.159811</td>\n",
              "      <td>-0.151250</td>\n",
              "      <td>0.001271</td>\n",
              "      <td>-76.556533</td>\n",
              "      <td>1.0</td>\n",
              "      <td>-6.579593</td>\n",
              "      <td>0.2262</td>\n",
              "      <td>0.0157</td>\n",
              "      <td>1</td>\n",
              "      <td>42</td>\n",
              "    </tr>\n",
              "    <tr>\n",
              "      <th>745</th>\n",
              "      <td>1.797523</td>\n",
              "      <td>4.374445</td>\n",
              "      <td>1.980815</td>\n",
              "      <td>18.014029</td>\n",
              "      <td>-3.874349</td>\n",
              "      <td>-0.170535</td>\n",
              "      <td>-0.000705</td>\n",
              "      <td>42.447482</td>\n",
              "      <td>-1.0</td>\n",
              "      <td>5.717394</td>\n",
              "      <td>25.964659</td>\n",
              "      <td>6.817994</td>\n",
              "      <td>192.244293</td>\n",
              "      <td>-3.618410</td>\n",
              "      <td>-0.187675</td>\n",
              "      <td>-0.000093</td>\n",
              "      <td>5.595442</td>\n",
              "      <td>-1.0</td>\n",
              "      <td>9.711532</td>\n",
              "      <td>31.957997</td>\n",
              "      <td>5.534683</td>\n",
              "      <td>220.795212</td>\n",
              "      <td>-2.159753</td>\n",
              "      <td>-0.293235</td>\n",
              "      <td>-0.000082</td>\n",
              "      <td>4.922653</td>\n",
              "      <td>-1.0</td>\n",
              "      <td>14.412924</td>\n",
              "      <td>34.967698</td>\n",
              "      <td>3.650356</td>\n",
              "      <td>203.250702</td>\n",
              "      <td>-4.944036</td>\n",
              "      <td>-0.376625</td>\n",
              "      <td>-0.000063</td>\n",
              "      <td>3.790789</td>\n",
              "      <td>-1.0</td>\n",
              "      <td>13.134436</td>\n",
              "      <td>33.069053</td>\n",
              "      <td>3.382600</td>\n",
              "      <td>183.633118</td>\n",
              "      <td>-15.494463</td>\n",
              "      <td>-0.362020</td>\n",
              "      <td>-0.000109</td>\n",
              "      <td>6.553614</td>\n",
              "      <td>-1.0</td>\n",
              "      <td>10.746138</td>\n",
              "      <td>26.060130</td>\n",
              "      <td>3.083716</td>\n",
              "      <td>141.513290</td>\n",
              "      <td>-10.249387</td>\n",
              "      <td>-0.309680</td>\n",
              "      <td>0.000003</td>\n",
              "      <td>-0.160795</td>\n",
              "      <td>-1.0</td>\n",
              "      <td>-45.586655</td>\n",
              "      <td>0.2813</td>\n",
              "      <td>1.1523</td>\n",
              "      <td>1</td>\n",
              "      <td>90</td>\n",
              "    </tr>\n",
              "    <tr>\n",
              "      <th>1124</th>\n",
              "      <td>0.660948</td>\n",
              "      <td>2.360084</td>\n",
              "      <td>-0.324207</td>\n",
              "      <td>5.330927</td>\n",
              "      <td>-6.804703</td>\n",
              "      <td>-0.034140</td>\n",
              "      <td>0.001244</td>\n",
              "      <td>-75.007738</td>\n",
              "      <td>-1.0</td>\n",
              "      <td>4.634637</td>\n",
              "      <td>8.107525</td>\n",
              "      <td>2.315295</td>\n",
              "      <td>37.170177</td>\n",
              "      <td>-2.622109</td>\n",
              "      <td>-0.432985</td>\n",
              "      <td>0.001881</td>\n",
              "      <td>-113.201612</td>\n",
              "      <td>1.0</td>\n",
              "      <td>10.243968</td>\n",
              "      <td>21.319854</td>\n",
              "      <td>2.995322</td>\n",
              "      <td>106.671692</td>\n",
              "      <td>-2.084535</td>\n",
              "      <td>-0.442620</td>\n",
              "      <td>0.001692</td>\n",
              "      <td>-101.788134</td>\n",
              "      <td>1.0</td>\n",
              "      <td>11.086555</td>\n",
              "      <td>26.270649</td>\n",
              "      <td>3.509344</td>\n",
              "      <td>139.818405</td>\n",
              "      <td>-2.800270</td>\n",
              "      <td>-0.386760</td>\n",
              "      <td>0.001465</td>\n",
              "      <td>-88.156649</td>\n",
              "      <td>1.0</td>\n",
              "      <td>9.906102</td>\n",
              "      <td>26.865913</td>\n",
              "      <td>3.802308</td>\n",
              "      <td>143.600189</td>\n",
              "      <td>-16.543753</td>\n",
              "      <td>-0.306425</td>\n",
              "      <td>0.001356</td>\n",
              "      <td>-81.569486</td>\n",
              "      <td>1.0</td>\n",
              "      <td>6.896742</td>\n",
              "      <td>21.434627</td>\n",
              "      <td>3.560347</td>\n",
              "      <td>109.157585</td>\n",
              "      <td>-10.860540</td>\n",
              "      <td>-0.231740</td>\n",
              "      <td>0.001120</td>\n",
              "      <td>-67.426967</td>\n",
              "      <td>1.0</td>\n",
              "      <td>-63.823658</td>\n",
              "      <td>0.2415</td>\n",
              "      <td>0.0176</td>\n",
              "      <td>1</td>\n",
              "      <td>90</td>\n",
              "    </tr>\n",
              "  </tbody>\n",
              "</table>\n",
              "</div>"
            ],
            "text/plain": [
              "           (0, means)   (0, std)  ...  (ddf)  (target)\n",
              "object_id                         ...                 \n",
              "615         -3.254554  83.944735  ...      1        92\n",
              "713         -2.720398   7.113509  ...      1        88\n",
              "730         -0.048080   1.828872  ...      1        42\n",
              "745          1.797523   4.374445  ...      1        90\n",
              "1124         0.660948   2.360084  ...      1        90\n",
              "\n",
              "[5 rows x 59 columns]"
            ]
          },
          "metadata": {
            "tags": []
          },
          "execution_count": 44
        }
      ]
    },
    {
      "cell_type": "code",
      "source": [
        "allfeatures.head()"
      ],
      "metadata": {
        "colab": {
          "base_uri": "https://localhost:8080/",
          "height": 362
        },
        "id": "HtI2Kj9Bjehd",
        "outputId": "73e4e004-8123-4ee1-9d3a-8484db05a21a"
      },
      "execution_count": null,
      "outputs": [
        {
          "output_type": "execute_result",
          "data": {
            "text/plain": [
              "passband          0                                                    1  \\\n",
              "               mean        std      skew  kurtosis    median        mean   \n",
              "object_id                                                                  \n",
              "615       -3.254554  83.944735  0.125827 -1.454426 -0.081184 -385.699911   \n",
              "713       -2.720398   7.113509  0.254446 -1.027516 -0.053296   -1.019804   \n",
              "730       -0.048080   1.828872  0.349431  0.359725  0.039740    0.141057   \n",
              "745        1.797523   4.374445  1.980815  4.232286 -0.170538    5.717394   \n",
              "1124       0.660948   2.360084 -0.324207  0.664903 -0.034136    4.634637   \n",
              "\n",
              "passband                                              ...           4  \\\n",
              "                  std      skew   kurtosis    median  ...         std   \n",
              "object_id                                             ...               \n",
              "615        601.787302  0.404755  -1.251198 -0.171576  ...  291.803449   \n",
              "713          5.712334 -0.085494  -1.106890  0.080915  ...    6.406989   \n",
              "730          1.807229  0.457635   0.771778  0.016918  ...   10.710344   \n",
              "745         25.964659  6.817994  46.333887 -0.187678  ...   33.069053   \n",
              "1124         8.107525  2.315295   5.496244 -0.432985  ...   26.865913   \n",
              "\n",
              "passband                                          5                        \\\n",
              "               skew   kurtosis    median       mean         std      skew   \n",
              "object_id                                                                   \n",
              "615        0.194883  -1.519722 -0.164502 -47.449847  294.779522  0.121948   \n",
              "713       -0.062403  -1.191860  0.017023  -1.794175    7.094073  0.212294   \n",
              "730        2.462542   5.385640 -0.311592   4.539396   13.332758  1.630520   \n",
              "745        3.382600  12.445025 -0.362020  10.746138   26.060130  3.083716   \n",
              "1124       3.802308  14.897216 -0.306424   6.896742   21.434627  3.560347   \n",
              "\n",
              "passband                           decl  \n",
              "            kurtosis    median           \n",
              "object_id                                \n",
              "615        -1.559937 -0.130311 -61.9438  \n",
              "713        -0.832902 -0.095134 -27.7844  \n",
              "730         3.125970 -0.151253  -6.5796  \n",
              "745        10.952063 -0.309679 -45.5867  \n",
              "1124       13.095559 -0.231739 -63.8237  \n",
              "\n",
              "[5 rows x 31 columns]"
            ],
            "text/html": [
              "\n",
              "  <div id=\"df-e667c24f-16ac-418e-93bf-a5fca04aeba2\">\n",
              "    <div class=\"colab-df-container\">\n",
              "      <div>\n",
              "<style scoped>\n",
              "    .dataframe tbody tr th:only-of-type {\n",
              "        vertical-align: middle;\n",
              "    }\n",
              "\n",
              "    .dataframe tbody tr th {\n",
              "        vertical-align: top;\n",
              "    }\n",
              "\n",
              "    .dataframe thead tr th {\n",
              "        text-align: left;\n",
              "    }\n",
              "\n",
              "    .dataframe thead tr:last-of-type th {\n",
              "        text-align: right;\n",
              "    }\n",
              "</style>\n",
              "<table border=\"1\" class=\"dataframe\">\n",
              "  <thead>\n",
              "    <tr>\n",
              "      <th>passband</th>\n",
              "      <th colspan=\"5\" halign=\"left\">0</th>\n",
              "      <th colspan=\"5\" halign=\"left\">1</th>\n",
              "      <th>...</th>\n",
              "      <th colspan=\"4\" halign=\"left\">4</th>\n",
              "      <th colspan=\"5\" halign=\"left\">5</th>\n",
              "      <th>decl</th>\n",
              "    </tr>\n",
              "    <tr>\n",
              "      <th></th>\n",
              "      <th>mean</th>\n",
              "      <th>std</th>\n",
              "      <th>skew</th>\n",
              "      <th>kurtosis</th>\n",
              "      <th>median</th>\n",
              "      <th>mean</th>\n",
              "      <th>std</th>\n",
              "      <th>skew</th>\n",
              "      <th>kurtosis</th>\n",
              "      <th>median</th>\n",
              "      <th>...</th>\n",
              "      <th>std</th>\n",
              "      <th>skew</th>\n",
              "      <th>kurtosis</th>\n",
              "      <th>median</th>\n",
              "      <th>mean</th>\n",
              "      <th>std</th>\n",
              "      <th>skew</th>\n",
              "      <th>kurtosis</th>\n",
              "      <th>median</th>\n",
              "      <th></th>\n",
              "    </tr>\n",
              "    <tr>\n",
              "      <th>object_id</th>\n",
              "      <th></th>\n",
              "      <th></th>\n",
              "      <th></th>\n",
              "      <th></th>\n",
              "      <th></th>\n",
              "      <th></th>\n",
              "      <th></th>\n",
              "      <th></th>\n",
              "      <th></th>\n",
              "      <th></th>\n",
              "      <th></th>\n",
              "      <th></th>\n",
              "      <th></th>\n",
              "      <th></th>\n",
              "      <th></th>\n",
              "      <th></th>\n",
              "      <th></th>\n",
              "      <th></th>\n",
              "      <th></th>\n",
              "      <th></th>\n",
              "      <th></th>\n",
              "    </tr>\n",
              "  </thead>\n",
              "  <tbody>\n",
              "    <tr>\n",
              "      <th>615</th>\n",
              "      <td>-3.254554</td>\n",
              "      <td>83.944735</td>\n",
              "      <td>0.125827</td>\n",
              "      <td>-1.454426</td>\n",
              "      <td>-0.081184</td>\n",
              "      <td>-385.699911</td>\n",
              "      <td>601.787302</td>\n",
              "      <td>0.404755</td>\n",
              "      <td>-1.251198</td>\n",
              "      <td>-0.171576</td>\n",
              "      <td>...</td>\n",
              "      <td>291.803449</td>\n",
              "      <td>0.194883</td>\n",
              "      <td>-1.519722</td>\n",
              "      <td>-0.164502</td>\n",
              "      <td>-47.449847</td>\n",
              "      <td>294.779522</td>\n",
              "      <td>0.121948</td>\n",
              "      <td>-1.559937</td>\n",
              "      <td>-0.130311</td>\n",
              "      <td>-61.9438</td>\n",
              "    </tr>\n",
              "    <tr>\n",
              "      <th>713</th>\n",
              "      <td>-2.720398</td>\n",
              "      <td>7.113509</td>\n",
              "      <td>0.254446</td>\n",
              "      <td>-1.027516</td>\n",
              "      <td>-0.053296</td>\n",
              "      <td>-1.019804</td>\n",
              "      <td>5.712334</td>\n",
              "      <td>-0.085494</td>\n",
              "      <td>-1.106890</td>\n",
              "      <td>0.080915</td>\n",
              "      <td>...</td>\n",
              "      <td>6.406989</td>\n",
              "      <td>-0.062403</td>\n",
              "      <td>-1.191860</td>\n",
              "      <td>0.017023</td>\n",
              "      <td>-1.794175</td>\n",
              "      <td>7.094073</td>\n",
              "      <td>0.212294</td>\n",
              "      <td>-0.832902</td>\n",
              "      <td>-0.095134</td>\n",
              "      <td>-27.7844</td>\n",
              "    </tr>\n",
              "    <tr>\n",
              "      <th>730</th>\n",
              "      <td>-0.048080</td>\n",
              "      <td>1.828872</td>\n",
              "      <td>0.349431</td>\n",
              "      <td>0.359725</td>\n",
              "      <td>0.039740</td>\n",
              "      <td>0.141057</td>\n",
              "      <td>1.807229</td>\n",
              "      <td>0.457635</td>\n",
              "      <td>0.771778</td>\n",
              "      <td>0.016918</td>\n",
              "      <td>...</td>\n",
              "      <td>10.710344</td>\n",
              "      <td>2.462542</td>\n",
              "      <td>5.385640</td>\n",
              "      <td>-0.311592</td>\n",
              "      <td>4.539396</td>\n",
              "      <td>13.332758</td>\n",
              "      <td>1.630520</td>\n",
              "      <td>3.125970</td>\n",
              "      <td>-0.151253</td>\n",
              "      <td>-6.5796</td>\n",
              "    </tr>\n",
              "    <tr>\n",
              "      <th>745</th>\n",
              "      <td>1.797523</td>\n",
              "      <td>4.374445</td>\n",
              "      <td>1.980815</td>\n",
              "      <td>4.232286</td>\n",
              "      <td>-0.170538</td>\n",
              "      <td>5.717394</td>\n",
              "      <td>25.964659</td>\n",
              "      <td>6.817994</td>\n",
              "      <td>46.333887</td>\n",
              "      <td>-0.187678</td>\n",
              "      <td>...</td>\n",
              "      <td>33.069053</td>\n",
              "      <td>3.382600</td>\n",
              "      <td>12.445025</td>\n",
              "      <td>-0.362020</td>\n",
              "      <td>10.746138</td>\n",
              "      <td>26.060130</td>\n",
              "      <td>3.083716</td>\n",
              "      <td>10.952063</td>\n",
              "      <td>-0.309679</td>\n",
              "      <td>-45.5867</td>\n",
              "    </tr>\n",
              "    <tr>\n",
              "      <th>1124</th>\n",
              "      <td>0.660948</td>\n",
              "      <td>2.360084</td>\n",
              "      <td>-0.324207</td>\n",
              "      <td>0.664903</td>\n",
              "      <td>-0.034136</td>\n",
              "      <td>4.634637</td>\n",
              "      <td>8.107525</td>\n",
              "      <td>2.315295</td>\n",
              "      <td>5.496244</td>\n",
              "      <td>-0.432985</td>\n",
              "      <td>...</td>\n",
              "      <td>26.865913</td>\n",
              "      <td>3.802308</td>\n",
              "      <td>14.897216</td>\n",
              "      <td>-0.306424</td>\n",
              "      <td>6.896742</td>\n",
              "      <td>21.434627</td>\n",
              "      <td>3.560347</td>\n",
              "      <td>13.095559</td>\n",
              "      <td>-0.231739</td>\n",
              "      <td>-63.8237</td>\n",
              "    </tr>\n",
              "  </tbody>\n",
              "</table>\n",
              "<p>5 rows × 31 columns</p>\n",
              "</div>\n",
              "      <button class=\"colab-df-convert\" onclick=\"convertToInteractive('df-e667c24f-16ac-418e-93bf-a5fca04aeba2')\"\n",
              "              title=\"Convert this dataframe to an interactive table.\"\n",
              "              style=\"display:none;\">\n",
              "        \n",
              "  <svg xmlns=\"http://www.w3.org/2000/svg\" height=\"24px\"viewBox=\"0 0 24 24\"\n",
              "       width=\"24px\">\n",
              "    <path d=\"M0 0h24v24H0V0z\" fill=\"none\"/>\n",
              "    <path d=\"M18.56 5.44l.94 2.06.94-2.06 2.06-.94-2.06-.94-.94-2.06-.94 2.06-2.06.94zm-11 1L8.5 8.5l.94-2.06 2.06-.94-2.06-.94L8.5 2.5l-.94 2.06-2.06.94zm10 10l.94 2.06.94-2.06 2.06-.94-2.06-.94-.94-2.06-.94 2.06-2.06.94z\"/><path d=\"M17.41 7.96l-1.37-1.37c-.4-.4-.92-.59-1.43-.59-.52 0-1.04.2-1.43.59L10.3 9.45l-7.72 7.72c-.78.78-.78 2.05 0 2.83L4 21.41c.39.39.9.59 1.41.59.51 0 1.02-.2 1.41-.59l7.78-7.78 2.81-2.81c.8-.78.8-2.07 0-2.86zM5.41 20L4 18.59l7.72-7.72 1.47 1.35L5.41 20z\"/>\n",
              "  </svg>\n",
              "      </button>\n",
              "      \n",
              "  <style>\n",
              "    .colab-df-container {\n",
              "      display:flex;\n",
              "      flex-wrap:wrap;\n",
              "      gap: 12px;\n",
              "    }\n",
              "\n",
              "    .colab-df-convert {\n",
              "      background-color: #E8F0FE;\n",
              "      border: none;\n",
              "      border-radius: 50%;\n",
              "      cursor: pointer;\n",
              "      display: none;\n",
              "      fill: #1967D2;\n",
              "      height: 32px;\n",
              "      padding: 0 0 0 0;\n",
              "      width: 32px;\n",
              "    }\n",
              "\n",
              "    .colab-df-convert:hover {\n",
              "      background-color: #E2EBFA;\n",
              "      box-shadow: 0px 1px 2px rgba(60, 64, 67, 0.3), 0px 1px 3px 1px rgba(60, 64, 67, 0.15);\n",
              "      fill: #174EA6;\n",
              "    }\n",
              "\n",
              "    [theme=dark] .colab-df-convert {\n",
              "      background-color: #3B4455;\n",
              "      fill: #D2E3FC;\n",
              "    }\n",
              "\n",
              "    [theme=dark] .colab-df-convert:hover {\n",
              "      background-color: #434B5C;\n",
              "      box-shadow: 0px 1px 3px 1px rgba(0, 0, 0, 0.15);\n",
              "      filter: drop-shadow(0px 1px 2px rgba(0, 0, 0, 0.3));\n",
              "      fill: #FFFFFF;\n",
              "    }\n",
              "  </style>\n",
              "\n",
              "      <script>\n",
              "        const buttonEl =\n",
              "          document.querySelector('#df-e667c24f-16ac-418e-93bf-a5fca04aeba2 button.colab-df-convert');\n",
              "        buttonEl.style.display =\n",
              "          google.colab.kernel.accessAllowed ? 'block' : 'none';\n",
              "\n",
              "        async function convertToInteractive(key) {\n",
              "          const element = document.querySelector('#df-e667c24f-16ac-418e-93bf-a5fca04aeba2');\n",
              "          const dataTable =\n",
              "            await google.colab.kernel.invokeFunction('convertToInteractive',\n",
              "                                                     [key], {});\n",
              "          if (!dataTable) return;\n",
              "\n",
              "          const docLinkHtml = 'Like what you see? Visit the ' +\n",
              "            '<a target=\"_blank\" href=https://colab.research.google.com/notebooks/data_table.ipynb>data table notebook</a>'\n",
              "            + ' to learn more about interactive tables.';\n",
              "          element.innerHTML = '';\n",
              "          dataTable['output_type'] = 'display_data';\n",
              "          await google.colab.output.renderOutput(dataTable, element);\n",
              "          const docLink = document.createElement('div');\n",
              "          docLink.innerHTML = docLinkHtml;\n",
              "          element.appendChild(docLink);\n",
              "        }\n",
              "      </script>\n",
              "    </div>\n",
              "  </div>\n",
              "  "
            ]
          },
          "metadata": {},
          "execution_count": 167
        }
      ]
    },
    {
      "cell_type": "code",
      "source": [
        "#saving data for recovery purposes\n",
        "allfeatures.to_pickle('allfeatures.pkl')"
      ],
      "metadata": {
        "id": "0WCWfuOejz1g"
      },
      "execution_count": null,
      "outputs": []
    },
    {
      "cell_type": "markdown",
      "metadata": {
        "id": "lpM3iE2HlVYq"
      },
      "source": [
        "what is the shape of your final feature space?"
      ]
    },
    {
      "cell_type": "code",
      "metadata": {
        "ExecuteTime": {
          "end_time": "2020-04-05T15:52:47.165508Z",
          "start_time": "2020-04-05T15:52:47.162316Z"
        },
        "id": "rwQfgVzLlVYq",
        "colab": {
          "base_uri": "https://localhost:8080/"
        },
        "outputId": "89e2f0e3-1011-4c23-9eaf-6dc1ab49f503"
      },
      "source": [
        "print(\"My feature space is {} features (columns)\".format(allfeatures.shape[1]))"
      ],
      "execution_count": null,
      "outputs": [
        {
          "output_type": "stream",
          "name": "stdout",
          "text": [
            "My feature space is 31 features (columns)\n"
          ]
        }
      ]
    },
    {
      "cell_type": "markdown",
      "metadata": {
        "id": "_mBRMYFSSlwm"
      },
      "source": [
        "Now make histograms for allfeatures to show their distributions"
      ]
    },
    {
      "cell_type": "code",
      "metadata": {
        "id": "VT4mitUrj2ft",
        "colab": {
          "base_uri": "https://localhost:8080/",
          "height": 1000
        },
        "outputId": "5fbb53bd-c571-44af-e9a6-9c153079e4bf"
      },
      "source": [
        "for i in allfeatures.columns:\n",
        "  pl.figure()\n",
        "  pl.hist(allfeatures[i])\n",
        "  pl.xlabel(i)\n",
        "  pl.ylabel('Frequency')"
      ],
      "execution_count": null,
      "outputs": [
        {
          "output_type": "stream",
          "name": "stderr",
          "text": [
            "/usr/local/lib/python3.7/dist-packages/ipykernel_launcher.py:2: RuntimeWarning: More than 20 figures have been opened. Figures created through the pyplot interface (`matplotlib.pyplot.figure`) are retained until explicitly closed and may consume too much memory. (To control this warning, see the rcParam `figure.max_open_warning`).\n",
            "  \n"
          ]
        },
        {
          "output_type": "display_data",
          "data": {
            "text/plain": [
              "<Figure size 432x288 with 1 Axes>"
            ],
            "image/png": "[encoded data removed]"
          },
          "metadata": {
            "needs_background": "light"
          }
        },
        {
          "output_type": "display_data",
          "data": {
            "text/plain": [
              "<Figure size 432x288 with 1 Axes>"
            ],
            "image/png": "[encoded data removed]"
          },
          "metadata": {
            "needs_background": "light"
          }
        },
        {
          "output_type": "display_data",
          "data": {
            "text/plain": [
              "<Figure size 432x288 with 1 Axes>"
            ],
            "image/png": "[encoded data removed]"
          },
          "metadata": {
            "needs_background": "light"
          }
        },
        {
          "output_type": "display_data",
          "data": {
            "text/plain": [
              "<Figure size 432x288 with 1 Axes>"
            ],
            "image/png": "[encoded data removed]"
          },
          "metadata": {
            "needs_background": "light"
          }
        },
        {
          "output_type": "display_data",
          "data": {
            "text/plain": [
              "<Figure size 432x288 with 1 Axes>"
            ],
            "image/png": "[encoded data removed]"
          },
          "metadata": {
            "needs_background": "light"
          }
        },
        {
          "output_type": "display_data",
          "data": {
            "text/plain": [
              "<Figure size 432x288 with 1 Axes>"
            ],
            "image/png": "[encoded data removed]"
          },
          "metadata": {
            "needs_background": "light"
          }
        },
        {
          "output_type": "display_data",
          "data": {
            "text/plain": [
              "<Figure size 432x288 with 1 Axes>"
            ],
            "image/png": "[encoded data removed]"
          },
          "metadata": {
            "needs_background": "light"
          }
        },
        {
          "output_type": "display_data",
          "data": {
            "text/plain": [
              "<Figure size 432x288 with 1 Axes>"
            ],
            "image/png": "[encoded data removed]"
          },
          "metadata": {
            "needs_background": "light"
          }
        },
        {
          "output_type": "display_data",
          "data": {
            "text/plain": [
              "<Figure size 432x288 with 1 Axes>"
            ],
            "image/png": "[encoded data removed]"
          },
          "metadata": {
            "needs_background": "light"
          }
        },
        {
          "output_type": "display_data",
          "data": {
            "text/plain": [
              "<Figure size 432x288 with 1 Axes>"
            ],
            "image/png": "[encoded data removed]"
          },
          "metadata": {
            "needs_background": "light"
          }
        },
        {
          "output_type": "display_data",
          "data": {
            "text/plain": [
              "<Figure size 432x288 with 1 Axes>"
            ],
            "image/png": "[encoded data removed]"
          },
          "metadata": {
            "needs_background": "light"
          }
        },
        {
          "output_type": "display_data",
          "data": {
            "text/plain": [
              "<Figure size 432x288 with 1 Axes>"
            ],
            "image/png": "[encoded data removed]"
          },
          "metadata": {
            "needs_background": "light"
          }
        },
        {
          "output_type": "display_data",
          "data": {
            "text/plain": [
              "<Figure size 432x288 with 1 Axes>"
            ],
            "image/png": "[encoded data removed]"
          },
          "metadata": {
            "needs_background": "light"
          }
        },
        {
          "output_type": "display_data",
          "data": {
            "text/plain": [
              "<Figure size 432x288 with 1 Axes>"
            ],
            "image/png": "[encoded data removed]"
          },
          "metadata": {
            "needs_background": "light"
          }
        },
        {
          "output_type": "display_data",
          "data": {
            "text/plain": [
              "<Figure size 432x288 with 1 Axes>"
            ],
            "image/png": "[encoded data removed]"
          },
          "metadata": {
            "needs_background": "light"
          }
        },
        {
          "output_type": "display_data",
          "data": {
            "text/plain": [
              "<Figure size 432x288 with 1 Axes>"
            ],
            "image/png": "[encoded data removed]"
          },
          "metadata": {
            "needs_background": "light"
          }
        },
        {
          "output_type": "display_data",
          "data": {
            "text/plain": [
              "<Figure size 432x288 with 1 Axes>"
            ],
            "image/png": "[encoded data removed]"
          },
          "metadata": {
            "needs_background": "light"
          }
        },
        {
          "output_type": "display_data",
          "data": {
            "text/plain": [
              "<Figure size 432x288 with 1 Axes>"
            ],
            "image/png": "[encoded data removed]"
          },
          "metadata": {
            "needs_background": "light"
          }
        },
        {
          "output_type": "display_data",
          "data": {
            "text/plain": [
              "<Figure size 432x288 with 1 Axes>"
            ],
            "image/png": "[encoded data removed]"
          },
          "metadata": {
            "needs_background": "light"
          }
        },
        {
          "output_type": "display_data",
          "data": {
            "text/plain": [
              "<Figure size 432x288 with 1 Axes>"
            ],
            "image/png": "[encoded data removed]"
          },
          "metadata": {
            "needs_background": "light"
          }
        },
        {
          "output_type": "display_data",
          "data": {
            "text/plain": [
              "<Figure size 432x288 with 1 Axes>"
            ],
            "image/png": "[encoded data removed]"
          },
          "metadata": {
            "needs_background": "light"
          }
        },
        {
          "output_type": "display_data",
          "data": {
            "text/plain": [
              "<Figure size 432x288 with 1 Axes>"
            ],
            "image/png": "[encoded data removed]"
          },
          "metadata": {
            "needs_background": "light"
          }
        },
        {
          "output_type": "display_data",
          "data": {
            "text/plain": [
              "<Figure size 432x288 with 1 Axes>"
            ],
            "image/png": "[encoded data removed]"
          },
          "metadata": {
            "needs_background": "light"
          }
        },
        {
          "output_type": "display_data",
          "data": {
            "text/plain": [
              "<Figure size 432x288 with 1 Axes>"
            ],
            "image/png": "[encoded data removed]"
          },
          "metadata": {
            "needs_background": "light"
          }
        },
        {
          "output_type": "display_data",
          "data": {
            "text/plain": [
              "<Figure size 432x288 with 1 Axes>"
            ],
            "image/png": "[encoded data removed]"
          },
          "metadata": {
            "needs_background": "light"
          }
        },
        {
          "output_type": "display_data",
          "data": {
            "text/plain": [
              "<Figure size 432x288 with 1 Axes>"
            ],
            "image/png": "[encoded data removed]"
          },
          "metadata": {
            "needs_background": "light"
          }
        },
        {
          "output_type": "display_data",
          "data": {
            "text/plain": [
              "<Figure size 432x288 with 1 Axes>"
            ],
            "image/png": "[encoded data removed]"
          },
          "metadata": {
            "needs_background": "light"
          }
        },
        {
          "output_type": "display_data",
          "data": {
            "text/plain": [
              "<Figure size 432x288 with 1 Axes>"
            ],
            "image/png": "[encoded data removed]"
          },
          "metadata": {
            "needs_background": "light"
          }
        },
        {
          "output_type": "display_data",
          "data": {
            "text/plain": [
              "<Figure size 432x288 with 1 Axes>"
            ],
            "image/png": "[encoded data removed]"
          },
          "metadata": {
            "needs_background": "light"
          }
        },
        {
          "output_type": "display_data",
          "data": {
            "text/plain": [
              "<Figure size 432x288 with 1 Axes>"
            ],
            "image/png": "[encoded data removed]"
          },
          "metadata": {
            "needs_background": "light"
          }
        },
        {
          "output_type": "display_data",
          "data": {
            "text/plain": [
              "<Figure size 432x288 with 1 Axes>"
            ],
            "image/png": "[encoded data removed]"
          },
          "metadata": {
            "needs_background": "light"
          }
        }
      ]
    },
    {
      "cell_type": "markdown",
      "metadata": {
        "id": "EIHmx_fdlVYq"
      },
      "source": [
        "# TASK III : Gaussian Processes"
      ]
    },
    {
      "cell_type": "markdown",
      "source": [
        "Take the time series and fit them with GPs. \n",
        "- use the george package goerge (see class demo https://github.com/fedhere/MLTSA22_FBianco/blob/main/Lab5GP/GP_examples.ipynb)\n",
        "- make sure you use the standardized time series\n",
        "- make sure you process the uncertainty as well as the data in the standardization!\n",
        "- choose an appropriate kernel (e.g. the composite one we use in class that enables periodicity as well as stockastic variations)\n",
        "- take a subset of the time series, ~10, making sure that they are of different types\n",
        "- fit the GP kernerl to each time series band by band\n",
        "- collect the best fit parameters and describe their variance - can all the time series be fit reasonably with the same kernel? how would you initialize the fit for the whole ensamble?\n",
        "\n"
      ],
      "metadata": {
        "id": "HmvhfncYvSjD"
      }
    },
    {
      "cell_type": "code",
      "source": [
        "!pip install george"
      ],
      "metadata": {
        "colab": {
          "base_uri": "https://localhost:8080/"
        },
        "id": "dXnRpwacjoJG",
        "outputId": "2c8afab2-b009-43ed-cea7-da136a42b99b"
      },
      "execution_count": null,
      "outputs": [
        {
          "output_type": "stream",
          "name": "stdout",
          "text": [
            "Collecting george\n",
            "  Downloading george-0.4.0-cp37-cp37m-manylinux2014_x86_64.whl (407 kB)\n",
            "\u001b[K     |████████████████████████████████| 407 kB 5.1 MB/s \n",
            "\u001b[?25hRequirement already satisfied: scipy in /usr/local/lib/python3.7/dist-packages (from george) (1.4.1)\n",
            "Requirement already satisfied: numpy in /usr/local/lib/python3.7/dist-packages (from george) (1.21.5)\n",
            "Installing collected packages: george\n",
            "Successfully installed george-0.4.0\n"
          ]
        }
      ]
    },
    {
      "cell_type": "code",
      "source": [
        "import george\n",
        "from george import kernels\n",
        "from scipy.optimize import minimize"
      ],
      "metadata": {
        "id": "b2AceTk_xSJT"
      },
      "execution_count": null,
      "outputs": []
    },
    {
      "cell_type": "code",
      "source": [
        "ts_ids = list(metadata[['object_id','target']]\n",
        "    .groupby('target')\n",
        "    .agg(list)\n",
        "    .apply(lambda x: x['object_id'][1], axis=1)\n",
        ")[:10]\n",
        "ts_ids"
      ],
      "metadata": {
        "colab": {
          "base_uri": "https://localhost:8080/"
        },
        "id": "5aIQw1yBxpup",
        "outputId": "b3efb652-403c-4c22-b515-b658e6712a32"
      },
      "execution_count": 266,
      "outputs": [
        {
          "output_type": "execute_result",
          "data": {
            "text/plain": [
              "[77157, 23116, 4171, 1632, 11773, 268977, 7703, 139362, 1926, 3041]"
            ]
          },
          "metadata": {},
          "execution_count": 266
        }
      ]
    },
    {
      "cell_type": "code",
      "source": [
        "def neg_ln_like(p):\n",
        "    gp.set_parameter_vector(p)\n",
        "    return -gp.log_likelihood(y)\n",
        "\n",
        "def grad_neg_ln_like(p):\n",
        "    gp.set_parameter_vector(p)\n",
        "    return -gp.grad_log_likelihood(y)"
      ],
      "metadata": {
        "id": "dIKpwTs3ovRj"
      },
      "execution_count": 257,
      "outputs": []
    },
    {
      "cell_type": "code",
      "source": [
        "results_dict = defaultdict(\n",
        "    dict\n",
        ")\n",
        "\n",
        "for ts_id in tqdm(ts_ids):\n",
        "  for passband in range(0,6):\n",
        "    gp_ts = lcvs_norm[\n",
        "      (lcvs_norm['object_id'] == ts_id) & \\\n",
        "      (lcvs_norm['passband'] == passband)\n",
        "    ]\n",
        "\n",
        "    t = gp_ts['mjd']\n",
        "    y = gp_ts['flux_norm']\n",
        "    yerr = gp_ts['flux_err_norm']\n",
        "    t_pred = np.atleast_2d(\n",
        "        np.linspace(\n",
        "          gp_ts['mjd'].min(), \n",
        "          gp_ts['mjd'].max(), \n",
        "          1000\n",
        "        )\n",
        "    ).T\n",
        "\n",
        "    kernel = np.var(y) * kernels.Product(kernels.ExpSquaredKernel(0.5), \n",
        "                                        kernels.CosineKernel(1))\n",
        "    gp = george.GP(kernel)\n",
        "\n",
        "    gp.compute(t, 0.1*np.abs(y))\n",
        "\n",
        "    pred, pred_var = gp.predict(y, t_pred, return_var=True)\n",
        "\n",
        "    result = minimize(neg_ln_like, gp.get_parameter_vector(), jac=grad_neg_ln_like)\n",
        "    #print(result)\n",
        "    gp.set_parameter_vector(result.x)\n",
        "\n",
        "    pred, pred_var = gp.predict(y, t_pred, return_var=True)\n",
        "\n",
        "    # results_dict[ts_id][passband]['params'] = gp.get_parameter_vector()\n",
        "    # results_dict[ts_id][passband]['ln-likelihood'] = gp.get_parameter_vector()\n",
        "\n",
        "    current_params = dict(enumerate(gp.get_parameter_vector()))\n",
        "\n",
        "    for n_param in current_params:\n",
        "      results_dict[(ts_id, passband)]['params', n_param] = current_params[n_param]\n",
        "    results_dict[(ts_id, passband)]['optimization', 'ln-likelihood'] = gp.log_likelihood(y)\n",
        "\n",
        "\n",
        "    # pl.figure()\n",
        "    # pl.fill_between(t_pred[:,0], pred - np.sqrt(pred_var), pred + np.sqrt(pred_var),\n",
        "    #                 color=\"k\", alpha=0.2)\n",
        "    # pl.plot(t_pred[:,0], pred, \"k\", lw=1.5, alpha=0.5)\n",
        "    # pl.errorbar(t, y, yerr=yerr, fmt=\".k\", capsize=0)\n",
        "    # pl.xlabel(\"x\")\n",
        "    # pl.ylabel(\"y\");\n",
        "\n",
        "    # print(\"Optimized parameters {:.2f} {:.2f}\".format(*gp.get_parameter_vector()))\n",
        "    # print(\"Optimized ln-likelihood: {0:.2f}\".format(gp.log_likelihood(y)))\n",
        "    # print()\n",
        "\n",
        "    "
      ],
      "metadata": {
        "colab": {
          "base_uri": "https://localhost:8080/"
        },
        "id": "kDanNx-Xz4wa",
        "outputId": "e80667be-920f-48ce-d58b-9a1d6100dfa1"
      },
      "execution_count": 267,
      "outputs": [
        {
          "output_type": "stream",
          "name": "stderr",
          "text": [
            "100%|██████████| 10/10 [00:13<00:00,  1.34s/it]\n"
          ]
        }
      ]
    },
    {
      "cell_type": "code",
      "source": [
        "pd.DataFrame.from_dict(results_dict).T"
      ],
      "metadata": {
        "colab": {
          "base_uri": "https://localhost:8080/",
          "height": 1000
        },
        "id": "Sg5tzneP2fbn",
        "outputId": "5208ec44-fc53-404f-f3a6-94d98f09e0a8"
      },
      "execution_count": 253,
      "outputs": [
        {
          "output_type": "execute_result",
          "data": {
            "text/plain": [
              "               params                        optimization\n",
              "                    0          1          2 ln-likelihood\n",
              "35268410  0 -0.051739  -0.876087   1.342184    -14.086353\n",
              "          1  0.240106   8.994685  14.656197     -4.535449\n",
              "          2  0.192950   6.559704   0.865042    -20.809481\n",
              "          3 -0.304114   8.175886  22.713094     -1.641554\n",
              "          4 -0.451253   9.199776   6.327115     12.167842\n",
              "          5 -0.447995   8.160576  24.852688     20.387124\n",
              "39124610  0  0.594316  10.061529   0.627923     -9.501215\n",
              "          1  0.031933   5.741025   0.491292    -11.714644\n",
              "          2 -0.203185   4.403234   0.713469    -25.396105\n",
              "          3 -0.166164  -3.035383   0.319151    -26.246452\n",
              "          4  0.130115   3.045685   6.622093    -37.044394\n",
              "          5 -0.152379   0.173766   7.353568    -37.243000\n",
              "25920     0 -0.095208  -0.227685   0.874992    -39.106694\n",
              "          1 -0.110915   2.693216   1.066250    -57.233324\n",
              "          2 -0.137025   3.584378   1.025470    -52.935605\n",
              "          3 -0.198470   2.584669   0.932898    -60.059691\n",
              "          4 -0.041621   4.254651   0.926953    -57.872930\n",
              "          5 -0.117963   2.944525   0.906438    -61.233887\n",
              "81464     0 -0.096783  -0.305496   6.870241    -38.338930\n",
              "          1 -0.707209   3.549383   9.870371    -34.937146\n",
              "          2 -0.359292   5.238710   1.087546    -24.145614\n",
              "          3 -0.265342   4.989685   1.092942    -29.346130\n",
              "          4 -0.494926   5.150450  11.103176    -10.816808\n",
              "          5 -0.270975   2.569661   9.117598    -52.435248\n",
              "18703334  0 -0.085341  -0.844077   2.142058    -18.169280\n",
              "          1 -0.142587   1.489237   0.616546    -18.766326\n",
              "          2  0.122269   5.433279   0.516266    -28.549717\n",
              "          3  0.016521   4.986712   0.896726    -28.027806\n",
              "          4 -0.009120   1.335436   0.822769    -36.562450\n",
              "          5 -0.048496  -0.874834   0.358667    -38.019045\n",
              "4855013   0 -0.083342   7.077551   2.376070    -15.332822\n",
              "          1 -0.021824  -0.693147   1.000000    -12.744195\n",
              "          2 -0.110153   5.989220   0.630660    -22.900549\n",
              "          3 -0.457373   5.443698  -2.894948    -18.672599\n",
              "          4  0.756500   7.912420  11.192945    -10.154099\n",
              "          5 -0.513808   5.805150   9.722096     -2.801772\n",
              "26338     0 -0.101913  -1.502067   5.269794    -41.741172\n",
              "          1 -0.140454   1.114906   0.794277    -62.234780\n",
              "          2 -0.117790   1.612049   8.020478    -60.610357\n",
              "          3 -0.153889   2.312937   1.190611    -58.336178\n",
              "          4 -0.074083   1.223456   0.948913    -62.800003\n",
              "          5 -0.557220   4.475531   1.296940    -52.362270\n",
              "115381923 0  0.021331  -0.171128   3.883966    -19.589313\n",
              "          1 -0.150175  -0.693147   1.000000    -13.852274\n",
              "          2 -0.138776   4.189426   0.485191    -23.930168\n",
              "          3 -0.198724   4.486861   1.377804    -29.221676\n",
              "          4 -0.136833   0.863096   1.086710    -43.093112\n",
              "          5 -0.077243  -0.689250   0.520290    -51.604635\n",
              "145160    0 -0.051672  -1.589577   5.140936   -101.199630\n",
              "          1 -0.637480   1.471455   0.557872    -70.740617\n",
              "          2 -1.001393   3.140130   0.836233    -65.665086\n",
              "          3 -0.256573   4.253738   0.868901    -69.017761\n",
              "          4 -0.425723   1.953752   1.588765    -72.069307\n",
              "          5 -0.492099   2.264932   0.883178    -71.094554\n",
              "63640666  0 -0.050348  -1.094988   0.841578    -19.682576\n",
              "          1 -0.066697  -0.693147   1.000000    -12.645407\n",
              "          2 -0.075182   4.239739   0.513121    -35.267803\n",
              "          3 -0.180303   6.336506   0.513520    -24.069082\n",
              "          4 -0.184068   2.548332   9.193797    -33.588525\n",
              "          5  0.102479   2.476221   8.206432    -46.404052"
            ],
            "text/html": [
              "\n",
              "  <div id=\"df-837242ff-ce03-4bea-822f-3c80b9f22b22\">\n",
              "    <div class=\"colab-df-container\">\n",
              "      <div>\n",
              "<style scoped>\n",
              "    .dataframe tbody tr th:only-of-type {\n",
              "        vertical-align: middle;\n",
              "    }\n",
              "\n",
              "    .dataframe tbody tr th {\n",
              "        vertical-align: top;\n",
              "    }\n",
              "\n",
              "    .dataframe thead tr th {\n",
              "        text-align: left;\n",
              "    }\n",
              "</style>\n",
              "<table border=\"1\" class=\"dataframe\">\n",
              "  <thead>\n",
              "    <tr>\n",
              "      <th></th>\n",
              "      <th></th>\n",
              "      <th colspan=\"3\" halign=\"left\">params</th>\n",
              "      <th>optimization</th>\n",
              "    </tr>\n",
              "    <tr>\n",
              "      <th></th>\n",
              "      <th></th>\n",
              "      <th>0</th>\n",
              "      <th>1</th>\n",
              "      <th>2</th>\n",
              "      <th>ln-likelihood</th>\n",
              "    </tr>\n",
              "  </thead>\n",
              "  <tbody>\n",
              "    <tr>\n",
              "      <th rowspan=\"6\" valign=\"top\">35268410</th>\n",
              "      <th>0</th>\n",
              "      <td>-0.051739</td>\n",
              "      <td>-0.876087</td>\n",
              "      <td>1.342184</td>\n",
              "      <td>-14.086353</td>\n",
              "    </tr>\n",
              "    <tr>\n",
              "      <th>1</th>\n",
              "      <td>0.240106</td>\n",
              "      <td>8.994685</td>\n",
              "      <td>14.656197</td>\n",
              "      <td>-4.535449</td>\n",
              "    </tr>\n",
              "    <tr>\n",
              "      <th>2</th>\n",
              "      <td>0.192950</td>\n",
              "      <td>6.559704</td>\n",
              "      <td>0.865042</td>\n",
              "      <td>-20.809481</td>\n",
              "    </tr>\n",
              "    <tr>\n",
              "      <th>3</th>\n",
              "      <td>-0.304114</td>\n",
              "      <td>8.175886</td>\n",
              "      <td>22.713094</td>\n",
              "      <td>-1.641554</td>\n",
              "    </tr>\n",
              "    <tr>\n",
              "      <th>4</th>\n",
              "      <td>-0.451253</td>\n",
              "      <td>9.199776</td>\n",
              "      <td>6.327115</td>\n",
              "      <td>12.167842</td>\n",
              "    </tr>\n",
              "    <tr>\n",
              "      <th>5</th>\n",
              "      <td>-0.447995</td>\n",
              "      <td>8.160576</td>\n",
              "      <td>24.852688</td>\n",
              "      <td>20.387124</td>\n",
              "    </tr>\n",
              "    <tr>\n",
              "      <th rowspan=\"6\" valign=\"top\">39124610</th>\n",
              "      <th>0</th>\n",
              "      <td>0.594316</td>\n",
              "      <td>10.061529</td>\n",
              "      <td>0.627923</td>\n",
              "      <td>-9.501215</td>\n",
              "    </tr>\n",
              "    <tr>\n",
              "      <th>1</th>\n",
              "      <td>0.031933</td>\n",
              "      <td>5.741025</td>\n",
              "      <td>0.491292</td>\n",
              "      <td>-11.714644</td>\n",
              "    </tr>\n",
              "    <tr>\n",
              "      <th>2</th>\n",
              "      <td>-0.203185</td>\n",
              "      <td>4.403234</td>\n",
              "      <td>0.713469</td>\n",
              "      <td>-25.396105</td>\n",
              "    </tr>\n",
              "    <tr>\n",
              "      <th>3</th>\n",
              "      <td>-0.166164</td>\n",
              "      <td>-3.035383</td>\n",
              "      <td>0.319151</td>\n",
              "      <td>-26.246452</td>\n",
              "    </tr>\n",
              "    <tr>\n",
              "      <th>4</th>\n",
              "      <td>0.130115</td>\n",
              "      <td>3.045685</td>\n",
              "      <td>6.622093</td>\n",
              "      <td>-37.044394</td>\n",
              "    </tr>\n",
              "    <tr>\n",
              "      <th>5</th>\n",
              "      <td>-0.152379</td>\n",
              "      <td>0.173766</td>\n",
              "      <td>7.353568</td>\n",
              "      <td>-37.243000</td>\n",
              "    </tr>\n",
              "    <tr>\n",
              "      <th rowspan=\"6\" valign=\"top\">25920</th>\n",
              "      <th>0</th>\n",
              "      <td>-0.095208</td>\n",
              "      <td>-0.227685</td>\n",
              "      <td>0.874992</td>\n",
              "      <td>-39.106694</td>\n",
              "    </tr>\n",
              "    <tr>\n",
              "      <th>1</th>\n",
              "      <td>-0.110915</td>\n",
              "      <td>2.693216</td>\n",
              "      <td>1.066250</td>\n",
              "      <td>-57.233324</td>\n",
              "    </tr>\n",
              "    <tr>\n",
              "      <th>2</th>\n",
              "      <td>-0.137025</td>\n",
              "      <td>3.584378</td>\n",
              "      <td>1.025470</td>\n",
              "      <td>-52.935605</td>\n",
              "    </tr>\n",
              "    <tr>\n",
              "      <th>3</th>\n",
              "      <td>-0.198470</td>\n",
              "      <td>2.584669</td>\n",
              "      <td>0.932898</td>\n",
              "      <td>-60.059691</td>\n",
              "    </tr>\n",
              "    <tr>\n",
              "      <th>4</th>\n",
              "      <td>-0.041621</td>\n",
              "      <td>4.254651</td>\n",
              "      <td>0.926953</td>\n",
              "      <td>-57.872930</td>\n",
              "    </tr>\n",
              "    <tr>\n",
              "      <th>5</th>\n",
              "      <td>-0.117963</td>\n",
              "      <td>2.944525</td>\n",
              "      <td>0.906438</td>\n",
              "      <td>-61.233887</td>\n",
              "    </tr>\n",
              "    <tr>\n",
              "      <th rowspan=\"6\" valign=\"top\">81464</th>\n",
              "      <th>0</th>\n",
              "      <td>-0.096783</td>\n",
              "      <td>-0.305496</td>\n",
              "      <td>6.870241</td>\n",
              "      <td>-38.338930</td>\n",
              "    </tr>\n",
              "    <tr>\n",
              "      <th>1</th>\n",
              "      <td>-0.707209</td>\n",
              "      <td>3.549383</td>\n",
              "      <td>9.870371</td>\n",
              "      <td>-34.937146</td>\n",
              "    </tr>\n",
              "    <tr>\n",
              "      <th>2</th>\n",
              "      <td>-0.359292</td>\n",
              "      <td>5.238710</td>\n",
              "      <td>1.087546</td>\n",
              "      <td>-24.145614</td>\n",
              "    </tr>\n",
              "    <tr>\n",
              "      <th>3</th>\n",
              "      <td>-0.265342</td>\n",
              "      <td>4.989685</td>\n",
              "      <td>1.092942</td>\n",
              "      <td>-29.346130</td>\n",
              "    </tr>\n",
              "    <tr>\n",
              "      <th>4</th>\n",
              "      <td>-0.494926</td>\n",
              "      <td>5.150450</td>\n",
              "      <td>11.103176</td>\n",
              "      <td>-10.816808</td>\n",
              "    </tr>\n",
              "    <tr>\n",
              "      <th>5</th>\n",
              "      <td>-0.270975</td>\n",
              "      <td>2.569661</td>\n",
              "      <td>9.117598</td>\n",
              "      <td>-52.435248</td>\n",
              "    </tr>\n",
              "    <tr>\n",
              "      <th rowspan=\"6\" valign=\"top\">18703334</th>\n",
              "      <th>0</th>\n",
              "      <td>-0.085341</td>\n",
              "      <td>-0.844077</td>\n",
              "      <td>2.142058</td>\n",
              "      <td>-18.169280</td>\n",
              "    </tr>\n",
              "    <tr>\n",
              "      <th>1</th>\n",
              "      <td>-0.142587</td>\n",
              "      <td>1.489237</td>\n",
              "      <td>0.616546</td>\n",
              "      <td>-18.766326</td>\n",
              "    </tr>\n",
              "    <tr>\n",
              "      <th>2</th>\n",
              "      <td>0.122269</td>\n",
              "      <td>5.433279</td>\n",
              "      <td>0.516266</td>\n",
              "      <td>-28.549717</td>\n",
              "    </tr>\n",
              "    <tr>\n",
              "      <th>3</th>\n",
              "      <td>0.016521</td>\n",
              "      <td>4.986712</td>\n",
              "      <td>0.896726</td>\n",
              "      <td>-28.027806</td>\n",
              "    </tr>\n",
              "    <tr>\n",
              "      <th>4</th>\n",
              "      <td>-0.009120</td>\n",
              "      <td>1.335436</td>\n",
              "      <td>0.822769</td>\n",
              "      <td>-36.562450</td>\n",
              "    </tr>\n",
              "    <tr>\n",
              "      <th>5</th>\n",
              "      <td>-0.048496</td>\n",
              "      <td>-0.874834</td>\n",
              "      <td>0.358667</td>\n",
              "      <td>-38.019045</td>\n",
              "    </tr>\n",
              "    <tr>\n",
              "      <th rowspan=\"6\" valign=\"top\">4855013</th>\n",
              "      <th>0</th>\n",
              "      <td>-0.083342</td>\n",
              "      <td>7.077551</td>\n",
              "      <td>2.376070</td>\n",
              "      <td>-15.332822</td>\n",
              "    </tr>\n",
              "    <tr>\n",
              "      <th>1</th>\n",
              "      <td>-0.021824</td>\n",
              "      <td>-0.693147</td>\n",
              "      <td>1.000000</td>\n",
              "      <td>-12.744195</td>\n",
              "    </tr>\n",
              "    <tr>\n",
              "      <th>2</th>\n",
              "      <td>-0.110153</td>\n",
              "      <td>5.989220</td>\n",
              "      <td>0.630660</td>\n",
              "      <td>-22.900549</td>\n",
              "    </tr>\n",
              "    <tr>\n",
              "      <th>3</th>\n",
              "      <td>-0.457373</td>\n",
              "      <td>5.443698</td>\n",
              "      <td>-2.894948</td>\n",
              "      <td>-18.672599</td>\n",
              "    </tr>\n",
              "    <tr>\n",
              "      <th>4</th>\n",
              "      <td>0.756500</td>\n",
              "      <td>7.912420</td>\n",
              "      <td>11.192945</td>\n",
              "      <td>-10.154099</td>\n",
              "    </tr>\n",
              "    <tr>\n",
              "      <th>5</th>\n",
              "      <td>-0.513808</td>\n",
              "      <td>5.805150</td>\n",
              "      <td>9.722096</td>\n",
              "      <td>-2.801772</td>\n",
              "    </tr>\n",
              "    <tr>\n",
              "      <th rowspan=\"6\" valign=\"top\">26338</th>\n",
              "      <th>0</th>\n",
              "      <td>-0.101913</td>\n",
              "      <td>-1.502067</td>\n",
              "      <td>5.269794</td>\n",
              "      <td>-41.741172</td>\n",
              "    </tr>\n",
              "    <tr>\n",
              "      <th>1</th>\n",
              "      <td>-0.140454</td>\n",
              "      <td>1.114906</td>\n",
              "      <td>0.794277</td>\n",
              "      <td>-62.234780</td>\n",
              "    </tr>\n",
              "    <tr>\n",
              "      <th>2</th>\n",
              "      <td>-0.117790</td>\n",
              "      <td>1.612049</td>\n",
              "      <td>8.020478</td>\n",
              "      <td>-60.610357</td>\n",
              "    </tr>\n",
              "    <tr>\n",
              "      <th>3</th>\n",
              "      <td>-0.153889</td>\n",
              "      <td>2.312937</td>\n",
              "      <td>1.190611</td>\n",
              "      <td>-58.336178</td>\n",
              "    </tr>\n",
              "    <tr>\n",
              "      <th>4</th>\n",
              "      <td>-0.074083</td>\n",
              "      <td>1.223456</td>\n",
              "      <td>0.948913</td>\n",
              "      <td>-62.800003</td>\n",
              "    </tr>\n",
              "    <tr>\n",
              "      <th>5</th>\n",
              "      <td>-0.557220</td>\n",
              "      <td>4.475531</td>\n",
              "      <td>1.296940</td>\n",
              "      <td>-52.362270</td>\n",
              "    </tr>\n",
              "    <tr>\n",
              "      <th rowspan=\"6\" valign=\"top\">115381923</th>\n",
              "      <th>0</th>\n",
              "      <td>0.021331</td>\n",
              "      <td>-0.171128</td>\n",
              "      <td>3.883966</td>\n",
              "      <td>-19.589313</td>\n",
              "    </tr>\n",
              "    <tr>\n",
              "      <th>1</th>\n",
              "      <td>-0.150175</td>\n",
              "      <td>-0.693147</td>\n",
              "      <td>1.000000</td>\n",
              "      <td>-13.852274</td>\n",
              "    </tr>\n",
              "    <tr>\n",
              "      <th>2</th>\n",
              "      <td>-0.138776</td>\n",
              "      <td>4.189426</td>\n",
              "      <td>0.485191</td>\n",
              "      <td>-23.930168</td>\n",
              "    </tr>\n",
              "    <tr>\n",
              "      <th>3</th>\n",
              "      <td>-0.198724</td>\n",
              "      <td>4.486861</td>\n",
              "      <td>1.377804</td>\n",
              "      <td>-29.221676</td>\n",
              "    </tr>\n",
              "    <tr>\n",
              "      <th>4</th>\n",
              "      <td>-0.136833</td>\n",
              "      <td>0.863096</td>\n",
              "      <td>1.086710</td>\n",
              "      <td>-43.093112</td>\n",
              "    </tr>\n",
              "    <tr>\n",
              "      <th>5</th>\n",
              "      <td>-0.077243</td>\n",
              "      <td>-0.689250</td>\n",
              "      <td>0.520290</td>\n",
              "      <td>-51.604635</td>\n",
              "    </tr>\n",
              "    <tr>\n",
              "      <th rowspan=\"6\" valign=\"top\">145160</th>\n",
              "      <th>0</th>\n",
              "      <td>-0.051672</td>\n",
              "      <td>-1.589577</td>\n",
              "      <td>5.140936</td>\n",
              "      <td>-101.199630</td>\n",
              "    </tr>\n",
              "    <tr>\n",
              "      <th>1</th>\n",
              "      <td>-0.637480</td>\n",
              "      <td>1.471455</td>\n",
              "      <td>0.557872</td>\n",
              "      <td>-70.740617</td>\n",
              "    </tr>\n",
              "    <tr>\n",
              "      <th>2</th>\n",
              "      <td>-1.001393</td>\n",
              "      <td>3.140130</td>\n",
              "      <td>0.836233</td>\n",
              "      <td>-65.665086</td>\n",
              "    </tr>\n",
              "    <tr>\n",
              "      <th>3</th>\n",
              "      <td>-0.256573</td>\n",
              "      <td>4.253738</td>\n",
              "      <td>0.868901</td>\n",
              "      <td>-69.017761</td>\n",
              "    </tr>\n",
              "    <tr>\n",
              "      <th>4</th>\n",
              "      <td>-0.425723</td>\n",
              "      <td>1.953752</td>\n",
              "      <td>1.588765</td>\n",
              "      <td>-72.069307</td>\n",
              "    </tr>\n",
              "    <tr>\n",
              "      <th>5</th>\n",
              "      <td>-0.492099</td>\n",
              "      <td>2.264932</td>\n",
              "      <td>0.883178</td>\n",
              "      <td>-71.094554</td>\n",
              "    </tr>\n",
              "    <tr>\n",
              "      <th rowspan=\"6\" valign=\"top\">63640666</th>\n",
              "      <th>0</th>\n",
              "      <td>-0.050348</td>\n",
              "      <td>-1.094988</td>\n",
              "      <td>0.841578</td>\n",
              "      <td>-19.682576</td>\n",
              "    </tr>\n",
              "    <tr>\n",
              "      <th>1</th>\n",
              "      <td>-0.066697</td>\n",
              "      <td>-0.693147</td>\n",
              "      <td>1.000000</td>\n",
              "      <td>-12.645407</td>\n",
              "    </tr>\n",
              "    <tr>\n",
              "      <th>2</th>\n",
              "      <td>-0.075182</td>\n",
              "      <td>4.239739</td>\n",
              "      <td>0.513121</td>\n",
              "      <td>-35.267803</td>\n",
              "    </tr>\n",
              "    <tr>\n",
              "      <th>3</th>\n",
              "      <td>-0.180303</td>\n",
              "      <td>6.336506</td>\n",
              "      <td>0.513520</td>\n",
              "      <td>-24.069082</td>\n",
              "    </tr>\n",
              "    <tr>\n",
              "      <th>4</th>\n",
              "      <td>-0.184068</td>\n",
              "      <td>2.548332</td>\n",
              "      <td>9.193797</td>\n",
              "      <td>-33.588525</td>\n",
              "    </tr>\n",
              "    <tr>\n",
              "      <th>5</th>\n",
              "      <td>0.102479</td>\n",
              "      <td>2.476221</td>\n",
              "      <td>8.206432</td>\n",
              "      <td>-46.404052</td>\n",
              "    </tr>\n",
              "  </tbody>\n",
              "</table>\n",
              "</div>\n",
              "      <button class=\"colab-df-convert\" onclick=\"convertToInteractive('df-837242ff-ce03-4bea-822f-3c80b9f22b22')\"\n",
              "              title=\"Convert this dataframe to an interactive table.\"\n",
              "              style=\"display:none;\">\n",
              "        \n",
              "  <svg xmlns=\"http://www.w3.org/2000/svg\" height=\"24px\"viewBox=\"0 0 24 24\"\n",
              "       width=\"24px\">\n",
              "    <path d=\"M0 0h24v24H0V0z\" fill=\"none\"/>\n",
              "    <path d=\"M18.56 5.44l.94 2.06.94-2.06 2.06-.94-2.06-.94-.94-2.06-.94 2.06-2.06.94zm-11 1L8.5 8.5l.94-2.06 2.06-.94-2.06-.94L8.5 2.5l-.94 2.06-2.06.94zm10 10l.94 2.06.94-2.06 2.06-.94-2.06-.94-.94-2.06-.94 2.06-2.06.94z\"/><path d=\"M17.41 7.96l-1.37-1.37c-.4-.4-.92-.59-1.43-.59-.52 0-1.04.2-1.43.59L10.3 9.45l-7.72 7.72c-.78.78-.78 2.05 0 2.83L4 21.41c.39.39.9.59 1.41.59.51 0 1.02-.2 1.41-.59l7.78-7.78 2.81-2.81c.8-.78.8-2.07 0-2.86zM5.41 20L4 18.59l7.72-7.72 1.47 1.35L5.41 20z\"/>\n",
              "  </svg>\n",
              "      </button>\n",
              "      \n",
              "  <style>\n",
              "    .colab-df-container {\n",
              "      display:flex;\n",
              "      flex-wrap:wrap;\n",
              "      gap: 12px;\n",
              "    }\n",
              "\n",
              "    .colab-df-convert {\n",
              "      background-color: #E8F0FE;\n",
              "      border: none;\n",
              "      border-radius: 50%;\n",
              "      cursor: pointer;\n",
              "      display: none;\n",
              "      fill: #1967D2;\n",
              "      height: 32px;\n",
              "      padding: 0 0 0 0;\n",
              "      width: 32px;\n",
              "    }\n",
              "\n",
              "    .colab-df-convert:hover {\n",
              "      background-color: #E2EBFA;\n",
              "      box-shadow: 0px 1px 2px rgba(60, 64, 67, 0.3), 0px 1px 3px 1px rgba(60, 64, 67, 0.15);\n",
              "      fill: #174EA6;\n",
              "    }\n",
              "\n",
              "    [theme=dark] .colab-df-convert {\n",
              "      background-color: #3B4455;\n",
              "      fill: #D2E3FC;\n",
              "    }\n",
              "\n",
              "    [theme=dark] .colab-df-convert:hover {\n",
              "      background-color: #434B5C;\n",
              "      box-shadow: 0px 1px 3px 1px rgba(0, 0, 0, 0.15);\n",
              "      filter: drop-shadow(0px 1px 2px rgba(0, 0, 0, 0.3));\n",
              "      fill: #FFFFFF;\n",
              "    }\n",
              "  </style>\n",
              "\n",
              "      <script>\n",
              "        const buttonEl =\n",
              "          document.querySelector('#df-837242ff-ce03-4bea-822f-3c80b9f22b22 button.colab-df-convert');\n",
              "        buttonEl.style.display =\n",
              "          google.colab.kernel.accessAllowed ? 'block' : 'none';\n",
              "\n",
              "        async function convertToInteractive(key) {\n",
              "          const element = document.querySelector('#df-837242ff-ce03-4bea-822f-3c80b9f22b22');\n",
              "          const dataTable =\n",
              "            await google.colab.kernel.invokeFunction('convertToInteractive',\n",
              "                                                     [key], {});\n",
              "          if (!dataTable) return;\n",
              "\n",
              "          const docLinkHtml = 'Like what you see? Visit the ' +\n",
              "            '<a target=\"_blank\" href=https://colab.research.google.com/notebooks/data_table.ipynb>data table notebook</a>'\n",
              "            + ' to learn more about interactive tables.';\n",
              "          element.innerHTML = '';\n",
              "          dataTable['output_type'] = 'display_data';\n",
              "          await google.colab.output.renderOutput(dataTable, element);\n",
              "          const docLink = document.createElement('div');\n",
              "          docLink.innerHTML = docLinkHtml;\n",
              "          element.appendChild(docLink);\n",
              "        }\n",
              "      </script>\n",
              "    </div>\n",
              "  </div>\n",
              "  "
            ]
          },
          "metadata": {},
          "execution_count": 253
        }
      ]
    },
    {
      "cell_type": "markdown",
      "source": [
        "# CHALLENGE (Extra Credit): fit the 2D time series: \n",
        "- create a 2D array for each of the ~10 time series you used earlier: 1 dimension is time the other is wavelength (the bandpass)\n",
        "- fit a 2D kernel to the time series. \n",
        "- show the fits with their uncertainties marginalized along one feature at a time: the fit along the time axis for all 6 bands and the fit along the wavelength axis for a subset of the datapoints.\n",
        "- (try and make a surface plot  that conveys the relevant info effectively, I find it difficult)"
      ],
      "metadata": {
        "id": "RvSu8TAmYjfp"
      }
    }
  ]
}