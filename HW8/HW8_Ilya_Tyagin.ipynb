{
  "nbformat": 4,
  "nbformat_minor": 0,
  "metadata": {
    "colab": {
      "name": "HW8_Ilya_Tyagin.ipynb",
      "provenance": [],
      "toc_visible": true,
      "collapsed_sections": [],
      "authorship_tag": "ABX9TyOqP5vmppanckiKBgF2EdBb",
      "include_colab_link": true
    },
    "kernelspec": {
      "name": "python3",
      "display_name": "Python 3"
    },
    "language_info": {
      "name": "python"
    }
  },
  "cells": [
    {
      "cell_type": "markdown",
      "metadata": {
        "id": "view-in-github",
        "colab_type": "text"
      },
      "source": [
        "<a href=\"https://colab.research.google.com/github/IlyaTyagin/MLTSA22_ITyagin/blob/main/HW8/HW8_Ilya_Tyagin.ipynb\" target=\"_parent\"><img src=\"https://colab.research.google.com/assets/colab-badge.svg\" alt=\"Open In Colab\"/></a>"
      ]
    },
    {
      "cell_type": "markdown",
      "source": [
        "# HW8 Ilya Tyagin"
      ],
      "metadata": {
        "id": "uenga1221eh9"
      }
    },
    {
      "cell_type": "code",
      "source": [
        "import pandas as pd\n",
        "import numpy as np\n",
        "import pylab as pl\n",
        "import random\n",
        "from scipy import stats\n",
        "from tqdm import tqdm\n",
        "from collections import defaultdict\n",
        "import pickle\n",
        "\n",
        "from scipy import interpolate\n",
        "\n",
        "import keras\n",
        "from keras.datasets import mnist\n",
        "from keras.models import Sequential\n",
        "from keras.layers import Dense#, Dropout, Flatten\n",
        "#from keras.layers import Conv2D, MaxPooling2D\n",
        "from keras import backend as K\n",
        "import glob\n",
        "import pylab as pl\n",
        "from PIL import Image\n",
        "\n",
        "tqdm.pandas()\n",
        "\n",
        "%pylab inline"
      ],
      "metadata": {
        "colab": {
          "base_uri": "https://localhost:8080/"
        },
        "id": "Hw6QWCM21dbZ",
        "outputId": "33183f99-dcf6-406b-8684-5891257436cd"
      },
      "execution_count": 3,
      "outputs": [
        {
          "output_type": "stream",
          "name": "stdout",
          "text": [
            "Populating the interactive namespace from numpy and matplotlib\n"
          ]
        },
        {
          "output_type": "stream",
          "name": "stderr",
          "text": [
            "/usr/local/lib/python3.7/dist-packages/IPython/core/magics/pylab.py:161: UserWarning: pylab import has clobbered these variables: ['random']\n",
            "`%matplotlib` prevents importing * from pylab and numpy\n",
            "  \"\\n`%matplotlib` prevents importing * from pylab and numpy\"\n"
          ]
        }
      ]
    },
    {
      "cell_type": "code",
      "source": [
        "from google.colab import drive\n",
        "drive.mount('/content/drive')"
      ],
      "metadata": {
        "colab": {
          "base_uri": "https://localhost:8080/"
        },
        "id": "1ud5uEdpTfwx",
        "outputId": "6f8cf236-b87c-44aa-e431-6c0620b34d1e"
      },
      "execution_count": 3,
      "outputs": [
        {
          "output_type": "stream",
          "name": "stdout",
          "text": [
            "Mounted at /content/drive\n"
          ]
        }
      ]
    },
    {
      "cell_type": "code",
      "source": [
        "pl.rcParams['figure.figsize'] = (15, 10)"
      ],
      "metadata": {
        "id": "lmNELTH11kvy"
      },
      "execution_count": 4,
      "outputs": []
    },
    {
      "cell_type": "markdown",
      "source": [
        "## Opening and prepairing the dataset"
      ],
      "metadata": {
        "id": "U0ibgdPT1sv2"
      }
    },
    {
      "cell_type": "code",
      "source": [
        "lcvs = pd.read_csv(\n",
        "    \"\"\"https://zenodo.org/record/2539456/files/plasticc_train_lightcurves.csv.gz?download=1\"\"\", \n",
        "    compression='gzip'\n",
        "    )"
      ],
      "metadata": {
        "id": "gHBHkYGb1mTa"
      },
      "execution_count": null,
      "outputs": []
    },
    {
      "cell_type": "code",
      "source": [
        "lcvs"
      ],
      "metadata": {
        "colab": {
          "base_uri": "https://localhost:8080/",
          "height": 423
        },
        "id": "2dvJxD0Fh1pV",
        "outputId": "e2d83d53-bde0-4325-d1c4-11cf160877b6"
      },
      "execution_count": null,
      "outputs": [
        {
          "output_type": "execute_result",
          "data": {
            "text/plain": [
              "         object_id         mjd  passband        flux   flux_err  detected\n",
              "0              615  59750.4229         2 -544.810303   3.622952         1\n",
              "1              615  59750.4306         1 -816.434326   5.553370         1\n",
              "2              615  59750.4383         3 -471.385529   3.801213         1\n",
              "3              615  59750.4450         4 -388.984985  11.395031         1\n",
              "4              615  59752.4070         2 -681.858887   4.041204         1\n",
              "...            ...         ...       ...         ...        ...       ...\n",
              "1421700  130779836  60555.9838         4  -39.881969  46.477093         0\n",
              "1421701  130779836  60560.0459         1   14.894439  18.947685         0\n",
              "1421702  130779836  60571.0225         5   30.593130  50.695290         0\n",
              "1421703  130779836  60585.9974         4  -23.471439  44.819859         0\n",
              "1421704  130779836  60588.0372         0  -41.214264  51.665123         0\n",
              "\n",
              "[1421705 rows x 6 columns]"
            ],
            "text/html": [
              "\n",
              "  <div id=\"df-681cbdff-3ceb-4fcc-8da0-6d64f4a8dc77\">\n",
              "    <div class=\"colab-df-container\">\n",
              "      <div>\n",
              "<style scoped>\n",
              "    .dataframe tbody tr th:only-of-type {\n",
              "        vertical-align: middle;\n",
              "    }\n",
              "\n",
              "    .dataframe tbody tr th {\n",
              "        vertical-align: top;\n",
              "    }\n",
              "\n",
              "    .dataframe thead th {\n",
              "        text-align: right;\n",
              "    }\n",
              "</style>\n",
              "<table border=\"1\" class=\"dataframe\">\n",
              "  <thead>\n",
              "    <tr style=\"text-align: right;\">\n",
              "      <th></th>\n",
              "      <th>object_id</th>\n",
              "      <th>mjd</th>\n",
              "      <th>passband</th>\n",
              "      <th>flux</th>\n",
              "      <th>flux_err</th>\n",
              "      <th>detected</th>\n",
              "    </tr>\n",
              "  </thead>\n",
              "  <tbody>\n",
              "    <tr>\n",
              "      <th>0</th>\n",
              "      <td>615</td>\n",
              "      <td>59750.4229</td>\n",
              "      <td>2</td>\n",
              "      <td>-544.810303</td>\n",
              "      <td>3.622952</td>\n",
              "      <td>1</td>\n",
              "    </tr>\n",
              "    <tr>\n",
              "      <th>1</th>\n",
              "      <td>615</td>\n",
              "      <td>59750.4306</td>\n",
              "      <td>1</td>\n",
              "      <td>-816.434326</td>\n",
              "      <td>5.553370</td>\n",
              "      <td>1</td>\n",
              "    </tr>\n",
              "    <tr>\n",
              "      <th>2</th>\n",
              "      <td>615</td>\n",
              "      <td>59750.4383</td>\n",
              "      <td>3</td>\n",
              "      <td>-471.385529</td>\n",
              "      <td>3.801213</td>\n",
              "      <td>1</td>\n",
              "    </tr>\n",
              "    <tr>\n",
              "      <th>3</th>\n",
              "      <td>615</td>\n",
              "      <td>59750.4450</td>\n",
              "      <td>4</td>\n",
              "      <td>-388.984985</td>\n",
              "      <td>11.395031</td>\n",
              "      <td>1</td>\n",
              "    </tr>\n",
              "    <tr>\n",
              "      <th>4</th>\n",
              "      <td>615</td>\n",
              "      <td>59752.4070</td>\n",
              "      <td>2</td>\n",
              "      <td>-681.858887</td>\n",
              "      <td>4.041204</td>\n",
              "      <td>1</td>\n",
              "    </tr>\n",
              "    <tr>\n",
              "      <th>...</th>\n",
              "      <td>...</td>\n",
              "      <td>...</td>\n",
              "      <td>...</td>\n",
              "      <td>...</td>\n",
              "      <td>...</td>\n",
              "      <td>...</td>\n",
              "    </tr>\n",
              "    <tr>\n",
              "      <th>1421700</th>\n",
              "      <td>130779836</td>\n",
              "      <td>60555.9838</td>\n",
              "      <td>4</td>\n",
              "      <td>-39.881969</td>\n",
              "      <td>46.477093</td>\n",
              "      <td>0</td>\n",
              "    </tr>\n",
              "    <tr>\n",
              "      <th>1421701</th>\n",
              "      <td>130779836</td>\n",
              "      <td>60560.0459</td>\n",
              "      <td>1</td>\n",
              "      <td>14.894439</td>\n",
              "      <td>18.947685</td>\n",
              "      <td>0</td>\n",
              "    </tr>\n",
              "    <tr>\n",
              "      <th>1421702</th>\n",
              "      <td>130779836</td>\n",
              "      <td>60571.0225</td>\n",
              "      <td>5</td>\n",
              "      <td>30.593130</td>\n",
              "      <td>50.695290</td>\n",
              "      <td>0</td>\n",
              "    </tr>\n",
              "    <tr>\n",
              "      <th>1421703</th>\n",
              "      <td>130779836</td>\n",
              "      <td>60585.9974</td>\n",
              "      <td>4</td>\n",
              "      <td>-23.471439</td>\n",
              "      <td>44.819859</td>\n",
              "      <td>0</td>\n",
              "    </tr>\n",
              "    <tr>\n",
              "      <th>1421704</th>\n",
              "      <td>130779836</td>\n",
              "      <td>60588.0372</td>\n",
              "      <td>0</td>\n",
              "      <td>-41.214264</td>\n",
              "      <td>51.665123</td>\n",
              "      <td>0</td>\n",
              "    </tr>\n",
              "  </tbody>\n",
              "</table>\n",
              "<p>1421705 rows × 6 columns</p>\n",
              "</div>\n",
              "      <button class=\"colab-df-convert\" onclick=\"convertToInteractive('df-681cbdff-3ceb-4fcc-8da0-6d64f4a8dc77')\"\n",
              "              title=\"Convert this dataframe to an interactive table.\"\n",
              "              style=\"display:none;\">\n",
              "        \n",
              "  <svg xmlns=\"http://www.w3.org/2000/svg\" height=\"24px\"viewBox=\"0 0 24 24\"\n",
              "       width=\"24px\">\n",
              "    <path d=\"M0 0h24v24H0V0z\" fill=\"none\"/>\n",
              "    <path d=\"M18.56 5.44l.94 2.06.94-2.06 2.06-.94-2.06-.94-.94-2.06-.94 2.06-2.06.94zm-11 1L8.5 8.5l.94-2.06 2.06-.94-2.06-.94L8.5 2.5l-.94 2.06-2.06.94zm10 10l.94 2.06.94-2.06 2.06-.94-2.06-.94-.94-2.06-.94 2.06-2.06.94z\"/><path d=\"M17.41 7.96l-1.37-1.37c-.4-.4-.92-.59-1.43-.59-.52 0-1.04.2-1.43.59L10.3 9.45l-7.72 7.72c-.78.78-.78 2.05 0 2.83L4 21.41c.39.39.9.59 1.41.59.51 0 1.02-.2 1.41-.59l7.78-7.78 2.81-2.81c.8-.78.8-2.07 0-2.86zM5.41 20L4 18.59l7.72-7.72 1.47 1.35L5.41 20z\"/>\n",
              "  </svg>\n",
              "      </button>\n",
              "      \n",
              "  <style>\n",
              "    .colab-df-container {\n",
              "      display:flex;\n",
              "      flex-wrap:wrap;\n",
              "      gap: 12px;\n",
              "    }\n",
              "\n",
              "    .colab-df-convert {\n",
              "      background-color: #E8F0FE;\n",
              "      border: none;\n",
              "      border-radius: 50%;\n",
              "      cursor: pointer;\n",
              "      display: none;\n",
              "      fill: #1967D2;\n",
              "      height: 32px;\n",
              "      padding: 0 0 0 0;\n",
              "      width: 32px;\n",
              "    }\n",
              "\n",
              "    .colab-df-convert:hover {\n",
              "      background-color: #E2EBFA;\n",
              "      box-shadow: 0px 1px 2px rgba(60, 64, 67, 0.3), 0px 1px 3px 1px rgba(60, 64, 67, 0.15);\n",
              "      fill: #174EA6;\n",
              "    }\n",
              "\n",
              "    [theme=dark] .colab-df-convert {\n",
              "      background-color: #3B4455;\n",
              "      fill: #D2E3FC;\n",
              "    }\n",
              "\n",
              "    [theme=dark] .colab-df-convert:hover {\n",
              "      background-color: #434B5C;\n",
              "      box-shadow: 0px 1px 3px 1px rgba(0, 0, 0, 0.15);\n",
              "      filter: drop-shadow(0px 1px 2px rgba(0, 0, 0, 0.3));\n",
              "      fill: #FFFFFF;\n",
              "    }\n",
              "  </style>\n",
              "\n",
              "      <script>\n",
              "        const buttonEl =\n",
              "          document.querySelector('#df-681cbdff-3ceb-4fcc-8da0-6d64f4a8dc77 button.colab-df-convert');\n",
              "        buttonEl.style.display =\n",
              "          google.colab.kernel.accessAllowed ? 'block' : 'none';\n",
              "\n",
              "        async function convertToInteractive(key) {\n",
              "          const element = document.querySelector('#df-681cbdff-3ceb-4fcc-8da0-6d64f4a8dc77');\n",
              "          const dataTable =\n",
              "            await google.colab.kernel.invokeFunction('convertToInteractive',\n",
              "                                                     [key], {});\n",
              "          if (!dataTable) return;\n",
              "\n",
              "          const docLinkHtml = 'Like what you see? Visit the ' +\n",
              "            '<a target=\"_blank\" href=https://colab.research.google.com/notebooks/data_table.ipynb>data table notebook</a>'\n",
              "            + ' to learn more about interactive tables.';\n",
              "          element.innerHTML = '';\n",
              "          dataTable['output_type'] = 'display_data';\n",
              "          await google.colab.output.renderOutput(dataTable, element);\n",
              "          const docLink = document.createElement('div');\n",
              "          docLink.innerHTML = docLinkHtml;\n",
              "          element.appendChild(docLink);\n",
              "        }\n",
              "      </script>\n",
              "    </div>\n",
              "  </div>\n",
              "  "
            ]
          },
          "metadata": {},
          "execution_count": 7
        }
      ]
    },
    {
      "cell_type": "code",
      "source": [
        "# Making sure that all objects have the same number of measurements\n",
        "lcvs[:][['object_id', 'passband']].drop_duplicates()['passband'].value_counts()"
      ],
      "metadata": {
        "colab": {
          "base_uri": "https://localhost:8080/"
        },
        "id": "SVqdHbJsh46I",
        "outputId": "a0beb250-72a0-4008-e51c-536ba53406e7"
      },
      "execution_count": null,
      "outputs": [
        {
          "output_type": "execute_result",
          "data": {
            "text/plain": [
              "2    7848\n",
              "1    7848\n",
              "3    7848\n",
              "4    7848\n",
              "5    7848\n",
              "0    7848\n",
              "Name: passband, dtype: int64"
            ]
          },
          "metadata": {},
          "execution_count": 16
        }
      ]
    },
    {
      "cell_type": "code",
      "source": [
        "lcvs.rename(\n",
        "    columns={\n",
        "        'detected_bool': 'detected'\n",
        "    },\n",
        "    inplace=True,\n",
        "  )"
      ],
      "metadata": {
        "id": "-FvQ_iXG1w_T"
      },
      "execution_count": null,
      "outputs": []
    },
    {
      "cell_type": "code",
      "source": [
        "metadata = pd.read_csv(\n",
        "    \"\"\"https://zenodo.org/record/2539456/files/plasticc_train_metadata.csv.gz?download=1\"\"\", \n",
        "    compression='gzip'\n",
        "    )"
      ],
      "metadata": {
        "id": "JWhX5daN11Ad"
      },
      "execution_count": null,
      "outputs": []
    },
    {
      "cell_type": "markdown",
      "source": [
        "### standardize and normalize flux"
      ],
      "metadata": {
        "id": "cOfJK5G12JLT"
      }
    },
    {
      "cell_type": "code",
      "source": [
        "def agg_norm_flux(x):\n",
        "  \"\"\" func that standardizes flux and flux_err values.\n",
        "  \n",
        "  x - pandas groupby object (over obj_id and passband)\n",
        "  \"\"\"\n",
        "  x['flux_norm'] = (\n",
        "      np.array(x['flux']) - np.mean(x['flux'])\n",
        "      )/np.std(x['flux'])\n",
        "  x['flux_err_norm']= (\n",
        "    np.array(x['flux_err']) - np.mean(x['flux_err'])\n",
        "    )/np.std(x['flux_err'])\n",
        "  return x"
      ],
      "metadata": {
        "id": "TDY-NuuM2Jks"
      },
      "execution_count": null,
      "outputs": []
    },
    {
      "cell_type": "code",
      "source": [
        "lcvs_norm = lcvs.groupby(\n",
        "  [\"object_id\", \"passband\"]\n",
        ").progress_apply(agg_norm_flux)"
      ],
      "metadata": {
        "colab": {
          "base_uri": "https://localhost:8080/"
        },
        "id": "miLUjW2L2Mw1",
        "outputId": "e6e06aef-f933-468a-9381-82dad6dfcf64"
      },
      "execution_count": null,
      "outputs": [
        {
          "output_type": "stream",
          "name": "stderr",
          "text": [
            "100%|██████████| 47088/47088 [02:05<00:00, 376.32it/s]\n"
          ]
        }
      ]
    },
    {
      "cell_type": "code",
      "source": [
        "lcvs_norm[['object_id', 'flux_norm']][:1000].groupby('object_id').progress_apply(lambda x: list(x['flux_norm']))"
      ],
      "metadata": {
        "colab": {
          "base_uri": "https://localhost:8080/"
        },
        "id": "8mg7BSfb2TLC",
        "outputId": "ec91ea16-173a-43fd-e1a3-9c69ce321d0d"
      },
      "execution_count": null,
      "outputs": [
        {
          "output_type": "stream",
          "name": "stderr",
          "text": [
            "100%|██████████| 3/3 [00:00<00:00, 790.58it/s]\n"
          ]
        },
        {
          "output_type": "execute_result",
          "data": {
            "text/plain": [
              "object_id\n",
              "615    [-0.9101976693636594, -0.722009849452599, -1.0...\n",
              "713    [1.7318442352186199, 1.5252944052923676, 1.198...\n",
              "730    [-0.22222138521234783, 1.217919660206111, -0.0...\n",
              "dtype: object"
            ]
          },
          "metadata": {},
          "execution_count": 14
        }
      ]
    },
    {
      "cell_type": "markdown",
      "source": [
        "## Common time frame and measurements interpolation\n",
        "\n",
        "For interpolation (and EXTRApolation for some measurements) we are gonna use qubic splines. They works reasonably fine, are fast and do not require any hyperparameter tuning. For extrapolated values, we're using boundary measurements, otherwise the curve behaves quite unpredictably."
      ],
      "metadata": {
        "id": "VyJNSRuF4o34"
      }
    },
    {
      "cell_type": "code",
      "source": [
        "def comm_time_frame(x):\n",
        "  \"\"\" func that for each object choose the timestamps of the first observation and set it to 0.\n",
        "  \n",
        "  x - pandas groupby object (over obj_id and passband)\n",
        "  \"\"\"\n",
        "  x_min = x['mjd'].min()\n",
        "  x['mjd_0'] = x['mjd'] - x_min\n",
        "  return x"
      ],
      "metadata": {
        "id": "HFBxEOCA6nFh"
      },
      "execution_count": null,
      "outputs": []
    },
    {
      "cell_type": "code",
      "source": [
        "lcvs_norm_mjd_0 = lcvs_norm.groupby(\n",
        "  [\"object_id\", \"passband\"]\n",
        ").progress_apply(comm_time_frame)"
      ],
      "metadata": {
        "colab": {
          "base_uri": "https://localhost:8080/"
        },
        "id": "-a1on1hp7DR_",
        "outputId": "5cb957fb-1de7-4978-d737-0f7f4f4515e1"
      },
      "execution_count": null,
      "outputs": [
        {
          "output_type": "stream",
          "name": "stderr",
          "text": [
            "100%|██████████| 47088/47088 [01:14<00:00, 634.01it/s] \n"
          ]
        }
      ]
    },
    {
      "cell_type": "code",
      "source": [
        "lcvs_norm_mjd_0.to_pickle(\n",
        "    '/content/drive/MyDrive/Classes/22S-PHYS-667/HW8/lcvs_norm_mjd_0_df.pkl'\n",
        ")"
      ],
      "metadata": {
        "id": "Qg5227j6Zn-e"
      },
      "execution_count": null,
      "outputs": []
    },
    {
      "cell_type": "code",
      "source": [
        "lcvs_norm_mjd_0 = pd.read_pickle(\n",
        "    '/content/drive/MyDrive/Classes/22S-PHYS-667/HW8/lcvs_norm_mjd_0_df.pkl'\n",
        ")"
      ],
      "metadata": {
        "id": "wQG1ZxZX40yI"
      },
      "execution_count": null,
      "outputs": []
    },
    {
      "cell_type": "code",
      "source": [
        "lcvs_norm_mjd_0"
      ],
      "metadata": {
        "colab": {
          "base_uri": "https://localhost:8080/",
          "height": 487
        },
        "id": "sINrsJyqJAFe",
        "outputId": "c6970a64-7802-43a8-d782-6cea7b91a9e1"
      },
      "execution_count": null,
      "outputs": [
        {
          "output_type": "execute_result",
          "data": {
            "text/plain": [
              "         object_id         mjd  passband        flux   flux_err  detected  \\\n",
              "0              615  59750.4229         2 -544.810303   3.622952         1   \n",
              "1              615  59750.4306         1 -816.434326   5.553370         1   \n",
              "2              615  59750.4383         3 -471.385529   3.801213         1   \n",
              "3              615  59750.4450         4 -388.984985  11.395031         1   \n",
              "4              615  59752.4070         2 -681.858887   4.041204         1   \n",
              "...            ...         ...       ...         ...        ...       ...   \n",
              "1421700  130779836  60555.9838         4  -39.881969  46.477093         0   \n",
              "1421701  130779836  60560.0459         1   14.894439  18.947685         0   \n",
              "1421702  130779836  60571.0225         5   30.593130  50.695290         0   \n",
              "1421703  130779836  60585.9974         4  -23.471439  44.819859         0   \n",
              "1421704  130779836  60588.0372         0  -41.214264  51.665123         0   \n",
              "\n",
              "         flux_norm  flux_err_norm     mjd_0  \n",
              "0        -0.910198       0.422316    0.0000  \n",
              "1        -0.722010       0.452984    0.0000  \n",
              "2        -1.053414       1.338867    0.0000  \n",
              "3        -1.151251       7.037395    0.0000  \n",
              "4        -1.213953       1.150246    1.9841  \n",
              "...            ...            ...       ...  \n",
              "1421700  -0.326977      -0.125639  833.6750  \n",
              "1421701  -0.619476      -0.612220  806.8968  \n",
              "1421702  -0.486677      -0.474481  855.6906  \n",
              "1421703  -0.325456      -0.147321  863.6886  \n",
              "1421704  -0.419086      -0.282234  770.8949  \n",
              "\n",
              "[1421705 rows x 9 columns]"
            ],
            "text/html": [
              "\n",
              "  <div id=\"df-375f9ec2-8552-41ac-bcef-dc4e5bfd31b7\">\n",
              "    <div class=\"colab-df-container\">\n",
              "      <div>\n",
              "<style scoped>\n",
              "    .dataframe tbody tr th:only-of-type {\n",
              "        vertical-align: middle;\n",
              "    }\n",
              "\n",
              "    .dataframe tbody tr th {\n",
              "        vertical-align: top;\n",
              "    }\n",
              "\n",
              "    .dataframe thead th {\n",
              "        text-align: right;\n",
              "    }\n",
              "</style>\n",
              "<table border=\"1\" class=\"dataframe\">\n",
              "  <thead>\n",
              "    <tr style=\"text-align: right;\">\n",
              "      <th></th>\n",
              "      <th>object_id</th>\n",
              "      <th>mjd</th>\n",
              "      <th>passband</th>\n",
              "      <th>flux</th>\n",
              "      <th>flux_err</th>\n",
              "      <th>detected</th>\n",
              "      <th>flux_norm</th>\n",
              "      <th>flux_err_norm</th>\n",
              "      <th>mjd_0</th>\n",
              "    </tr>\n",
              "  </thead>\n",
              "  <tbody>\n",
              "    <tr>\n",
              "      <th>0</th>\n",
              "      <td>615</td>\n",
              "      <td>59750.4229</td>\n",
              "      <td>2</td>\n",
              "      <td>-544.810303</td>\n",
              "      <td>3.622952</td>\n",
              "      <td>1</td>\n",
              "      <td>-0.910198</td>\n",
              "      <td>0.422316</td>\n",
              "      <td>0.0000</td>\n",
              "    </tr>\n",
              "    <tr>\n",
              "      <th>1</th>\n",
              "      <td>615</td>\n",
              "      <td>59750.4306</td>\n",
              "      <td>1</td>\n",
              "      <td>-816.434326</td>\n",
              "      <td>5.553370</td>\n",
              "      <td>1</td>\n",
              "      <td>-0.722010</td>\n",
              "      <td>0.452984</td>\n",
              "      <td>0.0000</td>\n",
              "    </tr>\n",
              "    <tr>\n",
              "      <th>2</th>\n",
              "      <td>615</td>\n",
              "      <td>59750.4383</td>\n",
              "      <td>3</td>\n",
              "      <td>-471.385529</td>\n",
              "      <td>3.801213</td>\n",
              "      <td>1</td>\n",
              "      <td>-1.053414</td>\n",
              "      <td>1.338867</td>\n",
              "      <td>0.0000</td>\n",
              "    </tr>\n",
              "    <tr>\n",
              "      <th>3</th>\n",
              "      <td>615</td>\n",
              "      <td>59750.4450</td>\n",
              "      <td>4</td>\n",
              "      <td>-388.984985</td>\n",
              "      <td>11.395031</td>\n",
              "      <td>1</td>\n",
              "      <td>-1.151251</td>\n",
              "      <td>7.037395</td>\n",
              "      <td>0.0000</td>\n",
              "    </tr>\n",
              "    <tr>\n",
              "      <th>4</th>\n",
              "      <td>615</td>\n",
              "      <td>59752.4070</td>\n",
              "      <td>2</td>\n",
              "      <td>-681.858887</td>\n",
              "      <td>4.041204</td>\n",
              "      <td>1</td>\n",
              "      <td>-1.213953</td>\n",
              "      <td>1.150246</td>\n",
              "      <td>1.9841</td>\n",
              "    </tr>\n",
              "    <tr>\n",
              "      <th>...</th>\n",
              "      <td>...</td>\n",
              "      <td>...</td>\n",
              "      <td>...</td>\n",
              "      <td>...</td>\n",
              "      <td>...</td>\n",
              "      <td>...</td>\n",
              "      <td>...</td>\n",
              "      <td>...</td>\n",
              "      <td>...</td>\n",
              "    </tr>\n",
              "    <tr>\n",
              "      <th>1421700</th>\n",
              "      <td>130779836</td>\n",
              "      <td>60555.9838</td>\n",
              "      <td>4</td>\n",
              "      <td>-39.881969</td>\n",
              "      <td>46.477093</td>\n",
              "      <td>0</td>\n",
              "      <td>-0.326977</td>\n",
              "      <td>-0.125639</td>\n",
              "      <td>833.6750</td>\n",
              "    </tr>\n",
              "    <tr>\n",
              "      <th>1421701</th>\n",
              "      <td>130779836</td>\n",
              "      <td>60560.0459</td>\n",
              "      <td>1</td>\n",
              "      <td>14.894439</td>\n",
              "      <td>18.947685</td>\n",
              "      <td>0</td>\n",
              "      <td>-0.619476</td>\n",
              "      <td>-0.612220</td>\n",
              "      <td>806.8968</td>\n",
              "    </tr>\n",
              "    <tr>\n",
              "      <th>1421702</th>\n",
              "      <td>130779836</td>\n",
              "      <td>60571.0225</td>\n",
              "      <td>5</td>\n",
              "      <td>30.593130</td>\n",
              "      <td>50.695290</td>\n",
              "      <td>0</td>\n",
              "      <td>-0.486677</td>\n",
              "      <td>-0.474481</td>\n",
              "      <td>855.6906</td>\n",
              "    </tr>\n",
              "    <tr>\n",
              "      <th>1421703</th>\n",
              "      <td>130779836</td>\n",
              "      <td>60585.9974</td>\n",
              "      <td>4</td>\n",
              "      <td>-23.471439</td>\n",
              "      <td>44.819859</td>\n",
              "      <td>0</td>\n",
              "      <td>-0.325456</td>\n",
              "      <td>-0.147321</td>\n",
              "      <td>863.6886</td>\n",
              "    </tr>\n",
              "    <tr>\n",
              "      <th>1421704</th>\n",
              "      <td>130779836</td>\n",
              "      <td>60588.0372</td>\n",
              "      <td>0</td>\n",
              "      <td>-41.214264</td>\n",
              "      <td>51.665123</td>\n",
              "      <td>0</td>\n",
              "      <td>-0.419086</td>\n",
              "      <td>-0.282234</td>\n",
              "      <td>770.8949</td>\n",
              "    </tr>\n",
              "  </tbody>\n",
              "</table>\n",
              "<p>1421705 rows × 9 columns</p>\n",
              "</div>\n",
              "      <button class=\"colab-df-convert\" onclick=\"convertToInteractive('df-375f9ec2-8552-41ac-bcef-dc4e5bfd31b7')\"\n",
              "              title=\"Convert this dataframe to an interactive table.\"\n",
              "              style=\"display:none;\">\n",
              "        \n",
              "  <svg xmlns=\"http://www.w3.org/2000/svg\" height=\"24px\"viewBox=\"0 0 24 24\"\n",
              "       width=\"24px\">\n",
              "    <path d=\"M0 0h24v24H0V0z\" fill=\"none\"/>\n",
              "    <path d=\"M18.56 5.44l.94 2.06.94-2.06 2.06-.94-2.06-.94-.94-2.06-.94 2.06-2.06.94zm-11 1L8.5 8.5l.94-2.06 2.06-.94-2.06-.94L8.5 2.5l-.94 2.06-2.06.94zm10 10l.94 2.06.94-2.06 2.06-.94-2.06-.94-.94-2.06-.94 2.06-2.06.94z\"/><path d=\"M17.41 7.96l-1.37-1.37c-.4-.4-.92-.59-1.43-.59-.52 0-1.04.2-1.43.59L10.3 9.45l-7.72 7.72c-.78.78-.78 2.05 0 2.83L4 21.41c.39.39.9.59 1.41.59.51 0 1.02-.2 1.41-.59l7.78-7.78 2.81-2.81c.8-.78.8-2.07 0-2.86zM5.41 20L4 18.59l7.72-7.72 1.47 1.35L5.41 20z\"/>\n",
              "  </svg>\n",
              "      </button>\n",
              "      \n",
              "  <style>\n",
              "    .colab-df-container {\n",
              "      display:flex;\n",
              "      flex-wrap:wrap;\n",
              "      gap: 12px;\n",
              "    }\n",
              "\n",
              "    .colab-df-convert {\n",
              "      background-color: #E8F0FE;\n",
              "      border: none;\n",
              "      border-radius: 50%;\n",
              "      cursor: pointer;\n",
              "      display: none;\n",
              "      fill: #1967D2;\n",
              "      height: 32px;\n",
              "      padding: 0 0 0 0;\n",
              "      width: 32px;\n",
              "    }\n",
              "\n",
              "    .colab-df-convert:hover {\n",
              "      background-color: #E2EBFA;\n",
              "      box-shadow: 0px 1px 2px rgba(60, 64, 67, 0.3), 0px 1px 3px 1px rgba(60, 64, 67, 0.15);\n",
              "      fill: #174EA6;\n",
              "    }\n",
              "\n",
              "    [theme=dark] .colab-df-convert {\n",
              "      background-color: #3B4455;\n",
              "      fill: #D2E3FC;\n",
              "    }\n",
              "\n",
              "    [theme=dark] .colab-df-convert:hover {\n",
              "      background-color: #434B5C;\n",
              "      box-shadow: 0px 1px 3px 1px rgba(0, 0, 0, 0.15);\n",
              "      filter: drop-shadow(0px 1px 2px rgba(0, 0, 0, 0.3));\n",
              "      fill: #FFFFFF;\n",
              "    }\n",
              "  </style>\n",
              "\n",
              "      <script>\n",
              "        const buttonEl =\n",
              "          document.querySelector('#df-375f9ec2-8552-41ac-bcef-dc4e5bfd31b7 button.colab-df-convert');\n",
              "        buttonEl.style.display =\n",
              "          google.colab.kernel.accessAllowed ? 'block' : 'none';\n",
              "\n",
              "        async function convertToInteractive(key) {\n",
              "          const element = document.querySelector('#df-375f9ec2-8552-41ac-bcef-dc4e5bfd31b7');\n",
              "          const dataTable =\n",
              "            await google.colab.kernel.invokeFunction('convertToInteractive',\n",
              "                                                     [key], {});\n",
              "          if (!dataTable) return;\n",
              "\n",
              "          const docLinkHtml = 'Like what you see? Visit the ' +\n",
              "            '<a target=\"_blank\" href=https://colab.research.google.com/notebooks/data_table.ipynb>data table notebook</a>'\n",
              "            + ' to learn more about interactive tables.';\n",
              "          element.innerHTML = '';\n",
              "          dataTable['output_type'] = 'display_data';\n",
              "          await google.colab.output.renderOutput(dataTable, element);\n",
              "          const docLink = document.createElement('div');\n",
              "          docLink.innerHTML = docLinkHtml;\n",
              "          element.appendChild(docLink);\n",
              "        }\n",
              "      </script>\n",
              "    </div>\n",
              "  </div>\n",
              "  "
            ]
          },
          "metadata": {},
          "execution_count": 6
        }
      ]
    },
    {
      "cell_type": "code",
      "source": [
        "lcvs_norm_mjd_0_listed_df = lcvs_norm_mjd_0.groupby(\n",
        "    ['object_id', 'passband']\n",
        ").agg(\n",
        "    {\n",
        "      \"flux_norm\": [list],\n",
        "      \"mjd_0\": [list, \"max\"]\n",
        "    }\n",
        ")"
      ],
      "metadata": {
        "id": "F92xPmmgKQR-"
      },
      "execution_count": null,
      "outputs": []
    },
    {
      "cell_type": "code",
      "source": [
        "plt.hist(\n",
        "    lcvs_norm_mjd_0_listed_df[('mjd_0', 'max')].values, \n",
        "    log=True, \n",
        "    bins=50\n",
        ")\n",
        "plt.show()"
      ],
      "metadata": {
        "colab": {
          "base_uri": "https://localhost:8080/",
          "height": 534
        },
        "id": "sjsFrjYLACVz",
        "outputId": "30f458b6-13cc-4913-8d3a-2cfd8dcd25cb"
      },
      "execution_count": null,
      "outputs": [
        {
          "output_type": "display_data",
          "data": {
            "text/plain": [
              "<Figure size 1080x720 with 1 Axes>"
            ],
            "image/png": "[encoded data removed]"
          },
          "metadata": {
            "needs_background": "light"
          }
        }
      ]
    },
    {
      "cell_type": "markdown",
      "source": [
        "Plot: histogram of upper timeframe across all measurements. As we can see, measurements were taken differently (in terms of duration, if we count from 0th moment in time for each `object_id`), so in many cases we need to extrapolate their TSs significantly."
      ],
      "metadata": {
        "id": "0EaZyNJcWfxl"
      }
    },
    {
      "cell_type": "code",
      "source": [
        "lcvs_norm_mjd_0_listed_filt_df = lcvs_norm_mjd_0_listed_df"
      ],
      "metadata": {
        "id": "IxW-FZ304wcT"
      },
      "execution_count": null,
      "outputs": []
    },
    {
      "cell_type": "markdown",
      "source": [
        "### Interpolation (and EXTRApolation)"
      ],
      "metadata": {
        "id": "DjOD-Wg3PV1j"
      }
    },
    {
      "cell_type": "code",
      "source": [
        "upper_boundary = lcvs_norm_mjd_0_listed_filt_df[('mjd_0', 'max')].max()\n",
        "upper_boundary"
      ],
      "metadata": {
        "colab": {
          "base_uri": "https://localhost:8080/"
        },
        "id": "nLfgwwDNPt4N",
        "outputId": "00ea78c1-2596-4241-aa57-19139afdecff"
      },
      "execution_count": null,
      "outputs": [
        {
          "output_type": "execute_result",
          "data": {
            "text/plain": [
              "1094.0023999999976"
            ]
          },
          "metadata": {},
          "execution_count": 10
        }
      ]
    },
    {
      "cell_type": "code",
      "source": [
        "steps = 500"
      ],
      "metadata": {
        "id": "udLMyJEF9Bqc"
      },
      "execution_count": null,
      "outputs": []
    },
    {
      "cell_type": "code",
      "source": [
        "ts_grid = np.arange(\n",
        "  start=0,\n",
        "  stop=upper_boundary,\n",
        "  step=upper_boundary/(steps)\n",
        ")\n",
        "ts_grid.shape"
      ],
      "metadata": {
        "colab": {
          "base_uri": "https://localhost:8080/"
        },
        "id": "M_fXdPuC9I3B",
        "outputId": "365297ec-eb44-474d-b491-fa4ad26a5953"
      },
      "execution_count": null,
      "outputs": [
        {
          "output_type": "execute_result",
          "data": {
            "text/plain": [
              "(501,)"
            ]
          },
          "metadata": {},
          "execution_count": 14
        }
      ]
    },
    {
      "cell_type": "code",
      "source": [
        "current_obj_df = lcvs_norm_mjd_0[\n",
        "  (lcvs_norm_mjd_0['object_id'] == 130779836) & (lcvs_norm_mjd_0['passband'] == 3)\n",
        "][['mjd_0', 'flux_norm']]"
      ],
      "metadata": {
        "id": "BUZrya4I9Qr4"
      },
      "execution_count": null,
      "outputs": []
    },
    {
      "cell_type": "code",
      "source": [
        "interpolate.InterpolatedUnivariateSpline?"
      ],
      "metadata": {
        "id": "Hkis6SrpVbxK"
      },
      "execution_count": 4,
      "outputs": []
    },
    {
      "cell_type": "code",
      "source": [
        "f = interpolate.InterpolatedUnivariateSpline(\n",
        "  x=current_obj_df['mjd_0'], \n",
        "  y=current_obj_df['flux_norm'], \n",
        "  ext=3, #type of extrapolation, 3 - take boundary values, for stability\n",
        "  k=3, # degree\n",
        ")"
      ],
      "metadata": {
        "id": "Lp_UpN1V-EC0"
      },
      "execution_count": null,
      "outputs": []
    },
    {
      "cell_type": "code",
      "source": [
        "ynew = f(ts_grid)\n",
        "len(ts_grid), len(ynew)"
      ],
      "metadata": {
        "colab": {
          "base_uri": "https://localhost:8080/"
        },
        "id": "M6D9t4F5-t9_",
        "outputId": "4a6b37d1-ceeb-467b-8ad7-e8a286f17e37"
      },
      "execution_count": null,
      "outputs": [
        {
          "output_type": "execute_result",
          "data": {
            "text/plain": [
              "(501, 501)"
            ]
          },
          "metadata": {},
          "execution_count": 34
        }
      ]
    },
    {
      "cell_type": "code",
      "source": [
        "#ynew = f(xnew)   # use interpolation function returned by `interp1d`\n",
        "\n",
        "plt.plot(current_obj_df['mjd_0'], current_obj_df['flux_norm'], 'o')\n",
        "plt.plot(ts_grid, ynew, '-')\n",
        "\n",
        "plt.show()"
      ],
      "metadata": {
        "colab": {
          "base_uri": "https://localhost:8080/",
          "height": 532
        },
        "id": "ZRKTZfTXEVKt",
        "outputId": "3d445b50-8fe1-4381-ce3b-b58dd1adb933"
      },
      "execution_count": null,
      "outputs": [
        {
          "output_type": "display_data",
          "data": {
            "text/plain": [
              "<Figure size 1080x720 with 1 Axes>"
            ],
            "image/png": "[encoded data removed]"
          },
          "metadata": {
            "needs_background": "light"
          }
        }
      ]
    },
    {
      "cell_type": "markdown",
      "source": [
        "Plot: cubic interpolation of a sample curve.\n",
        "Looks okay, but min and max values are smoothified at the point that they don't correspond to real min and max measurements. In addition, the curve \"smoothness\" add some humps and downs, which probably wouldn't be presented on real measurements. But we can only guess..."
      ],
      "metadata": {
        "id": "fu9HtIGBXVwI"
      }
    },
    {
      "cell_type": "code",
      "source": [
        "def apply_interpolate(x_df):\n",
        "  \n",
        "  # adding this condition to filter off completely broken measurements\n",
        "  if len(x_df[('flux_norm', 'list')]) > 3:\n",
        "\n",
        "    f = interpolate.InterpolatedUnivariateSpline(\n",
        "      x=x_df[('mjd_0', 'list')], \n",
        "      y=x_df[('flux_norm', 'list')], \n",
        "      ext=3,\n",
        "      k=3,\n",
        "    )\n",
        "\n",
        "    x_df['x_int'] = ts_grid\n",
        "    x_df['y_int'] = f(ts_grid)\n",
        "\n",
        "    return x_df\n",
        "  else:\n",
        "    return np.NaN"
      ],
      "metadata": {
        "id": "4yR0gDIxG6ou"
      },
      "execution_count": null,
      "outputs": []
    },
    {
      "cell_type": "code",
      "source": [
        "lcvs_norm_mjd_0_listed_filt_df"
      ],
      "metadata": {
        "colab": {
          "base_uri": "https://localhost:8080/",
          "height": 704
        },
        "id": "shk08dJXQbsl",
        "outputId": "b3b6ac51-ea49-45ef-f047-efc8e8d2a372"
      },
      "execution_count": null,
      "outputs": [
        {
          "output_type": "execute_result",
          "data": {
            "text/plain": [
              "                                                            flux_norm  \\\n",
              "                                                                 list   \n",
              "object_id passband                                                      \n",
              "615       0         [0.12168401013019357, 0.5117859687025709, -0.0...   \n",
              "          1         [-0.722009849452599, -1.1327242018713475, -0.7...   \n",
              "          2         [-0.9101976693636594, -1.213953005901712, -0.9...   \n",
              "          3         [-1.0534136159611334, -1.2145134548584586, -1....   \n",
              "          4         [-1.1512509928608998, -1.1667905640994658, -1....   \n",
              "...                                                               ...   \n",
              "130779836 1         [0.029554350344488892, 2.061022510442743, 2.26...   \n",
              "          2         [-0.06665006236995767, 0.2917977983398143, 0.3...   \n",
              "          3         [-0.1311130853347585, 0.055563195049427194, 2....   \n",
              "          4         [-0.24807573584838163, -0.24996709229370795, -...   \n",
              "          5         [-0.40171719985261006, -0.22040931975168554, -...   \n",
              "\n",
              "                                                                mjd_0  \\\n",
              "                                                                 list   \n",
              "object_id passband                                                      \n",
              "615       0         [0.0, 0.9515000000028522, 1.949399999997695, 2...   \n",
              "          1         [0.0, 1.9841000000014901, 16.873899999998685, ...   \n",
              "          2         [0.0, 1.9841000000014901, 16.873899999998685, ...   \n",
              "          3         [0.0, 1.9841000000014901, 16.873899999998685, ...   \n",
              "          4         [0.0, 1.9884000000020023, 16.87829999999667, 1...   \n",
              "...                                                               ...   \n",
              "130779836 1         [0.0, 57.021600000000035, 58.87399999999616, 3...   \n",
              "          2         [0.0, 29.015299999999115, 31.978799999997136, ...   \n",
              "          3         [0.0, 18.812799999999697, 94.59199999999691, 9...   \n",
              "          4         [0.0, 6.122499999997672, 46.83110000000306, 53...   \n",
              "          5         [0.0, 56.86130000000412, 61.9635000000053, 83....   \n",
              "\n",
              "                              \n",
              "                         max  \n",
              "object_id passband            \n",
              "615       0         797.8763  \n",
              "          1         873.7530  \n",
              "          2         873.7531  \n",
              "          3         873.7530  \n",
              "          4         873.7572  \n",
              "...                      ...  \n",
              "130779836 1         806.8968  \n",
              "          2         727.0004  \n",
              "          3         826.7340  \n",
              "          4         863.6886  \n",
              "          5         855.6906  \n",
              "\n",
              "[47088 rows x 3 columns]"
            ],
            "text/html": [
              "\n",
              "  <div id=\"df-381c136b-4f71-4a3b-8a53-6dd734890b99\">\n",
              "    <div class=\"colab-df-container\">\n",
              "      <div>\n",
              "<style scoped>\n",
              "    .dataframe tbody tr th:only-of-type {\n",
              "        vertical-align: middle;\n",
              "    }\n",
              "\n",
              "    .dataframe tbody tr th {\n",
              "        vertical-align: top;\n",
              "    }\n",
              "\n",
              "    .dataframe thead tr th {\n",
              "        text-align: left;\n",
              "    }\n",
              "\n",
              "    .dataframe thead tr:last-of-type th {\n",
              "        text-align: right;\n",
              "    }\n",
              "</style>\n",
              "<table border=\"1\" class=\"dataframe\">\n",
              "  <thead>\n",
              "    <tr>\n",
              "      <th></th>\n",
              "      <th></th>\n",
              "      <th>flux_norm</th>\n",
              "      <th colspan=\"2\" halign=\"left\">mjd_0</th>\n",
              "    </tr>\n",
              "    <tr>\n",
              "      <th></th>\n",
              "      <th></th>\n",
              "      <th>list</th>\n",
              "      <th>list</th>\n",
              "      <th>max</th>\n",
              "    </tr>\n",
              "    <tr>\n",
              "      <th>object_id</th>\n",
              "      <th>passband</th>\n",
              "      <th></th>\n",
              "      <th></th>\n",
              "      <th></th>\n",
              "    </tr>\n",
              "  </thead>\n",
              "  <tbody>\n",
              "    <tr>\n",
              "      <th rowspan=\"5\" valign=\"top\">615</th>\n",
              "      <th>0</th>\n",
              "      <td>[0.12168401013019357, 0.5117859687025709, -0.0...</td>\n",
              "      <td>[0.0, 0.9515000000028522, 1.949399999997695, 2...</td>\n",
              "      <td>797.8763</td>\n",
              "    </tr>\n",
              "    <tr>\n",
              "      <th>1</th>\n",
              "      <td>[-0.722009849452599, -1.1327242018713475, -0.7...</td>\n",
              "      <td>[0.0, 1.9841000000014901, 16.873899999998685, ...</td>\n",
              "      <td>873.7530</td>\n",
              "    </tr>\n",
              "    <tr>\n",
              "      <th>2</th>\n",
              "      <td>[-0.9101976693636594, -1.213953005901712, -0.9...</td>\n",
              "      <td>[0.0, 1.9841000000014901, 16.873899999998685, ...</td>\n",
              "      <td>873.7531</td>\n",
              "    </tr>\n",
              "    <tr>\n",
              "      <th>3</th>\n",
              "      <td>[-1.0534136159611334, -1.2145134548584586, -1....</td>\n",
              "      <td>[0.0, 1.9841000000014901, 16.873899999998685, ...</td>\n",
              "      <td>873.7530</td>\n",
              "    </tr>\n",
              "    <tr>\n",
              "      <th>4</th>\n",
              "      <td>[-1.1512509928608998, -1.1667905640994658, -1....</td>\n",
              "      <td>[0.0, 1.9884000000020023, 16.87829999999667, 1...</td>\n",
              "      <td>873.7572</td>\n",
              "    </tr>\n",
              "    <tr>\n",
              "      <th>...</th>\n",
              "      <th>...</th>\n",
              "      <td>...</td>\n",
              "      <td>...</td>\n",
              "      <td>...</td>\n",
              "    </tr>\n",
              "    <tr>\n",
              "      <th rowspan=\"5\" valign=\"top\">130779836</th>\n",
              "      <th>1</th>\n",
              "      <td>[0.029554350344488892, 2.061022510442743, 2.26...</td>\n",
              "      <td>[0.0, 57.021600000000035, 58.87399999999616, 3...</td>\n",
              "      <td>806.8968</td>\n",
              "    </tr>\n",
              "    <tr>\n",
              "      <th>2</th>\n",
              "      <td>[-0.06665006236995767, 0.2917977983398143, 0.3...</td>\n",
              "      <td>[0.0, 29.015299999999115, 31.978799999997136, ...</td>\n",
              "      <td>727.0004</td>\n",
              "    </tr>\n",
              "    <tr>\n",
              "      <th>3</th>\n",
              "      <td>[-0.1311130853347585, 0.055563195049427194, 2....</td>\n",
              "      <td>[0.0, 18.812799999999697, 94.59199999999691, 9...</td>\n",
              "      <td>826.7340</td>\n",
              "    </tr>\n",
              "    <tr>\n",
              "      <th>4</th>\n",
              "      <td>[-0.24807573584838163, -0.24996709229370795, -...</td>\n",
              "      <td>[0.0, 6.122499999997672, 46.83110000000306, 53...</td>\n",
              "      <td>863.6886</td>\n",
              "    </tr>\n",
              "    <tr>\n",
              "      <th>5</th>\n",
              "      <td>[-0.40171719985261006, -0.22040931975168554, -...</td>\n",
              "      <td>[0.0, 56.86130000000412, 61.9635000000053, 83....</td>\n",
              "      <td>855.6906</td>\n",
              "    </tr>\n",
              "  </tbody>\n",
              "</table>\n",
              "<p>47088 rows × 3 columns</p>\n",
              "</div>\n",
              "      <button class=\"colab-df-convert\" onclick=\"convertToInteractive('df-381c136b-4f71-4a3b-8a53-6dd734890b99')\"\n",
              "              title=\"Convert this dataframe to an interactive table.\"\n",
              "              style=\"display:none;\">\n",
              "        \n",
              "  <svg xmlns=\"http://www.w3.org/2000/svg\" height=\"24px\"viewBox=\"0 0 24 24\"\n",
              "       width=\"24px\">\n",
              "    <path d=\"M0 0h24v24H0V0z\" fill=\"none\"/>\n",
              "    <path d=\"M18.56 5.44l.94 2.06.94-2.06 2.06-.94-2.06-.94-.94-2.06-.94 2.06-2.06.94zm-11 1L8.5 8.5l.94-2.06 2.06-.94-2.06-.94L8.5 2.5l-.94 2.06-2.06.94zm10 10l.94 2.06.94-2.06 2.06-.94-2.06-.94-.94-2.06-.94 2.06-2.06.94z\"/><path d=\"M17.41 7.96l-1.37-1.37c-.4-.4-.92-.59-1.43-.59-.52 0-1.04.2-1.43.59L10.3 9.45l-7.72 7.72c-.78.78-.78 2.05 0 2.83L4 21.41c.39.39.9.59 1.41.59.51 0 1.02-.2 1.41-.59l7.78-7.78 2.81-2.81c.8-.78.8-2.07 0-2.86zM5.41 20L4 18.59l7.72-7.72 1.47 1.35L5.41 20z\"/>\n",
              "  </svg>\n",
              "      </button>\n",
              "      \n",
              "  <style>\n",
              "    .colab-df-container {\n",
              "      display:flex;\n",
              "      flex-wrap:wrap;\n",
              "      gap: 12px;\n",
              "    }\n",
              "\n",
              "    .colab-df-convert {\n",
              "      background-color: #E8F0FE;\n",
              "      border: none;\n",
              "      border-radius: 50%;\n",
              "      cursor: pointer;\n",
              "      display: none;\n",
              "      fill: #1967D2;\n",
              "      height: 32px;\n",
              "      padding: 0 0 0 0;\n",
              "      width: 32px;\n",
              "    }\n",
              "\n",
              "    .colab-df-convert:hover {\n",
              "      background-color: #E2EBFA;\n",
              "      box-shadow: 0px 1px 2px rgba(60, 64, 67, 0.3), 0px 1px 3px 1px rgba(60, 64, 67, 0.15);\n",
              "      fill: #174EA6;\n",
              "    }\n",
              "\n",
              "    [theme=dark] .colab-df-convert {\n",
              "      background-color: #3B4455;\n",
              "      fill: #D2E3FC;\n",
              "    }\n",
              "\n",
              "    [theme=dark] .colab-df-convert:hover {\n",
              "      background-color: #434B5C;\n",
              "      box-shadow: 0px 1px 3px 1px rgba(0, 0, 0, 0.15);\n",
              "      filter: drop-shadow(0px 1px 2px rgba(0, 0, 0, 0.3));\n",
              "      fill: #FFFFFF;\n",
              "    }\n",
              "  </style>\n",
              "\n",
              "      <script>\n",
              "        const buttonEl =\n",
              "          document.querySelector('#df-381c136b-4f71-4a3b-8a53-6dd734890b99 button.colab-df-convert');\n",
              "        buttonEl.style.display =\n",
              "          google.colab.kernel.accessAllowed ? 'block' : 'none';\n",
              "\n",
              "        async function convertToInteractive(key) {\n",
              "          const element = document.querySelector('#df-381c136b-4f71-4a3b-8a53-6dd734890b99');\n",
              "          const dataTable =\n",
              "            await google.colab.kernel.invokeFunction('convertToInteractive',\n",
              "                                                     [key], {});\n",
              "          if (!dataTable) return;\n",
              "\n",
              "          const docLinkHtml = 'Like what you see? Visit the ' +\n",
              "            '<a target=\"_blank\" href=https://colab.research.google.com/notebooks/data_table.ipynb>data table notebook</a>'\n",
              "            + ' to learn more about interactive tables.';\n",
              "          element.innerHTML = '';\n",
              "          dataTable['output_type'] = 'display_data';\n",
              "          await google.colab.output.renderOutput(dataTable, element);\n",
              "          const docLink = document.createElement('div');\n",
              "          docLink.innerHTML = docLinkHtml;\n",
              "          element.appendChild(docLink);\n",
              "        }\n",
              "      </script>\n",
              "    </div>\n",
              "  </div>\n",
              "  "
            ]
          },
          "metadata": {},
          "execution_count": 39
        }
      ]
    },
    {
      "cell_type": "code",
      "source": [
        "lcvs_norm_mjd_0_listed_filt_interpolated_df = lcvs_norm_mjd_0_listed_filt_df.progress_apply(\n",
        "    apply_interpolate, \n",
        "    axis=1\n",
        ")"
      ],
      "metadata": {
        "colab": {
          "base_uri": "https://localhost:8080/"
        },
        "id": "kvuRh9LqQb5N",
        "outputId": "be3a268d-dacc-46e7-9034-562053006ea0"
      },
      "execution_count": null,
      "outputs": [
        {
          "output_type": "stream",
          "name": "stderr",
          "text": [
            "100%|██████████| 47088/47088 [02:59<00:00, 261.98it/s]\n"
          ]
        }
      ]
    },
    {
      "cell_type": "code",
      "source": [
        "lcvs_norm_mjd_0_listed_filt_interpolated_df"
      ],
      "metadata": {
        "colab": {
          "base_uri": "https://localhost:8080/",
          "height": 1000
        },
        "id": "Lzmej_6MRexo",
        "outputId": "d95e2ed1-a7bc-4279-e492-c25c414c7788"
      },
      "execution_count": null,
      "outputs": [
        {
          "output_type": "execute_result",
          "data": {
            "text/plain": [
              "                                                            flux_norm  \\\n",
              "                                                                 list   \n",
              "object_id passband                                                      \n",
              "615       0         [0.12168401013019357, 0.5117859687025709, -0.0...   \n",
              "          1         [-0.722009849452599, -1.1327242018713475, -0.7...   \n",
              "          2         [-0.9101976693636594, -1.213953005901712, -0.9...   \n",
              "          3         [-1.0534136159611334, -1.2145134548584586, -1....   \n",
              "          4         [-1.1512509928608998, -1.1667905640994658, -1....   \n",
              "...                                                               ...   \n",
              "130779836 1         [0.029554350344488892, 2.061022510442743, 2.26...   \n",
              "          2         [-0.06665006236995767, 0.2917977983398143, 0.3...   \n",
              "          3         [-0.1311130853347585, 0.055563195049427194, 2....   \n",
              "          4         [-0.24807573584838163, -0.24996709229370795, -...   \n",
              "          5         [-0.40171719985261006, -0.22040931975168554, -...   \n",
              "\n",
              "                                                                mjd_0  \\\n",
              "                                                                 list   \n",
              "object_id passband                                                      \n",
              "615       0         [0.0, 0.9515000000028522, 1.949399999997695, 2...   \n",
              "          1         [0.0, 1.9841000000014901, 16.873899999998685, ...   \n",
              "          2         [0.0, 1.9841000000014901, 16.873899999998685, ...   \n",
              "          3         [0.0, 1.9841000000014901, 16.873899999998685, ...   \n",
              "          4         [0.0, 1.9884000000020023, 16.87829999999667, 1...   \n",
              "...                                                               ...   \n",
              "130779836 1         [0.0, 57.021600000000035, 58.87399999999616, 3...   \n",
              "          2         [0.0, 29.015299999999115, 31.978799999997136, ...   \n",
              "          3         [0.0, 18.812799999999697, 94.59199999999691, 9...   \n",
              "          4         [0.0, 6.122499999997672, 46.83110000000306, 53...   \n",
              "          5         [0.0, 56.86130000000412, 61.9635000000053, 83....   \n",
              "\n",
              "                              \\\n",
              "                         max   \n",
              "object_id passband             \n",
              "615       0         797.8763   \n",
              "          1         873.7530   \n",
              "          2         873.7531   \n",
              "          3         873.7530   \n",
              "          4         873.7572   \n",
              "...                      ...   \n",
              "130779836 1         806.8968   \n",
              "          2         727.0004   \n",
              "          3         826.7340   \n",
              "          4         863.6886   \n",
              "          5         855.6906   \n",
              "\n",
              "                                                                x_int  \\\n",
              "                                                                        \n",
              "object_id passband                                                      \n",
              "615       0         [0.0, 2.188004799999995, 4.37600959999999, 6.5...   \n",
              "          1         [0.0, 2.188004799999995, 4.37600959999999, 6.5...   \n",
              "          2         [0.0, 2.188004799999995, 4.37600959999999, 6.5...   \n",
              "          3         [0.0, 2.188004799999995, 4.37600959999999, 6.5...   \n",
              "          4         [0.0, 2.188004799999995, 4.37600959999999, 6.5...   \n",
              "...                                                               ...   \n",
              "130779836 1         [0.0, 2.188004799999995, 4.37600959999999, 6.5...   \n",
              "          2         [0.0, 2.188004799999995, 4.37600959999999, 6.5...   \n",
              "          3         [0.0, 2.188004799999995, 4.37600959999999, 6.5...   \n",
              "          4         [0.0, 2.188004799999995, 4.37600959999999, 6.5...   \n",
              "          5         [0.0, 2.188004799999995, 4.37600959999999, 6.5...   \n",
              "\n",
              "                                                                y_int  \n",
              "                                                                       \n",
              "object_id passband                                                     \n",
              "615       0         [0.12168401013019357, -0.25449026243119477, -1...  \n",
              "          1         [-0.7220098494525989, -1.1635652397779463, -1....  \n",
              "          2         [-0.9101976693636596, -1.2368096609818569, -1....  \n",
              "          3         [-1.0534136159611336, -1.226785270794583, -1.3...  \n",
              "          4         [-1.1512509928609, -1.1684472292614467, -1.186...  \n",
              "...                                                               ...  \n",
              "130779836 1         [0.02955435034448889, -0.28646992396900667, -0...  \n",
              "          2         [-0.06665006236995769, -0.05116496164364312, -...  \n",
              "          3         [-0.13111308533475846, -0.14279844829883362, -...  \n",
              "          4         [-0.24807573584838155, -0.24986396153582172, -...  \n",
              "          5         [-0.4017171998526102, -0.4026940687304814, -0....  \n",
              "\n",
              "[47088 rows x 5 columns]"
            ],
            "text/html": [
              "\n",
              "  <div id=\"df-017eb287-606a-487b-a8d0-2a7554ad3884\">\n",
              "    <div class=\"colab-df-container\">\n",
              "      <div>\n",
              "<style scoped>\n",
              "    .dataframe tbody tr th:only-of-type {\n",
              "        vertical-align: middle;\n",
              "    }\n",
              "\n",
              "    .dataframe tbody tr th {\n",
              "        vertical-align: top;\n",
              "    }\n",
              "\n",
              "    .dataframe thead tr th {\n",
              "        text-align: left;\n",
              "    }\n",
              "\n",
              "    .dataframe thead tr:last-of-type th {\n",
              "        text-align: right;\n",
              "    }\n",
              "</style>\n",
              "<table border=\"1\" class=\"dataframe\">\n",
              "  <thead>\n",
              "    <tr>\n",
              "      <th></th>\n",
              "      <th></th>\n",
              "      <th>flux_norm</th>\n",
              "      <th colspan=\"2\" halign=\"left\">mjd_0</th>\n",
              "      <th>x_int</th>\n",
              "      <th>y_int</th>\n",
              "    </tr>\n",
              "    <tr>\n",
              "      <th></th>\n",
              "      <th></th>\n",
              "      <th>list</th>\n",
              "      <th>list</th>\n",
              "      <th>max</th>\n",
              "      <th></th>\n",
              "      <th></th>\n",
              "    </tr>\n",
              "    <tr>\n",
              "      <th>object_id</th>\n",
              "      <th>passband</th>\n",
              "      <th></th>\n",
              "      <th></th>\n",
              "      <th></th>\n",
              "      <th></th>\n",
              "      <th></th>\n",
              "    </tr>\n",
              "  </thead>\n",
              "  <tbody>\n",
              "    <tr>\n",
              "      <th rowspan=\"5\" valign=\"top\">615</th>\n",
              "      <th>0</th>\n",
              "      <td>[0.12168401013019357, 0.5117859687025709, -0.0...</td>\n",
              "      <td>[0.0, 0.9515000000028522, 1.949399999997695, 2...</td>\n",
              "      <td>797.8763</td>\n",
              "      <td>[0.0, 2.188004799999995, 4.37600959999999, 6.5...</td>\n",
              "      <td>[0.12168401013019357, -0.25449026243119477, -1...</td>\n",
              "    </tr>\n",
              "    <tr>\n",
              "      <th>1</th>\n",
              "      <td>[-0.722009849452599, -1.1327242018713475, -0.7...</td>\n",
              "      <td>[0.0, 1.9841000000014901, 16.873899999998685, ...</td>\n",
              "      <td>873.7530</td>\n",
              "      <td>[0.0, 2.188004799999995, 4.37600959999999, 6.5...</td>\n",
              "      <td>[-0.7220098494525989, -1.1635652397779463, -1....</td>\n",
              "    </tr>\n",
              "    <tr>\n",
              "      <th>2</th>\n",
              "      <td>[-0.9101976693636594, -1.213953005901712, -0.9...</td>\n",
              "      <td>[0.0, 1.9841000000014901, 16.873899999998685, ...</td>\n",
              "      <td>873.7531</td>\n",
              "      <td>[0.0, 2.188004799999995, 4.37600959999999, 6.5...</td>\n",
              "      <td>[-0.9101976693636596, -1.2368096609818569, -1....</td>\n",
              "    </tr>\n",
              "    <tr>\n",
              "      <th>3</th>\n",
              "      <td>[-1.0534136159611334, -1.2145134548584586, -1....</td>\n",
              "      <td>[0.0, 1.9841000000014901, 16.873899999998685, ...</td>\n",
              "      <td>873.7530</td>\n",
              "      <td>[0.0, 2.188004799999995, 4.37600959999999, 6.5...</td>\n",
              "      <td>[-1.0534136159611336, -1.226785270794583, -1.3...</td>\n",
              "    </tr>\n",
              "    <tr>\n",
              "      <th>4</th>\n",
              "      <td>[-1.1512509928608998, -1.1667905640994658, -1....</td>\n",
              "      <td>[0.0, 1.9884000000020023, 16.87829999999667, 1...</td>\n",
              "      <td>873.7572</td>\n",
              "      <td>[0.0, 2.188004799999995, 4.37600959999999, 6.5...</td>\n",
              "      <td>[-1.1512509928609, -1.1684472292614467, -1.186...</td>\n",
              "    </tr>\n",
              "    <tr>\n",
              "      <th>...</th>\n",
              "      <th>...</th>\n",
              "      <td>...</td>\n",
              "      <td>...</td>\n",
              "      <td>...</td>\n",
              "      <td>...</td>\n",
              "      <td>...</td>\n",
              "    </tr>\n",
              "    <tr>\n",
              "      <th rowspan=\"5\" valign=\"top\">130779836</th>\n",
              "      <th>1</th>\n",
              "      <td>[0.029554350344488892, 2.061022510442743, 2.26...</td>\n",
              "      <td>[0.0, 57.021600000000035, 58.87399999999616, 3...</td>\n",
              "      <td>806.8968</td>\n",
              "      <td>[0.0, 2.188004799999995, 4.37600959999999, 6.5...</td>\n",
              "      <td>[0.02955435034448889, -0.28646992396900667, -0...</td>\n",
              "    </tr>\n",
              "    <tr>\n",
              "      <th>2</th>\n",
              "      <td>[-0.06665006236995767, 0.2917977983398143, 0.3...</td>\n",
              "      <td>[0.0, 29.015299999999115, 31.978799999997136, ...</td>\n",
              "      <td>727.0004</td>\n",
              "      <td>[0.0, 2.188004799999995, 4.37600959999999, 6.5...</td>\n",
              "      <td>[-0.06665006236995769, -0.05116496164364312, -...</td>\n",
              "    </tr>\n",
              "    <tr>\n",
              "      <th>3</th>\n",
              "      <td>[-0.1311130853347585, 0.055563195049427194, 2....</td>\n",
              "      <td>[0.0, 18.812799999999697, 94.59199999999691, 9...</td>\n",
              "      <td>826.7340</td>\n",
              "      <td>[0.0, 2.188004799999995, 4.37600959999999, 6.5...</td>\n",
              "      <td>[-0.13111308533475846, -0.14279844829883362, -...</td>\n",
              "    </tr>\n",
              "    <tr>\n",
              "      <th>4</th>\n",
              "      <td>[-0.24807573584838163, -0.24996709229370795, -...</td>\n",
              "      <td>[0.0, 6.122499999997672, 46.83110000000306, 53...</td>\n",
              "      <td>863.6886</td>\n",
              "      <td>[0.0, 2.188004799999995, 4.37600959999999, 6.5...</td>\n",
              "      <td>[-0.24807573584838155, -0.24986396153582172, -...</td>\n",
              "    </tr>\n",
              "    <tr>\n",
              "      <th>5</th>\n",
              "      <td>[-0.40171719985261006, -0.22040931975168554, -...</td>\n",
              "      <td>[0.0, 56.86130000000412, 61.9635000000053, 83....</td>\n",
              "      <td>855.6906</td>\n",
              "      <td>[0.0, 2.188004799999995, 4.37600959999999, 6.5...</td>\n",
              "      <td>[-0.4017171998526102, -0.4026940687304814, -0....</td>\n",
              "    </tr>\n",
              "  </tbody>\n",
              "</table>\n",
              "<p>47088 rows × 5 columns</p>\n",
              "</div>\n",
              "      <button class=\"colab-df-convert\" onclick=\"convertToInteractive('df-017eb287-606a-487b-a8d0-2a7554ad3884')\"\n",
              "              title=\"Convert this dataframe to an interactive table.\"\n",
              "              style=\"display:none;\">\n",
              "        \n",
              "  <svg xmlns=\"http://www.w3.org/2000/svg\" height=\"24px\"viewBox=\"0 0 24 24\"\n",
              "       width=\"24px\">\n",
              "    <path d=\"M0 0h24v24H0V0z\" fill=\"none\"/>\n",
              "    <path d=\"M18.56 5.44l.94 2.06.94-2.06 2.06-.94-2.06-.94-.94-2.06-.94 2.06-2.06.94zm-11 1L8.5 8.5l.94-2.06 2.06-.94-2.06-.94L8.5 2.5l-.94 2.06-2.06.94zm10 10l.94 2.06.94-2.06 2.06-.94-2.06-.94-.94-2.06-.94 2.06-2.06.94z\"/><path d=\"M17.41 7.96l-1.37-1.37c-.4-.4-.92-.59-1.43-.59-.52 0-1.04.2-1.43.59L10.3 9.45l-7.72 7.72c-.78.78-.78 2.05 0 2.83L4 21.41c.39.39.9.59 1.41.59.51 0 1.02-.2 1.41-.59l7.78-7.78 2.81-2.81c.8-.78.8-2.07 0-2.86zM5.41 20L4 18.59l7.72-7.72 1.47 1.35L5.41 20z\"/>\n",
              "  </svg>\n",
              "      </button>\n",
              "      \n",
              "  <style>\n",
              "    .colab-df-container {\n",
              "      display:flex;\n",
              "      flex-wrap:wrap;\n",
              "      gap: 12px;\n",
              "    }\n",
              "\n",
              "    .colab-df-convert {\n",
              "      background-color: #E8F0FE;\n",
              "      border: none;\n",
              "      border-radius: 50%;\n",
              "      cursor: pointer;\n",
              "      display: none;\n",
              "      fill: #1967D2;\n",
              "      height: 32px;\n",
              "      padding: 0 0 0 0;\n",
              "      width: 32px;\n",
              "    }\n",
              "\n",
              "    .colab-df-convert:hover {\n",
              "      background-color: #E2EBFA;\n",
              "      box-shadow: 0px 1px 2px rgba(60, 64, 67, 0.3), 0px 1px 3px 1px rgba(60, 64, 67, 0.15);\n",
              "      fill: #174EA6;\n",
              "    }\n",
              "\n",
              "    [theme=dark] .colab-df-convert {\n",
              "      background-color: #3B4455;\n",
              "      fill: #D2E3FC;\n",
              "    }\n",
              "\n",
              "    [theme=dark] .colab-df-convert:hover {\n",
              "      background-color: #434B5C;\n",
              "      box-shadow: 0px 1px 3px 1px rgba(0, 0, 0, 0.15);\n",
              "      filter: drop-shadow(0px 1px 2px rgba(0, 0, 0, 0.3));\n",
              "      fill: #FFFFFF;\n",
              "    }\n",
              "  </style>\n",
              "\n",
              "      <script>\n",
              "        const buttonEl =\n",
              "          document.querySelector('#df-017eb287-606a-487b-a8d0-2a7554ad3884 button.colab-df-convert');\n",
              "        buttonEl.style.display =\n",
              "          google.colab.kernel.accessAllowed ? 'block' : 'none';\n",
              "\n",
              "        async function convertToInteractive(key) {\n",
              "          const element = document.querySelector('#df-017eb287-606a-487b-a8d0-2a7554ad3884');\n",
              "          const dataTable =\n",
              "            await google.colab.kernel.invokeFunction('convertToInteractive',\n",
              "                                                     [key], {});\n",
              "          if (!dataTable) return;\n",
              "\n",
              "          const docLinkHtml = 'Like what you see? Visit the ' +\n",
              "            '<a target=\"_blank\" href=https://colab.research.google.com/notebooks/data_table.ipynb>data table notebook</a>'\n",
              "            + ' to learn more about interactive tables.';\n",
              "          element.innerHTML = '';\n",
              "          dataTable['output_type'] = 'display_data';\n",
              "          await google.colab.output.renderOutput(dataTable, element);\n",
              "          const docLink = document.createElement('div');\n",
              "          docLink.innerHTML = docLinkHtml;\n",
              "          element.appendChild(docLink);\n",
              "        }\n",
              "      </script>\n",
              "    </div>\n",
              "  </div>\n",
              "  "
            ]
          },
          "metadata": {},
          "execution_count": 48
        }
      ]
    },
    {
      "cell_type": "code",
      "source": [
        "lcvs_norm_mjd_0_listed_filt_interpolated_df = (\n",
        "  lcvs_norm_mjd_0_listed_filt_interpolated_df\n",
        "  .dropna()\n",
        ")"
      ],
      "metadata": {
        "id": "leKcyAyXO40n"
      },
      "execution_count": null,
      "outputs": []
    },
    {
      "cell_type": "code",
      "source": [
        "lcvs_norm_mjd_0_listed_filt_interpolated_df.dropna().index.get_level_values(1).value_counts()"
      ],
      "metadata": {
        "colab": {
          "base_uri": "https://localhost:8080/"
        },
        "id": "itNu6fvvLGf5",
        "outputId": "932b9a43-d4be-4c03-d9a7-25bb2b81ddc1"
      },
      "execution_count": null,
      "outputs": [
        {
          "output_type": "execute_result",
          "data": {
            "text/plain": [
              "2    7848\n",
              "3    7848\n",
              "4    7848\n",
              "5    7848\n",
              "1    7845\n",
              "0    7841\n",
              "Name: passband, dtype: int64"
            ]
          },
          "metadata": {},
          "execution_count": 54
        }
      ]
    },
    {
      "cell_type": "code",
      "source": [
        "band_counts_dict = (\n",
        "  lcvs_norm_mjd_0_listed_filt_interpolated_df\n",
        "    .index\n",
        "    .get_level_values(0)\n",
        "    .value_counts()\n",
        "    .to_dict()\n",
        ")"
      ],
      "metadata": {
        "id": "FgAPg2MAUVnB"
      },
      "execution_count": null,
      "outputs": []
    },
    {
      "cell_type": "code",
      "source": [
        "lcvs_norm_mjd_0_listed_filt_interpolated_df.index.get_level_values(1).values"
      ],
      "metadata": {
        "colab": {
          "base_uri": "https://localhost:8080/"
        },
        "id": "mp-rNVIobmWx",
        "outputId": "6bccb5a4-ccd5-4417-9ad9-963c578c0375"
      },
      "execution_count": null,
      "outputs": [
        {
          "output_type": "execute_result",
          "data": {
            "text/plain": [
              "array([0, 1, 2, ..., 3, 4, 5])"
            ]
          },
          "metadata": {},
          "execution_count": 52
        }
      ]
    },
    {
      "cell_type": "code",
      "source": [
        "lcvs_norm_mjd_0_listed_filt_interpolated_df = (\n",
        "  lcvs_norm_mjd_0_listed_filt_interpolated_df.loc[\n",
        "    (lcvs_norm_mjd_0_listed_filt_interpolated_df\n",
        "      .index\n",
        "      .get_level_values(0).drop_duplicates()[\n",
        "        (lcvs_norm_mjd_0_listed_filt_interpolated_df\n",
        "          .index\n",
        "          .get_level_values(0)\n",
        "          .value_counts()) == 6\n",
        "      ])\n",
        "  ,:]\n",
        ")"
      ],
      "metadata": {
        "id": "0WwsW32CVePa"
      },
      "execution_count": null,
      "outputs": []
    },
    {
      "cell_type": "markdown",
      "source": [
        "#### Saving results"
      ],
      "metadata": {
        "id": "USr5LSTgUMWW"
      }
    },
    {
      "cell_type": "code",
      "source": [
        "lcvs_norm_mjd_0_listed_filt_interpolated_df.to_pickle(\n",
        "    '/content/drive/MyDrive/Classes/22S-PHYS-667/HW8/lcvs_norm_mjd_0_listed_filt_interpolated_df.pkl'\n",
        ")\n",
        "lcvs_norm_mjd_0.to_pickle(\n",
        "    '/content/drive/MyDrive/Classes/22S-PHYS-667/HW8/lcvs_norm_mjd_0_df.pkl'\n",
        ")"
      ],
      "metadata": {
        "id": "B7ER8qkAUO_x"
      },
      "execution_count": null,
      "outputs": []
    },
    {
      "cell_type": "markdown",
      "source": [
        "## Flattening TS\n",
        "\n",
        "To flatten each 6-band TS, we're going to use `.flatten` method from `numpy`, which puts measurements like: `B1|B2|...`. I also tried to calculate mean value across all bands to perform some kind of reduction, but the autoencoder performed too badly, so I had to redo it with flattening."
      ],
      "metadata": {
        "id": "q0YgI4zSloEs"
      }
    },
    {
      "cell_type": "code",
      "source": [
        "lcvs_norm_mjd_0_listed_filt_interpolated_df = (\n",
        "    pd.read_pickle('/content/drive/MyDrive/Classes/22S-PHYS-667/HW8/lcvs_norm_mjd_0_listed_filt_interpolated_df.pkl')\n",
        ")"
      ],
      "metadata": {
        "id": "l8_XDl07j2w6"
      },
      "execution_count": 50,
      "outputs": []
    },
    {
      "cell_type": "code",
      "source": [
        "lcvs_norm_mjd_0_listed_filt_interpolated_df"
      ],
      "metadata": {
        "colab": {
          "base_uri": "https://localhost:8080/",
          "height": 1000
        },
        "id": "bNexRzoflohR",
        "outputId": "4733a95e-2998-4d93-c48b-595771a7fc12"
      },
      "execution_count": 51,
      "outputs": [
        {
          "output_type": "execute_result",
          "data": {
            "text/plain": [
              "                                                            flux_norm  \\\n",
              "                                                                 list   \n",
              "object_id passband                                                      \n",
              "615       0         [0.12168401013019357, 0.5117859687025709, -0.0...   \n",
              "          1         [-0.722009849452599, -1.1327242018713475, -0.7...   \n",
              "          2         [-0.9101976693636594, -1.213953005901712, -0.9...   \n",
              "          3         [-1.0534136159611334, -1.2145134548584586, -1....   \n",
              "          4         [-1.1512509928608998, -1.1667905640994658, -1....   \n",
              "...                                                               ...   \n",
              "130678775 1         [0.1777228855650024, -0.06676481102812624, -0....   \n",
              "          2         [-0.37517352615846744, -0.6366282673001353, 1....   \n",
              "          3         [-0.09045866783426494, -0.6547917719878834, 0....   \n",
              "          4         [-1.4643440932901008, 0.034872827111954136, 0....   \n",
              "          5         [0.213944562918174, -0.36945624007871475, -0.4...   \n",
              "\n",
              "                                                                mjd_0  \\\n",
              "                                                                 list   \n",
              "object_id passband                                                      \n",
              "615       0         [0.0, 0.9515000000028522, 1.949399999997695, 2...   \n",
              "          1         [0.0, 1.9841000000014901, 16.873899999998685, ...   \n",
              "          2         [0.0, 1.9841000000014901, 16.873899999998685, ...   \n",
              "          3         [0.0, 1.9841000000014901, 16.873899999998685, ...   \n",
              "          4         [0.0, 1.9884000000020023, 16.87829999999667, 1...   \n",
              "...                                                               ...   \n",
              "130678775 1         [0.0, 1.0311000000001513, 146.81519999999728, ...   \n",
              "          2         [0.0, 0.9896999999982654, 22.896799999994982, ...   \n",
              "          3         [0.0, 41.935599999997066, 305.98909999999887, ...   \n",
              "          4         [0.0, 29.903800000000047, 30.70520000000397, 5...   \n",
              "          5         [0.0, 6.009799999999814, 9.005199999999604, 66...   \n",
              "\n",
              "                               \\\n",
              "                          max   \n",
              "object_id passband              \n",
              "615       0          797.8763   \n",
              "          1          873.7530   \n",
              "          2          873.7531   \n",
              "          3          873.7530   \n",
              "          4          873.7572   \n",
              "...                       ...   \n",
              "130678775 1          743.0054   \n",
              "          2          765.9435   \n",
              "          3         1075.9097   \n",
              "          4         1061.9119   \n",
              "          5         1071.0836   \n",
              "\n",
              "                                                                x_int  \\\n",
              "                                                                        \n",
              "object_id passband                                                      \n",
              "615       0         [0.0, 2.188004799999995, 4.37600959999999, 6.5...   \n",
              "          1         [0.0, 2.188004799999995, 4.37600959999999, 6.5...   \n",
              "          2         [0.0, 2.188004799999995, 4.37600959999999, 6.5...   \n",
              "          3         [0.0, 2.188004799999995, 4.37600959999999, 6.5...   \n",
              "          4         [0.0, 2.188004799999995, 4.37600959999999, 6.5...   \n",
              "...                                                               ...   \n",
              "130678775 1         [0.0, 2.188004799999995, 4.37600959999999, 6.5...   \n",
              "          2         [0.0, 2.188004799999995, 4.37600959999999, 6.5...   \n",
              "          3         [0.0, 2.188004799999995, 4.37600959999999, 6.5...   \n",
              "          4         [0.0, 2.188004799999995, 4.37600959999999, 6.5...   \n",
              "          5         [0.0, 2.188004799999995, 4.37600959999999, 6.5...   \n",
              "\n",
              "                                                                y_int  \n",
              "                                                                       \n",
              "object_id passband                                                     \n",
              "615       0         [0.12168401013019357, -0.25449026243119477, -1...  \n",
              "          1         [-0.7220098494525989, -1.1635652397779463, -1....  \n",
              "          2         [-0.9101976693636596, -1.2368096609818569, -1....  \n",
              "          3         [-1.0534136159611336, -1.226785270794583, -1.3...  \n",
              "          4         [-1.1512509928609, -1.1684472292614467, -1.186...  \n",
              "...                                                               ...  \n",
              "130678775 1         [0.17772288556500251, -0.33453727532440114, -0...  \n",
              "          2         [-0.3751735261584675, -0.7983630494000585, -0....  \n",
              "          3         [-0.09045866783426502, -0.1763228452139217, -0...  \n",
              "          4         [-1.4643440932901008, -1.8750561594873638, -2....  \n",
              "          5         [0.21394456291817407, -0.11512212593479138, -0...  \n",
              "\n",
              "[47018 rows x 5 columns]"
            ],
            "text/html": [
              "\n",
              "  <div id=\"df-b55f4ef8-550d-4b4d-8548-d11b804b4ebd\">\n",
              "    <div class=\"colab-df-container\">\n",
              "      <div>\n",
              "<style scoped>\n",
              "    .dataframe tbody tr th:only-of-type {\n",
              "        vertical-align: middle;\n",
              "    }\n",
              "\n",
              "    .dataframe tbody tr th {\n",
              "        vertical-align: top;\n",
              "    }\n",
              "\n",
              "    .dataframe thead tr th {\n",
              "        text-align: left;\n",
              "    }\n",
              "\n",
              "    .dataframe thead tr:last-of-type th {\n",
              "        text-align: right;\n",
              "    }\n",
              "</style>\n",
              "<table border=\"1\" class=\"dataframe\">\n",
              "  <thead>\n",
              "    <tr>\n",
              "      <th></th>\n",
              "      <th></th>\n",
              "      <th>flux_norm</th>\n",
              "      <th colspan=\"2\" halign=\"left\">mjd_0</th>\n",
              "      <th>x_int</th>\n",
              "      <th>y_int</th>\n",
              "    </tr>\n",
              "    <tr>\n",
              "      <th></th>\n",
              "      <th></th>\n",
              "      <th>list</th>\n",
              "      <th>list</th>\n",
              "      <th>max</th>\n",
              "      <th></th>\n",
              "      <th></th>\n",
              "    </tr>\n",
              "    <tr>\n",
              "      <th>object_id</th>\n",
              "      <th>passband</th>\n",
              "      <th></th>\n",
              "      <th></th>\n",
              "      <th></th>\n",
              "      <th></th>\n",
              "      <th></th>\n",
              "    </tr>\n",
              "  </thead>\n",
              "  <tbody>\n",
              "    <tr>\n",
              "      <th rowspan=\"5\" valign=\"top\">615</th>\n",
              "      <th>0</th>\n",
              "      <td>[0.12168401013019357, 0.5117859687025709, -0.0...</td>\n",
              "      <td>[0.0, 0.9515000000028522, 1.949399999997695, 2...</td>\n",
              "      <td>797.8763</td>\n",
              "      <td>[0.0, 2.188004799999995, 4.37600959999999, 6.5...</td>\n",
              "      <td>[0.12168401013019357, -0.25449026243119477, -1...</td>\n",
              "    </tr>\n",
              "    <tr>\n",
              "      <th>1</th>\n",
              "      <td>[-0.722009849452599, -1.1327242018713475, -0.7...</td>\n",
              "      <td>[0.0, 1.9841000000014901, 16.873899999998685, ...</td>\n",
              "      <td>873.7530</td>\n",
              "      <td>[0.0, 2.188004799999995, 4.37600959999999, 6.5...</td>\n",
              "      <td>[-0.7220098494525989, -1.1635652397779463, -1....</td>\n",
              "    </tr>\n",
              "    <tr>\n",
              "      <th>2</th>\n",
              "      <td>[-0.9101976693636594, -1.213953005901712, -0.9...</td>\n",
              "      <td>[0.0, 1.9841000000014901, 16.873899999998685, ...</td>\n",
              "      <td>873.7531</td>\n",
              "      <td>[0.0, 2.188004799999995, 4.37600959999999, 6.5...</td>\n",
              "      <td>[-0.9101976693636596, -1.2368096609818569, -1....</td>\n",
              "    </tr>\n",
              "    <tr>\n",
              "      <th>3</th>\n",
              "      <td>[-1.0534136159611334, -1.2145134548584586, -1....</td>\n",
              "      <td>[0.0, 1.9841000000014901, 16.873899999998685, ...</td>\n",
              "      <td>873.7530</td>\n",
              "      <td>[0.0, 2.188004799999995, 4.37600959999999, 6.5...</td>\n",
              "      <td>[-1.0534136159611336, -1.226785270794583, -1.3...</td>\n",
              "    </tr>\n",
              "    <tr>\n",
              "      <th>4</th>\n",
              "      <td>[-1.1512509928608998, -1.1667905640994658, -1....</td>\n",
              "      <td>[0.0, 1.9884000000020023, 16.87829999999667, 1...</td>\n",
              "      <td>873.7572</td>\n",
              "      <td>[0.0, 2.188004799999995, 4.37600959999999, 6.5...</td>\n",
              "      <td>[-1.1512509928609, -1.1684472292614467, -1.186...</td>\n",
              "    </tr>\n",
              "    <tr>\n",
              "      <th>...</th>\n",
              "      <th>...</th>\n",
              "      <td>...</td>\n",
              "      <td>...</td>\n",
              "      <td>...</td>\n",
              "      <td>...</td>\n",
              "      <td>...</td>\n",
              "    </tr>\n",
              "    <tr>\n",
              "      <th rowspan=\"5\" valign=\"top\">130678775</th>\n",
              "      <th>1</th>\n",
              "      <td>[0.1777228855650024, -0.06676481102812624, -0....</td>\n",
              "      <td>[0.0, 1.0311000000001513, 146.81519999999728, ...</td>\n",
              "      <td>743.0054</td>\n",
              "      <td>[0.0, 2.188004799999995, 4.37600959999999, 6.5...</td>\n",
              "      <td>[0.17772288556500251, -0.33453727532440114, -0...</td>\n",
              "    </tr>\n",
              "    <tr>\n",
              "      <th>2</th>\n",
              "      <td>[-0.37517352615846744, -0.6366282673001353, 1....</td>\n",
              "      <td>[0.0, 0.9896999999982654, 22.896799999994982, ...</td>\n",
              "      <td>765.9435</td>\n",
              "      <td>[0.0, 2.188004799999995, 4.37600959999999, 6.5...</td>\n",
              "      <td>[-0.3751735261584675, -0.7983630494000585, -0....</td>\n",
              "    </tr>\n",
              "    <tr>\n",
              "      <th>3</th>\n",
              "      <td>[-0.09045866783426494, -0.6547917719878834, 0....</td>\n",
              "      <td>[0.0, 41.935599999997066, 305.98909999999887, ...</td>\n",
              "      <td>1075.9097</td>\n",
              "      <td>[0.0, 2.188004799999995, 4.37600959999999, 6.5...</td>\n",
              "      <td>[-0.09045866783426502, -0.1763228452139217, -0...</td>\n",
              "    </tr>\n",
              "    <tr>\n",
              "      <th>4</th>\n",
              "      <td>[-1.4643440932901008, 0.034872827111954136, 0....</td>\n",
              "      <td>[0.0, 29.903800000000047, 30.70520000000397, 5...</td>\n",
              "      <td>1061.9119</td>\n",
              "      <td>[0.0, 2.188004799999995, 4.37600959999999, 6.5...</td>\n",
              "      <td>[-1.4643440932901008, -1.8750561594873638, -2....</td>\n",
              "    </tr>\n",
              "    <tr>\n",
              "      <th>5</th>\n",
              "      <td>[0.213944562918174, -0.36945624007871475, -0.4...</td>\n",
              "      <td>[0.0, 6.009799999999814, 9.005199999999604, 66...</td>\n",
              "      <td>1071.0836</td>\n",
              "      <td>[0.0, 2.188004799999995, 4.37600959999999, 6.5...</td>\n",
              "      <td>[0.21394456291817407, -0.11512212593479138, -0...</td>\n",
              "    </tr>\n",
              "  </tbody>\n",
              "</table>\n",
              "<p>47018 rows × 5 columns</p>\n",
              "</div>\n",
              "      <button class=\"colab-df-convert\" onclick=\"convertToInteractive('df-b55f4ef8-550d-4b4d-8548-d11b804b4ebd')\"\n",
              "              title=\"Convert this dataframe to an interactive table.\"\n",
              "              style=\"display:none;\">\n",
              "        \n",
              "  <svg xmlns=\"http://www.w3.org/2000/svg\" height=\"24px\"viewBox=\"0 0 24 24\"\n",
              "       width=\"24px\">\n",
              "    <path d=\"M0 0h24v24H0V0z\" fill=\"none\"/>\n",
              "    <path d=\"M18.56 5.44l.94 2.06.94-2.06 2.06-.94-2.06-.94-.94-2.06-.94 2.06-2.06.94zm-11 1L8.5 8.5l.94-2.06 2.06-.94-2.06-.94L8.5 2.5l-.94 2.06-2.06.94zm10 10l.94 2.06.94-2.06 2.06-.94-2.06-.94-.94-2.06-.94 2.06-2.06.94z\"/><path d=\"M17.41 7.96l-1.37-1.37c-.4-.4-.92-.59-1.43-.59-.52 0-1.04.2-1.43.59L10.3 9.45l-7.72 7.72c-.78.78-.78 2.05 0 2.83L4 21.41c.39.39.9.59 1.41.59.51 0 1.02-.2 1.41-.59l7.78-7.78 2.81-2.81c.8-.78.8-2.07 0-2.86zM5.41 20L4 18.59l7.72-7.72 1.47 1.35L5.41 20z\"/>\n",
              "  </svg>\n",
              "      </button>\n",
              "      \n",
              "  <style>\n",
              "    .colab-df-container {\n",
              "      display:flex;\n",
              "      flex-wrap:wrap;\n",
              "      gap: 12px;\n",
              "    }\n",
              "\n",
              "    .colab-df-convert {\n",
              "      background-color: #E8F0FE;\n",
              "      border: none;\n",
              "      border-radius: 50%;\n",
              "      cursor: pointer;\n",
              "      display: none;\n",
              "      fill: #1967D2;\n",
              "      height: 32px;\n",
              "      padding: 0 0 0 0;\n",
              "      width: 32px;\n",
              "    }\n",
              "\n",
              "    .colab-df-convert:hover {\n",
              "      background-color: #E2EBFA;\n",
              "      box-shadow: 0px 1px 2px rgba(60, 64, 67, 0.3), 0px 1px 3px 1px rgba(60, 64, 67, 0.15);\n",
              "      fill: #174EA6;\n",
              "    }\n",
              "\n",
              "    [theme=dark] .colab-df-convert {\n",
              "      background-color: #3B4455;\n",
              "      fill: #D2E3FC;\n",
              "    }\n",
              "\n",
              "    [theme=dark] .colab-df-convert:hover {\n",
              "      background-color: #434B5C;\n",
              "      box-shadow: 0px 1px 3px 1px rgba(0, 0, 0, 0.15);\n",
              "      filter: drop-shadow(0px 1px 2px rgba(0, 0, 0, 0.3));\n",
              "      fill: #FFFFFF;\n",
              "    }\n",
              "  </style>\n",
              "\n",
              "      <script>\n",
              "        const buttonEl =\n",
              "          document.querySelector('#df-b55f4ef8-550d-4b4d-8548-d11b804b4ebd button.colab-df-convert');\n",
              "        buttonEl.style.display =\n",
              "          google.colab.kernel.accessAllowed ? 'block' : 'none';\n",
              "\n",
              "        async function convertToInteractive(key) {\n",
              "          const element = document.querySelector('#df-b55f4ef8-550d-4b4d-8548-d11b804b4ebd');\n",
              "          const dataTable =\n",
              "            await google.colab.kernel.invokeFunction('convertToInteractive',\n",
              "                                                     [key], {});\n",
              "          if (!dataTable) return;\n",
              "\n",
              "          const docLinkHtml = 'Like what you see? Visit the ' +\n",
              "            '<a target=\"_blank\" href=https://colab.research.google.com/notebooks/data_table.ipynb>data table notebook</a>'\n",
              "            + ' to learn more about interactive tables.';\n",
              "          element.innerHTML = '';\n",
              "          dataTable['output_type'] = 'display_data';\n",
              "          await google.colab.output.renderOutput(dataTable, element);\n",
              "          const docLink = document.createElement('div');\n",
              "          docLink.innerHTML = docLinkHtml;\n",
              "          element.appendChild(docLink);\n",
              "        }\n",
              "      </script>\n",
              "    </div>\n",
              "  </div>\n",
              "  "
            ]
          },
          "metadata": {},
          "execution_count": 51
        }
      ]
    },
    {
      "cell_type": "code",
      "source": [
        "lcvs_norm_mjd_0_listed_filt_interpolated_reduced_df = (\n",
        "    lcvs_norm_mjd_0_listed_filt_interpolated_df\n",
        "    .groupby(level=0)\n",
        "    .progress_apply(\n",
        "      lambda x: np.array(list(x['y_int']))\n",
        "    )\n",
        "    .to_frame()\n",
        "    .rename(columns={0:'bands_matrix'})\n",
        ")"
      ],
      "metadata": {
        "colab": {
          "base_uri": "https://localhost:8080/"
        },
        "id": "84rLpCeCriX5",
        "outputId": "4d54a45a-2a5f-4ebf-a830-1eaf254f77a1"
      },
      "execution_count": 52,
      "outputs": [
        {
          "output_type": "stream",
          "name": "stderr",
          "text": [
            "100%|██████████| 7838/7838 [00:14<00:00, 546.27it/s]\n"
          ]
        }
      ]
    },
    {
      "cell_type": "code",
      "source": [
        "lcvs_norm_mjd_0_listed_filt_interpolated_reduced_df['bands_matrix'].apply(\n",
        "    lambda x: x.shape\n",
        ").value_counts()"
      ],
      "metadata": {
        "colab": {
          "base_uri": "https://localhost:8080/"
        },
        "id": "SDZ4Pz2qS9Sh",
        "outputId": "a934488a-2fb6-470c-d544-8b550b1ec0e8"
      },
      "execution_count": null,
      "outputs": [
        {
          "output_type": "execute_result",
          "data": {
            "text/plain": [
              "(6, 501)    7828\n",
              "(5, 501)      10\n",
              "Name: bands_matrix, dtype: int64"
            ]
          },
          "metadata": {},
          "execution_count": 83
        }
      ]
    },
    {
      "cell_type": "code",
      "source": [
        "lcvs_norm_mjd_0_listed_filt_interpolated_reduced_df['autoenc_inp'] = (\n",
        "    lcvs_norm_mjd_0_listed_filt_interpolated_reduced_df['bands_matrix']\n",
        "    .progress_apply(lambda x: x.flatten())\n",
        ")"
      ],
      "metadata": {
        "colab": {
          "base_uri": "https://localhost:8080/"
        },
        "id": "-7ZW9PWLvF-r",
        "outputId": "f060b0d9-1d2a-4f5a-84d4-8b81379eefd4"
      },
      "execution_count": 53,
      "outputs": [
        {
          "output_type": "stream",
          "name": "stderr",
          "text": [
            "100%|██████████| 7838/7838 [00:00<00:00, 87529.53it/s]\n"
          ]
        }
      ]
    },
    {
      "cell_type": "code",
      "source": [
        "lcvs_norm_mjd_0_listed_filt_interpolated_reduced_df"
      ],
      "metadata": {
        "colab": {
          "base_uri": "https://localhost:8080/",
          "height": 672
        },
        "id": "6i-DJsPbuECk",
        "outputId": "5fc63122-35df-4684-c7e3-7c5523434e5a"
      },
      "execution_count": 54,
      "outputs": [
        {
          "output_type": "execute_result",
          "data": {
            "text/plain": [
              "                                                bands_matrix  \\\n",
              "object_id                                                      \n",
              "615        [[0.12168401013019357, -0.25449026243119477, -...   \n",
              "713        [[1.4142344303181167, -9.51498013507562, -16.1...   \n",
              "730        [[-1.2631932037160947, -1.2829900410479982, 2....   \n",
              "745        [[-0.29050587333316463, -0.522121115336005, 0....   \n",
              "1124       [[-0.43533772652396335, -1.675247806112673, -4...   \n",
              "...                                                      ...   \n",
              "130617044  [[-1.1196605754204523, -1.1020282153245875, -1...   \n",
              "130622528  [[-0.009160573258521367, -0.3060505022969356, ...   \n",
              "130639669  [[0.5662405221681167, 0.44521723928386975, 0.3...   \n",
              "130659834  [[0.2755036857616925, 15.99354730169877, 31.30...   \n",
              "130678775  [[0.18273654306248255, 0.241548234735607, 0.29...   \n",
              "\n",
              "                                                 autoenc_inp  \n",
              "object_id                                                     \n",
              "615        [0.12168401013019357, -0.25449026243119477, -1...  \n",
              "713        [1.4142344303181167, -9.51498013507562, -16.11...  \n",
              "730        [-1.2631932037160947, -1.2829900410479982, 2.5...  \n",
              "745        [-0.29050587333316463, -0.522121115336005, 0.3...  \n",
              "1124       [-0.43533772652396335, -1.675247806112673, -4....  \n",
              "...                                                      ...  \n",
              "130617044  [-1.1196605754204523, -1.1020282153245875, -1....  \n",
              "130622528  [-0.009160573258521367, -0.3060505022969356, -...  \n",
              "130639669  [0.5662405221681167, 0.44521723928386975, 0.31...  \n",
              "130659834  [0.2755036857616925, 15.99354730169877, 31.303...  \n",
              "130678775  [0.18273654306248255, 0.241548234735607, 0.299...  \n",
              "\n",
              "[7838 rows x 2 columns]"
            ],
            "text/html": [
              "\n",
              "  <div id=\"df-6c007865-aae0-4791-8398-1fbfba461fd8\">\n",
              "    <div class=\"colab-df-container\">\n",
              "      <div>\n",
              "<style scoped>\n",
              "    .dataframe tbody tr th:only-of-type {\n",
              "        vertical-align: middle;\n",
              "    }\n",
              "\n",
              "    .dataframe tbody tr th {\n",
              "        vertical-align: top;\n",
              "    }\n",
              "\n",
              "    .dataframe thead th {\n",
              "        text-align: right;\n",
              "    }\n",
              "</style>\n",
              "<table border=\"1\" class=\"dataframe\">\n",
              "  <thead>\n",
              "    <tr style=\"text-align: right;\">\n",
              "      <th></th>\n",
              "      <th>bands_matrix</th>\n",
              "      <th>autoenc_inp</th>\n",
              "    </tr>\n",
              "    <tr>\n",
              "      <th>object_id</th>\n",
              "      <th></th>\n",
              "      <th></th>\n",
              "    </tr>\n",
              "  </thead>\n",
              "  <tbody>\n",
              "    <tr>\n",
              "      <th>615</th>\n",
              "      <td>[[0.12168401013019357, -0.25449026243119477, -...</td>\n",
              "      <td>[0.12168401013019357, -0.25449026243119477, -1...</td>\n",
              "    </tr>\n",
              "    <tr>\n",
              "      <th>713</th>\n",
              "      <td>[[1.4142344303181167, -9.51498013507562, -16.1...</td>\n",
              "      <td>[1.4142344303181167, -9.51498013507562, -16.11...</td>\n",
              "    </tr>\n",
              "    <tr>\n",
              "      <th>730</th>\n",
              "      <td>[[-1.2631932037160947, -1.2829900410479982, 2....</td>\n",
              "      <td>[-1.2631932037160947, -1.2829900410479982, 2.5...</td>\n",
              "    </tr>\n",
              "    <tr>\n",
              "      <th>745</th>\n",
              "      <td>[[-0.29050587333316463, -0.522121115336005, 0....</td>\n",
              "      <td>[-0.29050587333316463, -0.522121115336005, 0.3...</td>\n",
              "    </tr>\n",
              "    <tr>\n",
              "      <th>1124</th>\n",
              "      <td>[[-0.43533772652396335, -1.675247806112673, -4...</td>\n",
              "      <td>[-0.43533772652396335, -1.675247806112673, -4....</td>\n",
              "    </tr>\n",
              "    <tr>\n",
              "      <th>...</th>\n",
              "      <td>...</td>\n",
              "      <td>...</td>\n",
              "    </tr>\n",
              "    <tr>\n",
              "      <th>130617044</th>\n",
              "      <td>[[-1.1196605754204523, -1.1020282153245875, -1...</td>\n",
              "      <td>[-1.1196605754204523, -1.1020282153245875, -1....</td>\n",
              "    </tr>\n",
              "    <tr>\n",
              "      <th>130622528</th>\n",
              "      <td>[[-0.009160573258521367, -0.3060505022969356, ...</td>\n",
              "      <td>[-0.009160573258521367, -0.3060505022969356, -...</td>\n",
              "    </tr>\n",
              "    <tr>\n",
              "      <th>130639669</th>\n",
              "      <td>[[0.5662405221681167, 0.44521723928386975, 0.3...</td>\n",
              "      <td>[0.5662405221681167, 0.44521723928386975, 0.31...</td>\n",
              "    </tr>\n",
              "    <tr>\n",
              "      <th>130659834</th>\n",
              "      <td>[[0.2755036857616925, 15.99354730169877, 31.30...</td>\n",
              "      <td>[0.2755036857616925, 15.99354730169877, 31.303...</td>\n",
              "    </tr>\n",
              "    <tr>\n",
              "      <th>130678775</th>\n",
              "      <td>[[0.18273654306248255, 0.241548234735607, 0.29...</td>\n",
              "      <td>[0.18273654306248255, 0.241548234735607, 0.299...</td>\n",
              "    </tr>\n",
              "  </tbody>\n",
              "</table>\n",
              "<p>7838 rows × 2 columns</p>\n",
              "</div>\n",
              "      <button class=\"colab-df-convert\" onclick=\"convertToInteractive('df-6c007865-aae0-4791-8398-1fbfba461fd8')\"\n",
              "              title=\"Convert this dataframe to an interactive table.\"\n",
              "              style=\"display:none;\">\n",
              "        \n",
              "  <svg xmlns=\"http://www.w3.org/2000/svg\" height=\"24px\"viewBox=\"0 0 24 24\"\n",
              "       width=\"24px\">\n",
              "    <path d=\"M0 0h24v24H0V0z\" fill=\"none\"/>\n",
              "    <path d=\"M18.56 5.44l.94 2.06.94-2.06 2.06-.94-2.06-.94-.94-2.06-.94 2.06-2.06.94zm-11 1L8.5 8.5l.94-2.06 2.06-.94-2.06-.94L8.5 2.5l-.94 2.06-2.06.94zm10 10l.94 2.06.94-2.06 2.06-.94-2.06-.94-.94-2.06-.94 2.06-2.06.94z\"/><path d=\"M17.41 7.96l-1.37-1.37c-.4-.4-.92-.59-1.43-.59-.52 0-1.04.2-1.43.59L10.3 9.45l-7.72 7.72c-.78.78-.78 2.05 0 2.83L4 21.41c.39.39.9.59 1.41.59.51 0 1.02-.2 1.41-.59l7.78-7.78 2.81-2.81c.8-.78.8-2.07 0-2.86zM5.41 20L4 18.59l7.72-7.72 1.47 1.35L5.41 20z\"/>\n",
              "  </svg>\n",
              "      </button>\n",
              "      \n",
              "  <style>\n",
              "    .colab-df-container {\n",
              "      display:flex;\n",
              "      flex-wrap:wrap;\n",
              "      gap: 12px;\n",
              "    }\n",
              "\n",
              "    .colab-df-convert {\n",
              "      background-color: #E8F0FE;\n",
              "      border: none;\n",
              "      border-radius: 50%;\n",
              "      cursor: pointer;\n",
              "      display: none;\n",
              "      fill: #1967D2;\n",
              "      height: 32px;\n",
              "      padding: 0 0 0 0;\n",
              "      width: 32px;\n",
              "    }\n",
              "\n",
              "    .colab-df-convert:hover {\n",
              "      background-color: #E2EBFA;\n",
              "      box-shadow: 0px 1px 2px rgba(60, 64, 67, 0.3), 0px 1px 3px 1px rgba(60, 64, 67, 0.15);\n",
              "      fill: #174EA6;\n",
              "    }\n",
              "\n",
              "    [theme=dark] .colab-df-convert {\n",
              "      background-color: #3B4455;\n",
              "      fill: #D2E3FC;\n",
              "    }\n",
              "\n",
              "    [theme=dark] .colab-df-convert:hover {\n",
              "      background-color: #434B5C;\n",
              "      box-shadow: 0px 1px 3px 1px rgba(0, 0, 0, 0.15);\n",
              "      filter: drop-shadow(0px 1px 2px rgba(0, 0, 0, 0.3));\n",
              "      fill: #FFFFFF;\n",
              "    }\n",
              "  </style>\n",
              "\n",
              "      <script>\n",
              "        const buttonEl =\n",
              "          document.querySelector('#df-6c007865-aae0-4791-8398-1fbfba461fd8 button.colab-df-convert');\n",
              "        buttonEl.style.display =\n",
              "          google.colab.kernel.accessAllowed ? 'block' : 'none';\n",
              "\n",
              "        async function convertToInteractive(key) {\n",
              "          const element = document.querySelector('#df-6c007865-aae0-4791-8398-1fbfba461fd8');\n",
              "          const dataTable =\n",
              "            await google.colab.kernel.invokeFunction('convertToInteractive',\n",
              "                                                     [key], {});\n",
              "          if (!dataTable) return;\n",
              "\n",
              "          const docLinkHtml = 'Like what you see? Visit the ' +\n",
              "            '<a target=\"_blank\" href=https://colab.research.google.com/notebooks/data_table.ipynb>data table notebook</a>'\n",
              "            + ' to learn more about interactive tables.';\n",
              "          element.innerHTML = '';\n",
              "          dataTable['output_type'] = 'display_data';\n",
              "          await google.colab.output.renderOutput(dataTable, element);\n",
              "          const docLink = document.createElement('div');\n",
              "          docLink.innerHTML = docLinkHtml;\n",
              "          element.appendChild(docLink);\n",
              "        }\n",
              "      </script>\n",
              "    </div>\n",
              "  </div>\n",
              "  "
            ]
          },
          "metadata": {},
          "execution_count": 54
        }
      ]
    },
    {
      "cell_type": "code",
      "source": [
        "lcvs_norm_mjd_0_listed_filt_interpolated_reduced_df = (\n",
        "  lcvs_norm_mjd_0_listed_filt_interpolated_reduced_df.loc[\n",
        "    lcvs_norm_mjd_0_listed_filt_interpolated_reduced_df['autoenc_inp'].apply(len) == 3006\n",
        "  ]\n",
        ")"
      ],
      "metadata": {
        "id": "5Z6k_MqjSvYM"
      },
      "execution_count": 55,
      "outputs": []
    },
    {
      "cell_type": "code",
      "source": [
        "lcvs_norm_mjd_0_listed_filt_interpolated_reduced_df.to_pickle(\n",
        "    '/content/drive/MyDrive/Classes/22S-PHYS-667/HW8/lcvs_norm_mjd_0_listed_filt_interpolated_reduced_df.pkl'\n",
        ")"
      ],
      "metadata": {
        "id": "VBT74AoGkkIn"
      },
      "execution_count": 66,
      "outputs": []
    },
    {
      "cell_type": "code",
      "source": [
        "## saving all data to numpy so we can use it straight away when we do the autoencoder part\n",
        "all_autoenc_data = np.stack(\n",
        "  lcvs_norm_mjd_0_listed_filt_interpolated_reduced_df['autoenc_inp'].to_numpy()\n",
        ")"
      ],
      "metadata": {
        "id": "YvXe3Xr2xT4P"
      },
      "execution_count": 62,
      "outputs": []
    },
    {
      "cell_type": "code",
      "source": [
        "np.save(\n",
        "    '/content/drive/MyDrive/Classes/22S-PHYS-667/HW8/all_autoenc_data.npy',\n",
        "    all_autoenc_data\n",
        ")"
      ],
      "metadata": {
        "id": "QkN1iMb40i2m"
      },
      "execution_count": 68,
      "outputs": []
    }
  ]
}